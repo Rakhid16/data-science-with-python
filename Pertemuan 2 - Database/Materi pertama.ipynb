{
 "metadata": {
  "language_info": {
   "codemirror_mode": {
    "name": "ipython",
    "version": 3
   },
   "file_extension": ".py",
   "mimetype": "text/x-python",
   "name": "python",
   "nbconvert_exporter": "python",
   "pygments_lexer": "ipython3",
   "version": "3.8.5-final"
  },
  "orig_nbformat": 2,
  "kernelspec": {
   "name": "python38264bit68ee5070ed6a4df7bba1957ddac2fae1",
   "display_name": "Python 3.8.2 64-bit"
  }
 },
 "nbformat": 4,
 "nbformat_minor": 2,
 "cells": [
  {
   "source": [
    "## Muat <i>libraries</i>"
   ],
   "cell_type": "markdown",
   "metadata": {}
  },
  {
   "cell_type": "code",
   "execution_count": 1,
   "metadata": {},
   "outputs": [],
   "source": [
    "import pandas as pd\n",
    "import mysql.connector as mysql"
   ]
  },
  {
   "source": [
    "## Sambungkan ke <i>database</i> yang telah dibuat tadi"
   ],
   "cell_type": "markdown",
   "metadata": {}
  },
  {
   "cell_type": "code",
   "execution_count": 2,
   "metadata": {},
   "outputs": [],
   "source": [
    "koneksi = mysql.connect(host='localhost',\n",
    "                        database='JoJo',\n",
    "                        user='root', \n",
    "                        password='Rakhid@16')"
   ]
  },
  {
   "source": [
    "## Lihat tabel jurusan"
   ],
   "cell_type": "markdown",
   "metadata": {}
  },
  {
   "cell_type": "code",
   "execution_count": 3,
   "metadata": {},
   "outputs": [
    {
     "output_type": "execute_result",
     "data": {
      "text/plain": [
       "[(1, 'informatika'),\n",
       " (2, 'mesin'),\n",
       " (3, 'kimia'),\n",
       " (4, 'statistika'),\n",
       " (5, 'matematika'),\n",
       " (6, 'geologi')]"
      ]
     },
     "metadata": {},
     "execution_count": 3
    }
   ],
   "source": [
    "cursor = koneksi.cursor()\n",
    "cursor.execute(\"SELECT * from jurusan\")\n",
    "\n",
    "tabel_jurusan = cursor.fetchall()\n",
    "tabel_jurusan"
   ]
  },
  {
   "source": [
    "## Ubah ke dalam DataFrame"
   ],
   "cell_type": "markdown",
   "metadata": {}
  },
  {
   "cell_type": "code",
   "execution_count": 4,
   "metadata": {},
   "outputs": [
    {
     "output_type": "execute_result",
     "data": {
      "text/plain": [
       "   Nama Jurusan\n",
       "ID             \n",
       "1   informatika\n",
       "2         mesin\n",
       "3         kimia\n",
       "4    statistika\n",
       "5    matematika\n",
       "6       geologi"
      ],
      "text/html": "<div>\n<style scoped>\n    .dataframe tbody tr th:only-of-type {\n        vertical-align: middle;\n    }\n\n    .dataframe tbody tr th {\n        vertical-align: top;\n    }\n\n    .dataframe thead th {\n        text-align: right;\n    }\n</style>\n<table border=\"1\" class=\"dataframe\">\n  <thead>\n    <tr style=\"text-align: right;\">\n      <th></th>\n      <th>Nama Jurusan</th>\n    </tr>\n    <tr>\n      <th>ID</th>\n      <th></th>\n    </tr>\n  </thead>\n  <tbody>\n    <tr>\n      <th>1</th>\n      <td>informatika</td>\n    </tr>\n    <tr>\n      <th>2</th>\n      <td>mesin</td>\n    </tr>\n    <tr>\n      <th>3</th>\n      <td>kimia</td>\n    </tr>\n    <tr>\n      <th>4</th>\n      <td>statistika</td>\n    </tr>\n    <tr>\n      <th>5</th>\n      <td>matematika</td>\n    </tr>\n    <tr>\n      <th>6</th>\n      <td>geologi</td>\n    </tr>\n  </tbody>\n</table>\n</div>"
     },
     "metadata": {},
     "execution_count": 4
    }
   ],
   "source": [
    "data_jurusan = pd.DataFrame(columns=['ID', \"Nama Jurusan\"],\n",
    "                            data = tabel_jurusan)\n",
    "\n",
    "data_jurusan = data_jurusan.set_index('ID')\n",
    "data_jurusan"
   ]
  },
  {
   "source": [
    "## Kita ubah sedikit datanya"
   ],
   "cell_type": "markdown",
   "metadata": {}
  },
  {
   "cell_type": "code",
   "execution_count": 5,
   "metadata": {},
   "outputs": [
    {
     "output_type": "execute_result",
     "data": {
      "text/plain": [
       "   Nama Jurusan\n",
       "ID             \n",
       "1   Informatika\n",
       "2         Mesin\n",
       "3         Kimia\n",
       "4    Statistika\n",
       "5    Matematika\n",
       "6       Geologi"
      ],
      "text/html": "<div>\n<style scoped>\n    .dataframe tbody tr th:only-of-type {\n        vertical-align: middle;\n    }\n\n    .dataframe tbody tr th {\n        vertical-align: top;\n    }\n\n    .dataframe thead th {\n        text-align: right;\n    }\n</style>\n<table border=\"1\" class=\"dataframe\">\n  <thead>\n    <tr style=\"text-align: right;\">\n      <th></th>\n      <th>Nama Jurusan</th>\n    </tr>\n    <tr>\n      <th>ID</th>\n      <th></th>\n    </tr>\n  </thead>\n  <tbody>\n    <tr>\n      <th>1</th>\n      <td>Informatika</td>\n    </tr>\n    <tr>\n      <th>2</th>\n      <td>Mesin</td>\n    </tr>\n    <tr>\n      <th>3</th>\n      <td>Kimia</td>\n    </tr>\n    <tr>\n      <th>4</th>\n      <td>Statistika</td>\n    </tr>\n    <tr>\n      <th>5</th>\n      <td>Matematika</td>\n    </tr>\n    <tr>\n      <th>6</th>\n      <td>Geologi</td>\n    </tr>\n  </tbody>\n</table>\n</div>"
     },
     "metadata": {},
     "execution_count": 5
    }
   ],
   "source": [
    "data_jurusan['Nama Jurusan'] = data_jurusan['Nama Jurusan'].str.capitalize()\n",
    "data_jurusan"
   ]
  },
  {
   "source": [
    "## Lihat data tabel mahasiswa"
   ],
   "cell_type": "markdown",
   "metadata": {}
  },
  {
   "cell_type": "code",
   "execution_count": 6,
   "metadata": {},
   "outputs": [
    {
     "output_type": "execute_result",
     "data": {
      "text/plain": [
       "[(1, 1, 'tommy', ' 10 maret 2000', 5165432, 'madura'),\n",
       " (2, 1, 'wahid', '20 mei 2000', 216543, 'sidoarjo'),\n",
       " (3, 1, 'ali kharozim', '03 januari 2000', 16543, 'pacitan'),\n",
       " (4, 2, 'hanif', '10 agustus 2000', 16546, 'boyolali'),\n",
       " (5, 3, 'yudha', '09 november 2000', 216546, 'magetan'),\n",
       " (6, 4, 'zain', '25 desember 2000', 16546, 'surabaya'),\n",
       " (7, 5, 'aji', '06 oktober 2000', 16546, 'gresik'),\n",
       " (8, 6, 'sumiati', '17 februari 2000', 16546, 'klaten'),\n",
       " (9, 1, 'romi', '18 april 2000', 16546, 'magelang'),\n",
       " (10, 2, 'ridho', '19 mei 2000', 56164, 'bangkalan'),\n",
       " (11, 6, 'fincent', '26 februari 2001', 21654, 'arosbaya'),\n",
       " (12, 1, 'darul', '17 september 2001', 21563, 'blega'),\n",
       " (13, 3, 'ulum', '14 februari 1999', 2654, 'kamal'),\n",
       " (14, 5, 'simbah', '19 april 2000', 16464, 'jakarta'),\n",
       " (15, 3, 'logitech', '12 desember 2012', 16544, 'surabaya'),\n",
       " (16, 2, 'mastekno', '31 desember 2012', 15654, 'jogja'),\n",
       " (17, 4, 'lentik', '29 oktober 2000', 215664, 'surakarta'),\n",
       " (18, 5, 'math heri', '18 juni 2000', 5562, 'surakarta'),\n",
       " (19, 1, 'august', '17 agustus 2000 ', 21654, 'surabaya'),\n",
       " (20, 6, 'gempur sari', '18 juli 2000', 15642, 'tegal')]"
      ]
     },
     "metadata": {},
     "execution_count": 6
    }
   ],
   "source": [
    "cursor = koneksi.cursor()\n",
    "cursor.execute(\"SELECT * from mahasiswa\")\n",
    "\n",
    "tabel_mahasiswa = cursor.fetchall()\n",
    "tabel_mahasiswa"
   ]
  },
  {
   "source": [
    "## Ubah ke dalam DataFrame"
   ],
   "cell_type": "markdown",
   "metadata": {}
  },
  {
   "cell_type": "code",
   "execution_count": 7,
   "metadata": {},
   "outputs": [
    {
     "output_type": "execute_result",
     "data": {
      "text/plain": [
       "    ID_Jurusan          Nama      Tanggal lahir   No Tel     Alamat\n",
       "ID                                                                 \n",
       "1            1         tommy      10 maret 2000  5165432     madura\n",
       "2            1         wahid        20 mei 2000   216543   sidoarjo\n",
       "3            1  ali kharozim    03 januari 2000    16543    pacitan\n",
       "4            2         hanif    10 agustus 2000    16546   boyolali\n",
       "5            3         yudha   09 november 2000   216546    magetan\n",
       "6            4          zain   25 desember 2000    16546   surabaya\n",
       "7            5           aji    06 oktober 2000    16546     gresik\n",
       "8            6       sumiati   17 februari 2000    16546     klaten\n",
       "9            1          romi      18 april 2000    16546   magelang\n",
       "10           2         ridho        19 mei 2000    56164  bangkalan\n",
       "11           6       fincent   26 februari 2001    21654   arosbaya\n",
       "12           1         darul  17 september 2001    21563      blega\n",
       "13           3          ulum   14 februari 1999     2654      kamal\n",
       "14           5        simbah      19 april 2000    16464    jakarta\n",
       "15           3      logitech   12 desember 2012    16544   surabaya\n",
       "16           2      mastekno   31 desember 2012    15654      jogja\n",
       "17           4        lentik    29 oktober 2000   215664  surakarta\n",
       "18           5     math heri       18 juni 2000     5562  surakarta\n",
       "19           1        august   17 agustus 2000     21654   surabaya\n",
       "20           6   gempur sari       18 juli 2000    15642      tegal"
      ],
      "text/html": "<div>\n<style scoped>\n    .dataframe tbody tr th:only-of-type {\n        vertical-align: middle;\n    }\n\n    .dataframe tbody tr th {\n        vertical-align: top;\n    }\n\n    .dataframe thead th {\n        text-align: right;\n    }\n</style>\n<table border=\"1\" class=\"dataframe\">\n  <thead>\n    <tr style=\"text-align: right;\">\n      <th></th>\n      <th>ID_Jurusan</th>\n      <th>Nama</th>\n      <th>Tanggal lahir</th>\n      <th>No Tel</th>\n      <th>Alamat</th>\n    </tr>\n    <tr>\n      <th>ID</th>\n      <th></th>\n      <th></th>\n      <th></th>\n      <th></th>\n      <th></th>\n    </tr>\n  </thead>\n  <tbody>\n    <tr>\n      <th>1</th>\n      <td>1</td>\n      <td>tommy</td>\n      <td>10 maret 2000</td>\n      <td>5165432</td>\n      <td>madura</td>\n    </tr>\n    <tr>\n      <th>2</th>\n      <td>1</td>\n      <td>wahid</td>\n      <td>20 mei 2000</td>\n      <td>216543</td>\n      <td>sidoarjo</td>\n    </tr>\n    <tr>\n      <th>3</th>\n      <td>1</td>\n      <td>ali kharozim</td>\n      <td>03 januari 2000</td>\n      <td>16543</td>\n      <td>pacitan</td>\n    </tr>\n    <tr>\n      <th>4</th>\n      <td>2</td>\n      <td>hanif</td>\n      <td>10 agustus 2000</td>\n      <td>16546</td>\n      <td>boyolali</td>\n    </tr>\n    <tr>\n      <th>5</th>\n      <td>3</td>\n      <td>yudha</td>\n      <td>09 november 2000</td>\n      <td>216546</td>\n      <td>magetan</td>\n    </tr>\n    <tr>\n      <th>6</th>\n      <td>4</td>\n      <td>zain</td>\n      <td>25 desember 2000</td>\n      <td>16546</td>\n      <td>surabaya</td>\n    </tr>\n    <tr>\n      <th>7</th>\n      <td>5</td>\n      <td>aji</td>\n      <td>06 oktober 2000</td>\n      <td>16546</td>\n      <td>gresik</td>\n    </tr>\n    <tr>\n      <th>8</th>\n      <td>6</td>\n      <td>sumiati</td>\n      <td>17 februari 2000</td>\n      <td>16546</td>\n      <td>klaten</td>\n    </tr>\n    <tr>\n      <th>9</th>\n      <td>1</td>\n      <td>romi</td>\n      <td>18 april 2000</td>\n      <td>16546</td>\n      <td>magelang</td>\n    </tr>\n    <tr>\n      <th>10</th>\n      <td>2</td>\n      <td>ridho</td>\n      <td>19 mei 2000</td>\n      <td>56164</td>\n      <td>bangkalan</td>\n    </tr>\n    <tr>\n      <th>11</th>\n      <td>6</td>\n      <td>fincent</td>\n      <td>26 februari 2001</td>\n      <td>21654</td>\n      <td>arosbaya</td>\n    </tr>\n    <tr>\n      <th>12</th>\n      <td>1</td>\n      <td>darul</td>\n      <td>17 september 2001</td>\n      <td>21563</td>\n      <td>blega</td>\n    </tr>\n    <tr>\n      <th>13</th>\n      <td>3</td>\n      <td>ulum</td>\n      <td>14 februari 1999</td>\n      <td>2654</td>\n      <td>kamal</td>\n    </tr>\n    <tr>\n      <th>14</th>\n      <td>5</td>\n      <td>simbah</td>\n      <td>19 april 2000</td>\n      <td>16464</td>\n      <td>jakarta</td>\n    </tr>\n    <tr>\n      <th>15</th>\n      <td>3</td>\n      <td>logitech</td>\n      <td>12 desember 2012</td>\n      <td>16544</td>\n      <td>surabaya</td>\n    </tr>\n    <tr>\n      <th>16</th>\n      <td>2</td>\n      <td>mastekno</td>\n      <td>31 desember 2012</td>\n      <td>15654</td>\n      <td>jogja</td>\n    </tr>\n    <tr>\n      <th>17</th>\n      <td>4</td>\n      <td>lentik</td>\n      <td>29 oktober 2000</td>\n      <td>215664</td>\n      <td>surakarta</td>\n    </tr>\n    <tr>\n      <th>18</th>\n      <td>5</td>\n      <td>math heri</td>\n      <td>18 juni 2000</td>\n      <td>5562</td>\n      <td>surakarta</td>\n    </tr>\n    <tr>\n      <th>19</th>\n      <td>1</td>\n      <td>august</td>\n      <td>17 agustus 2000</td>\n      <td>21654</td>\n      <td>surabaya</td>\n    </tr>\n    <tr>\n      <th>20</th>\n      <td>6</td>\n      <td>gempur sari</td>\n      <td>18 juli 2000</td>\n      <td>15642</td>\n      <td>tegal</td>\n    </tr>\n  </tbody>\n</table>\n</div>"
     },
     "metadata": {},
     "execution_count": 7
    }
   ],
   "source": [
    "data_mahasiswa = pd.DataFrame(columns=[\"ID\", \"ID_Jurusan\", \"Nama\", \"Tanggal lahir\", \"No Tel\", \"Alamat\"],\n",
    "                              data = tabel_mahasiswa)\n",
    "                              \n",
    "data_mahasiswa = data_mahasiswa.set_index(\"ID\")\n",
    "data_mahasiswa"
   ]
  },
  {
   "source": [
    "## Visualisasikan sedikit datanya"
   ],
   "cell_type": "markdown",
   "metadata": {}
  },
  {
   "cell_type": "code",
   "execution_count": 8,
   "metadata": {},
   "outputs": [
    {
     "output_type": "execute_result",
     "data": {
      "text/plain": [
       "<matplotlib.axes._subplots.AxesSubplot at 0x7f1a5f93fa30>"
      ]
     },
     "metadata": {},
     "execution_count": 8
    },
    {
     "output_type": "display_data",
     "data": {
      "text/plain": "<Figure size 432x288 with 1 Axes>",
      "image/svg+xml": "<?xml version=\"1.0\" encoding=\"utf-8\" standalone=\"no\"?>\n<!DOCTYPE svg PUBLIC \"-//W3C//DTD SVG 1.1//EN\"\n  \"http://www.w3.org/Graphics/SVG/1.1/DTD/svg11.dtd\">\n<!-- Created with matplotlib (https://matplotlib.org/) -->\n<svg height=\"248.518125pt\" version=\"1.1\" viewBox=\"0 0 362.5625 248.518125\" width=\"362.5625pt\" xmlns=\"http://www.w3.org/2000/svg\" xmlns:xlink=\"http://www.w3.org/1999/xlink\">\n <defs>\n  <style type=\"text/css\">\n*{stroke-linecap:butt;stroke-linejoin:round;}\n  </style>\n </defs>\n <g id=\"figure_1\">\n  <g id=\"patch_1\">\n   <path d=\"M 0 248.518125 \nL 362.5625 248.518125 \nL 362.5625 0 \nL 0 0 \nz\n\" style=\"fill:none;\"/>\n  </g>\n  <g id=\"axes_1\">\n   <g id=\"patch_2\">\n    <path d=\"M 20.5625 224.64 \nL 355.3625 224.64 \nL 355.3625 7.2 \nL 20.5625 7.2 \nz\n\" style=\"fill:#ffffff;\"/>\n   </g>\n   <g id=\"patch_3\">\n    <path clip-path=\"url(#p5ffe1f0eae)\" d=\"M 20.5625 215.58 \nL 339.419643 215.58 \nL 339.419643 197.46 \nL 20.5625 197.46 \nz\n\" style=\"fill:#1f77b4;\"/>\n   </g>\n   <g id=\"patch_4\">\n    <path clip-path=\"url(#p5ffe1f0eae)\" d=\"M 20.5625 179.34 \nL 179.991071 179.34 \nL 179.991071 161.22 \nL 20.5625 161.22 \nz\n\" style=\"fill:#1f77b4;\"/>\n   </g>\n   <g id=\"patch_5\">\n    <path clip-path=\"url(#p5ffe1f0eae)\" d=\"M 20.5625 143.1 \nL 179.991071 143.1 \nL 179.991071 124.98 \nL 20.5625 124.98 \nz\n\" style=\"fill:#1f77b4;\"/>\n   </g>\n   <g id=\"patch_6\">\n    <path clip-path=\"url(#p5ffe1f0eae)\" d=\"M 20.5625 106.86 \nL 179.991071 106.86 \nL 179.991071 88.74 \nL 20.5625 88.74 \nz\n\" style=\"fill:#1f77b4;\"/>\n   </g>\n   <g id=\"patch_7\">\n    <path clip-path=\"url(#p5ffe1f0eae)\" d=\"M 20.5625 70.62 \nL 179.991071 70.62 \nL 179.991071 52.5 \nL 20.5625 52.5 \nz\n\" style=\"fill:#1f77b4;\"/>\n   </g>\n   <g id=\"patch_8\">\n    <path clip-path=\"url(#p5ffe1f0eae)\" d=\"M 20.5625 34.38 \nL 126.848214 34.38 \nL 126.848214 16.26 \nL 20.5625 16.26 \nz\n\" style=\"fill:#1f77b4;\"/>\n   </g>\n   <g id=\"matplotlib.axis_1\">\n    <g id=\"xtick_1\">\n     <g id=\"line2d_1\">\n      <defs>\n       <path d=\"M 0 0 \nL 0 3.5 \n\" id=\"m06a10cab28\" style=\"stroke:#000000;stroke-width:0.8;\"/>\n      </defs>\n      <g>\n       <use style=\"stroke:#000000;stroke-width:0.8;\" x=\"20.5625\" xlink:href=\"#m06a10cab28\" y=\"224.64\"/>\n      </g>\n     </g>\n     <g id=\"text_1\">\n      <!-- 0 -->\n      <defs>\n       <path d=\"M 31.78125 66.40625 \nQ 24.171875 66.40625 20.328125 58.90625 \nQ 16.5 51.421875 16.5 36.375 \nQ 16.5 21.390625 20.328125 13.890625 \nQ 24.171875 6.390625 31.78125 6.390625 \nQ 39.453125 6.390625 43.28125 13.890625 \nQ 47.125 21.390625 47.125 36.375 \nQ 47.125 51.421875 43.28125 58.90625 \nQ 39.453125 66.40625 31.78125 66.40625 \nz\nM 31.78125 74.21875 \nQ 44.046875 74.21875 50.515625 64.515625 \nQ 56.984375 54.828125 56.984375 36.375 \nQ 56.984375 17.96875 50.515625 8.265625 \nQ 44.046875 -1.421875 31.78125 -1.421875 \nQ 19.53125 -1.421875 13.0625 8.265625 \nQ 6.59375 17.96875 6.59375 36.375 \nQ 6.59375 54.828125 13.0625 64.515625 \nQ 19.53125 74.21875 31.78125 74.21875 \nz\n\" id=\"DejaVuSans-48\"/>\n      </defs>\n      <g transform=\"translate(17.38125 239.238437)scale(0.1 -0.1)\">\n       <use xlink:href=\"#DejaVuSans-48\"/>\n      </g>\n     </g>\n    </g>\n    <g id=\"xtick_2\">\n     <g id=\"line2d_2\">\n      <g>\n       <use style=\"stroke:#000000;stroke-width:0.8;\" x=\"73.705357\" xlink:href=\"#m06a10cab28\" y=\"224.64\"/>\n      </g>\n     </g>\n     <g id=\"text_2\">\n      <!-- 1 -->\n      <defs>\n       <path d=\"M 12.40625 8.296875 \nL 28.515625 8.296875 \nL 28.515625 63.921875 \nL 10.984375 60.40625 \nL 10.984375 69.390625 \nL 28.421875 72.90625 \nL 38.28125 72.90625 \nL 38.28125 8.296875 \nL 54.390625 8.296875 \nL 54.390625 0 \nL 12.40625 0 \nz\n\" id=\"DejaVuSans-49\"/>\n      </defs>\n      <g transform=\"translate(70.524107 239.238437)scale(0.1 -0.1)\">\n       <use xlink:href=\"#DejaVuSans-49\"/>\n      </g>\n     </g>\n    </g>\n    <g id=\"xtick_3\">\n     <g id=\"line2d_3\">\n      <g>\n       <use style=\"stroke:#000000;stroke-width:0.8;\" x=\"126.848214\" xlink:href=\"#m06a10cab28\" y=\"224.64\"/>\n      </g>\n     </g>\n     <g id=\"text_3\">\n      <!-- 2 -->\n      <defs>\n       <path d=\"M 19.1875 8.296875 \nL 53.609375 8.296875 \nL 53.609375 0 \nL 7.328125 0 \nL 7.328125 8.296875 \nQ 12.9375 14.109375 22.625 23.890625 \nQ 32.328125 33.6875 34.8125 36.53125 \nQ 39.546875 41.84375 41.421875 45.53125 \nQ 43.3125 49.21875 43.3125 52.78125 \nQ 43.3125 58.59375 39.234375 62.25 \nQ 35.15625 65.921875 28.609375 65.921875 \nQ 23.96875 65.921875 18.8125 64.3125 \nQ 13.671875 62.703125 7.8125 59.421875 \nL 7.8125 69.390625 \nQ 13.765625 71.78125 18.9375 73 \nQ 24.125 74.21875 28.421875 74.21875 \nQ 39.75 74.21875 46.484375 68.546875 \nQ 53.21875 62.890625 53.21875 53.421875 \nQ 53.21875 48.921875 51.53125 44.890625 \nQ 49.859375 40.875 45.40625 35.40625 \nQ 44.1875 33.984375 37.640625 27.21875 \nQ 31.109375 20.453125 19.1875 8.296875 \nz\n\" id=\"DejaVuSans-50\"/>\n      </defs>\n      <g transform=\"translate(123.666964 239.238437)scale(0.1 -0.1)\">\n       <use xlink:href=\"#DejaVuSans-50\"/>\n      </g>\n     </g>\n    </g>\n    <g id=\"xtick_4\">\n     <g id=\"line2d_4\">\n      <g>\n       <use style=\"stroke:#000000;stroke-width:0.8;\" x=\"179.991071\" xlink:href=\"#m06a10cab28\" y=\"224.64\"/>\n      </g>\n     </g>\n     <g id=\"text_4\">\n      <!-- 3 -->\n      <defs>\n       <path d=\"M 40.578125 39.3125 \nQ 47.65625 37.796875 51.625 33 \nQ 55.609375 28.21875 55.609375 21.1875 \nQ 55.609375 10.40625 48.1875 4.484375 \nQ 40.765625 -1.421875 27.09375 -1.421875 \nQ 22.515625 -1.421875 17.65625 -0.515625 \nQ 12.796875 0.390625 7.625 2.203125 \nL 7.625 11.71875 \nQ 11.71875 9.328125 16.59375 8.109375 \nQ 21.484375 6.890625 26.8125 6.890625 \nQ 36.078125 6.890625 40.9375 10.546875 \nQ 45.796875 14.203125 45.796875 21.1875 \nQ 45.796875 27.640625 41.28125 31.265625 \nQ 36.765625 34.90625 28.71875 34.90625 \nL 20.21875 34.90625 \nL 20.21875 43.015625 \nL 29.109375 43.015625 \nQ 36.375 43.015625 40.234375 45.921875 \nQ 44.09375 48.828125 44.09375 54.296875 \nQ 44.09375 59.90625 40.109375 62.90625 \nQ 36.140625 65.921875 28.71875 65.921875 \nQ 24.65625 65.921875 20.015625 65.03125 \nQ 15.375 64.15625 9.8125 62.3125 \nL 9.8125 71.09375 \nQ 15.4375 72.65625 20.34375 73.4375 \nQ 25.25 74.21875 29.59375 74.21875 \nQ 40.828125 74.21875 47.359375 69.109375 \nQ 53.90625 64.015625 53.90625 55.328125 \nQ 53.90625 49.265625 50.4375 45.09375 \nQ 46.96875 40.921875 40.578125 39.3125 \nz\n\" id=\"DejaVuSans-51\"/>\n      </defs>\n      <g transform=\"translate(176.809821 239.238437)scale(0.1 -0.1)\">\n       <use xlink:href=\"#DejaVuSans-51\"/>\n      </g>\n     </g>\n    </g>\n    <g id=\"xtick_5\">\n     <g id=\"line2d_5\">\n      <g>\n       <use style=\"stroke:#000000;stroke-width:0.8;\" x=\"233.133929\" xlink:href=\"#m06a10cab28\" y=\"224.64\"/>\n      </g>\n     </g>\n     <g id=\"text_5\">\n      <!-- 4 -->\n      <defs>\n       <path d=\"M 37.796875 64.3125 \nL 12.890625 25.390625 \nL 37.796875 25.390625 \nz\nM 35.203125 72.90625 \nL 47.609375 72.90625 \nL 47.609375 25.390625 \nL 58.015625 25.390625 \nL 58.015625 17.1875 \nL 47.609375 17.1875 \nL 47.609375 0 \nL 37.796875 0 \nL 37.796875 17.1875 \nL 4.890625 17.1875 \nL 4.890625 26.703125 \nz\n\" id=\"DejaVuSans-52\"/>\n      </defs>\n      <g transform=\"translate(229.952679 239.238437)scale(0.1 -0.1)\">\n       <use xlink:href=\"#DejaVuSans-52\"/>\n      </g>\n     </g>\n    </g>\n    <g id=\"xtick_6\">\n     <g id=\"line2d_6\">\n      <g>\n       <use style=\"stroke:#000000;stroke-width:0.8;\" x=\"286.276786\" xlink:href=\"#m06a10cab28\" y=\"224.64\"/>\n      </g>\n     </g>\n     <g id=\"text_6\">\n      <!-- 5 -->\n      <defs>\n       <path d=\"M 10.796875 72.90625 \nL 49.515625 72.90625 \nL 49.515625 64.59375 \nL 19.828125 64.59375 \nL 19.828125 46.734375 \nQ 21.96875 47.46875 24.109375 47.828125 \nQ 26.265625 48.1875 28.421875 48.1875 \nQ 40.625 48.1875 47.75 41.5 \nQ 54.890625 34.8125 54.890625 23.390625 \nQ 54.890625 11.625 47.5625 5.09375 \nQ 40.234375 -1.421875 26.90625 -1.421875 \nQ 22.3125 -1.421875 17.546875 -0.640625 \nQ 12.796875 0.140625 7.71875 1.703125 \nL 7.71875 11.625 \nQ 12.109375 9.234375 16.796875 8.0625 \nQ 21.484375 6.890625 26.703125 6.890625 \nQ 35.15625 6.890625 40.078125 11.328125 \nQ 45.015625 15.765625 45.015625 23.390625 \nQ 45.015625 31 40.078125 35.4375 \nQ 35.15625 39.890625 26.703125 39.890625 \nQ 22.75 39.890625 18.8125 39.015625 \nQ 14.890625 38.140625 10.796875 36.28125 \nz\n\" id=\"DejaVuSans-53\"/>\n      </defs>\n      <g transform=\"translate(283.095536 239.238437)scale(0.1 -0.1)\">\n       <use xlink:href=\"#DejaVuSans-53\"/>\n      </g>\n     </g>\n    </g>\n    <g id=\"xtick_7\">\n     <g id=\"line2d_7\">\n      <g>\n       <use style=\"stroke:#000000;stroke-width:0.8;\" x=\"339.419643\" xlink:href=\"#m06a10cab28\" y=\"224.64\"/>\n      </g>\n     </g>\n     <g id=\"text_7\">\n      <!-- 6 -->\n      <defs>\n       <path d=\"M 33.015625 40.375 \nQ 26.375 40.375 22.484375 35.828125 \nQ 18.609375 31.296875 18.609375 23.390625 \nQ 18.609375 15.53125 22.484375 10.953125 \nQ 26.375 6.390625 33.015625 6.390625 \nQ 39.65625 6.390625 43.53125 10.953125 \nQ 47.40625 15.53125 47.40625 23.390625 \nQ 47.40625 31.296875 43.53125 35.828125 \nQ 39.65625 40.375 33.015625 40.375 \nz\nM 52.59375 71.296875 \nL 52.59375 62.3125 \nQ 48.875 64.0625 45.09375 64.984375 \nQ 41.3125 65.921875 37.59375 65.921875 \nQ 27.828125 65.921875 22.671875 59.328125 \nQ 17.53125 52.734375 16.796875 39.40625 \nQ 19.671875 43.65625 24.015625 45.921875 \nQ 28.375 48.1875 33.59375 48.1875 \nQ 44.578125 48.1875 50.953125 41.515625 \nQ 57.328125 34.859375 57.328125 23.390625 \nQ 57.328125 12.15625 50.6875 5.359375 \nQ 44.046875 -1.421875 33.015625 -1.421875 \nQ 20.359375 -1.421875 13.671875 8.265625 \nQ 6.984375 17.96875 6.984375 36.375 \nQ 6.984375 53.65625 15.1875 63.9375 \nQ 23.390625 74.21875 37.203125 74.21875 \nQ 40.921875 74.21875 44.703125 73.484375 \nQ 48.484375 72.75 52.59375 71.296875 \nz\n\" id=\"DejaVuSans-54\"/>\n      </defs>\n      <g transform=\"translate(336.238393 239.238437)scale(0.1 -0.1)\">\n       <use xlink:href=\"#DejaVuSans-54\"/>\n      </g>\n     </g>\n    </g>\n   </g>\n   <g id=\"matplotlib.axis_2\">\n    <g id=\"ytick_1\">\n     <g id=\"line2d_8\">\n      <defs>\n       <path d=\"M 0 0 \nL -3.5 0 \n\" id=\"mb14615dbc7\" style=\"stroke:#000000;stroke-width:0.8;\"/>\n      </defs>\n      <g>\n       <use style=\"stroke:#000000;stroke-width:0.8;\" x=\"20.5625\" xlink:href=\"#mb14615dbc7\" y=\"206.52\"/>\n      </g>\n     </g>\n     <g id=\"text_8\">\n      <!-- 1 -->\n      <g transform=\"translate(7.2 210.319219)scale(0.1 -0.1)\">\n       <use xlink:href=\"#DejaVuSans-49\"/>\n      </g>\n     </g>\n    </g>\n    <g id=\"ytick_2\">\n     <g id=\"line2d_9\">\n      <g>\n       <use style=\"stroke:#000000;stroke-width:0.8;\" x=\"20.5625\" xlink:href=\"#mb14615dbc7\" y=\"170.28\"/>\n      </g>\n     </g>\n     <g id=\"text_9\">\n      <!-- 6 -->\n      <g transform=\"translate(7.2 174.079219)scale(0.1 -0.1)\">\n       <use xlink:href=\"#DejaVuSans-54\"/>\n      </g>\n     </g>\n    </g>\n    <g id=\"ytick_3\">\n     <g id=\"line2d_10\">\n      <g>\n       <use style=\"stroke:#000000;stroke-width:0.8;\" x=\"20.5625\" xlink:href=\"#mb14615dbc7\" y=\"134.04\"/>\n      </g>\n     </g>\n     <g id=\"text_10\">\n      <!-- 5 -->\n      <g transform=\"translate(7.2 137.839219)scale(0.1 -0.1)\">\n       <use xlink:href=\"#DejaVuSans-53\"/>\n      </g>\n     </g>\n    </g>\n    <g id=\"ytick_4\">\n     <g id=\"line2d_11\">\n      <g>\n       <use style=\"stroke:#000000;stroke-width:0.8;\" x=\"20.5625\" xlink:href=\"#mb14615dbc7\" y=\"97.8\"/>\n      </g>\n     </g>\n     <g id=\"text_11\">\n      <!-- 3 -->\n      <g transform=\"translate(7.2 101.599219)scale(0.1 -0.1)\">\n       <use xlink:href=\"#DejaVuSans-51\"/>\n      </g>\n     </g>\n    </g>\n    <g id=\"ytick_5\">\n     <g id=\"line2d_12\">\n      <g>\n       <use style=\"stroke:#000000;stroke-width:0.8;\" x=\"20.5625\" xlink:href=\"#mb14615dbc7\" y=\"61.56\"/>\n      </g>\n     </g>\n     <g id=\"text_12\">\n      <!-- 2 -->\n      <g transform=\"translate(7.2 65.359219)scale(0.1 -0.1)\">\n       <use xlink:href=\"#DejaVuSans-50\"/>\n      </g>\n     </g>\n    </g>\n    <g id=\"ytick_6\">\n     <g id=\"line2d_13\">\n      <g>\n       <use style=\"stroke:#000000;stroke-width:0.8;\" x=\"20.5625\" xlink:href=\"#mb14615dbc7\" y=\"25.32\"/>\n      </g>\n     </g>\n     <g id=\"text_13\">\n      <!-- 4 -->\n      <g transform=\"translate(7.2 29.119219)scale(0.1 -0.1)\">\n       <use xlink:href=\"#DejaVuSans-52\"/>\n      </g>\n     </g>\n    </g>\n   </g>\n   <g id=\"patch_9\">\n    <path d=\"M 20.5625 224.64 \nL 20.5625 7.2 \n\" style=\"fill:none;stroke:#000000;stroke-linecap:square;stroke-linejoin:miter;stroke-width:0.8;\"/>\n   </g>\n   <g id=\"patch_10\">\n    <path d=\"M 355.3625 224.64 \nL 355.3625 7.2 \n\" style=\"fill:none;stroke:#000000;stroke-linecap:square;stroke-linejoin:miter;stroke-width:0.8;\"/>\n   </g>\n   <g id=\"patch_11\">\n    <path d=\"M 20.5625 224.64 \nL 355.3625 224.64 \n\" style=\"fill:none;stroke:#000000;stroke-linecap:square;stroke-linejoin:miter;stroke-width:0.8;\"/>\n   </g>\n   <g id=\"patch_12\">\n    <path d=\"M 20.5625 7.2 \nL 355.3625 7.2 \n\" style=\"fill:none;stroke:#000000;stroke-linecap:square;stroke-linejoin:miter;stroke-width:0.8;\"/>\n   </g>\n  </g>\n </g>\n <defs>\n  <clipPath id=\"p5ffe1f0eae\">\n   <rect height=\"217.44\" width=\"334.8\" x=\"20.5625\" y=\"7.2\"/>\n  </clipPath>\n </defs>\n</svg>\n",
      "image/png": "[encoded data removed]"
     },
     "metadata": {
      "needs_background": "light"
     }
    }
   ],
   "source": [
    "data_mahasiswa['ID_Jurusan'].value_counts().plot(kind='barh')"
   ]
  },
  {
   "source": [
    "## JOIN TABLE"
   ],
   "cell_type": "markdown",
   "metadata": {}
  },
  {
   "cell_type": "code",
   "execution_count": 9,
   "metadata": {},
   "outputs": [
    {
     "output_type": "execute_result",
     "data": {
      "text/plain": [
       "[(1, 'informatika', 'tommy', ' 10 maret 2000'),\n",
       " (2, 'informatika', 'wahid', '20 mei 2000'),\n",
       " (3, 'informatika', 'ali kharozim', '03 januari 2000'),\n",
       " (4, 'mesin', 'hanif', '10 agustus 2000'),\n",
       " (5, 'kimia', 'yudha', '09 november 2000'),\n",
       " (6, 'statistika', 'zain', '25 desember 2000'),\n",
       " (7, 'matematika', 'aji', '06 oktober 2000'),\n",
       " (8, 'geologi', 'sumiati', '17 februari 2000'),\n",
       " (9, 'informatika', 'romi', '18 april 2000'),\n",
       " (10, 'mesin', 'ridho', '19 mei 2000'),\n",
       " (11, 'geologi', 'fincent', '26 februari 2001'),\n",
       " (12, 'informatika', 'darul', '17 september 2001'),\n",
       " (13, 'kimia', 'ulum', '14 februari 1999'),\n",
       " (14, 'matematika', 'simbah', '19 april 2000'),\n",
       " (15, 'kimia', 'logitech', '12 desember 2012'),\n",
       " (16, 'mesin', 'mastekno', '31 desember 2012'),\n",
       " (17, 'statistika', 'lentik', '29 oktober 2000'),\n",
       " (18, 'matematika', 'math heri', '18 juni 2000'),\n",
       " (19, 'informatika', 'august', '17 agustus 2000 '),\n",
       " (20, 'geologi', 'gempur sari', '18 juli 2000')]"
      ]
     },
     "metadata": {},
     "execution_count": 9
    }
   ],
   "source": [
    "cursor = koneksi.cursor()\n",
    "\n",
    "cursor.execute(\"select mahasiswa.id_mhs, jurusan.nama_jurusan, mahasiswa.nama_mhs, mahasiswa.tgl_lahir\" +\n",
    "               \" from mahasiswa inner join jurusan on jurusan.id_jurusan = mahasiswa.id_jurusan \" +\n",
    "               \"order by mahasiswa.id_mhs\")\n",
    "\n",
    "tabel_baru = cursor.fetchall()\n",
    "tabel_baru"
   ]
  },
  {
   "source": [
    "## Buat TABLE baru"
   ],
   "cell_type": "markdown",
   "metadata": {}
  },
  {
   "cell_type": "code",
   "execution_count": 10,
   "metadata": {},
   "outputs": [],
   "source": [
    "cursor.execute('DROP TABLE IF EXISTS mhs_baru')\n",
    "cursor.execute(\"CREATE TABLE mhs_baru (id_mhs_baru INT(11) NOT NULL, nama_jurusan VARCHAR(30) NOT NULL,\" +\n",
    "               \" nama_mhs VARCHAR(30) NOT NULL, tanggal_lahir VARCHAR(20) NOT NULL)\")"
   ]
  },
  {
   "source": [
    "## Masukan data hasil JOINAN ke TABLE baru"
   ],
   "cell_type": "markdown",
   "metadata": {}
  },
  {
   "cell_type": "code",
   "execution_count": 11,
   "metadata": {},
   "outputs": [
    {
     "output_type": "stream",
     "name": "stdout",
     "text": [
      "(1, 'informatika', 'tommy', ' 10 maret 2000') Telah dimasukkan\n",
      "(2, 'informatika', 'wahid', '20 mei 2000') Telah dimasukkan\n",
      "(3, 'informatika', 'ali kharozim', '03 januari 2000') Telah dimasukkan\n",
      "(4, 'mesin', 'hanif', '10 agustus 2000') Telah dimasukkan\n",
      "(5, 'kimia', 'yudha', '09 november 2000') Telah dimasukkan\n",
      "(6, 'statistika', 'zain', '25 desember 2000') Telah dimasukkan\n",
      "(7, 'matematika', 'aji', '06 oktober 2000') Telah dimasukkan\n",
      "(8, 'geologi', 'sumiati', '17 februari 2000') Telah dimasukkan\n",
      "(9, 'informatika', 'romi', '18 april 2000') Telah dimasukkan\n",
      "(10, 'mesin', 'ridho', '19 mei 2000') Telah dimasukkan\n",
      "(11, 'geologi', 'fincent', '26 februari 2001') Telah dimasukkan\n",
      "(12, 'informatika', 'darul', '17 september 2001') Telah dimasukkan\n",
      "(13, 'kimia', 'ulum', '14 februari 1999') Telah dimasukkan\n",
      "(14, 'matematika', 'simbah', '19 april 2000') Telah dimasukkan\n",
      "(15, 'kimia', 'logitech', '12 desember 2012') Telah dimasukkan\n",
      "(16, 'mesin', 'mastekno', '31 desember 2012') Telah dimasukkan\n",
      "(17, 'statistika', 'lentik', '29 oktober 2000') Telah dimasukkan\n",
      "(18, 'matematika', 'math heri', '18 juni 2000') Telah dimasukkan\n",
      "(19, 'informatika', 'august', '17 agustus 2000 ') Telah dimasukkan\n",
      "(20, 'geologi', 'gempur sari', '18 juli 2000') Telah dimasukkan\n"
     ]
    }
   ],
   "source": [
    "for baris in tabel_baru:\n",
    "    sql = \"INSERT INTO JoJo.mhs_baru VALUES (%s,%s,%s,%s)\"\n",
    "    cursor.execute(sql, baris)\n",
    "    print(tuple(baris), \"Telah dimasukkan\")\n",
    "    koneksi.commit()"
   ]
  },
  {
   "source": [
    "## Lihat isi TABLE baru dalam bentuk DataFrame"
   ],
   "cell_type": "markdown",
   "metadata": {}
  },
  {
   "cell_type": "code",
   "execution_count": 12,
   "metadata": {},
   "outputs": [
    {
     "output_type": "execute_result",
     "data": {
      "text/plain": [
       "   Nama Jurusan          Nama      Tanggal lahir\n",
       "ID                                              \n",
       "1   informatika         tommy      10 maret 2000\n",
       "2   informatika         wahid        20 mei 2000\n",
       "3   informatika  ali kharozim    03 januari 2000\n",
       "4         mesin         hanif    10 agustus 2000\n",
       "5         kimia         yudha   09 november 2000\n",
       "6    statistika          zain   25 desember 2000\n",
       "7    matematika           aji    06 oktober 2000\n",
       "8       geologi       sumiati   17 februari 2000\n",
       "9   informatika          romi      18 april 2000\n",
       "10        mesin         ridho        19 mei 2000\n",
       "11      geologi       fincent   26 februari 2001\n",
       "12  informatika         darul  17 september 2001\n",
       "13        kimia          ulum   14 februari 1999\n",
       "14   matematika        simbah      19 april 2000\n",
       "15        kimia      logitech   12 desember 2012\n",
       "16        mesin      mastekno   31 desember 2012\n",
       "17   statistika        lentik    29 oktober 2000\n",
       "18   matematika     math heri       18 juni 2000\n",
       "19  informatika        august   17 agustus 2000 \n",
       "20      geologi   gempur sari       18 juli 2000"
      ],
      "text/html": "<div>\n<style scoped>\n    .dataframe tbody tr th:only-of-type {\n        vertical-align: middle;\n    }\n\n    .dataframe tbody tr th {\n        vertical-align: top;\n    }\n\n    .dataframe thead th {\n        text-align: right;\n    }\n</style>\n<table border=\"1\" class=\"dataframe\">\n  <thead>\n    <tr style=\"text-align: right;\">\n      <th></th>\n      <th>Nama Jurusan</th>\n      <th>Nama</th>\n      <th>Tanggal lahir</th>\n    </tr>\n    <tr>\n      <th>ID</th>\n      <th></th>\n      <th></th>\n      <th></th>\n    </tr>\n  </thead>\n  <tbody>\n    <tr>\n      <th>1</th>\n      <td>informatika</td>\n      <td>tommy</td>\n      <td>10 maret 2000</td>\n    </tr>\n    <tr>\n      <th>2</th>\n      <td>informatika</td>\n      <td>wahid</td>\n      <td>20 mei 2000</td>\n    </tr>\n    <tr>\n      <th>3</th>\n      <td>informatika</td>\n      <td>ali kharozim</td>\n      <td>03 januari 2000</td>\n    </tr>\n    <tr>\n      <th>4</th>\n      <td>mesin</td>\n      <td>hanif</td>\n      <td>10 agustus 2000</td>\n    </tr>\n    <tr>\n      <th>5</th>\n      <td>kimia</td>\n      <td>yudha</td>\n      <td>09 november 2000</td>\n    </tr>\n    <tr>\n      <th>6</th>\n      <td>statistika</td>\n      <td>zain</td>\n      <td>25 desember 2000</td>\n    </tr>\n    <tr>\n      <th>7</th>\n      <td>matematika</td>\n      <td>aji</td>\n      <td>06 oktober 2000</td>\n    </tr>\n    <tr>\n      <th>8</th>\n      <td>geologi</td>\n      <td>sumiati</td>\n      <td>17 februari 2000</td>\n    </tr>\n    <tr>\n      <th>9</th>\n      <td>informatika</td>\n      <td>romi</td>\n      <td>18 april 2000</td>\n    </tr>\n    <tr>\n      <th>10</th>\n      <td>mesin</td>\n      <td>ridho</td>\n      <td>19 mei 2000</td>\n    </tr>\n    <tr>\n      <th>11</th>\n      <td>geologi</td>\n      <td>fincent</td>\n      <td>26 februari 2001</td>\n    </tr>\n    <tr>\n      <th>12</th>\n      <td>informatika</td>\n      <td>darul</td>\n      <td>17 september 2001</td>\n    </tr>\n    <tr>\n      <th>13</th>\n      <td>kimia</td>\n      <td>ulum</td>\n      <td>14 februari 1999</td>\n    </tr>\n    <tr>\n      <th>14</th>\n      <td>matematika</td>\n      <td>simbah</td>\n      <td>19 april 2000</td>\n    </tr>\n    <tr>\n      <th>15</th>\n      <td>kimia</td>\n      <td>logitech</td>\n      <td>12 desember 2012</td>\n    </tr>\n    <tr>\n      <th>16</th>\n      <td>mesin</td>\n      <td>mastekno</td>\n      <td>31 desember 2012</td>\n    </tr>\n    <tr>\n      <th>17</th>\n      <td>statistika</td>\n      <td>lentik</td>\n      <td>29 oktober 2000</td>\n    </tr>\n    <tr>\n      <th>18</th>\n      <td>matematika</td>\n      <td>math heri</td>\n      <td>18 juni 2000</td>\n    </tr>\n    <tr>\n      <th>19</th>\n      <td>informatika</td>\n      <td>august</td>\n      <td>17 agustus 2000</td>\n    </tr>\n    <tr>\n      <th>20</th>\n      <td>geologi</td>\n      <td>gempur sari</td>\n      <td>18 juli 2000</td>\n    </tr>\n  </tbody>\n</table>\n</div>"
     },
     "metadata": {},
     "execution_count": 12
    }
   ],
   "source": [
    "cursor = koneksi.cursor()\n",
    "cursor.execute(\"select * from mhs_baru\")\n",
    "\n",
    "mhs_baru = cursor.fetchall()\n",
    "mhs_baru\n",
    "\n",
    "data_mahasiswa_baru = pd.DataFrame(columns=[\"ID\", \"Nama Jurusan\", \"Nama\", \"Tanggal lahir\"],\n",
    "                              data = mhs_baru)\n",
    "                              \n",
    "data_mahasiswa_baru = data_mahasiswa_baru.set_index(\"ID\")\n",
    "data_mahasiswa_baru"
   ]
  },
  {
   "source": [
    "## Visualisasikan lagi datanya"
   ],
   "cell_type": "markdown",
   "metadata": {}
  },
  {
   "cell_type": "code",
   "execution_count": 13,
   "metadata": {},
   "outputs": [
    {
     "output_type": "execute_result",
     "data": {
      "text/plain": [
       "<matplotlib.axes._subplots.AxesSubplot at 0x7f1a5cb67640>"
      ]
     },
     "metadata": {},
     "execution_count": 13
    },
    {
     "output_type": "display_data",
     "data": {
      "text/plain": "<Figure size 432x288 with 1 Axes>",
      "image/svg+xml": "<?xml version=\"1.0\" encoding=\"utf-8\" standalone=\"no\"?>\n<!DOCTYPE svg PUBLIC \"-//W3C//DTD SVG 1.1//EN\"\n  \"http://www.w3.org/Graphics/SVG/1.1/DTD/svg11.dtd\">\n<!-- Created with matplotlib (https://matplotlib.org/) -->\n<svg height=\"248.518125pt\" version=\"1.1\" viewBox=\"0 0 416.453125 248.518125\" width=\"416.453125pt\" xmlns=\"http://www.w3.org/2000/svg\" xmlns:xlink=\"http://www.w3.org/1999/xlink\">\n <defs>\n  <style type=\"text/css\">\n*{stroke-linecap:butt;stroke-linejoin:round;}\n  </style>\n </defs>\n <g id=\"figure_1\">\n  <g id=\"patch_1\">\n   <path d=\"M 0 248.518125 \nL 416.453125 248.518125 \nL 416.453125 0 \nL 0 0 \nz\n\" style=\"fill:none;\"/>\n  </g>\n  <g id=\"axes_1\">\n   <g id=\"patch_2\">\n    <path d=\"M 74.453125 224.64 \nL 409.253125 224.64 \nL 409.253125 7.2 \nL 74.453125 7.2 \nz\n\" style=\"fill:#ffffff;\"/>\n   </g>\n   <g id=\"patch_3\">\n    <path clip-path=\"url(#p2a8ab2fa2e)\" d=\"M 74.453125 215.58 \nL 393.310268 215.58 \nL 393.310268 197.46 \nL 74.453125 197.46 \nz\n\" style=\"fill:#1f77b4;\"/>\n   </g>\n   <g id=\"patch_4\">\n    <path clip-path=\"url(#p2a8ab2fa2e)\" d=\"M 74.453125 179.34 \nL 233.881696 179.34 \nL 233.881696 161.22 \nL 74.453125 161.22 \nz\n\" style=\"fill:#1f77b4;\"/>\n   </g>\n   <g id=\"patch_5\">\n    <path clip-path=\"url(#p2a8ab2fa2e)\" d=\"M 74.453125 143.1 \nL 233.881696 143.1 \nL 233.881696 124.98 \nL 74.453125 124.98 \nz\n\" style=\"fill:#1f77b4;\"/>\n   </g>\n   <g id=\"patch_6\">\n    <path clip-path=\"url(#p2a8ab2fa2e)\" d=\"M 74.453125 106.86 \nL 233.881696 106.86 \nL 233.881696 88.74 \nL 74.453125 88.74 \nz\n\" style=\"fill:#1f77b4;\"/>\n   </g>\n   <g id=\"patch_7\">\n    <path clip-path=\"url(#p2a8ab2fa2e)\" d=\"M 74.453125 70.62 \nL 233.881696 70.62 \nL 233.881696 52.5 \nL 74.453125 52.5 \nz\n\" style=\"fill:#1f77b4;\"/>\n   </g>\n   <g id=\"patch_8\">\n    <path clip-path=\"url(#p2a8ab2fa2e)\" d=\"M 74.453125 34.38 \nL 180.738839 34.38 \nL 180.738839 16.26 \nL 74.453125 16.26 \nz\n\" style=\"fill:#1f77b4;\"/>\n   </g>\n   <g id=\"matplotlib.axis_1\">\n    <g id=\"xtick_1\">\n     <g id=\"line2d_1\">\n      <defs>\n       <path d=\"M 0 0 \nL 0 3.5 \n\" id=\"m23b9f39b6d\" style=\"stroke:#000000;stroke-width:0.8;\"/>\n      </defs>\n      <g>\n       <use style=\"stroke:#000000;stroke-width:0.8;\" x=\"74.453125\" xlink:href=\"#m23b9f39b6d\" y=\"224.64\"/>\n      </g>\n     </g>\n     <g id=\"text_1\">\n      <!-- 0 -->\n      <defs>\n       <path d=\"M 31.78125 66.40625 \nQ 24.171875 66.40625 20.328125 58.90625 \nQ 16.5 51.421875 16.5 36.375 \nQ 16.5 21.390625 20.328125 13.890625 \nQ 24.171875 6.390625 31.78125 6.390625 \nQ 39.453125 6.390625 43.28125 13.890625 \nQ 47.125 21.390625 47.125 36.375 \nQ 47.125 51.421875 43.28125 58.90625 \nQ 39.453125 66.40625 31.78125 66.40625 \nz\nM 31.78125 74.21875 \nQ 44.046875 74.21875 50.515625 64.515625 \nQ 56.984375 54.828125 56.984375 36.375 \nQ 56.984375 17.96875 50.515625 8.265625 \nQ 44.046875 -1.421875 31.78125 -1.421875 \nQ 19.53125 -1.421875 13.0625 8.265625 \nQ 6.59375 17.96875 6.59375 36.375 \nQ 6.59375 54.828125 13.0625 64.515625 \nQ 19.53125 74.21875 31.78125 74.21875 \nz\n\" id=\"DejaVuSans-48\"/>\n      </defs>\n      <g transform=\"translate(71.271875 239.238437)scale(0.1 -0.1)\">\n       <use xlink:href=\"#DejaVuSans-48\"/>\n      </g>\n     </g>\n    </g>\n    <g id=\"xtick_2\">\n     <g id=\"line2d_2\">\n      <g>\n       <use style=\"stroke:#000000;stroke-width:0.8;\" x=\"127.595982\" xlink:href=\"#m23b9f39b6d\" y=\"224.64\"/>\n      </g>\n     </g>\n     <g id=\"text_2\">\n      <!-- 1 -->\n      <defs>\n       <path d=\"M 12.40625 8.296875 \nL 28.515625 8.296875 \nL 28.515625 63.921875 \nL 10.984375 60.40625 \nL 10.984375 69.390625 \nL 28.421875 72.90625 \nL 38.28125 72.90625 \nL 38.28125 8.296875 \nL 54.390625 8.296875 \nL 54.390625 0 \nL 12.40625 0 \nz\n\" id=\"DejaVuSans-49\"/>\n      </defs>\n      <g transform=\"translate(124.414732 239.238437)scale(0.1 -0.1)\">\n       <use xlink:href=\"#DejaVuSans-49\"/>\n      </g>\n     </g>\n    </g>\n    <g id=\"xtick_3\">\n     <g id=\"line2d_3\">\n      <g>\n       <use style=\"stroke:#000000;stroke-width:0.8;\" x=\"180.738839\" xlink:href=\"#m23b9f39b6d\" y=\"224.64\"/>\n      </g>\n     </g>\n     <g id=\"text_3\">\n      <!-- 2 -->\n      <defs>\n       <path d=\"M 19.1875 8.296875 \nL 53.609375 8.296875 \nL 53.609375 0 \nL 7.328125 0 \nL 7.328125 8.296875 \nQ 12.9375 14.109375 22.625 23.890625 \nQ 32.328125 33.6875 34.8125 36.53125 \nQ 39.546875 41.84375 41.421875 45.53125 \nQ 43.3125 49.21875 43.3125 52.78125 \nQ 43.3125 58.59375 39.234375 62.25 \nQ 35.15625 65.921875 28.609375 65.921875 \nQ 23.96875 65.921875 18.8125 64.3125 \nQ 13.671875 62.703125 7.8125 59.421875 \nL 7.8125 69.390625 \nQ 13.765625 71.78125 18.9375 73 \nQ 24.125 74.21875 28.421875 74.21875 \nQ 39.75 74.21875 46.484375 68.546875 \nQ 53.21875 62.890625 53.21875 53.421875 \nQ 53.21875 48.921875 51.53125 44.890625 \nQ 49.859375 40.875 45.40625 35.40625 \nQ 44.1875 33.984375 37.640625 27.21875 \nQ 31.109375 20.453125 19.1875 8.296875 \nz\n\" id=\"DejaVuSans-50\"/>\n      </defs>\n      <g transform=\"translate(177.557589 239.238437)scale(0.1 -0.1)\">\n       <use xlink:href=\"#DejaVuSans-50\"/>\n      </g>\n     </g>\n    </g>\n    <g id=\"xtick_4\">\n     <g id=\"line2d_4\">\n      <g>\n       <use style=\"stroke:#000000;stroke-width:0.8;\" x=\"233.881696\" xlink:href=\"#m23b9f39b6d\" y=\"224.64\"/>\n      </g>\n     </g>\n     <g id=\"text_4\">\n      <!-- 3 -->\n      <defs>\n       <path d=\"M 40.578125 39.3125 \nQ 47.65625 37.796875 51.625 33 \nQ 55.609375 28.21875 55.609375 21.1875 \nQ 55.609375 10.40625 48.1875 4.484375 \nQ 40.765625 -1.421875 27.09375 -1.421875 \nQ 22.515625 -1.421875 17.65625 -0.515625 \nQ 12.796875 0.390625 7.625 2.203125 \nL 7.625 11.71875 \nQ 11.71875 9.328125 16.59375 8.109375 \nQ 21.484375 6.890625 26.8125 6.890625 \nQ 36.078125 6.890625 40.9375 10.546875 \nQ 45.796875 14.203125 45.796875 21.1875 \nQ 45.796875 27.640625 41.28125 31.265625 \nQ 36.765625 34.90625 28.71875 34.90625 \nL 20.21875 34.90625 \nL 20.21875 43.015625 \nL 29.109375 43.015625 \nQ 36.375 43.015625 40.234375 45.921875 \nQ 44.09375 48.828125 44.09375 54.296875 \nQ 44.09375 59.90625 40.109375 62.90625 \nQ 36.140625 65.921875 28.71875 65.921875 \nQ 24.65625 65.921875 20.015625 65.03125 \nQ 15.375 64.15625 9.8125 62.3125 \nL 9.8125 71.09375 \nQ 15.4375 72.65625 20.34375 73.4375 \nQ 25.25 74.21875 29.59375 74.21875 \nQ 40.828125 74.21875 47.359375 69.109375 \nQ 53.90625 64.015625 53.90625 55.328125 \nQ 53.90625 49.265625 50.4375 45.09375 \nQ 46.96875 40.921875 40.578125 39.3125 \nz\n\" id=\"DejaVuSans-51\"/>\n      </defs>\n      <g transform=\"translate(230.700446 239.238437)scale(0.1 -0.1)\">\n       <use xlink:href=\"#DejaVuSans-51\"/>\n      </g>\n     </g>\n    </g>\n    <g id=\"xtick_5\">\n     <g id=\"line2d_5\">\n      <g>\n       <use style=\"stroke:#000000;stroke-width:0.8;\" x=\"287.024554\" xlink:href=\"#m23b9f39b6d\" y=\"224.64\"/>\n      </g>\n     </g>\n     <g id=\"text_5\">\n      <!-- 4 -->\n      <defs>\n       <path d=\"M 37.796875 64.3125 \nL 12.890625 25.390625 \nL 37.796875 25.390625 \nz\nM 35.203125 72.90625 \nL 47.609375 72.90625 \nL 47.609375 25.390625 \nL 58.015625 25.390625 \nL 58.015625 17.1875 \nL 47.609375 17.1875 \nL 47.609375 0 \nL 37.796875 0 \nL 37.796875 17.1875 \nL 4.890625 17.1875 \nL 4.890625 26.703125 \nz\n\" id=\"DejaVuSans-52\"/>\n      </defs>\n      <g transform=\"translate(283.843304 239.238437)scale(0.1 -0.1)\">\n       <use xlink:href=\"#DejaVuSans-52\"/>\n      </g>\n     </g>\n    </g>\n    <g id=\"xtick_6\">\n     <g id=\"line2d_6\">\n      <g>\n       <use style=\"stroke:#000000;stroke-width:0.8;\" x=\"340.167411\" xlink:href=\"#m23b9f39b6d\" y=\"224.64\"/>\n      </g>\n     </g>\n     <g id=\"text_6\">\n      <!-- 5 -->\n      <defs>\n       <path d=\"M 10.796875 72.90625 \nL 49.515625 72.90625 \nL 49.515625 64.59375 \nL 19.828125 64.59375 \nL 19.828125 46.734375 \nQ 21.96875 47.46875 24.109375 47.828125 \nQ 26.265625 48.1875 28.421875 48.1875 \nQ 40.625 48.1875 47.75 41.5 \nQ 54.890625 34.8125 54.890625 23.390625 \nQ 54.890625 11.625 47.5625 5.09375 \nQ 40.234375 -1.421875 26.90625 -1.421875 \nQ 22.3125 -1.421875 17.546875 -0.640625 \nQ 12.796875 0.140625 7.71875 1.703125 \nL 7.71875 11.625 \nQ 12.109375 9.234375 16.796875 8.0625 \nQ 21.484375 6.890625 26.703125 6.890625 \nQ 35.15625 6.890625 40.078125 11.328125 \nQ 45.015625 15.765625 45.015625 23.390625 \nQ 45.015625 31 40.078125 35.4375 \nQ 35.15625 39.890625 26.703125 39.890625 \nQ 22.75 39.890625 18.8125 39.015625 \nQ 14.890625 38.140625 10.796875 36.28125 \nz\n\" id=\"DejaVuSans-53\"/>\n      </defs>\n      <g transform=\"translate(336.986161 239.238437)scale(0.1 -0.1)\">\n       <use xlink:href=\"#DejaVuSans-53\"/>\n      </g>\n     </g>\n    </g>\n    <g id=\"xtick_7\">\n     <g id=\"line2d_7\">\n      <g>\n       <use style=\"stroke:#000000;stroke-width:0.8;\" x=\"393.310268\" xlink:href=\"#m23b9f39b6d\" y=\"224.64\"/>\n      </g>\n     </g>\n     <g id=\"text_7\">\n      <!-- 6 -->\n      <defs>\n       <path d=\"M 33.015625 40.375 \nQ 26.375 40.375 22.484375 35.828125 \nQ 18.609375 31.296875 18.609375 23.390625 \nQ 18.609375 15.53125 22.484375 10.953125 \nQ 26.375 6.390625 33.015625 6.390625 \nQ 39.65625 6.390625 43.53125 10.953125 \nQ 47.40625 15.53125 47.40625 23.390625 \nQ 47.40625 31.296875 43.53125 35.828125 \nQ 39.65625 40.375 33.015625 40.375 \nz\nM 52.59375 71.296875 \nL 52.59375 62.3125 \nQ 48.875 64.0625 45.09375 64.984375 \nQ 41.3125 65.921875 37.59375 65.921875 \nQ 27.828125 65.921875 22.671875 59.328125 \nQ 17.53125 52.734375 16.796875 39.40625 \nQ 19.671875 43.65625 24.015625 45.921875 \nQ 28.375 48.1875 33.59375 48.1875 \nQ 44.578125 48.1875 50.953125 41.515625 \nQ 57.328125 34.859375 57.328125 23.390625 \nQ 57.328125 12.15625 50.6875 5.359375 \nQ 44.046875 -1.421875 33.015625 -1.421875 \nQ 20.359375 -1.421875 13.671875 8.265625 \nQ 6.984375 17.96875 6.984375 36.375 \nQ 6.984375 53.65625 15.1875 63.9375 \nQ 23.390625 74.21875 37.203125 74.21875 \nQ 40.921875 74.21875 44.703125 73.484375 \nQ 48.484375 72.75 52.59375 71.296875 \nz\n\" id=\"DejaVuSans-54\"/>\n      </defs>\n      <g transform=\"translate(390.129018 239.238437)scale(0.1 -0.1)\">\n       <use xlink:href=\"#DejaVuSans-54\"/>\n      </g>\n     </g>\n    </g>\n   </g>\n   <g id=\"matplotlib.axis_2\">\n    <g id=\"ytick_1\">\n     <g id=\"line2d_8\">\n      <defs>\n       <path d=\"M 0 0 \nL -3.5 0 \n\" id=\"mcadfe29d3c\" style=\"stroke:#000000;stroke-width:0.8;\"/>\n      </defs>\n      <g>\n       <use style=\"stroke:#000000;stroke-width:0.8;\" x=\"74.453125\" xlink:href=\"#mcadfe29d3c\" y=\"206.52\"/>\n      </g>\n     </g>\n     <g id=\"text_8\">\n      <!-- informatika -->\n      <defs>\n       <path d=\"M 9.421875 54.6875 \nL 18.40625 54.6875 \nL 18.40625 0 \nL 9.421875 0 \nz\nM 9.421875 75.984375 \nL 18.40625 75.984375 \nL 18.40625 64.59375 \nL 9.421875 64.59375 \nz\n\" id=\"DejaVuSans-105\"/>\n       <path d=\"M 54.890625 33.015625 \nL 54.890625 0 \nL 45.90625 0 \nL 45.90625 32.71875 \nQ 45.90625 40.484375 42.875 44.328125 \nQ 39.84375 48.1875 33.796875 48.1875 \nQ 26.515625 48.1875 22.3125 43.546875 \nQ 18.109375 38.921875 18.109375 30.90625 \nL 18.109375 0 \nL 9.078125 0 \nL 9.078125 54.6875 \nL 18.109375 54.6875 \nL 18.109375 46.1875 \nQ 21.34375 51.125 25.703125 53.5625 \nQ 30.078125 56 35.796875 56 \nQ 45.21875 56 50.046875 50.171875 \nQ 54.890625 44.34375 54.890625 33.015625 \nz\n\" id=\"DejaVuSans-110\"/>\n       <path d=\"M 37.109375 75.984375 \nL 37.109375 68.5 \nL 28.515625 68.5 \nQ 23.6875 68.5 21.796875 66.546875 \nQ 19.921875 64.59375 19.921875 59.515625 \nL 19.921875 54.6875 \nL 34.71875 54.6875 \nL 34.71875 47.703125 \nL 19.921875 47.703125 \nL 19.921875 0 \nL 10.890625 0 \nL 10.890625 47.703125 \nL 2.296875 47.703125 \nL 2.296875 54.6875 \nL 10.890625 54.6875 \nL 10.890625 58.5 \nQ 10.890625 67.625 15.140625 71.796875 \nQ 19.390625 75.984375 28.609375 75.984375 \nz\n\" id=\"DejaVuSans-102\"/>\n       <path d=\"M 30.609375 48.390625 \nQ 23.390625 48.390625 19.1875 42.75 \nQ 14.984375 37.109375 14.984375 27.296875 \nQ 14.984375 17.484375 19.15625 11.84375 \nQ 23.34375 6.203125 30.609375 6.203125 \nQ 37.796875 6.203125 41.984375 11.859375 \nQ 46.1875 17.53125 46.1875 27.296875 \nQ 46.1875 37.015625 41.984375 42.703125 \nQ 37.796875 48.390625 30.609375 48.390625 \nz\nM 30.609375 56 \nQ 42.328125 56 49.015625 48.375 \nQ 55.71875 40.765625 55.71875 27.296875 \nQ 55.71875 13.875 49.015625 6.21875 \nQ 42.328125 -1.421875 30.609375 -1.421875 \nQ 18.84375 -1.421875 12.171875 6.21875 \nQ 5.515625 13.875 5.515625 27.296875 \nQ 5.515625 40.765625 12.171875 48.375 \nQ 18.84375 56 30.609375 56 \nz\n\" id=\"DejaVuSans-111\"/>\n       <path d=\"M 41.109375 46.296875 \nQ 39.59375 47.171875 37.8125 47.578125 \nQ 36.03125 48 33.890625 48 \nQ 26.265625 48 22.1875 43.046875 \nQ 18.109375 38.09375 18.109375 28.8125 \nL 18.109375 0 \nL 9.078125 0 \nL 9.078125 54.6875 \nL 18.109375 54.6875 \nL 18.109375 46.1875 \nQ 20.953125 51.171875 25.484375 53.578125 \nQ 30.03125 56 36.53125 56 \nQ 37.453125 56 38.578125 55.875 \nQ 39.703125 55.765625 41.0625 55.515625 \nz\n\" id=\"DejaVuSans-114\"/>\n       <path d=\"M 52 44.1875 \nQ 55.375 50.25 60.0625 53.125 \nQ 64.75 56 71.09375 56 \nQ 79.640625 56 84.28125 50.015625 \nQ 88.921875 44.046875 88.921875 33.015625 \nL 88.921875 0 \nL 79.890625 0 \nL 79.890625 32.71875 \nQ 79.890625 40.578125 77.09375 44.375 \nQ 74.3125 48.1875 68.609375 48.1875 \nQ 61.625 48.1875 57.5625 43.546875 \nQ 53.515625 38.921875 53.515625 30.90625 \nL 53.515625 0 \nL 44.484375 0 \nL 44.484375 32.71875 \nQ 44.484375 40.625 41.703125 44.40625 \nQ 38.921875 48.1875 33.109375 48.1875 \nQ 26.21875 48.1875 22.15625 43.53125 \nQ 18.109375 38.875 18.109375 30.90625 \nL 18.109375 0 \nL 9.078125 0 \nL 9.078125 54.6875 \nL 18.109375 54.6875 \nL 18.109375 46.1875 \nQ 21.1875 51.21875 25.484375 53.609375 \nQ 29.78125 56 35.6875 56 \nQ 41.65625 56 45.828125 52.96875 \nQ 50 49.953125 52 44.1875 \nz\n\" id=\"DejaVuSans-109\"/>\n       <path d=\"M 34.28125 27.484375 \nQ 23.390625 27.484375 19.1875 25 \nQ 14.984375 22.515625 14.984375 16.5 \nQ 14.984375 11.71875 18.140625 8.90625 \nQ 21.296875 6.109375 26.703125 6.109375 \nQ 34.1875 6.109375 38.703125 11.40625 \nQ 43.21875 16.703125 43.21875 25.484375 \nL 43.21875 27.484375 \nz\nM 52.203125 31.203125 \nL 52.203125 0 \nL 43.21875 0 \nL 43.21875 8.296875 \nQ 40.140625 3.328125 35.546875 0.953125 \nQ 30.953125 -1.421875 24.3125 -1.421875 \nQ 15.921875 -1.421875 10.953125 3.296875 \nQ 6 8.015625 6 15.921875 \nQ 6 25.140625 12.171875 29.828125 \nQ 18.359375 34.515625 30.609375 34.515625 \nL 43.21875 34.515625 \nL 43.21875 35.40625 \nQ 43.21875 41.609375 39.140625 45 \nQ 35.0625 48.390625 27.6875 48.390625 \nQ 23 48.390625 18.546875 47.265625 \nQ 14.109375 46.140625 10.015625 43.890625 \nL 10.015625 52.203125 \nQ 14.9375 54.109375 19.578125 55.046875 \nQ 24.21875 56 28.609375 56 \nQ 40.484375 56 46.34375 49.84375 \nQ 52.203125 43.703125 52.203125 31.203125 \nz\n\" id=\"DejaVuSans-97\"/>\n       <path d=\"M 18.3125 70.21875 \nL 18.3125 54.6875 \nL 36.8125 54.6875 \nL 36.8125 47.703125 \nL 18.3125 47.703125 \nL 18.3125 18.015625 \nQ 18.3125 11.328125 20.140625 9.421875 \nQ 21.96875 7.515625 27.59375 7.515625 \nL 36.8125 7.515625 \nL 36.8125 0 \nL 27.59375 0 \nQ 17.1875 0 13.234375 3.875 \nQ 9.28125 7.765625 9.28125 18.015625 \nL 9.28125 47.703125 \nL 2.6875 47.703125 \nL 2.6875 54.6875 \nL 9.28125 54.6875 \nL 9.28125 70.21875 \nz\n\" id=\"DejaVuSans-116\"/>\n       <path d=\"M 9.078125 75.984375 \nL 18.109375 75.984375 \nL 18.109375 31.109375 \nL 44.921875 54.6875 \nL 56.390625 54.6875 \nL 27.390625 29.109375 \nL 57.625 0 \nL 45.90625 0 \nL 18.109375 26.703125 \nL 18.109375 0 \nL 9.078125 0 \nz\n\" id=\"DejaVuSans-107\"/>\n      </defs>\n      <g transform=\"translate(10.451562 210.319219)scale(0.1 -0.1)\">\n       <use xlink:href=\"#DejaVuSans-105\"/>\n       <use x=\"27.783203\" xlink:href=\"#DejaVuSans-110\"/>\n       <use x=\"91.162109\" xlink:href=\"#DejaVuSans-102\"/>\n       <use x=\"126.367188\" xlink:href=\"#DejaVuSans-111\"/>\n       <use x=\"187.548828\" xlink:href=\"#DejaVuSans-114\"/>\n       <use x=\"226.912109\" xlink:href=\"#DejaVuSans-109\"/>\n       <use x=\"324.324219\" xlink:href=\"#DejaVuSans-97\"/>\n       <use x=\"385.603516\" xlink:href=\"#DejaVuSans-116\"/>\n       <use x=\"424.8125\" xlink:href=\"#DejaVuSans-105\"/>\n       <use x=\"452.595703\" xlink:href=\"#DejaVuSans-107\"/>\n       <use x=\"508.755859\" xlink:href=\"#DejaVuSans-97\"/>\n      </g>\n     </g>\n    </g>\n    <g id=\"ytick_2\">\n     <g id=\"line2d_9\">\n      <g>\n       <use style=\"stroke:#000000;stroke-width:0.8;\" x=\"74.453125\" xlink:href=\"#mcadfe29d3c\" y=\"170.28\"/>\n      </g>\n     </g>\n     <g id=\"text_9\">\n      <!-- mesin -->\n      <defs>\n       <path d=\"M 56.203125 29.59375 \nL 56.203125 25.203125 \nL 14.890625 25.203125 \nQ 15.484375 15.921875 20.484375 11.0625 \nQ 25.484375 6.203125 34.421875 6.203125 \nQ 39.59375 6.203125 44.453125 7.46875 \nQ 49.3125 8.734375 54.109375 11.28125 \nL 54.109375 2.78125 \nQ 49.265625 0.734375 44.1875 -0.34375 \nQ 39.109375 -1.421875 33.890625 -1.421875 \nQ 20.796875 -1.421875 13.15625 6.1875 \nQ 5.515625 13.8125 5.515625 26.8125 \nQ 5.515625 40.234375 12.765625 48.109375 \nQ 20.015625 56 32.328125 56 \nQ 43.359375 56 49.78125 48.890625 \nQ 56.203125 41.796875 56.203125 29.59375 \nz\nM 47.21875 32.234375 \nQ 47.125 39.59375 43.09375 43.984375 \nQ 39.0625 48.390625 32.421875 48.390625 \nQ 24.90625 48.390625 20.390625 44.140625 \nQ 15.875 39.890625 15.1875 32.171875 \nz\n\" id=\"DejaVuSans-101\"/>\n       <path d=\"M 44.28125 53.078125 \nL 44.28125 44.578125 \nQ 40.484375 46.53125 36.375 47.5 \nQ 32.28125 48.484375 27.875 48.484375 \nQ 21.1875 48.484375 17.84375 46.4375 \nQ 14.5 44.390625 14.5 40.28125 \nQ 14.5 37.15625 16.890625 35.375 \nQ 19.28125 33.59375 26.515625 31.984375 \nL 29.59375 31.296875 \nQ 39.15625 29.25 43.1875 25.515625 \nQ 47.21875 21.78125 47.21875 15.09375 \nQ 47.21875 7.46875 41.1875 3.015625 \nQ 35.15625 -1.421875 24.609375 -1.421875 \nQ 20.21875 -1.421875 15.453125 -0.5625 \nQ 10.6875 0.296875 5.421875 2 \nL 5.421875 11.28125 \nQ 10.40625 8.6875 15.234375 7.390625 \nQ 20.0625 6.109375 24.8125 6.109375 \nQ 31.15625 6.109375 34.5625 8.28125 \nQ 37.984375 10.453125 37.984375 14.40625 \nQ 37.984375 18.0625 35.515625 20.015625 \nQ 33.0625 21.96875 24.703125 23.78125 \nL 21.578125 24.515625 \nQ 13.234375 26.265625 9.515625 29.90625 \nQ 5.8125 33.546875 5.8125 39.890625 \nQ 5.8125 47.609375 11.28125 51.796875 \nQ 16.75 56 26.8125 56 \nQ 31.78125 56 36.171875 55.265625 \nQ 40.578125 54.546875 44.28125 53.078125 \nz\n\" id=\"DejaVuSans-115\"/>\n      </defs>\n      <g transform=\"translate(37.234375 174.079219)scale(0.1 -0.1)\">\n       <use xlink:href=\"#DejaVuSans-109\"/>\n       <use x=\"97.412109\" xlink:href=\"#DejaVuSans-101\"/>\n       <use x=\"158.935547\" xlink:href=\"#DejaVuSans-115\"/>\n       <use x=\"211.035156\" xlink:href=\"#DejaVuSans-105\"/>\n       <use x=\"238.818359\" xlink:href=\"#DejaVuSans-110\"/>\n      </g>\n     </g>\n    </g>\n    <g id=\"ytick_3\">\n     <g id=\"line2d_10\">\n      <g>\n       <use style=\"stroke:#000000;stroke-width:0.8;\" x=\"74.453125\" xlink:href=\"#mcadfe29d3c\" y=\"134.04\"/>\n      </g>\n     </g>\n     <g id=\"text_10\">\n      <!-- geologi -->\n      <defs>\n       <path d=\"M 45.40625 27.984375 \nQ 45.40625 37.75 41.375 43.109375 \nQ 37.359375 48.484375 30.078125 48.484375 \nQ 22.859375 48.484375 18.828125 43.109375 \nQ 14.796875 37.75 14.796875 27.984375 \nQ 14.796875 18.265625 18.828125 12.890625 \nQ 22.859375 7.515625 30.078125 7.515625 \nQ 37.359375 7.515625 41.375 12.890625 \nQ 45.40625 18.265625 45.40625 27.984375 \nz\nM 54.390625 6.78125 \nQ 54.390625 -7.171875 48.1875 -13.984375 \nQ 42 -20.796875 29.203125 -20.796875 \nQ 24.46875 -20.796875 20.265625 -20.09375 \nQ 16.0625 -19.390625 12.109375 -17.921875 \nL 12.109375 -9.1875 \nQ 16.0625 -11.328125 19.921875 -12.34375 \nQ 23.78125 -13.375 27.78125 -13.375 \nQ 36.625 -13.375 41.015625 -8.765625 \nQ 45.40625 -4.15625 45.40625 5.171875 \nL 45.40625 9.625 \nQ 42.625 4.78125 38.28125 2.390625 \nQ 33.9375 0 27.875 0 \nQ 17.828125 0 11.671875 7.65625 \nQ 5.515625 15.328125 5.515625 27.984375 \nQ 5.515625 40.671875 11.671875 48.328125 \nQ 17.828125 56 27.875 56 \nQ 33.9375 56 38.28125 53.609375 \nQ 42.625 51.21875 45.40625 46.390625 \nL 45.40625 54.6875 \nL 54.390625 54.6875 \nz\n\" id=\"DejaVuSans-103\"/>\n       <path d=\"M 9.421875 75.984375 \nL 18.40625 75.984375 \nL 18.40625 0 \nL 9.421875 0 \nz\n\" id=\"DejaVuSans-108\"/>\n      </defs>\n      <g transform=\"translate(30.809375 137.839219)scale(0.1 -0.1)\">\n       <use xlink:href=\"#DejaVuSans-103\"/>\n       <use x=\"63.476562\" xlink:href=\"#DejaVuSans-101\"/>\n       <use x=\"125\" xlink:href=\"#DejaVuSans-111\"/>\n       <use x=\"186.181641\" xlink:href=\"#DejaVuSans-108\"/>\n       <use x=\"213.964844\" xlink:href=\"#DejaVuSans-111\"/>\n       <use x=\"275.146484\" xlink:href=\"#DejaVuSans-103\"/>\n       <use x=\"338.623047\" xlink:href=\"#DejaVuSans-105\"/>\n      </g>\n     </g>\n    </g>\n    <g id=\"ytick_4\">\n     <g id=\"line2d_11\">\n      <g>\n       <use style=\"stroke:#000000;stroke-width:0.8;\" x=\"74.453125\" xlink:href=\"#mcadfe29d3c\" y=\"97.8\"/>\n      </g>\n     </g>\n     <g id=\"text_11\">\n      <!-- kimia -->\n      <g transform=\"translate(40.2375 101.599219)scale(0.1 -0.1)\">\n       <use xlink:href=\"#DejaVuSans-107\"/>\n       <use x=\"57.910156\" xlink:href=\"#DejaVuSans-105\"/>\n       <use x=\"85.693359\" xlink:href=\"#DejaVuSans-109\"/>\n       <use x=\"183.105469\" xlink:href=\"#DejaVuSans-105\"/>\n       <use x=\"210.888672\" xlink:href=\"#DejaVuSans-97\"/>\n      </g>\n     </g>\n    </g>\n    <g id=\"ytick_5\">\n     <g id=\"line2d_12\">\n      <g>\n       <use style=\"stroke:#000000;stroke-width:0.8;\" x=\"74.453125\" xlink:href=\"#mcadfe29d3c\" y=\"61.56\"/>\n      </g>\n     </g>\n     <g id=\"text_12\">\n      <!-- matematika -->\n      <g transform=\"translate(7.2 65.359219)scale(0.1 -0.1)\">\n       <use xlink:href=\"#DejaVuSans-109\"/>\n       <use x=\"97.412109\" xlink:href=\"#DejaVuSans-97\"/>\n       <use x=\"158.691406\" xlink:href=\"#DejaVuSans-116\"/>\n       <use x=\"197.900391\" xlink:href=\"#DejaVuSans-101\"/>\n       <use x=\"259.423828\" xlink:href=\"#DejaVuSans-109\"/>\n       <use x=\"356.835938\" xlink:href=\"#DejaVuSans-97\"/>\n       <use x=\"418.115234\" xlink:href=\"#DejaVuSans-116\"/>\n       <use x=\"457.324219\" xlink:href=\"#DejaVuSans-105\"/>\n       <use x=\"485.107422\" xlink:href=\"#DejaVuSans-107\"/>\n       <use x=\"541.267578\" xlink:href=\"#DejaVuSans-97\"/>\n      </g>\n     </g>\n    </g>\n    <g id=\"ytick_6\">\n     <g id=\"line2d_13\">\n      <g>\n       <use style=\"stroke:#000000;stroke-width:0.8;\" x=\"74.453125\" xlink:href=\"#mcadfe29d3c\" y=\"25.32\"/>\n      </g>\n     </g>\n     <g id=\"text_13\">\n      <!-- statistika -->\n      <g transform=\"translate(21.845312 29.119219)scale(0.1 -0.1)\">\n       <use xlink:href=\"#DejaVuSans-115\"/>\n       <use x=\"52.099609\" xlink:href=\"#DejaVuSans-116\"/>\n       <use x=\"91.308594\" xlink:href=\"#DejaVuSans-97\"/>\n       <use x=\"152.587891\" xlink:href=\"#DejaVuSans-116\"/>\n       <use x=\"191.796875\" xlink:href=\"#DejaVuSans-105\"/>\n       <use x=\"219.580078\" xlink:href=\"#DejaVuSans-115\"/>\n       <use x=\"271.679688\" xlink:href=\"#DejaVuSans-116\"/>\n       <use x=\"310.888672\" xlink:href=\"#DejaVuSans-105\"/>\n       <use x=\"338.671875\" xlink:href=\"#DejaVuSans-107\"/>\n       <use x=\"394.832031\" xlink:href=\"#DejaVuSans-97\"/>\n      </g>\n     </g>\n    </g>\n   </g>\n   <g id=\"patch_9\">\n    <path d=\"M 74.453125 224.64 \nL 74.453125 7.2 \n\" style=\"fill:none;stroke:#000000;stroke-linecap:square;stroke-linejoin:miter;stroke-width:0.8;\"/>\n   </g>\n   <g id=\"patch_10\">\n    <path d=\"M 409.253125 224.64 \nL 409.253125 7.2 \n\" style=\"fill:none;stroke:#000000;stroke-linecap:square;stroke-linejoin:miter;stroke-width:0.8;\"/>\n   </g>\n   <g id=\"patch_11\">\n    <path d=\"M 74.453125 224.64 \nL 409.253125 224.64 \n\" style=\"fill:none;stroke:#000000;stroke-linecap:square;stroke-linejoin:miter;stroke-width:0.8;\"/>\n   </g>\n   <g id=\"patch_12\">\n    <path d=\"M 74.453125 7.2 \nL 409.253125 7.2 \n\" style=\"fill:none;stroke:#000000;stroke-linecap:square;stroke-linejoin:miter;stroke-width:0.8;\"/>\n   </g>\n  </g>\n </g>\n <defs>\n  <clipPath id=\"p2a8ab2fa2e\">\n   <rect height=\"217.44\" width=\"334.8\" x=\"74.453125\" y=\"7.2\"/>\n  </clipPath>\n </defs>\n</svg>\n",
      "image/png": "[encoded data removed]"
     },
     "metadata": {
      "needs_background": "light"
     }
    }
   ],
   "source": [
    "data_mahasiswa_baru['Nama Jurusan'].value_counts().plot(kind='barh')"
   ]
  },
  {
   "cell_type": "code",
   "execution_count": null,
   "metadata": {},
   "outputs": [],
   "source": []
  }
 ]
}