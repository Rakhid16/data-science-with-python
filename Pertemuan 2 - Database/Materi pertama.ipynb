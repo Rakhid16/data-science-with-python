{
 "cells": [
  {
   "cell_type": "markdown",
   "metadata": {},
   "source": [
    "## <i>Import libraries</i>"
   ]
  },
  {
   "cell_type": "code",
   "execution_count": 1,
   "metadata": {},
   "outputs": [],
   "source": [
    "import pandas as pd\n",
    "import mysql.connector as mysql"
   ]
  },
  {
   "cell_type": "markdown",
   "metadata": {},
   "source": [
    "## Sambungkan ke MySQL"
   ]
  },
  {
   "cell_type": "code",
   "execution_count": 2,
   "metadata": {},
   "outputs": [],
   "source": [
    "koneksi = mysql.connect(host = \"localhost\",\n",
    "                        database = \"kampus\",\n",
    "                        user = \"root\",\n",
    "                        password = \"Rakhid@16\")"
   ]
  },
  {
   "cell_type": "markdown",
   "metadata": {},
   "source": [
    "## Ambil tabel jurusan"
   ]
  },
  {
   "cell_type": "code",
   "execution_count": 3,
   "metadata": {
    "scrolled": true
   },
   "outputs": [
    {
     "data": {
      "text/plain": [
       "[(1, 'informatika'),\n",
       " (2, 'mesin'),\n",
       " (3, 'kimia'),\n",
       " (4, 'statistika'),\n",
       " (5, 'matematika'),\n",
       " (6, 'geologi')]"
      ]
     },
     "execution_count": 3,
     "metadata": {},
     "output_type": "execute_result"
    }
   ],
   "source": [
    "cursor = koneksi.cursor()\n",
    "\n",
    "# yang di eksekusi adalah query sql'nya\n",
    "cursor.execute(\"SELECT * FROM jurusan\")\n",
    "\n",
    "tabel_jurusan = cursor.fetchall()\n",
    "tabel_jurusan"
   ]
  },
  {
   "cell_type": "markdown",
   "metadata": {},
   "source": [
    "## Ubah ke dalam DataFrame"
   ]
  },
  {
   "cell_type": "code",
   "execution_count": 6,
   "metadata": {},
   "outputs": [
    {
     "data": {
      "text/html": [
       "<div>\n",
       "<style scoped>\n",
       "    .dataframe tbody tr th:only-of-type {\n",
       "        vertical-align: middle;\n",
       "    }\n",
       "\n",
       "    .dataframe tbody tr th {\n",
       "        vertical-align: top;\n",
       "    }\n",
       "\n",
       "    .dataframe thead th {\n",
       "        text-align: right;\n",
       "    }\n",
       "</style>\n",
       "<table border=\"1\" class=\"dataframe\">\n",
       "  <thead>\n",
       "    <tr style=\"text-align: right;\">\n",
       "      <th></th>\n",
       "      <th>Nama Jurusan</th>\n",
       "    </tr>\n",
       "    <tr>\n",
       "      <th>ID</th>\n",
       "      <th></th>\n",
       "    </tr>\n",
       "  </thead>\n",
       "  <tbody>\n",
       "    <tr>\n",
       "      <th>1</th>\n",
       "      <td>informatika</td>\n",
       "    </tr>\n",
       "    <tr>\n",
       "      <th>2</th>\n",
       "      <td>mesin</td>\n",
       "    </tr>\n",
       "    <tr>\n",
       "      <th>3</th>\n",
       "      <td>kimia</td>\n",
       "    </tr>\n",
       "    <tr>\n",
       "      <th>4</th>\n",
       "      <td>statistika</td>\n",
       "    </tr>\n",
       "    <tr>\n",
       "      <th>5</th>\n",
       "      <td>matematika</td>\n",
       "    </tr>\n",
       "    <tr>\n",
       "      <th>6</th>\n",
       "      <td>geologi</td>\n",
       "    </tr>\n",
       "  </tbody>\n",
       "</table>\n",
       "</div>"
      ],
      "text/plain": [
       "   Nama Jurusan\n",
       "ID             \n",
       "1   informatika\n",
       "2         mesin\n",
       "3         kimia\n",
       "4    statistika\n",
       "5    matematika\n",
       "6       geologi"
      ]
     },
     "execution_count": 6,
     "metadata": {},
     "output_type": "execute_result"
    }
   ],
   "source": [
    "data_jurusan  = pd.DataFrame(columns = [\"ID\", \"Nama Jurusan\"],\n",
    "                            data = tabel_jurusan)\n",
    "\n",
    "# Ubah kolom indeks\n",
    "data_jurusan = data_jurusan.set_index('ID')\n",
    "data_jurusan"
   ]
  },
  {
   "cell_type": "code",
   "execution_count": 9,
   "metadata": {
    "scrolled": true
   },
   "outputs": [
    {
     "data": {
      "text/html": [
       "<div>\n",
       "<style scoped>\n",
       "    .dataframe tbody tr th:only-of-type {\n",
       "        vertical-align: middle;\n",
       "    }\n",
       "\n",
       "    .dataframe tbody tr th {\n",
       "        vertical-align: top;\n",
       "    }\n",
       "\n",
       "    .dataframe thead th {\n",
       "        text-align: right;\n",
       "    }\n",
       "</style>\n",
       "<table border=\"1\" class=\"dataframe\">\n",
       "  <thead>\n",
       "    <tr style=\"text-align: right;\">\n",
       "      <th></th>\n",
       "      <th>Nama Jurusan</th>\n",
       "    </tr>\n",
       "    <tr>\n",
       "      <th>ID</th>\n",
       "      <th></th>\n",
       "    </tr>\n",
       "  </thead>\n",
       "  <tbody>\n",
       "    <tr>\n",
       "      <th>1</th>\n",
       "      <td>Informatika</td>\n",
       "    </tr>\n",
       "    <tr>\n",
       "      <th>2</th>\n",
       "      <td>Mesin</td>\n",
       "    </tr>\n",
       "    <tr>\n",
       "      <th>3</th>\n",
       "      <td>Kimia</td>\n",
       "    </tr>\n",
       "    <tr>\n",
       "      <th>4</th>\n",
       "      <td>Statistika</td>\n",
       "    </tr>\n",
       "    <tr>\n",
       "      <th>5</th>\n",
       "      <td>Matematika</td>\n",
       "    </tr>\n",
       "    <tr>\n",
       "      <th>6</th>\n",
       "      <td>Geologi</td>\n",
       "    </tr>\n",
       "  </tbody>\n",
       "</table>\n",
       "</div>"
      ],
      "text/plain": [
       "   Nama Jurusan\n",
       "ID             \n",
       "1   Informatika\n",
       "2         Mesin\n",
       "3         Kimia\n",
       "4    Statistika\n",
       "5    Matematika\n",
       "6       Geologi"
      ]
     },
     "execution_count": 9,
     "metadata": {},
     "output_type": "execute_result"
    }
   ],
   "source": [
    "data_jurusan['Nama Jurusan'] = data_jurusan['Nama Jurusan'].str.capitalize()\n",
    "data_jurusan"
   ]
  },
  {
   "cell_type": "markdown",
   "metadata": {},
   "source": [
    "## Lihat data tabel mahasiswa"
   ]
  },
  {
   "cell_type": "code",
   "execution_count": 10,
   "metadata": {},
   "outputs": [
    {
     "data": {
      "text/plain": [
       "[(1, 1, 'tommy', ' 10 maret 2000', 5165432, 'madura'),\n",
       " (2, 1, 'wahid', '20 mei 2000', 216543, 'sidoarjo'),\n",
       " (3, 1, 'ali kharozim', '03 januari 2000', 16543, 'pacitan'),\n",
       " (4, 2, 'hanif', '10 agustus 2000', 16546, 'boyolali'),\n",
       " (5, 3, 'yudha', '09 november 2000', 216546, 'magetan'),\n",
       " (6, 4, 'zain', '25 desember 2000', 16546, 'surabaya'),\n",
       " (7, 5, 'aji', '06 oktober 2000', 16546, 'gresik'),\n",
       " (8, 6, 'sumiati', '17 februari 2000', 16546, 'klaten'),\n",
       " (9, 1, 'romi', '18 april 2000', 16546, 'magelang'),\n",
       " (10, 2, 'ridho', '19 mei 2000', 56164, 'bangkalan'),\n",
       " (11, 6, 'fincent', '26 februari 2001', 21654, 'arosbaya'),\n",
       " (12, 1, 'darul', '17 september 2001', 21563, 'blega'),\n",
       " (13, 3, 'ulum', '14 februari 1999', 2654, 'kamal'),\n",
       " (14, 5, 'simbah', '19 april 2000', 16464, 'jakarta'),\n",
       " (15, 3, 'logitech', '12 desember 2012', 16544, 'surabaya'),\n",
       " (16, 2, 'mastekno', '31 desember 2012', 15654, 'jogja'),\n",
       " (17, 4, 'lentik', '29 oktober 2000', 215664, 'surakarta'),\n",
       " (18, 5, 'math heri', '18 juni 2000', 5562, 'surakarta'),\n",
       " (19, 1, 'august', '17 agustus 2000 ', 21654, 'surabaya'),\n",
       " (20, 6, 'gempur sari', '18 juli 2000', 15642, 'tegal')]"
      ]
     },
     "execution_count": 10,
     "metadata": {},
     "output_type": "execute_result"
    }
   ],
   "source": [
    "# yang di eksekusi adalah query sql'nya\n",
    "cursor.execute(\"SELECT * FROM mahasiswa\")\n",
    "\n",
    "tabel_mahasiswa = cursor.fetchall()\n",
    "tabel_mahasiswa"
   ]
  },
  {
   "cell_type": "code",
   "execution_count": 16,
   "metadata": {},
   "outputs": [
    {
     "data": {
      "text/plain": [
       "'tommy'"
      ]
     },
     "execution_count": 16,
     "metadata": {},
     "output_type": "execute_result"
    }
   ],
   "source": [
    "tabel_mahasiswa[0][2]"
   ]
  },
  {
   "cell_type": "markdown",
   "metadata": {},
   "source": [
    "## Ubah ke dalam DataFrame"
   ]
  },
  {
   "cell_type": "code",
   "execution_count": 17,
   "metadata": {},
   "outputs": [
    {
     "data": {
      "text/html": [
       "<div>\n",
       "<style scoped>\n",
       "    .dataframe tbody tr th:only-of-type {\n",
       "        vertical-align: middle;\n",
       "    }\n",
       "\n",
       "    .dataframe tbody tr th {\n",
       "        vertical-align: top;\n",
       "    }\n",
       "\n",
       "    .dataframe thead th {\n",
       "        text-align: right;\n",
       "    }\n",
       "</style>\n",
       "<table border=\"1\" class=\"dataframe\">\n",
       "  <thead>\n",
       "    <tr style=\"text-align: right;\">\n",
       "      <th></th>\n",
       "      <th>ID Jurusan</th>\n",
       "      <th>Nama</th>\n",
       "      <th>Tanggal lahir</th>\n",
       "      <th>No Tel</th>\n",
       "      <th>alamat</th>\n",
       "    </tr>\n",
       "    <tr>\n",
       "      <th>ID MHS</th>\n",
       "      <th></th>\n",
       "      <th></th>\n",
       "      <th></th>\n",
       "      <th></th>\n",
       "      <th></th>\n",
       "    </tr>\n",
       "  </thead>\n",
       "  <tbody>\n",
       "    <tr>\n",
       "      <th>1</th>\n",
       "      <td>1</td>\n",
       "      <td>tommy</td>\n",
       "      <td>10 maret 2000</td>\n",
       "      <td>5165432</td>\n",
       "      <td>madura</td>\n",
       "    </tr>\n",
       "    <tr>\n",
       "      <th>2</th>\n",
       "      <td>1</td>\n",
       "      <td>wahid</td>\n",
       "      <td>20 mei 2000</td>\n",
       "      <td>216543</td>\n",
       "      <td>sidoarjo</td>\n",
       "    </tr>\n",
       "    <tr>\n",
       "      <th>3</th>\n",
       "      <td>1</td>\n",
       "      <td>ali kharozim</td>\n",
       "      <td>03 januari 2000</td>\n",
       "      <td>16543</td>\n",
       "      <td>pacitan</td>\n",
       "    </tr>\n",
       "    <tr>\n",
       "      <th>4</th>\n",
       "      <td>2</td>\n",
       "      <td>hanif</td>\n",
       "      <td>10 agustus 2000</td>\n",
       "      <td>16546</td>\n",
       "      <td>boyolali</td>\n",
       "    </tr>\n",
       "    <tr>\n",
       "      <th>5</th>\n",
       "      <td>3</td>\n",
       "      <td>yudha</td>\n",
       "      <td>09 november 2000</td>\n",
       "      <td>216546</td>\n",
       "      <td>magetan</td>\n",
       "    </tr>\n",
       "    <tr>\n",
       "      <th>6</th>\n",
       "      <td>4</td>\n",
       "      <td>zain</td>\n",
       "      <td>25 desember 2000</td>\n",
       "      <td>16546</td>\n",
       "      <td>surabaya</td>\n",
       "    </tr>\n",
       "    <tr>\n",
       "      <th>7</th>\n",
       "      <td>5</td>\n",
       "      <td>aji</td>\n",
       "      <td>06 oktober 2000</td>\n",
       "      <td>16546</td>\n",
       "      <td>gresik</td>\n",
       "    </tr>\n",
       "    <tr>\n",
       "      <th>8</th>\n",
       "      <td>6</td>\n",
       "      <td>sumiati</td>\n",
       "      <td>17 februari 2000</td>\n",
       "      <td>16546</td>\n",
       "      <td>klaten</td>\n",
       "    </tr>\n",
       "    <tr>\n",
       "      <th>9</th>\n",
       "      <td>1</td>\n",
       "      <td>romi</td>\n",
       "      <td>18 april 2000</td>\n",
       "      <td>16546</td>\n",
       "      <td>magelang</td>\n",
       "    </tr>\n",
       "    <tr>\n",
       "      <th>10</th>\n",
       "      <td>2</td>\n",
       "      <td>ridho</td>\n",
       "      <td>19 mei 2000</td>\n",
       "      <td>56164</td>\n",
       "      <td>bangkalan</td>\n",
       "    </tr>\n",
       "    <tr>\n",
       "      <th>11</th>\n",
       "      <td>6</td>\n",
       "      <td>fincent</td>\n",
       "      <td>26 februari 2001</td>\n",
       "      <td>21654</td>\n",
       "      <td>arosbaya</td>\n",
       "    </tr>\n",
       "    <tr>\n",
       "      <th>12</th>\n",
       "      <td>1</td>\n",
       "      <td>darul</td>\n",
       "      <td>17 september 2001</td>\n",
       "      <td>21563</td>\n",
       "      <td>blega</td>\n",
       "    </tr>\n",
       "    <tr>\n",
       "      <th>13</th>\n",
       "      <td>3</td>\n",
       "      <td>ulum</td>\n",
       "      <td>14 februari 1999</td>\n",
       "      <td>2654</td>\n",
       "      <td>kamal</td>\n",
       "    </tr>\n",
       "    <tr>\n",
       "      <th>14</th>\n",
       "      <td>5</td>\n",
       "      <td>simbah</td>\n",
       "      <td>19 april 2000</td>\n",
       "      <td>16464</td>\n",
       "      <td>jakarta</td>\n",
       "    </tr>\n",
       "    <tr>\n",
       "      <th>15</th>\n",
       "      <td>3</td>\n",
       "      <td>logitech</td>\n",
       "      <td>12 desember 2012</td>\n",
       "      <td>16544</td>\n",
       "      <td>surabaya</td>\n",
       "    </tr>\n",
       "    <tr>\n",
       "      <th>16</th>\n",
       "      <td>2</td>\n",
       "      <td>mastekno</td>\n",
       "      <td>31 desember 2012</td>\n",
       "      <td>15654</td>\n",
       "      <td>jogja</td>\n",
       "    </tr>\n",
       "    <tr>\n",
       "      <th>17</th>\n",
       "      <td>4</td>\n",
       "      <td>lentik</td>\n",
       "      <td>29 oktober 2000</td>\n",
       "      <td>215664</td>\n",
       "      <td>surakarta</td>\n",
       "    </tr>\n",
       "    <tr>\n",
       "      <th>18</th>\n",
       "      <td>5</td>\n",
       "      <td>math heri</td>\n",
       "      <td>18 juni 2000</td>\n",
       "      <td>5562</td>\n",
       "      <td>surakarta</td>\n",
       "    </tr>\n",
       "    <tr>\n",
       "      <th>19</th>\n",
       "      <td>1</td>\n",
       "      <td>august</td>\n",
       "      <td>17 agustus 2000</td>\n",
       "      <td>21654</td>\n",
       "      <td>surabaya</td>\n",
       "    </tr>\n",
       "    <tr>\n",
       "      <th>20</th>\n",
       "      <td>6</td>\n",
       "      <td>gempur sari</td>\n",
       "      <td>18 juli 2000</td>\n",
       "      <td>15642</td>\n",
       "      <td>tegal</td>\n",
       "    </tr>\n",
       "  </tbody>\n",
       "</table>\n",
       "</div>"
      ],
      "text/plain": [
       "        ID Jurusan          Nama      Tanggal lahir   No Tel     alamat\n",
       "ID MHS                                                                 \n",
       "1                1         tommy      10 maret 2000  5165432     madura\n",
       "2                1         wahid        20 mei 2000   216543   sidoarjo\n",
       "3                1  ali kharozim    03 januari 2000    16543    pacitan\n",
       "4                2         hanif    10 agustus 2000    16546   boyolali\n",
       "5                3         yudha   09 november 2000   216546    magetan\n",
       "6                4          zain   25 desember 2000    16546   surabaya\n",
       "7                5           aji    06 oktober 2000    16546     gresik\n",
       "8                6       sumiati   17 februari 2000    16546     klaten\n",
       "9                1          romi      18 april 2000    16546   magelang\n",
       "10               2         ridho        19 mei 2000    56164  bangkalan\n",
       "11               6       fincent   26 februari 2001    21654   arosbaya\n",
       "12               1         darul  17 september 2001    21563      blega\n",
       "13               3          ulum   14 februari 1999     2654      kamal\n",
       "14               5        simbah      19 april 2000    16464    jakarta\n",
       "15               3      logitech   12 desember 2012    16544   surabaya\n",
       "16               2      mastekno   31 desember 2012    15654      jogja\n",
       "17               4        lentik    29 oktober 2000   215664  surakarta\n",
       "18               5     math heri       18 juni 2000     5562  surakarta\n",
       "19               1        august   17 agustus 2000     21654   surabaya\n",
       "20               6   gempur sari       18 juli 2000    15642      tegal"
      ]
     },
     "execution_count": 17,
     "metadata": {},
     "output_type": "execute_result"
    }
   ],
   "source": [
    "data_mahasiswa  = pd.DataFrame(columns = [\"ID MHS\",\n",
    "                                          \"ID Jurusan\",\n",
    "                                          \"Nama\",\n",
    "                                          \"Tanggal lahir\",\n",
    "                                          \"No Tel\",\n",
    "                                          \"alamat\"],\n",
    "                               data = tabel_mahasiswa)\n",
    "\n",
    "# Ubah kolom indeks\n",
    "data_mahasiswa = data_mahasiswa.set_index('ID MHS')\n",
    "data_mahasiswa"
   ]
  },
  {
   "cell_type": "code",
   "execution_count": 22,
   "metadata": {
    "scrolled": true
   },
   "outputs": [
    {
     "data": {
      "text/plain": [
       "<matplotlib.axes._subplots.AxesSubplot at 0x7eff3b313640>"
      ]
     },
     "execution_count": 22,
     "metadata": {},
     "output_type": "execute_result"
    },
    {
     "data": {
      "image/png": "[encoded data removed]",
      "text/plain": [
       "<Figure size 432x288 with 1 Axes>"
      ]
     },
     "metadata": {},
     "output_type": "display_data"
    }
   ],
   "source": [
    "data_mahasiswa['ID Jurusan'].value_counts().plot(kind='pie')"
   ]
  },
  {
   "cell_type": "markdown",
   "metadata": {},
   "source": [
    "## Buat <i>TABLE</i> baru"
   ]
  },
  {
   "cell_type": "code",
   "execution_count": 23,
   "metadata": {},
   "outputs": [],
   "source": [
    "cursor.execute(\"CREATE TABLE mhs_baru \"+\n",
    "              \"(id_mhs_baru INT(11) NOT NULL, \"+\n",
    "              \"nama_jurusan VARCHAR(30) NOT NULL, \"\n",
    "              \"nama_mhs VARCHAR(50) NOT NULL, \" +\n",
    "              \"tanggal_lahir VARCHAR(30) NOT NULL)\")"
   ]
  },
  {
   "cell_type": "markdown",
   "metadata": {},
   "source": [
    "## JOIN TABLE"
   ]
  },
  {
   "cell_type": "code",
   "execution_count": 26,
   "metadata": {},
   "outputs": [
    {
     "data": {
      "text/plain": [
       "[(1, 'informatika', 'tommy', ' 10 maret 2000'),\n",
       " (2, 'informatika', 'wahid', '20 mei 2000'),\n",
       " (3, 'informatika', 'ali kharozim', '03 januari 2000'),\n",
       " (4, 'mesin', 'hanif', '10 agustus 2000'),\n",
       " (5, 'kimia', 'yudha', '09 november 2000'),\n",
       " (6, 'statistika', 'zain', '25 desember 2000'),\n",
       " (7, 'matematika', 'aji', '06 oktober 2000'),\n",
       " (8, 'geologi', 'sumiati', '17 februari 2000'),\n",
       " (9, 'informatika', 'romi', '18 april 2000'),\n",
       " (10, 'mesin', 'ridho', '19 mei 2000'),\n",
       " (11, 'geologi', 'fincent', '26 februari 2001'),\n",
       " (12, 'informatika', 'darul', '17 september 2001'),\n",
       " (13, 'kimia', 'ulum', '14 februari 1999'),\n",
       " (14, 'matematika', 'simbah', '19 april 2000'),\n",
       " (15, 'kimia', 'logitech', '12 desember 2012'),\n",
       " (16, 'mesin', 'mastekno', '31 desember 2012'),\n",
       " (17, 'statistika', 'lentik', '29 oktober 2000'),\n",
       " (18, 'matematika', 'math heri', '18 juni 2000'),\n",
       " (19, 'informatika', 'august', '17 agustus 2000 '),\n",
       " (20, 'geologi', 'gempur sari', '18 juli 2000')]"
      ]
     },
     "execution_count": 26,
     "metadata": {},
     "output_type": "execute_result"
    }
   ],
   "source": [
    "cursor.execute(\"SELECT mahasiswa.id_mhs, jurusan.nama_jurusan, mahasiswa.nama_mhs, mahasiswa.tgl_lahir \"+\n",
    "              \"FROM mahasiswa INNER JOIN jurusan on jurusan.id_jurusan = mahasiswa.id_jurusan \"+\n",
    "              \"ORDER BY mahasiswa.id_mhs\")\n",
    "\n",
    "tabel_baru = cursor.fetchall()\n",
    "tabel_baru"
   ]
  },
  {
   "cell_type": "markdown",
   "metadata": {},
   "source": [
    "## Masukan data hasil JOIN'an ke TABLE baru"
   ]
  },
  {
   "cell_type": "code",
   "execution_count": 27,
   "metadata": {
    "scrolled": true
   },
   "outputs": [
    {
     "name": "stdout",
     "output_type": "stream",
     "text": [
      "(1, 'informatika', 'tommy', ' 10 maret 2000') Telah dimasukkan\n",
      "(2, 'informatika', 'wahid', '20 mei 2000') Telah dimasukkan\n",
      "(3, 'informatika', 'ali kharozim', '03 januari 2000') Telah dimasukkan\n",
      "(4, 'mesin', 'hanif', '10 agustus 2000') Telah dimasukkan\n",
      "(5, 'kimia', 'yudha', '09 november 2000') Telah dimasukkan\n",
      "(6, 'statistika', 'zain', '25 desember 2000') Telah dimasukkan\n",
      "(7, 'matematika', 'aji', '06 oktober 2000') Telah dimasukkan\n",
      "(8, 'geologi', 'sumiati', '17 februari 2000') Telah dimasukkan\n",
      "(9, 'informatika', 'romi', '18 april 2000') Telah dimasukkan\n",
      "(10, 'mesin', 'ridho', '19 mei 2000') Telah dimasukkan\n",
      "(11, 'geologi', 'fincent', '26 februari 2001') Telah dimasukkan\n",
      "(12, 'informatika', 'darul', '17 september 2001') Telah dimasukkan\n",
      "(13, 'kimia', 'ulum', '14 februari 1999') Telah dimasukkan\n",
      "(14, 'matematika', 'simbah', '19 april 2000') Telah dimasukkan\n",
      "(15, 'kimia', 'logitech', '12 desember 2012') Telah dimasukkan\n",
      "(16, 'mesin', 'mastekno', '31 desember 2012') Telah dimasukkan\n",
      "(17, 'statistika', 'lentik', '29 oktober 2000') Telah dimasukkan\n",
      "(18, 'matematika', 'math heri', '18 juni 2000') Telah dimasukkan\n",
      "(19, 'informatika', 'august', '17 agustus 2000 ') Telah dimasukkan\n",
      "(20, 'geologi', 'gempur sari', '18 juli 2000') Telah dimasukkan\n"
     ]
    }
   ],
   "source": [
    "for baris in tabel_baru:\n",
    "    sql_query = \"INSERT INTO mhs_baru VALUES (%s, %s, %s, %s)\"\n",
    "    cursor.execute(sql_query, baris)\n",
    "    print(baris, \"Telah dimasukkan\")\n",
    "    koneksi.commit()"
   ]
  },
  {
   "cell_type": "markdown",
   "metadata": {},
   "source": [
    "## Lihat isi TABLE baru dalam bentuk DataFrame"
   ]
  },
  {
   "cell_type": "code",
   "execution_count": 29,
   "metadata": {},
   "outputs": [
    {
     "data": {
      "text/html": [
       "<div>\n",
       "<style scoped>\n",
       "    .dataframe tbody tr th:only-of-type {\n",
       "        vertical-align: middle;\n",
       "    }\n",
       "\n",
       "    .dataframe tbody tr th {\n",
       "        vertical-align: top;\n",
       "    }\n",
       "\n",
       "    .dataframe thead th {\n",
       "        text-align: right;\n",
       "    }\n",
       "</style>\n",
       "<table border=\"1\" class=\"dataframe\">\n",
       "  <thead>\n",
       "    <tr style=\"text-align: right;\">\n",
       "      <th></th>\n",
       "      <th>Nama Jurusan</th>\n",
       "      <th>Nama</th>\n",
       "      <th>Tanggal Lahir</th>\n",
       "    </tr>\n",
       "    <tr>\n",
       "      <th>ID</th>\n",
       "      <th></th>\n",
       "      <th></th>\n",
       "      <th></th>\n",
       "    </tr>\n",
       "  </thead>\n",
       "  <tbody>\n",
       "    <tr>\n",
       "      <th>1</th>\n",
       "      <td>informatika</td>\n",
       "      <td>tommy</td>\n",
       "      <td>10 maret 2000</td>\n",
       "    </tr>\n",
       "    <tr>\n",
       "      <th>2</th>\n",
       "      <td>informatika</td>\n",
       "      <td>wahid</td>\n",
       "      <td>20 mei 2000</td>\n",
       "    </tr>\n",
       "    <tr>\n",
       "      <th>3</th>\n",
       "      <td>informatika</td>\n",
       "      <td>ali kharozim</td>\n",
       "      <td>03 januari 2000</td>\n",
       "    </tr>\n",
       "    <tr>\n",
       "      <th>4</th>\n",
       "      <td>mesin</td>\n",
       "      <td>hanif</td>\n",
       "      <td>10 agustus 2000</td>\n",
       "    </tr>\n",
       "    <tr>\n",
       "      <th>5</th>\n",
       "      <td>kimia</td>\n",
       "      <td>yudha</td>\n",
       "      <td>09 november 2000</td>\n",
       "    </tr>\n",
       "    <tr>\n",
       "      <th>6</th>\n",
       "      <td>statistika</td>\n",
       "      <td>zain</td>\n",
       "      <td>25 desember 2000</td>\n",
       "    </tr>\n",
       "    <tr>\n",
       "      <th>7</th>\n",
       "      <td>matematika</td>\n",
       "      <td>aji</td>\n",
       "      <td>06 oktober 2000</td>\n",
       "    </tr>\n",
       "    <tr>\n",
       "      <th>8</th>\n",
       "      <td>geologi</td>\n",
       "      <td>sumiati</td>\n",
       "      <td>17 februari 2000</td>\n",
       "    </tr>\n",
       "    <tr>\n",
       "      <th>9</th>\n",
       "      <td>informatika</td>\n",
       "      <td>romi</td>\n",
       "      <td>18 april 2000</td>\n",
       "    </tr>\n",
       "    <tr>\n",
       "      <th>10</th>\n",
       "      <td>mesin</td>\n",
       "      <td>ridho</td>\n",
       "      <td>19 mei 2000</td>\n",
       "    </tr>\n",
       "    <tr>\n",
       "      <th>11</th>\n",
       "      <td>geologi</td>\n",
       "      <td>fincent</td>\n",
       "      <td>26 februari 2001</td>\n",
       "    </tr>\n",
       "    <tr>\n",
       "      <th>12</th>\n",
       "      <td>informatika</td>\n",
       "      <td>darul</td>\n",
       "      <td>17 september 2001</td>\n",
       "    </tr>\n",
       "    <tr>\n",
       "      <th>13</th>\n",
       "      <td>kimia</td>\n",
       "      <td>ulum</td>\n",
       "      <td>14 februari 1999</td>\n",
       "    </tr>\n",
       "    <tr>\n",
       "      <th>14</th>\n",
       "      <td>matematika</td>\n",
       "      <td>simbah</td>\n",
       "      <td>19 april 2000</td>\n",
       "    </tr>\n",
       "    <tr>\n",
       "      <th>15</th>\n",
       "      <td>kimia</td>\n",
       "      <td>logitech</td>\n",
       "      <td>12 desember 2012</td>\n",
       "    </tr>\n",
       "    <tr>\n",
       "      <th>16</th>\n",
       "      <td>mesin</td>\n",
       "      <td>mastekno</td>\n",
       "      <td>31 desember 2012</td>\n",
       "    </tr>\n",
       "    <tr>\n",
       "      <th>17</th>\n",
       "      <td>statistika</td>\n",
       "      <td>lentik</td>\n",
       "      <td>29 oktober 2000</td>\n",
       "    </tr>\n",
       "    <tr>\n",
       "      <th>18</th>\n",
       "      <td>matematika</td>\n",
       "      <td>math heri</td>\n",
       "      <td>18 juni 2000</td>\n",
       "    </tr>\n",
       "    <tr>\n",
       "      <th>19</th>\n",
       "      <td>informatika</td>\n",
       "      <td>august</td>\n",
       "      <td>17 agustus 2000</td>\n",
       "    </tr>\n",
       "    <tr>\n",
       "      <th>20</th>\n",
       "      <td>geologi</td>\n",
       "      <td>gempur sari</td>\n",
       "      <td>18 juli 2000</td>\n",
       "    </tr>\n",
       "  </tbody>\n",
       "</table>\n",
       "</div>"
      ],
      "text/plain": [
       "   Nama Jurusan          Nama      Tanggal Lahir\n",
       "ID                                              \n",
       "1   informatika         tommy      10 maret 2000\n",
       "2   informatika         wahid        20 mei 2000\n",
       "3   informatika  ali kharozim    03 januari 2000\n",
       "4         mesin         hanif    10 agustus 2000\n",
       "5         kimia         yudha   09 november 2000\n",
       "6    statistika          zain   25 desember 2000\n",
       "7    matematika           aji    06 oktober 2000\n",
       "8       geologi       sumiati   17 februari 2000\n",
       "9   informatika          romi      18 april 2000\n",
       "10        mesin         ridho        19 mei 2000\n",
       "11      geologi       fincent   26 februari 2001\n",
       "12  informatika         darul  17 september 2001\n",
       "13        kimia          ulum   14 februari 1999\n",
       "14   matematika        simbah      19 april 2000\n",
       "15        kimia      logitech   12 desember 2012\n",
       "16        mesin      mastekno   31 desember 2012\n",
       "17   statistika        lentik    29 oktober 2000\n",
       "18   matematika     math heri       18 juni 2000\n",
       "19  informatika        august   17 agustus 2000 \n",
       "20      geologi   gempur sari       18 juli 2000"
      ]
     },
     "execution_count": 29,
     "metadata": {},
     "output_type": "execute_result"
    }
   ],
   "source": [
    "cursor.execute(\"SELECT * FROM mhs_baru\")\n",
    "\n",
    "mhs_baru = cursor.fetchall()\n",
    "\n",
    "data_mhs_baru = pd.DataFrame(columns = [\"ID\", \"Nama Jurusan\", \"Nama\", \"Tanggal Lahir\"],\n",
    "                            data = mhs_baru)\n",
    "\n",
    "data_mhs_baru = data_mhs_baru.set_index(\"ID\")\n",
    "data_mhs_baru"
   ]
  },
  {
   "cell_type": "code",
   "execution_count": 31,
   "metadata": {},
   "outputs": [
    {
     "data": {
      "text/plain": [
       "<matplotlib.axes._subplots.AxesSubplot at 0x7eff3b301e50>"
      ]
     },
     "execution_count": 31,
     "metadata": {},
     "output_type": "execute_result"
    },
    {
     "data": {
      "image/png": "[encoded data removed]",
      "text/plain": [
       "<Figure size 432x288 with 1 Axes>"
      ]
     },
     "metadata": {
      "needs_background": "light"
     },
     "output_type": "display_data"
    }
   ],
   "source": [
    "data_mhs_baru['Nama Jurusan'].value_counts().plot(kind='barh')"
   ]
  },
  {
   "cell_type": "code",
   "execution_count": null,
   "metadata": {},
   "outputs": [],
   "source": []
  }
 ],
 "metadata": {
  "kernelspec": {
   "display_name": "Python 3",
   "language": "python",
   "name": "python3"
  },
  "language_info": {
   "codemirror_mode": {
    "name": "ipython",
    "version": 3
   },
   "file_extension": ".py",
   "mimetype": "text/x-python",
   "name": "python",
   "nbconvert_exporter": "python",
   "pygments_lexer": "ipython3",
   "version": "3.8.5"
  }
 },
 "nbformat": 4,
 "nbformat_minor": 4
}
