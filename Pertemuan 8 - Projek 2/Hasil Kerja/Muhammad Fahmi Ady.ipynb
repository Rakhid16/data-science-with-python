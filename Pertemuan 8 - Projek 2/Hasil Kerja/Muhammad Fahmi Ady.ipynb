{
 "cells": [
  {
   "cell_type": "code",
   "execution_count": 61,
   "metadata": {},
   "outputs": [],
   "source": [
    "#Libraries\n",
    "import pandas as pd\n",
    "import numpy as np\n",
    "import scipy.stats as st\n",
    "import seaborn as sns\n",
    "import matplotlib.pyplot as plt\n",
    "%matplotlib inline\n",
    "\n",
    "\n",
    "from sklearn.preprocessing import StandardScaler\n",
    "from sklearn.decomposition import PCA\n",
    "from sklearn import decomposition"
   ]
  },
  {
   "cell_type": "code",
   "execution_count": 62,
   "metadata": {},
   "outputs": [
    {
     "data": {
      "text/html": [
       "<div>\n",
       "<style scoped>\n",
       "    .dataframe tbody tr th:only-of-type {\n",
       "        vertical-align: middle;\n",
       "    }\n",
       "\n",
       "    .dataframe tbody tr th {\n",
       "        vertical-align: top;\n",
       "    }\n",
       "\n",
       "    .dataframe thead th {\n",
       "        text-align: right;\n",
       "    }\n",
       "</style>\n",
       "<table border=\"1\" class=\"dataframe\">\n",
       "  <thead>\n",
       "    <tr style=\"text-align: right;\">\n",
       "      <th></th>\n",
       "      <th>date</th>\n",
       "      <th>sku_name</th>\n",
       "      <th>product_id</th>\n",
       "      <th>merchant_code</th>\n",
       "      <th>merchant_badge</th>\n",
       "      <th>product_type</th>\n",
       "      <th>merchant_city</th>\n",
       "      <th>cod</th>\n",
       "      <th>price</th>\n",
       "      <th>stock</th>\n",
       "      <th>daily_gmv</th>\n",
       "      <th>daily_sold</th>\n",
       "      <th>daily_view</th>\n",
       "      <th>rating</th>\n",
       "      <th>total_review</th>\n",
       "      <th>total_sold</th>\n",
       "    </tr>\n",
       "  </thead>\n",
       "  <tbody>\n",
       "    <tr>\n",
       "      <th>0</th>\n",
       "      <td>3/11/2020</td>\n",
       "      <td>HUAWEI NOVA 5T RAM 8GB INTERNAL 128GB</td>\n",
       "      <td>E1</td>\n",
       "      <td>1.0</td>\n",
       "      <td>PM</td>\n",
       "      <td>Huawei nova 5T</td>\n",
       "      <td>Kota Kediri</td>\n",
       "      <td>False</td>\n",
       "      <td>4500000</td>\n",
       "      <td>1</td>\n",
       "      <td>0</td>\n",
       "      <td>0</td>\n",
       "      <td>0</td>\n",
       "      <td>95</td>\n",
       "      <td>37</td>\n",
       "      <td>74</td>\n",
       "    </tr>\n",
       "    <tr>\n",
       "      <th>1</th>\n",
       "      <td>3/26/2020</td>\n",
       "      <td>Huawei Nova 5T (8GB/128GB) - Crush Green</td>\n",
       "      <td>F1</td>\n",
       "      <td>2.0</td>\n",
       "      <td>OS</td>\n",
       "      <td>Huawei nova 5T</td>\n",
       "      <td>Kota Administrasi Jakarta Utara</td>\n",
       "      <td>False</td>\n",
       "      <td>4999000</td>\n",
       "      <td>5</td>\n",
       "      <td>0</td>\n",
       "      <td>0</td>\n",
       "      <td>0</td>\n",
       "      <td>0</td>\n",
       "      <td>0</td>\n",
       "      <td>2</td>\n",
       "    </tr>\n",
       "    <tr>\n",
       "      <th>2</th>\n",
       "      <td>3/23/2020</td>\n",
       "      <td>HUAWEI NOVA 5T RAM 8/128 GARANSI RESMI HUAWEI ...</td>\n",
       "      <td>F2</td>\n",
       "      <td>3.0</td>\n",
       "      <td>PM</td>\n",
       "      <td>Huawei nova 5T</td>\n",
       "      <td>Kota Administrasi Jakarta Barat</td>\n",
       "      <td>False</td>\n",
       "      <td>4589900</td>\n",
       "      <td>16</td>\n",
       "      <td>0</td>\n",
       "      <td>0</td>\n",
       "      <td>0</td>\n",
       "      <td>96</td>\n",
       "      <td>12</td>\n",
       "      <td>19</td>\n",
       "    </tr>\n",
       "    <tr>\n",
       "      <th>3</th>\n",
       "      <td>4/29/2020</td>\n",
       "      <td>HUAWEI NOVA 5T RAM 8/128GB GARANSI RESMI HUAWE...</td>\n",
       "      <td>E2</td>\n",
       "      <td>4.0</td>\n",
       "      <td>OS</td>\n",
       "      <td>Huawei nova 5T</td>\n",
       "      <td>Kota Surabaya</td>\n",
       "      <td>False</td>\n",
       "      <td>4698500</td>\n",
       "      <td>5</td>\n",
       "      <td>0</td>\n",
       "      <td>0</td>\n",
       "      <td>0</td>\n",
       "      <td>99</td>\n",
       "      <td>42</td>\n",
       "      <td>63</td>\n",
       "    </tr>\n",
       "    <tr>\n",
       "      <th>4</th>\n",
       "      <td>4/15/2020</td>\n",
       "      <td>nokia 3310 reborn</td>\n",
       "      <td>C1</td>\n",
       "      <td>5.0</td>\n",
       "      <td>RM</td>\n",
       "      <td>Nokia 1</td>\n",
       "      <td>Kab. Bangkalan</td>\n",
       "      <td>True</td>\n",
       "      <td>1000000</td>\n",
       "      <td>999999</td>\n",
       "      <td>0</td>\n",
       "      <td>0</td>\n",
       "      <td>3</td>\n",
       "      <td>100</td>\n",
       "      <td>18</td>\n",
       "      <td>82</td>\n",
       "    </tr>\n",
       "  </tbody>\n",
       "</table>\n",
       "</div>"
      ],
      "text/plain": [
       "        date                                           sku_name product_id  \\\n",
       "0  3/11/2020              HUAWEI NOVA 5T RAM 8GB INTERNAL 128GB         E1   \n",
       "1  3/26/2020           Huawei Nova 5T (8GB/128GB) - Crush Green         F1   \n",
       "2  3/23/2020  HUAWEI NOVA 5T RAM 8/128 GARANSI RESMI HUAWEI ...         F2   \n",
       "3  4/29/2020  HUAWEI NOVA 5T RAM 8/128GB GARANSI RESMI HUAWE...         E2   \n",
       "4  4/15/2020                                  nokia 3310 reborn         C1   \n",
       "\n",
       "   merchant_code merchant_badge    product_type  \\\n",
       "0            1.0             PM  Huawei nova 5T   \n",
       "1            2.0             OS  Huawei nova 5T   \n",
       "2            3.0             PM  Huawei nova 5T   \n",
       "3            4.0             OS  Huawei nova 5T   \n",
       "4            5.0             RM         Nokia 1   \n",
       "\n",
       "                     merchant_city    cod    price   stock  daily_gmv  \\\n",
       "0                      Kota Kediri  False  4500000       1          0   \n",
       "1  Kota Administrasi Jakarta Utara  False  4999000       5          0   \n",
       "2  Kota Administrasi Jakarta Barat  False  4589900      16          0   \n",
       "3                    Kota Surabaya  False  4698500       5          0   \n",
       "4                   Kab. Bangkalan   True  1000000  999999          0   \n",
       "\n",
       "   daily_sold  daily_view  rating  total_review  total_sold  \n",
       "0           0           0      95            37          74  \n",
       "1           0           0       0             0           2  \n",
       "2           0           0      96            12          19  \n",
       "3           0           0      99            42          63  \n",
       "4           0           3     100            18          82  "
      ]
     },
     "execution_count": 62,
     "metadata": {},
     "output_type": "execute_result"
    }
   ],
   "source": [
    "df_MP=pd.read_csv('marketplace.csv')\n",
    "df_MP.head()"
   ]
  },
  {
   "cell_type": "markdown",
   "metadata": {},
   "source": [
    "<h1>1.Berapa banyak observasi yang ada dalam dataset?dan kolom mana yang tidak memiliki nilai duplikat/nilai unik?</h1>"
   ]
  },
  {
   "cell_type": "code",
   "execution_count": 12,
   "metadata": {},
   "outputs": [
    {
     "data": {
      "text/plain": [
       "(26014, 15)"
      ]
     },
     "execution_count": 12,
     "metadata": {},
     "output_type": "execute_result"
    }
   ],
   "source": [
    "df_MP.shape"
   ]
  },
  {
   "cell_type": "code",
   "execution_count": 11,
   "metadata": {},
   "outputs": [
    {
     "name": "stdout",
     "output_type": "stream",
     "text": [
      "2220\n"
     ]
    },
    {
     "data": {
      "text/html": [
       "<div>\n",
       "<style scoped>\n",
       "    .dataframe tbody tr th:only-of-type {\n",
       "        vertical-align: middle;\n",
       "    }\n",
       "\n",
       "    .dataframe tbody tr th {\n",
       "        vertical-align: top;\n",
       "    }\n",
       "\n",
       "    .dataframe thead th {\n",
       "        text-align: right;\n",
       "    }\n",
       "</style>\n",
       "<table border=\"1\" class=\"dataframe\">\n",
       "  <thead>\n",
       "    <tr style=\"text-align: right;\">\n",
       "      <th></th>\n",
       "      <th>sku_name</th>\n",
       "      <th>product_id</th>\n",
       "      <th>merchant_code</th>\n",
       "      <th>merchant_badge</th>\n",
       "      <th>product_type</th>\n",
       "      <th>merchant_city</th>\n",
       "      <th>cod</th>\n",
       "      <th>price</th>\n",
       "      <th>stock</th>\n",
       "      <th>daily_gmv</th>\n",
       "      <th>daily_sold</th>\n",
       "      <th>daily_view</th>\n",
       "      <th>rating</th>\n",
       "      <th>total_review</th>\n",
       "      <th>total_sold</th>\n",
       "    </tr>\n",
       "    <tr>\n",
       "      <th>date</th>\n",
       "      <th></th>\n",
       "      <th></th>\n",
       "      <th></th>\n",
       "      <th></th>\n",
       "      <th></th>\n",
       "      <th></th>\n",
       "      <th></th>\n",
       "      <th></th>\n",
       "      <th></th>\n",
       "      <th></th>\n",
       "      <th></th>\n",
       "      <th></th>\n",
       "      <th></th>\n",
       "      <th></th>\n",
       "      <th></th>\n",
       "    </tr>\n",
       "  </thead>\n",
       "  <tbody>\n",
       "    <tr>\n",
       "      <th>4/25/2020</th>\n",
       "      <td>oppo A9 2020 ram 8/128gb garansi resmi</td>\n",
       "      <td>E5</td>\n",
       "      <td>12.0</td>\n",
       "      <td>RM</td>\n",
       "      <td>Oppo A9</td>\n",
       "      <td>Kota Administrasi Jakarta Utara</td>\n",
       "      <td>False</td>\n",
       "      <td>4100000</td>\n",
       "      <td>999959</td>\n",
       "      <td>0</td>\n",
       "      <td>0</td>\n",
       "      <td>1</td>\n",
       "      <td>98</td>\n",
       "      <td>29</td>\n",
       "      <td>45</td>\n",
       "    </tr>\n",
       "    <tr>\n",
       "      <th>4/19/2020</th>\n",
       "      <td>[NEW] Oppo A9 2020 8/128 GB Garansi Resmi RAM ...</td>\n",
       "      <td>E7</td>\n",
       "      <td>16.0</td>\n",
       "      <td>RM</td>\n",
       "      <td>Oppo A9</td>\n",
       "      <td>Kota Administrasi Jakarta Barat</td>\n",
       "      <td>False</td>\n",
       "      <td>3575000</td>\n",
       "      <td>840</td>\n",
       "      <td>0</td>\n",
       "      <td>0</td>\n",
       "      <td>14</td>\n",
       "      <td>94</td>\n",
       "      <td>119</td>\n",
       "      <td>261</td>\n",
       "    </tr>\n",
       "    <tr>\n",
       "      <th>4/26/2020</th>\n",
       "      <td>hp Oppo a9 2020</td>\n",
       "      <td>F5</td>\n",
       "      <td>17.0</td>\n",
       "      <td>RM</td>\n",
       "      <td>Oppo A9</td>\n",
       "      <td>Kota Administrasi Jakarta Barat</td>\n",
       "      <td>False</td>\n",
       "      <td>4000000</td>\n",
       "      <td>9925</td>\n",
       "      <td>0</td>\n",
       "      <td>0</td>\n",
       "      <td>3</td>\n",
       "      <td>100</td>\n",
       "      <td>32</td>\n",
       "      <td>75</td>\n",
       "    </tr>\n",
       "    <tr>\n",
       "      <th>4/28/2020</th>\n",
       "      <td>Oppo F3 Ram 4gb Rom 64gb Garansi Resmi</td>\n",
       "      <td>A2</td>\n",
       "      <td>10.0</td>\n",
       "      <td>RM</td>\n",
       "      <td>Oppo F3</td>\n",
       "      <td>Kota Tangerang Selatan</td>\n",
       "      <td>False</td>\n",
       "      <td>3199000</td>\n",
       "      <td>999999</td>\n",
       "      <td>0</td>\n",
       "      <td>0</td>\n",
       "      <td>2</td>\n",
       "      <td>94</td>\n",
       "      <td>56</td>\n",
       "      <td>91</td>\n",
       "    </tr>\n",
       "    <tr>\n",
       "      <th>4/29/2020</th>\n",
       "      <td>Oppo F3 Ram 4gb Rom 64gb Garansi Resmi</td>\n",
       "      <td>A2</td>\n",
       "      <td>10.0</td>\n",
       "      <td>RM</td>\n",
       "      <td>Oppo F3</td>\n",
       "      <td>Kota Tangerang Selatan</td>\n",
       "      <td>False</td>\n",
       "      <td>3199000</td>\n",
       "      <td>999999</td>\n",
       "      <td>0</td>\n",
       "      <td>0</td>\n",
       "      <td>2</td>\n",
       "      <td>94</td>\n",
       "      <td>56</td>\n",
       "      <td>91</td>\n",
       "    </tr>\n",
       "    <tr>\n",
       "      <th>...</th>\n",
       "      <td>...</td>\n",
       "      <td>...</td>\n",
       "      <td>...</td>\n",
       "      <td>...</td>\n",
       "      <td>...</td>\n",
       "      <td>...</td>\n",
       "      <td>...</td>\n",
       "      <td>...</td>\n",
       "      <td>...</td>\n",
       "      <td>...</td>\n",
       "      <td>...</td>\n",
       "      <td>...</td>\n",
       "      <td>...</td>\n",
       "      <td>...</td>\n",
       "      <td>...</td>\n",
       "    </tr>\n",
       "    <tr>\n",
       "      <th>4/17/2020</th>\n",
       "      <td>XIAOMI REDMI NOTE 7 RAM 4GB INTERNAL 64GB 4/64...</td>\n",
       "      <td>D2319</td>\n",
       "      <td>829.0</td>\n",
       "      <td>OS</td>\n",
       "      <td>Xiaomi Redmi Note 7</td>\n",
       "      <td>Kota Administrasi Jakarta Barat</td>\n",
       "      <td>False</td>\n",
       "      <td>2650000</td>\n",
       "      <td>7</td>\n",
       "      <td>0</td>\n",
       "      <td>0</td>\n",
       "      <td>6</td>\n",
       "      <td>99</td>\n",
       "      <td>91</td>\n",
       "      <td>141</td>\n",
       "    </tr>\n",
       "    <tr>\n",
       "      <th>4/4/2020</th>\n",
       "      <td>XIAOMI REDMI NOTE 8 Pro NOTE8 6GB 128GB 6 128 ...</td>\n",
       "      <td>F339</td>\n",
       "      <td>4239.0</td>\n",
       "      <td>OS</td>\n",
       "      <td>Xiaomi Redmi Note 6 Pro</td>\n",
       "      <td>Kota Administrasi Jakarta Barat</td>\n",
       "      <td>False</td>\n",
       "      <td>3699000</td>\n",
       "      <td>76</td>\n",
       "      <td>0</td>\n",
       "      <td>0</td>\n",
       "      <td>11</td>\n",
       "      <td>100</td>\n",
       "      <td>8</td>\n",
       "      <td>24</td>\n",
       "    </tr>\n",
       "    <tr>\n",
       "      <th>4/7/2020</th>\n",
       "      <td>Asus Zenfone 3 Max ZC520TL - 4G LTE - 2GB/32GB...</td>\n",
       "      <td>A287</td>\n",
       "      <td>843.0</td>\n",
       "      <td>OS</td>\n",
       "      <td>Asus Zenfone 3 Max ZC520TL</td>\n",
       "      <td>Kota Administrasi Jakarta Pusat</td>\n",
       "      <td>False</td>\n",
       "      <td>1580000</td>\n",
       "      <td>7</td>\n",
       "      <td>0</td>\n",
       "      <td>0</td>\n",
       "      <td>25</td>\n",
       "      <td>100</td>\n",
       "      <td>6</td>\n",
       "      <td>8</td>\n",
       "    </tr>\n",
       "    <tr>\n",
       "      <th>4/27/2020</th>\n",
       "      <td>[NEW] Huawei Honor 9 Lite RAM 3GB Internal 32G...</td>\n",
       "      <td>C1304</td>\n",
       "      <td>842.0</td>\n",
       "      <td>OS</td>\n",
       "      <td>Huawei P30 lite New Edition</td>\n",
       "      <td>Kota Administrasi Jakarta Pusat</td>\n",
       "      <td>False</td>\n",
       "      <td>2000000</td>\n",
       "      <td>999985</td>\n",
       "      <td>0</td>\n",
       "      <td>0</td>\n",
       "      <td>10</td>\n",
       "      <td>97</td>\n",
       "      <td>27</td>\n",
       "      <td>133</td>\n",
       "    </tr>\n",
       "    <tr>\n",
       "      <th>4/30/2020</th>\n",
       "      <td>Asus Zenfone 4 Selfie (ZD553KL) - Garansi Resmi</td>\n",
       "      <td>B673</td>\n",
       "      <td>813.0</td>\n",
       "      <td>OS</td>\n",
       "      <td>Asus Zenfone 4 Selfie ZD553KL</td>\n",
       "      <td>Kota Administrasi Jakarta Timur</td>\n",
       "      <td>False</td>\n",
       "      <td>1520000</td>\n",
       "      <td>2</td>\n",
       "      <td>0</td>\n",
       "      <td>0</td>\n",
       "      <td>34</td>\n",
       "      <td>96</td>\n",
       "      <td>205</td>\n",
       "      <td>423</td>\n",
       "    </tr>\n",
       "  </tbody>\n",
       "</table>\n",
       "<p>2220 rows × 15 columns</p>\n",
       "</div>"
      ],
      "text/plain": [
       "                                                    sku_name product_id  \\\n",
       "date                                                                      \n",
       "4/25/2020             oppo A9 2020 ram 8/128gb garansi resmi         E5   \n",
       "4/19/2020  [NEW] Oppo A9 2020 8/128 GB Garansi Resmi RAM ...         E7   \n",
       "4/26/2020                                    hp Oppo a9 2020         F5   \n",
       "4/28/2020             Oppo F3 Ram 4gb Rom 64gb Garansi Resmi         A2   \n",
       "4/29/2020             Oppo F3 Ram 4gb Rom 64gb Garansi Resmi         A2   \n",
       "...                                                      ...        ...   \n",
       "4/17/2020  XIAOMI REDMI NOTE 7 RAM 4GB INTERNAL 64GB 4/64...      D2319   \n",
       "4/4/2020   XIAOMI REDMI NOTE 8 Pro NOTE8 6GB 128GB 6 128 ...       F339   \n",
       "4/7/2020   Asus Zenfone 3 Max ZC520TL - 4G LTE - 2GB/32GB...       A287   \n",
       "4/27/2020  [NEW] Huawei Honor 9 Lite RAM 3GB Internal 32G...      C1304   \n",
       "4/30/2020    Asus Zenfone 4 Selfie (ZD553KL) - Garansi Resmi       B673   \n",
       "\n",
       "           merchant_code merchant_badge                   product_type  \\\n",
       "date                                                                     \n",
       "4/25/2020           12.0             RM                        Oppo A9   \n",
       "4/19/2020           16.0             RM                        Oppo A9   \n",
       "4/26/2020           17.0             RM                        Oppo A9   \n",
       "4/28/2020           10.0             RM                        Oppo F3   \n",
       "4/29/2020           10.0             RM                        Oppo F3   \n",
       "...                  ...            ...                            ...   \n",
       "4/17/2020          829.0             OS            Xiaomi Redmi Note 7   \n",
       "4/4/2020          4239.0             OS        Xiaomi Redmi Note 6 Pro   \n",
       "4/7/2020           843.0             OS     Asus Zenfone 3 Max ZC520TL   \n",
       "4/27/2020          842.0             OS    Huawei P30 lite New Edition   \n",
       "4/30/2020          813.0             OS  Asus Zenfone 4 Selfie ZD553KL   \n",
       "\n",
       "                             merchant_city    cod    price   stock  daily_gmv  \\\n",
       "date                                                                            \n",
       "4/25/2020  Kota Administrasi Jakarta Utara  False  4100000  999959          0   \n",
       "4/19/2020  Kota Administrasi Jakarta Barat  False  3575000     840          0   \n",
       "4/26/2020  Kota Administrasi Jakarta Barat  False  4000000    9925          0   \n",
       "4/28/2020           Kota Tangerang Selatan  False  3199000  999999          0   \n",
       "4/29/2020           Kota Tangerang Selatan  False  3199000  999999          0   \n",
       "...                                    ...    ...      ...     ...        ...   \n",
       "4/17/2020  Kota Administrasi Jakarta Barat  False  2650000       7          0   \n",
       "4/4/2020   Kota Administrasi Jakarta Barat  False  3699000      76          0   \n",
       "4/7/2020   Kota Administrasi Jakarta Pusat  False  1580000       7          0   \n",
       "4/27/2020  Kota Administrasi Jakarta Pusat  False  2000000  999985          0   \n",
       "4/30/2020  Kota Administrasi Jakarta Timur  False  1520000       2          0   \n",
       "\n",
       "           daily_sold  daily_view  rating  total_review  total_sold  \n",
       "date                                                                 \n",
       "4/25/2020           0           1      98            29          45  \n",
       "4/19/2020           0          14      94           119         261  \n",
       "4/26/2020           0           3     100            32          75  \n",
       "4/28/2020           0           2      94            56          91  \n",
       "4/29/2020           0           2      94            56          91  \n",
       "...               ...         ...     ...           ...         ...  \n",
       "4/17/2020           0           6      99            91         141  \n",
       "4/4/2020            0          11     100             8          24  \n",
       "4/7/2020            0          25     100             6           8  \n",
       "4/27/2020           0          10      97            27         133  \n",
       "4/30/2020           0          34      96           205         423  \n",
       "\n",
       "[2220 rows x 15 columns]"
      ]
     },
     "execution_count": 11,
     "metadata": {},
     "output_type": "execute_result"
    }
   ],
   "source": [
    "dup=df_MP.duplicated()\n",
    "print(dup.sum())\n",
    "df_MP[dup]"
   ]
  },
  {
   "cell_type": "code",
   "execution_count": 18,
   "metadata": {},
   "outputs": [
    {
     "data": {
      "text/plain": [
       "True"
      ]
     },
     "execution_count": 18,
     "metadata": {},
     "output_type": "execute_result"
    }
   ],
   "source": [
    "any(df_MP['sku_name'].duplicated())"
   ]
  },
  {
   "cell_type": "code",
   "execution_count": 19,
   "metadata": {},
   "outputs": [
    {
     "data": {
      "text/plain": [
       "True"
      ]
     },
     "execution_count": 19,
     "metadata": {},
     "output_type": "execute_result"
    }
   ],
   "source": [
    "any(df_MP['product_id'].duplicated())"
   ]
  },
  {
   "cell_type": "code",
   "execution_count": 21,
   "metadata": {},
   "outputs": [
    {
     "data": {
      "text/plain": [
       "True"
      ]
     },
     "execution_count": 21,
     "metadata": {},
     "output_type": "execute_result"
    }
   ],
   "source": [
    "any(df_MP['merchant_city'].duplicated())"
   ]
  },
  {
   "cell_type": "code",
   "execution_count": 24,
   "metadata": {},
   "outputs": [
    {
     "data": {
      "text/plain": [
       "True"
      ]
     },
     "execution_count": 24,
     "metadata": {},
     "output_type": "execute_result"
    }
   ],
   "source": [
    "any(df_MP['product_type'].duplicated())"
   ]
  },
  {
   "cell_type": "markdown",
   "metadata": {},
   "source": [
    "<h1>2.Periksa tipe data dalam dataset,lakukanlah beberapa perubahan tipe data jika ada tipe data yang salah</h1>"
   ]
  },
  {
   "cell_type": "code",
   "execution_count": 26,
   "metadata": {},
   "outputs": [
    {
     "data": {
      "text/plain": [
       "sku_name           object\n",
       "product_id         object\n",
       "merchant_code     float64\n",
       "merchant_badge     object\n",
       "product_type       object\n",
       "merchant_city      object\n",
       "cod                  bool\n",
       "price               int64\n",
       "stock               int64\n",
       "daily_gmv           int64\n",
       "daily_sold          int64\n",
       "daily_view          int64\n",
       "rating              int64\n",
       "total_review        int64\n",
       "total_sold          int64\n",
       "dtype: object"
      ]
     },
     "execution_count": 26,
     "metadata": {},
     "output_type": "execute_result"
    }
   ],
   "source": [
    "df_MP.dtypes"
   ]
  },
  {
   "cell_type": "code",
   "execution_count": 33,
   "metadata": {},
   "outputs": [
    {
     "data": {
      "text/plain": [
       "date              datetime64[ns]\n",
       "sku_name                  object\n",
       "product_id                object\n",
       "merchant_code            float64\n",
       "merchant_badge            object\n",
       "product_type              object\n",
       "merchant_city             object\n",
       "cod                         bool\n",
       "price                      int64\n",
       "stock                      int64\n",
       "daily_gmv                  int64\n",
       "daily_sold                 int64\n",
       "daily_view                 int64\n",
       "rating                     int64\n",
       "total_review               int64\n",
       "total_sold                 int64\n",
       "dtype: object"
      ]
     },
     "execution_count": 33,
     "metadata": {},
     "output_type": "execute_result"
    }
   ],
   "source": [
    "df_MP['date']=df_MP['date'].astype('datetime64')\n",
    "df_MP.dtypes"
   ]
  },
  {
   "cell_type": "code",
   "execution_count": 34,
   "metadata": {},
   "outputs": [
    {
     "data": {
      "text/html": [
       "<div>\n",
       "<style scoped>\n",
       "    .dataframe tbody tr th:only-of-type {\n",
       "        vertical-align: middle;\n",
       "    }\n",
       "\n",
       "    .dataframe tbody tr th {\n",
       "        vertical-align: top;\n",
       "    }\n",
       "\n",
       "    .dataframe thead th {\n",
       "        text-align: right;\n",
       "    }\n",
       "</style>\n",
       "<table border=\"1\" class=\"dataframe\">\n",
       "  <thead>\n",
       "    <tr style=\"text-align: right;\">\n",
       "      <th></th>\n",
       "      <th>date</th>\n",
       "      <th>sku_name</th>\n",
       "      <th>product_id</th>\n",
       "      <th>merchant_code</th>\n",
       "      <th>merchant_badge</th>\n",
       "      <th>product_type</th>\n",
       "      <th>merchant_city</th>\n",
       "      <th>cod</th>\n",
       "      <th>price</th>\n",
       "      <th>stock</th>\n",
       "      <th>daily_gmv</th>\n",
       "      <th>daily_sold</th>\n",
       "      <th>daily_view</th>\n",
       "      <th>rating</th>\n",
       "      <th>total_review</th>\n",
       "      <th>total_sold</th>\n",
       "    </tr>\n",
       "  </thead>\n",
       "  <tbody>\n",
       "    <tr>\n",
       "      <th>0</th>\n",
       "      <td>2020-03-11</td>\n",
       "      <td>HUAWEI NOVA 5T RAM 8GB INTERNAL 128GB</td>\n",
       "      <td>E1</td>\n",
       "      <td>1.0</td>\n",
       "      <td>PM</td>\n",
       "      <td>Huawei nova 5T</td>\n",
       "      <td>Kota Kediri</td>\n",
       "      <td>False</td>\n",
       "      <td>4500000</td>\n",
       "      <td>1</td>\n",
       "      <td>0</td>\n",
       "      <td>0</td>\n",
       "      <td>0</td>\n",
       "      <td>95</td>\n",
       "      <td>37</td>\n",
       "      <td>74</td>\n",
       "    </tr>\n",
       "    <tr>\n",
       "      <th>1</th>\n",
       "      <td>2020-03-26</td>\n",
       "      <td>Huawei Nova 5T (8GB/128GB) - Crush Green</td>\n",
       "      <td>F1</td>\n",
       "      <td>2.0</td>\n",
       "      <td>OS</td>\n",
       "      <td>Huawei nova 5T</td>\n",
       "      <td>Kota Administrasi Jakarta Utara</td>\n",
       "      <td>False</td>\n",
       "      <td>4999000</td>\n",
       "      <td>5</td>\n",
       "      <td>0</td>\n",
       "      <td>0</td>\n",
       "      <td>0</td>\n",
       "      <td>0</td>\n",
       "      <td>0</td>\n",
       "      <td>2</td>\n",
       "    </tr>\n",
       "    <tr>\n",
       "      <th>2</th>\n",
       "      <td>2020-03-23</td>\n",
       "      <td>HUAWEI NOVA 5T RAM 8/128 GARANSI RESMI HUAWEI ...</td>\n",
       "      <td>F2</td>\n",
       "      <td>3.0</td>\n",
       "      <td>PM</td>\n",
       "      <td>Huawei nova 5T</td>\n",
       "      <td>Kota Administrasi Jakarta Barat</td>\n",
       "      <td>False</td>\n",
       "      <td>4589900</td>\n",
       "      <td>16</td>\n",
       "      <td>0</td>\n",
       "      <td>0</td>\n",
       "      <td>0</td>\n",
       "      <td>96</td>\n",
       "      <td>12</td>\n",
       "      <td>19</td>\n",
       "    </tr>\n",
       "    <tr>\n",
       "      <th>3</th>\n",
       "      <td>2020-04-29</td>\n",
       "      <td>HUAWEI NOVA 5T RAM 8/128GB GARANSI RESMI HUAWE...</td>\n",
       "      <td>E2</td>\n",
       "      <td>4.0</td>\n",
       "      <td>OS</td>\n",
       "      <td>Huawei nova 5T</td>\n",
       "      <td>Kota Surabaya</td>\n",
       "      <td>False</td>\n",
       "      <td>4698500</td>\n",
       "      <td>5</td>\n",
       "      <td>0</td>\n",
       "      <td>0</td>\n",
       "      <td>0</td>\n",
       "      <td>99</td>\n",
       "      <td>42</td>\n",
       "      <td>63</td>\n",
       "    </tr>\n",
       "    <tr>\n",
       "      <th>4</th>\n",
       "      <td>2020-04-15</td>\n",
       "      <td>nokia 3310 reborn</td>\n",
       "      <td>C1</td>\n",
       "      <td>5.0</td>\n",
       "      <td>RM</td>\n",
       "      <td>Nokia 1</td>\n",
       "      <td>Kab. Bangkalan</td>\n",
       "      <td>True</td>\n",
       "      <td>1000000</td>\n",
       "      <td>999999</td>\n",
       "      <td>0</td>\n",
       "      <td>0</td>\n",
       "      <td>3</td>\n",
       "      <td>100</td>\n",
       "      <td>18</td>\n",
       "      <td>82</td>\n",
       "    </tr>\n",
       "  </tbody>\n",
       "</table>\n",
       "</div>"
      ],
      "text/plain": [
       "        date                                           sku_name product_id  \\\n",
       "0 2020-03-11              HUAWEI NOVA 5T RAM 8GB INTERNAL 128GB         E1   \n",
       "1 2020-03-26           Huawei Nova 5T (8GB/128GB) - Crush Green         F1   \n",
       "2 2020-03-23  HUAWEI NOVA 5T RAM 8/128 GARANSI RESMI HUAWEI ...         F2   \n",
       "3 2020-04-29  HUAWEI NOVA 5T RAM 8/128GB GARANSI RESMI HUAWE...         E2   \n",
       "4 2020-04-15                                  nokia 3310 reborn         C1   \n",
       "\n",
       "   merchant_code merchant_badge    product_type  \\\n",
       "0            1.0             PM  Huawei nova 5T   \n",
       "1            2.0             OS  Huawei nova 5T   \n",
       "2            3.0             PM  Huawei nova 5T   \n",
       "3            4.0             OS  Huawei nova 5T   \n",
       "4            5.0             RM         Nokia 1   \n",
       "\n",
       "                     merchant_city    cod    price   stock  daily_gmv  \\\n",
       "0                      Kota Kediri  False  4500000       1          0   \n",
       "1  Kota Administrasi Jakarta Utara  False  4999000       5          0   \n",
       "2  Kota Administrasi Jakarta Barat  False  4589900      16          0   \n",
       "3                    Kota Surabaya  False  4698500       5          0   \n",
       "4                   Kab. Bangkalan   True  1000000  999999          0   \n",
       "\n",
       "   daily_sold  daily_view  rating  total_review  total_sold  \n",
       "0           0           0      95            37          74  \n",
       "1           0           0       0             0           2  \n",
       "2           0           0      96            12          19  \n",
       "3           0           0      99            42          63  \n",
       "4           0           3     100            18          82  "
      ]
     },
     "execution_count": 34,
     "metadata": {},
     "output_type": "execute_result"
    }
   ],
   "source": [
    "df_MP.head()"
   ]
  },
  {
   "cell_type": "markdown",
   "metadata": {},
   "source": [
    "<h1>3.Apakah ada nilai dalam variabel yang nol?yang mana jika ada beberapa variabel null pada dataset tersebut,silahkan isi niliainya dengan 0</h1>"
   ]
  },
  {
   "cell_type": "code",
   "execution_count": 35,
   "metadata": {},
   "outputs": [
    {
     "name": "stdout",
     "output_type": "stream",
     "text": [
      "<class 'pandas.core.frame.DataFrame'>\n",
      "RangeIndex: 26014 entries, 0 to 26013\n",
      "Data columns (total 16 columns):\n",
      " #   Column          Non-Null Count  Dtype         \n",
      "---  ------          --------------  -----         \n",
      " 0   date            26014 non-null  datetime64[ns]\n",
      " 1   sku_name        26014 non-null  object        \n",
      " 2   product_id      26014 non-null  object        \n",
      " 3   merchant_code   26007 non-null  float64       \n",
      " 4   merchant_badge  26014 non-null  object        \n",
      " 5   product_type    26014 non-null  object        \n",
      " 6   merchant_city   26014 non-null  object        \n",
      " 7   cod             26014 non-null  bool          \n",
      " 8   price           26014 non-null  int64         \n",
      " 9   stock           26014 non-null  int64         \n",
      " 10  daily_gmv       26014 non-null  int64         \n",
      " 11  daily_sold      26014 non-null  int64         \n",
      " 12  daily_view      26014 non-null  int64         \n",
      " 13  rating          26014 non-null  int64         \n",
      " 14  total_review    26014 non-null  int64         \n",
      " 15  total_sold      26014 non-null  int64         \n",
      "dtypes: bool(1), datetime64[ns](1), float64(1), int64(8), object(5)\n",
      "memory usage: 3.0+ MB\n"
     ]
    }
   ],
   "source": [
    "df_MP.info()"
   ]
  },
  {
   "cell_type": "code",
   "execution_count": 36,
   "metadata": {},
   "outputs": [
    {
     "data": {
      "text/plain": [
       "date              0\n",
       "sku_name          0\n",
       "product_id        0\n",
       "merchant_code     7\n",
       "merchant_badge    0\n",
       "product_type      0\n",
       "merchant_city     0\n",
       "cod               0\n",
       "price             0\n",
       "stock             0\n",
       "daily_gmv         0\n",
       "daily_sold        0\n",
       "daily_view        0\n",
       "rating            0\n",
       "total_review      0\n",
       "total_sold        0\n",
       "dtype: int64"
      ]
     },
     "execution_count": 36,
     "metadata": {},
     "output_type": "execute_result"
    }
   ],
   "source": [
    "df_MP.isnull().sum()"
   ]
  },
  {
   "cell_type": "code",
   "execution_count": 37,
   "metadata": {},
   "outputs": [],
   "source": [
    "from sklearn.impute import SimpleImputer\n",
    "from scipy.stats import mode"
   ]
  },
  {
   "cell_type": "code",
   "execution_count": 38,
   "metadata": {},
   "outputs": [],
   "source": [
    "df_MP[\"merchant_code\"]=df_MP[\"merchant_code\"].fillna(df_MP[\"merchant_code\"].mode()[0])"
   ]
  },
  {
   "cell_type": "code",
   "execution_count": 39,
   "metadata": {},
   "outputs": [
    {
     "data": {
      "text/plain": [
       "date              0\n",
       "sku_name          0\n",
       "product_id        0\n",
       "merchant_code     0\n",
       "merchant_badge    0\n",
       "product_type      0\n",
       "merchant_city     0\n",
       "cod               0\n",
       "price             0\n",
       "stock             0\n",
       "daily_gmv         0\n",
       "daily_sold        0\n",
       "daily_view        0\n",
       "rating            0\n",
       "total_review      0\n",
       "total_sold        0\n",
       "dtype: int64"
      ]
     },
     "execution_count": 39,
     "metadata": {},
     "output_type": "execute_result"
    }
   ],
   "source": [
    "df_MP.isnull().sum()"
   ]
  },
  {
   "cell_type": "markdown",
   "metadata": {},
   "source": [
    "<h1>4.Apa jenis produk kategori yang dijual dalam kumpulan data</h1>"
   ]
  },
  {
   "cell_type": "code",
   "execution_count": 41,
   "metadata": {},
   "outputs": [
    {
     "data": {
      "text/plain": [
       "Realme 6                          2161\n",
       "Samsung Galaxy A10s               1062\n",
       "Xiaomi Redmi Note 8               1025\n",
       "Xiaomi Redmi 7A                    860\n",
       "Xiaomi Redmi 6A                    747\n",
       "                                  ... \n",
       "vivo Y21                             1\n",
       "vivo Y51                             1\n",
       "Samsung Galaxy Fold                  1\n",
       "Asus ZenFone Lite (L1) ZA551KL       1\n",
       "Xiaomi Mi 5c                         1\n",
       "Name: product_type, Length: 361, dtype: int64"
      ]
     },
     "execution_count": 41,
     "metadata": {},
     "output_type": "execute_result"
    }
   ],
   "source": [
    "df_MP['product_type'].value_counts()"
   ]
  },
  {
   "cell_type": "code",
   "execution_count": 42,
   "metadata": {},
   "outputs": [
    {
     "data": {
      "text/plain": [
       "<matplotlib.axes._subplots.AxesSubplot at 0x22a8e45c1c8>"
      ]
     },
     "execution_count": 42,
     "metadata": {},
     "output_type": "execute_result"
    },
    {
     "data": {
      "image/png": "[encoded data removed]",
      "text/plain": [
       "<Figure size 432x288 with 1 Axes>"
      ]
     },
     "metadata": {
      "needs_background": "light"
     },
     "output_type": "display_data"
    }
   ],
   "source": [
    "df_MP['product_type'].value_counts().head(25).plot(kind=\"bar\")"
   ]
  },
  {
   "cell_type": "markdown",
   "metadata": {},
   "source": [
    "<h1>5.Jenis produk apa yang termasuk dalam 3 produk teratas dalam penjualan?</h1>"
   ]
  },
  {
   "cell_type": "code",
   "execution_count": 44,
   "metadata": {},
   "outputs": [
    {
     "data": {
      "text/plain": [
       "product_type\n",
       "Samsung Galaxy A10s    525852\n",
       "Xiaomi Redmi 6A        332426\n",
       "Realme 6               277352\n",
       "Name: total_sold, dtype: int64"
      ]
     },
     "execution_count": 44,
     "metadata": {},
     "output_type": "execute_result"
    }
   ],
   "source": [
    "threeUp=df_MP.groupby('product_type')['total_sold'].sum().sort_values(ascending=False)\n",
    "threeUp.head(3)"
   ]
  },
  {
   "cell_type": "code",
   "execution_count": 45,
   "metadata": {},
   "outputs": [
    {
     "data": {
      "text/plain": [
       "<matplotlib.axes._subplots.AxesSubplot at 0x22a8e5a6508>"
      ]
     },
     "execution_count": 45,
     "metadata": {},
     "output_type": "execute_result"
    },
    {
     "data": {
      "image/png": "[encoded data removed]",
      "text/plain": [
       "<Figure size 432x288 with 1 Axes>"
      ]
     },
     "metadata": {
      "needs_background": "light"
     },
     "output_type": "display_data"
    }
   ],
   "source": [
    "threeUp.head(3).plot(kind='bar')"
   ]
  },
  {
   "cell_type": "markdown",
   "metadata": {},
   "source": [
    "<h1>6.Produk teratas pertama:harga rata-rata,variasi harga jual visualisasi distribusi dengan histogram</h1>"
   ]
  },
  {
   "cell_type": "code",
   "execution_count": 47,
   "metadata": {},
   "outputs": [
    {
     "data": {
      "text/plain": [
       "product_type\n",
       "Samsung Galaxy A10s    525852\n",
       "Name: total_sold, dtype: int64"
      ]
     },
     "execution_count": 47,
     "metadata": {},
     "output_type": "execute_result"
    }
   ],
   "source": [
    "threeUp.head(1)"
   ]
  },
  {
   "cell_type": "code",
   "execution_count": 48,
   "metadata": {
    "scrolled": true
   },
   "outputs": [
    {
     "data": {
      "text/html": [
       "<div>\n",
       "<style scoped>\n",
       "    .dataframe tbody tr th:only-of-type {\n",
       "        vertical-align: middle;\n",
       "    }\n",
       "\n",
       "    .dataframe tbody tr th {\n",
       "        vertical-align: top;\n",
       "    }\n",
       "\n",
       "    .dataframe thead th {\n",
       "        text-align: right;\n",
       "    }\n",
       "</style>\n",
       "<table border=\"1\" class=\"dataframe\">\n",
       "  <thead>\n",
       "    <tr style=\"text-align: right;\">\n",
       "      <th></th>\n",
       "      <th>date</th>\n",
       "      <th>sku_name</th>\n",
       "      <th>product_id</th>\n",
       "      <th>merchant_code</th>\n",
       "      <th>merchant_badge</th>\n",
       "      <th>product_type</th>\n",
       "      <th>merchant_city</th>\n",
       "      <th>cod</th>\n",
       "      <th>price</th>\n",
       "      <th>stock</th>\n",
       "      <th>daily_gmv</th>\n",
       "      <th>daily_sold</th>\n",
       "      <th>daily_view</th>\n",
       "      <th>rating</th>\n",
       "      <th>total_review</th>\n",
       "      <th>total_sold</th>\n",
       "    </tr>\n",
       "  </thead>\n",
       "  <tbody>\n",
       "    <tr>\n",
       "      <th>2554</th>\n",
       "      <td>2020-04-08</td>\n",
       "      <td>Samsung A10S 2/32 garansi resmi - Random</td>\n",
       "      <td>E159</td>\n",
       "      <td>676.0</td>\n",
       "      <td>RM</td>\n",
       "      <td>Samsung Galaxy A10s</td>\n",
       "      <td>Kab. Bantul</td>\n",
       "      <td>False</td>\n",
       "      <td>1581000</td>\n",
       "      <td>0</td>\n",
       "      <td>1581000</td>\n",
       "      <td>1</td>\n",
       "      <td>19</td>\n",
       "      <td>100</td>\n",
       "      <td>50</td>\n",
       "      <td>186</td>\n",
       "    </tr>\n",
       "    <tr>\n",
       "      <th>2555</th>\n",
       "      <td>2020-04-26</td>\n",
       "      <td>SAMSUNG GALAXY A10S 2GB 32GB GARANSI RESMI SEIN</td>\n",
       "      <td>E160</td>\n",
       "      <td>43.0</td>\n",
       "      <td>RM</td>\n",
       "      <td>Samsung Galaxy A10s</td>\n",
       "      <td>Kota Administrasi Jakarta Utara</td>\n",
       "      <td>False</td>\n",
       "      <td>1650000</td>\n",
       "      <td>17</td>\n",
       "      <td>0</td>\n",
       "      <td>0</td>\n",
       "      <td>2</td>\n",
       "      <td>99</td>\n",
       "      <td>25</td>\n",
       "      <td>26</td>\n",
       "    </tr>\n",
       "    <tr>\n",
       "      <th>2556</th>\n",
       "      <td>2020-04-18</td>\n",
       "      <td>Samsung A10s New Garansi Resmi</td>\n",
       "      <td>F122</td>\n",
       "      <td>677.0</td>\n",
       "      <td>RM</td>\n",
       "      <td>Samsung Galaxy A10s</td>\n",
       "      <td>Kab. Bantul</td>\n",
       "      <td>False</td>\n",
       "      <td>1609400</td>\n",
       "      <td>10</td>\n",
       "      <td>0</td>\n",
       "      <td>0</td>\n",
       "      <td>2</td>\n",
       "      <td>100</td>\n",
       "      <td>21</td>\n",
       "      <td>73</td>\n",
       "    </tr>\n",
       "    <tr>\n",
       "      <th>2557</th>\n",
       "      <td>2020-04-15</td>\n",
       "      <td>SAMSUNG GALAXY A10S - [2/32] - GARANSI RESMI S...</td>\n",
       "      <td>E161</td>\n",
       "      <td>678.0</td>\n",
       "      <td>RM</td>\n",
       "      <td>Samsung Galaxy A10s</td>\n",
       "      <td>Kota Administrasi Jakarta Utara</td>\n",
       "      <td>False</td>\n",
       "      <td>1589900</td>\n",
       "      <td>3</td>\n",
       "      <td>0</td>\n",
       "      <td>0</td>\n",
       "      <td>11</td>\n",
       "      <td>100</td>\n",
       "      <td>21</td>\n",
       "      <td>329</td>\n",
       "    </tr>\n",
       "    <tr>\n",
       "      <th>2558</th>\n",
       "      <td>2020-04-14</td>\n",
       "      <td>Samsung A10s New Garansi Resmi</td>\n",
       "      <td>F122</td>\n",
       "      <td>677.0</td>\n",
       "      <td>RM</td>\n",
       "      <td>Samsung Galaxy A10s</td>\n",
       "      <td>Kab. Bantul</td>\n",
       "      <td>False</td>\n",
       "      <td>1609400</td>\n",
       "      <td>10</td>\n",
       "      <td>0</td>\n",
       "      <td>0</td>\n",
       "      <td>7</td>\n",
       "      <td>100</td>\n",
       "      <td>21</td>\n",
       "      <td>73</td>\n",
       "    </tr>\n",
       "    <tr>\n",
       "      <th>...</th>\n",
       "      <td>...</td>\n",
       "      <td>...</td>\n",
       "      <td>...</td>\n",
       "      <td>...</td>\n",
       "      <td>...</td>\n",
       "      <td>...</td>\n",
       "      <td>...</td>\n",
       "      <td>...</td>\n",
       "      <td>...</td>\n",
       "      <td>...</td>\n",
       "      <td>...</td>\n",
       "      <td>...</td>\n",
       "      <td>...</td>\n",
       "      <td>...</td>\n",
       "      <td>...</td>\n",
       "      <td>...</td>\n",
       "    </tr>\n",
       "    <tr>\n",
       "      <th>25326</th>\n",
       "      <td>2020-04-04</td>\n",
       "      <td>Samsung Galaxy A10s 2/32 RAM 2GB ROM 32GB GARA...</td>\n",
       "      <td>E3287</td>\n",
       "      <td>805.0</td>\n",
       "      <td>OS</td>\n",
       "      <td>Samsung Galaxy A10s</td>\n",
       "      <td>Kota Administrasi Jakarta Pusat</td>\n",
       "      <td>False</td>\n",
       "      <td>1621000</td>\n",
       "      <td>7</td>\n",
       "      <td>25936000</td>\n",
       "      <td>16</td>\n",
       "      <td>565</td>\n",
       "      <td>98</td>\n",
       "      <td>529</td>\n",
       "      <td>4100</td>\n",
       "    </tr>\n",
       "    <tr>\n",
       "      <th>25327</th>\n",
       "      <td>2020-04-06</td>\n",
       "      <td>Samsung Galaxy A10s 2/32 2GB 32GB Garansi Resm...</td>\n",
       "      <td>E328</td>\n",
       "      <td>819.0</td>\n",
       "      <td>OS</td>\n",
       "      <td>Samsung Galaxy A10s</td>\n",
       "      <td>Kota Administrasi Jakarta Pusat</td>\n",
       "      <td>False</td>\n",
       "      <td>1650000</td>\n",
       "      <td>8</td>\n",
       "      <td>3300000</td>\n",
       "      <td>2</td>\n",
       "      <td>236</td>\n",
       "      <td>94</td>\n",
       "      <td>35</td>\n",
       "      <td>241</td>\n",
       "    </tr>\n",
       "    <tr>\n",
       "      <th>25328</th>\n",
       "      <td>2020-04-18</td>\n",
       "      <td>Samsung Galaxy A10S Smartphone [32GB/ 2GB] Red...</td>\n",
       "      <td>E324</td>\n",
       "      <td>822.0</td>\n",
       "      <td>OS</td>\n",
       "      <td>Samsung Galaxy A10s</td>\n",
       "      <td>Kota Administrasi Jakarta Pusat</td>\n",
       "      <td>False</td>\n",
       "      <td>1629000</td>\n",
       "      <td>18</td>\n",
       "      <td>3258000</td>\n",
       "      <td>2</td>\n",
       "      <td>32</td>\n",
       "      <td>98</td>\n",
       "      <td>36</td>\n",
       "      <td>203</td>\n",
       "    </tr>\n",
       "    <tr>\n",
       "      <th>25329</th>\n",
       "      <td>2020-04-27</td>\n",
       "      <td>Samsung Galaxy A10S Smartphone [32GB/ 2GB] Bla...</td>\n",
       "      <td>E3281</td>\n",
       "      <td>822.0</td>\n",
       "      <td>OS</td>\n",
       "      <td>Samsung Galaxy A10s</td>\n",
       "      <td>Kota Administrasi Jakarta Pusat</td>\n",
       "      <td>False</td>\n",
       "      <td>1635000</td>\n",
       "      <td>20</td>\n",
       "      <td>0</td>\n",
       "      <td>0</td>\n",
       "      <td>663</td>\n",
       "      <td>99</td>\n",
       "      <td>203</td>\n",
       "      <td>1431</td>\n",
       "    </tr>\n",
       "    <tr>\n",
       "      <th>25330</th>\n",
       "      <td>2020-04-07</td>\n",
       "      <td>Samsung Galaxy A10S</td>\n",
       "      <td>E317</td>\n",
       "      <td>856.0</td>\n",
       "      <td>OS</td>\n",
       "      <td>Samsung Galaxy A10s</td>\n",
       "      <td>Kab. Cirebon</td>\n",
       "      <td>False</td>\n",
       "      <td>1635000</td>\n",
       "      <td>10</td>\n",
       "      <td>-1635000</td>\n",
       "      <td>-1</td>\n",
       "      <td>57</td>\n",
       "      <td>98</td>\n",
       "      <td>46</td>\n",
       "      <td>581</td>\n",
       "    </tr>\n",
       "  </tbody>\n",
       "</table>\n",
       "<p>1062 rows × 16 columns</p>\n",
       "</div>"
      ],
      "text/plain": [
       "            date                                           sku_name  \\\n",
       "2554  2020-04-08           Samsung A10S 2/32 garansi resmi - Random   \n",
       "2555  2020-04-26    SAMSUNG GALAXY A10S 2GB 32GB GARANSI RESMI SEIN   \n",
       "2556  2020-04-18                     Samsung A10s New Garansi Resmi   \n",
       "2557  2020-04-15  SAMSUNG GALAXY A10S - [2/32] - GARANSI RESMI S...   \n",
       "2558  2020-04-14                     Samsung A10s New Garansi Resmi   \n",
       "...          ...                                                ...   \n",
       "25326 2020-04-04  Samsung Galaxy A10s 2/32 RAM 2GB ROM 32GB GARA...   \n",
       "25327 2020-04-06  Samsung Galaxy A10s 2/32 2GB 32GB Garansi Resm...   \n",
       "25328 2020-04-18  Samsung Galaxy A10S Smartphone [32GB/ 2GB] Red...   \n",
       "25329 2020-04-27  Samsung Galaxy A10S Smartphone [32GB/ 2GB] Bla...   \n",
       "25330 2020-04-07                                Samsung Galaxy A10S   \n",
       "\n",
       "      product_id  merchant_code merchant_badge         product_type  \\\n",
       "2554        E159          676.0             RM  Samsung Galaxy A10s   \n",
       "2555        E160           43.0             RM  Samsung Galaxy A10s   \n",
       "2556        F122          677.0             RM  Samsung Galaxy A10s   \n",
       "2557        E161          678.0             RM  Samsung Galaxy A10s   \n",
       "2558        F122          677.0             RM  Samsung Galaxy A10s   \n",
       "...          ...            ...            ...                  ...   \n",
       "25326      E3287          805.0             OS  Samsung Galaxy A10s   \n",
       "25327       E328          819.0             OS  Samsung Galaxy A10s   \n",
       "25328       E324          822.0             OS  Samsung Galaxy A10s   \n",
       "25329      E3281          822.0             OS  Samsung Galaxy A10s   \n",
       "25330       E317          856.0             OS  Samsung Galaxy A10s   \n",
       "\n",
       "                         merchant_city    cod    price  stock  daily_gmv  \\\n",
       "2554                       Kab. Bantul  False  1581000      0    1581000   \n",
       "2555   Kota Administrasi Jakarta Utara  False  1650000     17          0   \n",
       "2556                       Kab. Bantul  False  1609400     10          0   \n",
       "2557   Kota Administrasi Jakarta Utara  False  1589900      3          0   \n",
       "2558                       Kab. Bantul  False  1609400     10          0   \n",
       "...                                ...    ...      ...    ...        ...   \n",
       "25326  Kota Administrasi Jakarta Pusat  False  1621000      7   25936000   \n",
       "25327  Kota Administrasi Jakarta Pusat  False  1650000      8    3300000   \n",
       "25328  Kota Administrasi Jakarta Pusat  False  1629000     18    3258000   \n",
       "25329  Kota Administrasi Jakarta Pusat  False  1635000     20          0   \n",
       "25330                     Kab. Cirebon  False  1635000     10   -1635000   \n",
       "\n",
       "       daily_sold  daily_view  rating  total_review  total_sold  \n",
       "2554            1          19     100            50         186  \n",
       "2555            0           2      99            25          26  \n",
       "2556            0           2     100            21          73  \n",
       "2557            0          11     100            21         329  \n",
       "2558            0           7     100            21          73  \n",
       "...           ...         ...     ...           ...         ...  \n",
       "25326          16         565      98           529        4100  \n",
       "25327           2         236      94            35         241  \n",
       "25328           2          32      98            36         203  \n",
       "25329           0         663      99           203        1431  \n",
       "25330          -1          57      98            46         581  \n",
       "\n",
       "[1062 rows x 16 columns]"
      ]
     },
     "execution_count": 48,
     "metadata": {},
     "output_type": "execute_result"
    }
   ],
   "source": [
    "samsung=df_MP[df_MP['product_type']=='Samsung Galaxy A10s']\n",
    "samsung"
   ]
  },
  {
   "cell_type": "code",
   "execution_count": 49,
   "metadata": {},
   "outputs": [
    {
     "data": {
      "text/html": [
       "<div>\n",
       "<style scoped>\n",
       "    .dataframe tbody tr th:only-of-type {\n",
       "        vertical-align: middle;\n",
       "    }\n",
       "\n",
       "    .dataframe tbody tr th {\n",
       "        vertical-align: top;\n",
       "    }\n",
       "\n",
       "    .dataframe thead th {\n",
       "        text-align: right;\n",
       "    }\n",
       "</style>\n",
       "<table border=\"1\" class=\"dataframe\">\n",
       "  <thead>\n",
       "    <tr style=\"text-align: right;\">\n",
       "      <th></th>\n",
       "      <th>merchant_code</th>\n",
       "      <th>price</th>\n",
       "      <th>stock</th>\n",
       "      <th>daily_gmv</th>\n",
       "      <th>daily_sold</th>\n",
       "      <th>daily_view</th>\n",
       "      <th>rating</th>\n",
       "      <th>total_review</th>\n",
       "      <th>total_sold</th>\n",
       "    </tr>\n",
       "  </thead>\n",
       "  <tbody>\n",
       "    <tr>\n",
       "      <th>count</th>\n",
       "      <td>1062.000000</td>\n",
       "      <td>1.062000e+03</td>\n",
       "      <td>1062.000000</td>\n",
       "      <td>1.062000e+03</td>\n",
       "      <td>1062.000000</td>\n",
       "      <td>1062.000000</td>\n",
       "      <td>1062.000000</td>\n",
       "      <td>1062.000000</td>\n",
       "      <td>1062.000000</td>\n",
       "    </tr>\n",
       "    <tr>\n",
       "      <th>mean</th>\n",
       "      <td>2091.317326</td>\n",
       "      <td>1.622651e+06</td>\n",
       "      <td>10479.354049</td>\n",
       "      <td>5.119869e+06</td>\n",
       "      <td>3.180791</td>\n",
       "      <td>44.287194</td>\n",
       "      <td>98.691149</td>\n",
       "      <td>52.347458</td>\n",
       "      <td>495.152542</td>\n",
       "    </tr>\n",
       "    <tr>\n",
       "      <th>std</th>\n",
       "      <td>915.227777</td>\n",
       "      <td>4.856473e+04</td>\n",
       "      <td>101278.453939</td>\n",
       "      <td>2.278007e+07</td>\n",
       "      <td>14.239942</td>\n",
       "      <td>129.024256</td>\n",
       "      <td>2.087776</td>\n",
       "      <td>67.491241</td>\n",
       "      <td>626.638576</td>\n",
       "    </tr>\n",
       "    <tr>\n",
       "      <th>min</th>\n",
       "      <td>43.000000</td>\n",
       "      <td>1.575000e+06</td>\n",
       "      <td>0.000000</td>\n",
       "      <td>-5.286600e+07</td>\n",
       "      <td>-33.000000</td>\n",
       "      <td>0.000000</td>\n",
       "      <td>77.000000</td>\n",
       "      <td>1.000000</td>\n",
       "      <td>7.000000</td>\n",
       "    </tr>\n",
       "    <tr>\n",
       "      <th>25%</th>\n",
       "      <td>1593.250000</td>\n",
       "      <td>1.600000e+06</td>\n",
       "      <td>2.000000</td>\n",
       "      <td>0.000000e+00</td>\n",
       "      <td>0.000000</td>\n",
       "      <td>3.000000</td>\n",
       "      <td>98.000000</td>\n",
       "      <td>19.000000</td>\n",
       "      <td>120.250000</td>\n",
       "    </tr>\n",
       "    <tr>\n",
       "      <th>50%</th>\n",
       "      <td>2039.000000</td>\n",
       "      <td>1.610000e+06</td>\n",
       "      <td>4.000000</td>\n",
       "      <td>0.000000e+00</td>\n",
       "      <td>0.000000</td>\n",
       "      <td>9.000000</td>\n",
       "      <td>99.000000</td>\n",
       "      <td>33.000000</td>\n",
       "      <td>291.500000</td>\n",
       "    </tr>\n",
       "    <tr>\n",
       "      <th>75%</th>\n",
       "      <td>2135.000000</td>\n",
       "      <td>1.625000e+06</td>\n",
       "      <td>10.000000</td>\n",
       "      <td>1.617750e+06</td>\n",
       "      <td>1.000000</td>\n",
       "      <td>26.750000</td>\n",
       "      <td>100.000000</td>\n",
       "      <td>56.750000</td>\n",
       "      <td>611.250000</td>\n",
       "    </tr>\n",
       "    <tr>\n",
       "      <th>max</th>\n",
       "      <td>3894.000000</td>\n",
       "      <td>2.000000e+06</td>\n",
       "      <td>999960.000000</td>\n",
       "      <td>3.845380e+08</td>\n",
       "      <td>242.000000</td>\n",
       "      <td>1467.000000</td>\n",
       "      <td>100.000000</td>\n",
       "      <td>570.000000</td>\n",
       "      <td>4290.000000</td>\n",
       "    </tr>\n",
       "  </tbody>\n",
       "</table>\n",
       "</div>"
      ],
      "text/plain": [
       "       merchant_code         price          stock     daily_gmv   daily_sold  \\\n",
       "count    1062.000000  1.062000e+03    1062.000000  1.062000e+03  1062.000000   \n",
       "mean     2091.317326  1.622651e+06   10479.354049  5.119869e+06     3.180791   \n",
       "std       915.227777  4.856473e+04  101278.453939  2.278007e+07    14.239942   \n",
       "min        43.000000  1.575000e+06       0.000000 -5.286600e+07   -33.000000   \n",
       "25%      1593.250000  1.600000e+06       2.000000  0.000000e+00     0.000000   \n",
       "50%      2039.000000  1.610000e+06       4.000000  0.000000e+00     0.000000   \n",
       "75%      2135.000000  1.625000e+06      10.000000  1.617750e+06     1.000000   \n",
       "max      3894.000000  2.000000e+06  999960.000000  3.845380e+08   242.000000   \n",
       "\n",
       "        daily_view       rating  total_review   total_sold  \n",
       "count  1062.000000  1062.000000   1062.000000  1062.000000  \n",
       "mean     44.287194    98.691149     52.347458   495.152542  \n",
       "std     129.024256     2.087776     67.491241   626.638576  \n",
       "min       0.000000    77.000000      1.000000     7.000000  \n",
       "25%       3.000000    98.000000     19.000000   120.250000  \n",
       "50%       9.000000    99.000000     33.000000   291.500000  \n",
       "75%      26.750000   100.000000     56.750000   611.250000  \n",
       "max    1467.000000   100.000000    570.000000  4290.000000  "
      ]
     },
     "execution_count": 49,
     "metadata": {},
     "output_type": "execute_result"
    }
   ],
   "source": [
    "samsung.describe()"
   ]
  },
  {
   "cell_type": "code",
   "execution_count": 63,
   "metadata": {},
   "outputs": [
    {
     "data": {
      "text/plain": [
       "<matplotlib.axes._subplots.AxesSubplot at 0x22a8edaa888>"
      ]
     },
     "execution_count": 63,
     "metadata": {},
     "output_type": "execute_result"
    },
    {
     "data": {
      "image/png": "[encoded data removed]",
      "text/plain": [
       "<Figure size 576x288 with 1 Axes>"
      ]
     },
     "metadata": {
      "needs_background": "light"
     },
     "output_type": "display_data"
    }
   ],
   "source": [
    "plt.figure(figsize=(8,4))\n",
    "sns.distplot(samsung['price'],bins=40)"
   ]
  },
  {
   "cell_type": "markdown",
   "metadata": {},
   "source": [
    "<h1>7.Filter dataset hanya dengan 'Samsung Galaxy A10s' dan temukan 3 kota pedagang terlaris,Tunjukkan dengan beberapa boxplot distribusi harga antara kota pedagang tersebut</h1>"
   ]
  },
  {
   "cell_type": "code",
   "execution_count": 65,
   "metadata": {},
   "outputs": [
    {
     "data": {
      "text/plain": [
       "merchant_city\n",
       "Kota Administrasi Jakarta Pusat    71373\n",
       "Kab. Sleman                        57790\n",
       "Kab. Bantul                        46091\n",
       "Name: total_sold, dtype: int64"
      ]
     },
     "execution_count": 65,
     "metadata": {},
     "output_type": "execute_result"
    }
   ],
   "source": [
    "samsung.groupby('merchant_city')['total_sold'].sum().sort_values(ascending=False).head(3)"
   ]
  },
  {
   "cell_type": "code",
   "execution_count": 66,
   "metadata": {},
   "outputs": [
    {
     "data": {
      "image/png": "[encoded data removed]",
      "text/plain": [
       "<Figure size 432x288 with 1 Axes>"
      ]
     },
     "metadata": {
      "needs_background": "light"
     },
     "output_type": "display_data"
    }
   ],
   "source": [
    "threeCity=['Kota Administrasi Jakarta Pusat','Kab. Sleman','Kab. Bantul']\n",
    "filterCity=df_MP[df_MP['merchant_city'].isin(threeCity)]\n",
    "box=sns.boxplot(x='merchant_city',y='total_sold',data=filterCity)"
   ]
  },
  {
   "cell_type": "markdown",
   "metadata": {},
   "source": [
    "<h1>8.Ujilah perbedaan total_sold produk Samsung Galaxy A10 dengan Xiomi Redmi 6A menggunakan t-sample test</h1>"
   ]
  },
  {
   "cell_type": "code",
   "execution_count": 82,
   "metadata": {},
   "outputs": [
    {
     "name": "stdout",
     "output_type": "stream",
     "text": [
      "samsung mean value 495.1525423728813\n",
      "redmi mean value 445.0147255689424\n",
      "samsung std value : 626.3434790554674\n",
      "redmi std value : 580.394664272472\n",
      "p-value 0.08442284533312362\n",
      "we accept null hypotesis\n"
     ]
    }
   ],
   "source": [
    "#melakukan iji t-test 2 sampel antara samsung galaxy a10 dan redmi 6a\n",
    "\n",
    "from scipy.stats import ttest_ind\n",
    "import numpy as np\n",
    "\n",
    "product_samsung=df_MP[df_MP['product_type']=='Samsung Galaxy A10s']['total_sold']\n",
    "product_redmi=df_MP[df_MP['product_type']=='Xiaomi Redmi 6A']['total_sold']\n",
    "\n",
    "samsung_mean=np.mean(product_samsung)\n",
    "redmi_mean=np.mean(product_redmi)\n",
    "\n",
    "print('samsung mean value',samsung_mean)\n",
    "print('redmi mean value',redmi_mean)\n",
    "\n",
    "samsung_std=np.std(product_samsung)\n",
    "redmi_std=np.std(product_redmi)\n",
    "\n",
    "print('samsung std value :',samsung_std)\n",
    "print('redmi std value :',redmi_std)\n",
    "\n",
    "ttest,pval=ttest_ind(product_samsung,product_redmi)\n",
    "print('p-value',pval)\n",
    "if pval<0.05:\n",
    "    print('we reject null hypotesis')\n",
    "else:\n",
    "    print('we accept null hypotesis')"
   ]
  },
  {
   "cell_type": "markdown",
   "metadata": {},
   "source": [
    "<h1>8.Kesimpulan</h1>"
   ]
  },
  {
   "cell_type": "markdown",
   "metadata": {},
   "source": [
    "Data ini menunjukkan data penjualan produk handphone,menurut data penjualan terjadi pada 11-03-2020 s/d 30-04-2020 kurang lebih selama dua bulan beberapa merk handphone yang banyak terjual pertama samsung galaxy a10s sebanyak 525.852,kedua xiaomi redmi 6a sebanyak 332.426 dan ketiga realme 6 sebanyak 277.352 pada samsung galaxy a10s tercepat 3 daerah pada kota asministrasi jakarta pusat kedua kab.sleman ketiga bantul ,sekarang mencoba membandingkan antara samsung galaxy a10s dan xiaomi redmi 6a untuk rata-rata hingga standart deviasi penjualan samsung lebih unggul daripada redmi"
   ]
  }
 ],
 "metadata": {
  "kernelspec": {
   "display_name": "Python 3",
   "language": "python",
   "name": "python3"
  },
  "language_info": {
   "codemirror_mode": {
    "name": "ipython",
    "version": 3
   },
   "file_extension": ".py",
   "mimetype": "text/x-python",
   "name": "python",
   "nbconvert_exporter": "python",
   "pygments_lexer": "ipython3",
   "version": "3.7.6"
  }
 },
 "nbformat": 4,
 "nbformat_minor": 4
}
