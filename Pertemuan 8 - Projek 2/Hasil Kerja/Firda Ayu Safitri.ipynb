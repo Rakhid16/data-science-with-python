{
 "cells": [
  {
   "cell_type": "code",
   "execution_count": 1,
   "metadata": {},
   "outputs": [],
   "source": [
    "#Libraries\n",
    "import pandas as pd\n",
    "import matplotlib.pyplot as plt\n",
    "import seaborn as sns"
   ]
  },
  {
   "cell_type": "code",
   "execution_count": 2,
   "metadata": {},
   "outputs": [
    {
     "data": {
      "text/html": [
       "<div>\n",
       "<style scoped>\n",
       "    .dataframe tbody tr th:only-of-type {\n",
       "        vertical-align: middle;\n",
       "    }\n",
       "\n",
       "    .dataframe tbody tr th {\n",
       "        vertical-align: top;\n",
       "    }\n",
       "\n",
       "    .dataframe thead th {\n",
       "        text-align: right;\n",
       "    }\n",
       "</style>\n",
       "<table border=\"1\" class=\"dataframe\">\n",
       "  <thead>\n",
       "    <tr style=\"text-align: right;\">\n",
       "      <th></th>\n",
       "      <th>date</th>\n",
       "      <th>sku_name</th>\n",
       "      <th>product_id</th>\n",
       "      <th>merchant_code</th>\n",
       "      <th>merchant_badge</th>\n",
       "      <th>product_type</th>\n",
       "      <th>merchant_city</th>\n",
       "      <th>cod</th>\n",
       "      <th>price</th>\n",
       "      <th>stock</th>\n",
       "      <th>daily_gmv</th>\n",
       "      <th>daily_sold</th>\n",
       "      <th>daily_view</th>\n",
       "      <th>rating</th>\n",
       "      <th>total_review</th>\n",
       "      <th>total_sold</th>\n",
       "    </tr>\n",
       "  </thead>\n",
       "  <tbody>\n",
       "    <tr>\n",
       "      <th>0</th>\n",
       "      <td>3/11/2020</td>\n",
       "      <td>HUAWEI NOVA 5T RAM 8GB INTERNAL 128GB</td>\n",
       "      <td>E1</td>\n",
       "      <td>1.0</td>\n",
       "      <td>PM</td>\n",
       "      <td>Huawei nova 5T</td>\n",
       "      <td>Kota Kediri</td>\n",
       "      <td>False</td>\n",
       "      <td>4500000</td>\n",
       "      <td>1</td>\n",
       "      <td>0</td>\n",
       "      <td>0</td>\n",
       "      <td>0</td>\n",
       "      <td>95</td>\n",
       "      <td>37</td>\n",
       "      <td>74</td>\n",
       "    </tr>\n",
       "    <tr>\n",
       "      <th>1</th>\n",
       "      <td>3/26/2020</td>\n",
       "      <td>Huawei Nova 5T (8GB/128GB) - Crush Green</td>\n",
       "      <td>F1</td>\n",
       "      <td>2.0</td>\n",
       "      <td>OS</td>\n",
       "      <td>Huawei nova 5T</td>\n",
       "      <td>Kota Administrasi Jakarta Utara</td>\n",
       "      <td>False</td>\n",
       "      <td>4999000</td>\n",
       "      <td>5</td>\n",
       "      <td>0</td>\n",
       "      <td>0</td>\n",
       "      <td>0</td>\n",
       "      <td>0</td>\n",
       "      <td>0</td>\n",
       "      <td>2</td>\n",
       "    </tr>\n",
       "    <tr>\n",
       "      <th>2</th>\n",
       "      <td>3/23/2020</td>\n",
       "      <td>HUAWEI NOVA 5T RAM 8/128 GARANSI RESMI HUAWEI ...</td>\n",
       "      <td>F2</td>\n",
       "      <td>3.0</td>\n",
       "      <td>PM</td>\n",
       "      <td>Huawei nova 5T</td>\n",
       "      <td>Kota Administrasi Jakarta Barat</td>\n",
       "      <td>False</td>\n",
       "      <td>4589900</td>\n",
       "      <td>16</td>\n",
       "      <td>0</td>\n",
       "      <td>0</td>\n",
       "      <td>0</td>\n",
       "      <td>96</td>\n",
       "      <td>12</td>\n",
       "      <td>19</td>\n",
       "    </tr>\n",
       "    <tr>\n",
       "      <th>3</th>\n",
       "      <td>4/29/2020</td>\n",
       "      <td>HUAWEI NOVA 5T RAM 8/128GB GARANSI RESMI HUAWE...</td>\n",
       "      <td>E2</td>\n",
       "      <td>4.0</td>\n",
       "      <td>OS</td>\n",
       "      <td>Huawei nova 5T</td>\n",
       "      <td>Kota Surabaya</td>\n",
       "      <td>False</td>\n",
       "      <td>4698500</td>\n",
       "      <td>5</td>\n",
       "      <td>0</td>\n",
       "      <td>0</td>\n",
       "      <td>0</td>\n",
       "      <td>99</td>\n",
       "      <td>42</td>\n",
       "      <td>63</td>\n",
       "    </tr>\n",
       "    <tr>\n",
       "      <th>4</th>\n",
       "      <td>4/15/2020</td>\n",
       "      <td>nokia 3310 reborn</td>\n",
       "      <td>C1</td>\n",
       "      <td>5.0</td>\n",
       "      <td>RM</td>\n",
       "      <td>Nokia 1</td>\n",
       "      <td>Kab. Bangkalan</td>\n",
       "      <td>True</td>\n",
       "      <td>1000000</td>\n",
       "      <td>999999</td>\n",
       "      <td>0</td>\n",
       "      <td>0</td>\n",
       "      <td>3</td>\n",
       "      <td>100</td>\n",
       "      <td>18</td>\n",
       "      <td>82</td>\n",
       "    </tr>\n",
       "  </tbody>\n",
       "</table>\n",
       "</div>"
      ],
      "text/plain": [
       "        date                                           sku_name product_id  \\\n",
       "0  3/11/2020              HUAWEI NOVA 5T RAM 8GB INTERNAL 128GB         E1   \n",
       "1  3/26/2020           Huawei Nova 5T (8GB/128GB) - Crush Green         F1   \n",
       "2  3/23/2020  HUAWEI NOVA 5T RAM 8/128 GARANSI RESMI HUAWEI ...         F2   \n",
       "3  4/29/2020  HUAWEI NOVA 5T RAM 8/128GB GARANSI RESMI HUAWE...         E2   \n",
       "4  4/15/2020                                  nokia 3310 reborn         C1   \n",
       "\n",
       "   merchant_code merchant_badge    product_type  \\\n",
       "0            1.0             PM  Huawei nova 5T   \n",
       "1            2.0             OS  Huawei nova 5T   \n",
       "2            3.0             PM  Huawei nova 5T   \n",
       "3            4.0             OS  Huawei nova 5T   \n",
       "4            5.0             RM         Nokia 1   \n",
       "\n",
       "                     merchant_city    cod    price   stock  daily_gmv  \\\n",
       "0                      Kota Kediri  False  4500000       1          0   \n",
       "1  Kota Administrasi Jakarta Utara  False  4999000       5          0   \n",
       "2  Kota Administrasi Jakarta Barat  False  4589900      16          0   \n",
       "3                    Kota Surabaya  False  4698500       5          0   \n",
       "4                   Kab. Bangkalan   True  1000000  999999          0   \n",
       "\n",
       "   daily_sold  daily_view  rating  total_review  total_sold  \n",
       "0           0           0      95            37          74  \n",
       "1           0           0       0             0           2  \n",
       "2           0           0      96            12          19  \n",
       "3           0           0      99            42          63  \n",
       "4           0           3     100            18          82  "
      ]
     },
     "execution_count": 2,
     "metadata": {},
     "output_type": "execute_result"
    }
   ],
   "source": [
    "#Reading CSV Dataset\n",
    "dt_mrkt = pd.read_csv('marketplace.csv')\n",
    "dt_mrkt.head()"
   ]
  },
  {
   "cell_type": "markdown",
   "metadata": {},
   "source": [
    "# 1. Berapa banyak observasi yang ada dalam dataset? Dan kolom mana yang tidak memiliki nilai duplikat / nilai unik?"
   ]
  },
  {
   "cell_type": "code",
   "execution_count": 3,
   "metadata": {},
   "outputs": [
    {
     "data": {
      "text/plain": [
       "(26014, 15)"
      ]
     },
     "execution_count": 3,
     "metadata": {},
     "output_type": "execute_result"
    }
   ],
   "source": [
    "# mengetahui jumlah baris dan kolom\n",
    "dt_mrkt = pd.read_csv('marketplace.csv', sep=',', index_col=0)\n",
    "dt_mrkt.shape"
   ]
  },
  {
   "cell_type": "code",
   "execution_count": 4,
   "metadata": {},
   "outputs": [
    {
     "name": "stdout",
     "output_type": "stream",
     "text": [
      "2220\n"
     ]
    },
    {
     "data": {
      "text/html": [
       "<div>\n",
       "<style scoped>\n",
       "    .dataframe tbody tr th:only-of-type {\n",
       "        vertical-align: middle;\n",
       "    }\n",
       "\n",
       "    .dataframe tbody tr th {\n",
       "        vertical-align: top;\n",
       "    }\n",
       "\n",
       "    .dataframe thead th {\n",
       "        text-align: right;\n",
       "    }\n",
       "</style>\n",
       "<table border=\"1\" class=\"dataframe\">\n",
       "  <thead>\n",
       "    <tr style=\"text-align: right;\">\n",
       "      <th></th>\n",
       "      <th>sku_name</th>\n",
       "      <th>product_id</th>\n",
       "      <th>merchant_code</th>\n",
       "      <th>merchant_badge</th>\n",
       "      <th>product_type</th>\n",
       "      <th>merchant_city</th>\n",
       "      <th>cod</th>\n",
       "      <th>price</th>\n",
       "      <th>stock</th>\n",
       "      <th>daily_gmv</th>\n",
       "      <th>daily_sold</th>\n",
       "      <th>daily_view</th>\n",
       "      <th>rating</th>\n",
       "      <th>total_review</th>\n",
       "      <th>total_sold</th>\n",
       "    </tr>\n",
       "    <tr>\n",
       "      <th>date</th>\n",
       "      <th></th>\n",
       "      <th></th>\n",
       "      <th></th>\n",
       "      <th></th>\n",
       "      <th></th>\n",
       "      <th></th>\n",
       "      <th></th>\n",
       "      <th></th>\n",
       "      <th></th>\n",
       "      <th></th>\n",
       "      <th></th>\n",
       "      <th></th>\n",
       "      <th></th>\n",
       "      <th></th>\n",
       "      <th></th>\n",
       "    </tr>\n",
       "  </thead>\n",
       "  <tbody>\n",
       "    <tr>\n",
       "      <th>4/25/2020</th>\n",
       "      <td>oppo A9 2020 ram 8/128gb garansi resmi</td>\n",
       "      <td>E5</td>\n",
       "      <td>12.0</td>\n",
       "      <td>RM</td>\n",
       "      <td>Oppo A9</td>\n",
       "      <td>Kota Administrasi Jakarta Utara</td>\n",
       "      <td>False</td>\n",
       "      <td>4100000</td>\n",
       "      <td>999959</td>\n",
       "      <td>0</td>\n",
       "      <td>0</td>\n",
       "      <td>1</td>\n",
       "      <td>98</td>\n",
       "      <td>29</td>\n",
       "      <td>45</td>\n",
       "    </tr>\n",
       "    <tr>\n",
       "      <th>4/19/2020</th>\n",
       "      <td>[NEW] Oppo A9 2020 8/128 GB Garansi Resmi RAM ...</td>\n",
       "      <td>E7</td>\n",
       "      <td>16.0</td>\n",
       "      <td>RM</td>\n",
       "      <td>Oppo A9</td>\n",
       "      <td>Kota Administrasi Jakarta Barat</td>\n",
       "      <td>False</td>\n",
       "      <td>3575000</td>\n",
       "      <td>840</td>\n",
       "      <td>0</td>\n",
       "      <td>0</td>\n",
       "      <td>14</td>\n",
       "      <td>94</td>\n",
       "      <td>119</td>\n",
       "      <td>261</td>\n",
       "    </tr>\n",
       "    <tr>\n",
       "      <th>4/26/2020</th>\n",
       "      <td>hp Oppo a9 2020</td>\n",
       "      <td>F5</td>\n",
       "      <td>17.0</td>\n",
       "      <td>RM</td>\n",
       "      <td>Oppo A9</td>\n",
       "      <td>Kota Administrasi Jakarta Barat</td>\n",
       "      <td>False</td>\n",
       "      <td>4000000</td>\n",
       "      <td>9925</td>\n",
       "      <td>0</td>\n",
       "      <td>0</td>\n",
       "      <td>3</td>\n",
       "      <td>100</td>\n",
       "      <td>32</td>\n",
       "      <td>75</td>\n",
       "    </tr>\n",
       "    <tr>\n",
       "      <th>4/28/2020</th>\n",
       "      <td>Oppo F3 Ram 4gb Rom 64gb Garansi Resmi</td>\n",
       "      <td>A2</td>\n",
       "      <td>10.0</td>\n",
       "      <td>RM</td>\n",
       "      <td>Oppo F3</td>\n",
       "      <td>Kota Tangerang Selatan</td>\n",
       "      <td>False</td>\n",
       "      <td>3199000</td>\n",
       "      <td>999999</td>\n",
       "      <td>0</td>\n",
       "      <td>0</td>\n",
       "      <td>2</td>\n",
       "      <td>94</td>\n",
       "      <td>56</td>\n",
       "      <td>91</td>\n",
       "    </tr>\n",
       "    <tr>\n",
       "      <th>4/29/2020</th>\n",
       "      <td>Oppo F3 Ram 4gb Rom 64gb Garansi Resmi</td>\n",
       "      <td>A2</td>\n",
       "      <td>10.0</td>\n",
       "      <td>RM</td>\n",
       "      <td>Oppo F3</td>\n",
       "      <td>Kota Tangerang Selatan</td>\n",
       "      <td>False</td>\n",
       "      <td>3199000</td>\n",
       "      <td>999999</td>\n",
       "      <td>0</td>\n",
       "      <td>0</td>\n",
       "      <td>2</td>\n",
       "      <td>94</td>\n",
       "      <td>56</td>\n",
       "      <td>91</td>\n",
       "    </tr>\n",
       "    <tr>\n",
       "      <th>...</th>\n",
       "      <td>...</td>\n",
       "      <td>...</td>\n",
       "      <td>...</td>\n",
       "      <td>...</td>\n",
       "      <td>...</td>\n",
       "      <td>...</td>\n",
       "      <td>...</td>\n",
       "      <td>...</td>\n",
       "      <td>...</td>\n",
       "      <td>...</td>\n",
       "      <td>...</td>\n",
       "      <td>...</td>\n",
       "      <td>...</td>\n",
       "      <td>...</td>\n",
       "      <td>...</td>\n",
       "    </tr>\n",
       "    <tr>\n",
       "      <th>4/17/2020</th>\n",
       "      <td>XIAOMI REDMI NOTE 7 RAM 4GB INTERNAL 64GB 4/64...</td>\n",
       "      <td>D2319</td>\n",
       "      <td>829.0</td>\n",
       "      <td>OS</td>\n",
       "      <td>Xiaomi Redmi Note 7</td>\n",
       "      <td>Kota Administrasi Jakarta Barat</td>\n",
       "      <td>False</td>\n",
       "      <td>2650000</td>\n",
       "      <td>7</td>\n",
       "      <td>0</td>\n",
       "      <td>0</td>\n",
       "      <td>6</td>\n",
       "      <td>99</td>\n",
       "      <td>91</td>\n",
       "      <td>141</td>\n",
       "    </tr>\n",
       "    <tr>\n",
       "      <th>4/4/2020</th>\n",
       "      <td>XIAOMI REDMI NOTE 8 Pro NOTE8 6GB 128GB 6 128 ...</td>\n",
       "      <td>F339</td>\n",
       "      <td>4239.0</td>\n",
       "      <td>OS</td>\n",
       "      <td>Xiaomi Redmi Note 6 Pro</td>\n",
       "      <td>Kota Administrasi Jakarta Barat</td>\n",
       "      <td>False</td>\n",
       "      <td>3699000</td>\n",
       "      <td>76</td>\n",
       "      <td>0</td>\n",
       "      <td>0</td>\n",
       "      <td>11</td>\n",
       "      <td>100</td>\n",
       "      <td>8</td>\n",
       "      <td>24</td>\n",
       "    </tr>\n",
       "    <tr>\n",
       "      <th>4/7/2020</th>\n",
       "      <td>Asus Zenfone 3 Max ZC520TL - 4G LTE - 2GB/32GB...</td>\n",
       "      <td>A287</td>\n",
       "      <td>843.0</td>\n",
       "      <td>OS</td>\n",
       "      <td>Asus Zenfone 3 Max ZC520TL</td>\n",
       "      <td>Kota Administrasi Jakarta Pusat</td>\n",
       "      <td>False</td>\n",
       "      <td>1580000</td>\n",
       "      <td>7</td>\n",
       "      <td>0</td>\n",
       "      <td>0</td>\n",
       "      <td>25</td>\n",
       "      <td>100</td>\n",
       "      <td>6</td>\n",
       "      <td>8</td>\n",
       "    </tr>\n",
       "    <tr>\n",
       "      <th>4/27/2020</th>\n",
       "      <td>[NEW] Huawei Honor 9 Lite RAM 3GB Internal 32G...</td>\n",
       "      <td>C1304</td>\n",
       "      <td>842.0</td>\n",
       "      <td>OS</td>\n",
       "      <td>Huawei P30 lite New Edition</td>\n",
       "      <td>Kota Administrasi Jakarta Pusat</td>\n",
       "      <td>False</td>\n",
       "      <td>2000000</td>\n",
       "      <td>999985</td>\n",
       "      <td>0</td>\n",
       "      <td>0</td>\n",
       "      <td>10</td>\n",
       "      <td>97</td>\n",
       "      <td>27</td>\n",
       "      <td>133</td>\n",
       "    </tr>\n",
       "    <tr>\n",
       "      <th>4/30/2020</th>\n",
       "      <td>Asus Zenfone 4 Selfie (ZD553KL) - Garansi Resmi</td>\n",
       "      <td>B673</td>\n",
       "      <td>813.0</td>\n",
       "      <td>OS</td>\n",
       "      <td>Asus Zenfone 4 Selfie ZD553KL</td>\n",
       "      <td>Kota Administrasi Jakarta Timur</td>\n",
       "      <td>False</td>\n",
       "      <td>1520000</td>\n",
       "      <td>2</td>\n",
       "      <td>0</td>\n",
       "      <td>0</td>\n",
       "      <td>34</td>\n",
       "      <td>96</td>\n",
       "      <td>205</td>\n",
       "      <td>423</td>\n",
       "    </tr>\n",
       "  </tbody>\n",
       "</table>\n",
       "<p>2220 rows × 15 columns</p>\n",
       "</div>"
      ],
      "text/plain": [
       "                                                    sku_name product_id  \\\n",
       "date                                                                      \n",
       "4/25/2020             oppo A9 2020 ram 8/128gb garansi resmi         E5   \n",
       "4/19/2020  [NEW] Oppo A9 2020 8/128 GB Garansi Resmi RAM ...         E7   \n",
       "4/26/2020                                    hp Oppo a9 2020         F5   \n",
       "4/28/2020             Oppo F3 Ram 4gb Rom 64gb Garansi Resmi         A2   \n",
       "4/29/2020             Oppo F3 Ram 4gb Rom 64gb Garansi Resmi         A2   \n",
       "...                                                      ...        ...   \n",
       "4/17/2020  XIAOMI REDMI NOTE 7 RAM 4GB INTERNAL 64GB 4/64...      D2319   \n",
       "4/4/2020   XIAOMI REDMI NOTE 8 Pro NOTE8 6GB 128GB 6 128 ...       F339   \n",
       "4/7/2020   Asus Zenfone 3 Max ZC520TL - 4G LTE - 2GB/32GB...       A287   \n",
       "4/27/2020  [NEW] Huawei Honor 9 Lite RAM 3GB Internal 32G...      C1304   \n",
       "4/30/2020    Asus Zenfone 4 Selfie (ZD553KL) - Garansi Resmi       B673   \n",
       "\n",
       "           merchant_code merchant_badge                   product_type  \\\n",
       "date                                                                     \n",
       "4/25/2020           12.0             RM                        Oppo A9   \n",
       "4/19/2020           16.0             RM                        Oppo A9   \n",
       "4/26/2020           17.0             RM                        Oppo A9   \n",
       "4/28/2020           10.0             RM                        Oppo F3   \n",
       "4/29/2020           10.0             RM                        Oppo F3   \n",
       "...                  ...            ...                            ...   \n",
       "4/17/2020          829.0             OS            Xiaomi Redmi Note 7   \n",
       "4/4/2020          4239.0             OS        Xiaomi Redmi Note 6 Pro   \n",
       "4/7/2020           843.0             OS     Asus Zenfone 3 Max ZC520TL   \n",
       "4/27/2020          842.0             OS    Huawei P30 lite New Edition   \n",
       "4/30/2020          813.0             OS  Asus Zenfone 4 Selfie ZD553KL   \n",
       "\n",
       "                             merchant_city    cod    price   stock  daily_gmv  \\\n",
       "date                                                                            \n",
       "4/25/2020  Kota Administrasi Jakarta Utara  False  4100000  999959          0   \n",
       "4/19/2020  Kota Administrasi Jakarta Barat  False  3575000     840          0   \n",
       "4/26/2020  Kota Administrasi Jakarta Barat  False  4000000    9925          0   \n",
       "4/28/2020           Kota Tangerang Selatan  False  3199000  999999          0   \n",
       "4/29/2020           Kota Tangerang Selatan  False  3199000  999999          0   \n",
       "...                                    ...    ...      ...     ...        ...   \n",
       "4/17/2020  Kota Administrasi Jakarta Barat  False  2650000       7          0   \n",
       "4/4/2020   Kota Administrasi Jakarta Barat  False  3699000      76          0   \n",
       "4/7/2020   Kota Administrasi Jakarta Pusat  False  1580000       7          0   \n",
       "4/27/2020  Kota Administrasi Jakarta Pusat  False  2000000  999985          0   \n",
       "4/30/2020  Kota Administrasi Jakarta Timur  False  1520000       2          0   \n",
       "\n",
       "           daily_sold  daily_view  rating  total_review  total_sold  \n",
       "date                                                                 \n",
       "4/25/2020           0           1      98            29          45  \n",
       "4/19/2020           0          14      94           119         261  \n",
       "4/26/2020           0           3     100            32          75  \n",
       "4/28/2020           0           2      94            56          91  \n",
       "4/29/2020           0           2      94            56          91  \n",
       "...               ...         ...     ...           ...         ...  \n",
       "4/17/2020           0           6      99            91         141  \n",
       "4/4/2020            0          11     100             8          24  \n",
       "4/7/2020            0          25     100             6           8  \n",
       "4/27/2020           0          10      97            27         133  \n",
       "4/30/2020           0          34      96           205         423  \n",
       "\n",
       "[2220 rows x 15 columns]"
      ]
     },
     "execution_count": 4,
     "metadata": {},
     "output_type": "execute_result"
    }
   ],
   "source": [
    "#mendapatkan jumlah duplicated\n",
    "dup=dt_mrkt.duplicated()\n",
    "print(dup.sum())\n",
    "dt_mrkt[dup]"
   ]
  },
  {
   "cell_type": "code",
   "execution_count": 7,
   "metadata": {},
   "outputs": [
    {
     "data": {
      "text/plain": [
       "sku_name          11397\n",
       "product_id        12120\n",
       "merchant_code      4094\n",
       "merchant_badge        3\n",
       "product_type        361\n",
       "merchant_city       136\n",
       "cod                   2\n",
       "price              3224\n",
       "stock               799\n",
       "daily_gmv          2760\n",
       "daily_sold          137\n",
       "daily_view          909\n",
       "rating               30\n",
       "total_review        558\n",
       "total_sold         1267\n",
       "dtype: int64"
      ]
     },
     "execution_count": 7,
     "metadata": {},
     "output_type": "execute_result"
    }
   ],
   "source": [
    "# mendapatkan jumlah tiap duplicated tiap kolom\n",
    "dt_mrkt.nunique()"
   ]
  },
  {
   "cell_type": "markdown",
   "metadata": {},
   "source": [
    "# 2. Periksa tipe data dalam dataset. Lakukan beberapa perubahan tipe data jika ada tipe data yang salah."
   ]
  },
  {
   "cell_type": "code",
   "execution_count": 5,
   "metadata": {},
   "outputs": [
    {
     "data": {
      "text/plain": [
       "sku_name           object\n",
       "product_id         object\n",
       "merchant_code     float64\n",
       "merchant_badge     object\n",
       "product_type       object\n",
       "merchant_city      object\n",
       "cod                  bool\n",
       "price               int64\n",
       "stock               int64\n",
       "daily_gmv           int64\n",
       "daily_sold          int64\n",
       "daily_view          int64\n",
       "rating              int64\n",
       "total_review        int64\n",
       "total_sold          int64\n",
       "dtype: object"
      ]
     },
     "execution_count": 5,
     "metadata": {},
     "output_type": "execute_result"
    }
   ],
   "source": [
    "#mencari type data\n",
    "dt_mrkt.dtypes"
   ]
  },
  {
   "cell_type": "code",
   "execution_count": 6,
   "metadata": {},
   "outputs": [],
   "source": [
    "#mengubah type data stock dari int ke float\n",
    "dt_mrkt['stock'] = dt_mrkt['stock'].astype(float)"
   ]
  },
  {
   "cell_type": "code",
   "execution_count": 7,
   "metadata": {},
   "outputs": [
    {
     "data": {
      "text/plain": [
       "sku_name           object\n",
       "product_id         object\n",
       "merchant_code     float64\n",
       "merchant_badge     object\n",
       "product_type       object\n",
       "merchant_city      object\n",
       "cod                  bool\n",
       "price               int64\n",
       "stock             float64\n",
       "daily_gmv           int64\n",
       "daily_sold          int64\n",
       "daily_view          int64\n",
       "rating              int64\n",
       "total_review        int64\n",
       "total_sold          int64\n",
       "dtype: object"
      ]
     },
     "execution_count": 7,
     "metadata": {},
     "output_type": "execute_result"
    }
   ],
   "source": [
    "#mengetahui type data setelah diubah\n",
    "dt_mrkt.dtypes"
   ]
  },
  {
   "cell_type": "markdown",
   "metadata": {},
   "source": [
    "# 3. Apakah ada nilai dalam variabel yang nol? Yang mana Jika ada beberapa variabel null pada dataset tersebut, silahkan isi nilainya dengan 0."
   ]
  },
  {
   "cell_type": "code",
   "execution_count": 8,
   "metadata": {},
   "outputs": [
    {
     "data": {
      "text/plain": [
       "sku_name          0\n",
       "product_id        0\n",
       "merchant_code     7\n",
       "merchant_badge    0\n",
       "product_type      0\n",
       "merchant_city     0\n",
       "cod               0\n",
       "price             0\n",
       "stock             0\n",
       "daily_gmv         0\n",
       "daily_sold        0\n",
       "daily_view        0\n",
       "rating            0\n",
       "total_review      0\n",
       "total_sold        0\n",
       "dtype: int64"
      ]
     },
     "execution_count": 8,
     "metadata": {},
     "output_type": "execute_result"
    }
   ],
   "source": [
    "#mencari nilai null\n",
    "dt_mrkt.isna().sum()"
   ]
  },
  {
   "cell_type": "code",
   "execution_count": 9,
   "metadata": {},
   "outputs": [],
   "source": [
    "#mengisi nilai variabel dengan 0\n",
    "from scipy.stats import mode\n",
    "\n",
    "dt_mrkt['merchant_code'] = dt_mrkt['merchant_code'].fillna(0)"
   ]
  },
  {
   "cell_type": "code",
   "execution_count": 10,
   "metadata": {},
   "outputs": [
    {
     "data": {
      "text/plain": [
       "sku_name          0\n",
       "product_id        0\n",
       "merchant_code     0\n",
       "merchant_badge    0\n",
       "product_type      0\n",
       "merchant_city     0\n",
       "cod               0\n",
       "price             0\n",
       "stock             0\n",
       "daily_gmv         0\n",
       "daily_sold        0\n",
       "daily_view        0\n",
       "rating            0\n",
       "total_review      0\n",
       "total_sold        0\n",
       "dtype: int64"
      ]
     },
     "execution_count": 10,
     "metadata": {},
     "output_type": "execute_result"
    }
   ],
   "source": [
    "#melihat ulang nilai \n",
    "dt_mrkt.isnull().sum()"
   ]
  },
  {
   "cell_type": "markdown",
   "metadata": {},
   "source": [
    "# 4. Apa jenis produk kategori yang dijual dalam kumpulan data?"
   ]
  },
  {
   "cell_type": "code",
   "execution_count": 11,
   "metadata": {},
   "outputs": [
    {
     "name": "stdout",
     "output_type": "stream",
     "text": [
      "<class 'pandas.core.frame.DataFrame'>\n",
      "Index: 26014 entries, 3/11/2020 to 4/11/2020\n",
      "Data columns (total 15 columns):\n",
      " #   Column          Non-Null Count  Dtype  \n",
      "---  ------          --------------  -----  \n",
      " 0   sku_name        26014 non-null  object \n",
      " 1   product_id      26014 non-null  object \n",
      " 2   merchant_code   26014 non-null  float64\n",
      " 3   merchant_badge  26014 non-null  object \n",
      " 4   product_type    26014 non-null  object \n",
      " 5   merchant_city   26014 non-null  object \n",
      " 6   cod             26014 non-null  bool   \n",
      " 7   price           26014 non-null  int64  \n",
      " 8   stock           26014 non-null  float64\n",
      " 9   daily_gmv       26014 non-null  int64  \n",
      " 10  daily_sold      26014 non-null  int64  \n",
      " 11  daily_view      26014 non-null  int64  \n",
      " 12  rating          26014 non-null  int64  \n",
      " 13  total_review    26014 non-null  int64  \n",
      " 14  total_sold      26014 non-null  int64  \n",
      "dtypes: bool(1), float64(2), int64(7), object(5)\n",
      "memory usage: 3.0+ MB\n"
     ]
    }
   ],
   "source": [
    "#mengetahui nilai dan type data dari semua kolom\n",
    "dt_mrkt.info()"
   ]
  },
  {
   "cell_type": "code",
   "execution_count": 12,
   "metadata": {},
   "outputs": [
    {
     "data": {
      "text/plain": [
       "Realme 6                 2161\n",
       "Samsung Galaxy A10s      1062\n",
       "Xiaomi Redmi Note 8      1025\n",
       "Xiaomi Redmi 7A           860\n",
       "Xiaomi Redmi 6A           747\n",
       "                         ... \n",
       "vivo Y21                    1\n",
       "Realme 2 Pro                1\n",
       "Huawei P10 Plus             1\n",
       "Asus Live G500TG            1\n",
       "Samsung Galaxy Z Flip       1\n",
       "Name: product_type, Length: 361, dtype: int64"
      ]
     },
     "execution_count": 12,
     "metadata": {},
     "output_type": "execute_result"
    }
   ],
   "source": [
    "#mendapatkan jumlah seluruh jenis produk\n",
    "dt_mrkt['product_type'].value_counts()"
   ]
  },
  {
   "cell_type": "markdown",
   "metadata": {},
   "source": [
    "# 5. Jenis produk apa yang termasuk dalam 3 produk teratas dalam penjualan?"
   ]
  },
  {
   "cell_type": "code",
   "execution_count": 13,
   "metadata": {},
   "outputs": [
    {
     "data": {
      "text/plain": [
       "product_type\n",
       "Samsung Galaxy A10s    525852\n",
       "Xiaomi Redmi 6A        332426\n",
       "Realme 6               277352\n",
       "Name: total_sold, dtype: int64"
      ]
     },
     "execution_count": 13,
     "metadata": {},
     "output_type": "execute_result"
    }
   ],
   "source": [
    "# mendapatkan 3 produk teratas\n",
    "dt_mrkt.groupby(\"product_type\")['total_sold'].sum().sort_values(ascending = False).head(3)"
   ]
  },
  {
   "cell_type": "markdown",
   "metadata": {},
   "source": [
    "# 6. Berdasarkan produk teratas pertama. Berapa harga rata-rata, dan seberapa bervariasinya harga jual? dan menampilkan visualisasi distribusi harga dengan histogram."
   ]
  },
  {
   "cell_type": "code",
   "execution_count": 14,
   "metadata": {},
   "outputs": [
    {
     "data": {
      "text/plain": [
       "product_type\n",
       "Samsung Galaxy A10s    525852\n",
       "Name: total_sold, dtype: int64"
      ]
     },
     "execution_count": 14,
     "metadata": {},
     "output_type": "execute_result"
    }
   ],
   "source": [
    "# mendapatkan produk teratas\n",
    "dt_mrkt.groupby(\"product_type\")['total_sold'].sum().sort_values(ascending = False).head(1)"
   ]
  },
  {
   "cell_type": "code",
   "execution_count": 15,
   "metadata": {},
   "outputs": [
    {
     "data": {
      "text/plain": [
       "date\n",
       "4/8/2020      186\n",
       "4/26/2020      26\n",
       "4/18/2020      73\n",
       "4/15/2020     329\n",
       "4/14/2020      73\n",
       "             ... \n",
       "4/4/2020     4100\n",
       "4/6/2020      241\n",
       "4/18/2020     203\n",
       "4/27/2020    1431\n",
       "4/7/2020      581\n",
       "Name: total_sold, Length: 1062, dtype: int64"
      ]
     },
     "execution_count": 15,
     "metadata": {},
     "output_type": "execute_result"
    }
   ],
   "source": [
    "#mendapatkan jumlah penjualan dari samsung\n",
    "dt_mrkt.groupby('product_type')['total_sold'].get_group('Samsung Galaxy A10s')"
   ]
  },
  {
   "cell_type": "code",
   "execution_count": 16,
   "metadata": {},
   "outputs": [
    {
     "data": {
      "text/html": [
       "<div>\n",
       "<style scoped>\n",
       "    .dataframe tbody tr th:only-of-type {\n",
       "        vertical-align: middle;\n",
       "    }\n",
       "\n",
       "    .dataframe tbody tr th {\n",
       "        vertical-align: top;\n",
       "    }\n",
       "\n",
       "    .dataframe thead th {\n",
       "        text-align: right;\n",
       "    }\n",
       "</style>\n",
       "<table border=\"1\" class=\"dataframe\">\n",
       "  <thead>\n",
       "    <tr style=\"text-align: right;\">\n",
       "      <th></th>\n",
       "      <th>sku_name</th>\n",
       "      <th>product_id</th>\n",
       "      <th>merchant_code</th>\n",
       "      <th>merchant_badge</th>\n",
       "      <th>product_type</th>\n",
       "      <th>merchant_city</th>\n",
       "      <th>cod</th>\n",
       "      <th>price</th>\n",
       "      <th>stock</th>\n",
       "      <th>daily_gmv</th>\n",
       "      <th>daily_sold</th>\n",
       "      <th>daily_view</th>\n",
       "      <th>rating</th>\n",
       "      <th>total_review</th>\n",
       "      <th>total_sold</th>\n",
       "    </tr>\n",
       "    <tr>\n",
       "      <th>date</th>\n",
       "      <th></th>\n",
       "      <th></th>\n",
       "      <th></th>\n",
       "      <th></th>\n",
       "      <th></th>\n",
       "      <th></th>\n",
       "      <th></th>\n",
       "      <th></th>\n",
       "      <th></th>\n",
       "      <th></th>\n",
       "      <th></th>\n",
       "      <th></th>\n",
       "      <th></th>\n",
       "      <th></th>\n",
       "      <th></th>\n",
       "    </tr>\n",
       "  </thead>\n",
       "  <tbody>\n",
       "    <tr>\n",
       "      <th>4/8/2020</th>\n",
       "      <td>Samsung A10S 2/32 garansi resmi - Random</td>\n",
       "      <td>E159</td>\n",
       "      <td>676.0</td>\n",
       "      <td>RM</td>\n",
       "      <td>Samsung Galaxy A10s</td>\n",
       "      <td>Kab. Bantul</td>\n",
       "      <td>False</td>\n",
       "      <td>1581000</td>\n",
       "      <td>0.0</td>\n",
       "      <td>1581000</td>\n",
       "      <td>1</td>\n",
       "      <td>19</td>\n",
       "      <td>100</td>\n",
       "      <td>50</td>\n",
       "      <td>186</td>\n",
       "    </tr>\n",
       "    <tr>\n",
       "      <th>4/26/2020</th>\n",
       "      <td>SAMSUNG GALAXY A10S 2GB 32GB GARANSI RESMI SEIN</td>\n",
       "      <td>E160</td>\n",
       "      <td>43.0</td>\n",
       "      <td>RM</td>\n",
       "      <td>Samsung Galaxy A10s</td>\n",
       "      <td>Kota Administrasi Jakarta Utara</td>\n",
       "      <td>False</td>\n",
       "      <td>1650000</td>\n",
       "      <td>17.0</td>\n",
       "      <td>0</td>\n",
       "      <td>0</td>\n",
       "      <td>2</td>\n",
       "      <td>99</td>\n",
       "      <td>25</td>\n",
       "      <td>26</td>\n",
       "    </tr>\n",
       "    <tr>\n",
       "      <th>4/18/2020</th>\n",
       "      <td>Samsung A10s New Garansi Resmi</td>\n",
       "      <td>F122</td>\n",
       "      <td>677.0</td>\n",
       "      <td>RM</td>\n",
       "      <td>Samsung Galaxy A10s</td>\n",
       "      <td>Kab. Bantul</td>\n",
       "      <td>False</td>\n",
       "      <td>1609400</td>\n",
       "      <td>10.0</td>\n",
       "      <td>0</td>\n",
       "      <td>0</td>\n",
       "      <td>2</td>\n",
       "      <td>100</td>\n",
       "      <td>21</td>\n",
       "      <td>73</td>\n",
       "    </tr>\n",
       "    <tr>\n",
       "      <th>4/15/2020</th>\n",
       "      <td>SAMSUNG GALAXY A10S - [2/32] - GARANSI RESMI S...</td>\n",
       "      <td>E161</td>\n",
       "      <td>678.0</td>\n",
       "      <td>RM</td>\n",
       "      <td>Samsung Galaxy A10s</td>\n",
       "      <td>Kota Administrasi Jakarta Utara</td>\n",
       "      <td>False</td>\n",
       "      <td>1589900</td>\n",
       "      <td>3.0</td>\n",
       "      <td>0</td>\n",
       "      <td>0</td>\n",
       "      <td>11</td>\n",
       "      <td>100</td>\n",
       "      <td>21</td>\n",
       "      <td>329</td>\n",
       "    </tr>\n",
       "    <tr>\n",
       "      <th>4/14/2020</th>\n",
       "      <td>Samsung A10s New Garansi Resmi</td>\n",
       "      <td>F122</td>\n",
       "      <td>677.0</td>\n",
       "      <td>RM</td>\n",
       "      <td>Samsung Galaxy A10s</td>\n",
       "      <td>Kab. Bantul</td>\n",
       "      <td>False</td>\n",
       "      <td>1609400</td>\n",
       "      <td>10.0</td>\n",
       "      <td>0</td>\n",
       "      <td>0</td>\n",
       "      <td>7</td>\n",
       "      <td>100</td>\n",
       "      <td>21</td>\n",
       "      <td>73</td>\n",
       "    </tr>\n",
       "    <tr>\n",
       "      <th>...</th>\n",
       "      <td>...</td>\n",
       "      <td>...</td>\n",
       "      <td>...</td>\n",
       "      <td>...</td>\n",
       "      <td>...</td>\n",
       "      <td>...</td>\n",
       "      <td>...</td>\n",
       "      <td>...</td>\n",
       "      <td>...</td>\n",
       "      <td>...</td>\n",
       "      <td>...</td>\n",
       "      <td>...</td>\n",
       "      <td>...</td>\n",
       "      <td>...</td>\n",
       "      <td>...</td>\n",
       "    </tr>\n",
       "    <tr>\n",
       "      <th>4/4/2020</th>\n",
       "      <td>Samsung Galaxy A10s 2/32 RAM 2GB ROM 32GB GARA...</td>\n",
       "      <td>E3287</td>\n",
       "      <td>805.0</td>\n",
       "      <td>OS</td>\n",
       "      <td>Samsung Galaxy A10s</td>\n",
       "      <td>Kota Administrasi Jakarta Pusat</td>\n",
       "      <td>False</td>\n",
       "      <td>1621000</td>\n",
       "      <td>7.0</td>\n",
       "      <td>25936000</td>\n",
       "      <td>16</td>\n",
       "      <td>565</td>\n",
       "      <td>98</td>\n",
       "      <td>529</td>\n",
       "      <td>4100</td>\n",
       "    </tr>\n",
       "    <tr>\n",
       "      <th>4/6/2020</th>\n",
       "      <td>Samsung Galaxy A10s 2/32 2GB 32GB Garansi Resm...</td>\n",
       "      <td>E328</td>\n",
       "      <td>819.0</td>\n",
       "      <td>OS</td>\n",
       "      <td>Samsung Galaxy A10s</td>\n",
       "      <td>Kota Administrasi Jakarta Pusat</td>\n",
       "      <td>False</td>\n",
       "      <td>1650000</td>\n",
       "      <td>8.0</td>\n",
       "      <td>3300000</td>\n",
       "      <td>2</td>\n",
       "      <td>236</td>\n",
       "      <td>94</td>\n",
       "      <td>35</td>\n",
       "      <td>241</td>\n",
       "    </tr>\n",
       "    <tr>\n",
       "      <th>4/18/2020</th>\n",
       "      <td>Samsung Galaxy A10S Smartphone [32GB/ 2GB] Red...</td>\n",
       "      <td>E324</td>\n",
       "      <td>822.0</td>\n",
       "      <td>OS</td>\n",
       "      <td>Samsung Galaxy A10s</td>\n",
       "      <td>Kota Administrasi Jakarta Pusat</td>\n",
       "      <td>False</td>\n",
       "      <td>1629000</td>\n",
       "      <td>18.0</td>\n",
       "      <td>3258000</td>\n",
       "      <td>2</td>\n",
       "      <td>32</td>\n",
       "      <td>98</td>\n",
       "      <td>36</td>\n",
       "      <td>203</td>\n",
       "    </tr>\n",
       "    <tr>\n",
       "      <th>4/27/2020</th>\n",
       "      <td>Samsung Galaxy A10S Smartphone [32GB/ 2GB] Bla...</td>\n",
       "      <td>E3281</td>\n",
       "      <td>822.0</td>\n",
       "      <td>OS</td>\n",
       "      <td>Samsung Galaxy A10s</td>\n",
       "      <td>Kota Administrasi Jakarta Pusat</td>\n",
       "      <td>False</td>\n",
       "      <td>1635000</td>\n",
       "      <td>20.0</td>\n",
       "      <td>0</td>\n",
       "      <td>0</td>\n",
       "      <td>663</td>\n",
       "      <td>99</td>\n",
       "      <td>203</td>\n",
       "      <td>1431</td>\n",
       "    </tr>\n",
       "    <tr>\n",
       "      <th>4/7/2020</th>\n",
       "      <td>Samsung Galaxy A10S</td>\n",
       "      <td>E317</td>\n",
       "      <td>856.0</td>\n",
       "      <td>OS</td>\n",
       "      <td>Samsung Galaxy A10s</td>\n",
       "      <td>Kab. Cirebon</td>\n",
       "      <td>False</td>\n",
       "      <td>1635000</td>\n",
       "      <td>10.0</td>\n",
       "      <td>-1635000</td>\n",
       "      <td>-1</td>\n",
       "      <td>57</td>\n",
       "      <td>98</td>\n",
       "      <td>46</td>\n",
       "      <td>581</td>\n",
       "    </tr>\n",
       "  </tbody>\n",
       "</table>\n",
       "<p>1062 rows × 15 columns</p>\n",
       "</div>"
      ],
      "text/plain": [
       "                                                    sku_name product_id  \\\n",
       "date                                                                      \n",
       "4/8/2020            Samsung A10S 2/32 garansi resmi - Random       E159   \n",
       "4/26/2020    SAMSUNG GALAXY A10S 2GB 32GB GARANSI RESMI SEIN       E160   \n",
       "4/18/2020                     Samsung A10s New Garansi Resmi       F122   \n",
       "4/15/2020  SAMSUNG GALAXY A10S - [2/32] - GARANSI RESMI S...       E161   \n",
       "4/14/2020                     Samsung A10s New Garansi Resmi       F122   \n",
       "...                                                      ...        ...   \n",
       "4/4/2020   Samsung Galaxy A10s 2/32 RAM 2GB ROM 32GB GARA...      E3287   \n",
       "4/6/2020   Samsung Galaxy A10s 2/32 2GB 32GB Garansi Resm...       E328   \n",
       "4/18/2020  Samsung Galaxy A10S Smartphone [32GB/ 2GB] Red...       E324   \n",
       "4/27/2020  Samsung Galaxy A10S Smartphone [32GB/ 2GB] Bla...      E3281   \n",
       "4/7/2020                                 Samsung Galaxy A10S       E317   \n",
       "\n",
       "           merchant_code merchant_badge         product_type  \\\n",
       "date                                                           \n",
       "4/8/2020           676.0             RM  Samsung Galaxy A10s   \n",
       "4/26/2020           43.0             RM  Samsung Galaxy A10s   \n",
       "4/18/2020          677.0             RM  Samsung Galaxy A10s   \n",
       "4/15/2020          678.0             RM  Samsung Galaxy A10s   \n",
       "4/14/2020          677.0             RM  Samsung Galaxy A10s   \n",
       "...                  ...            ...                  ...   \n",
       "4/4/2020           805.0             OS  Samsung Galaxy A10s   \n",
       "4/6/2020           819.0             OS  Samsung Galaxy A10s   \n",
       "4/18/2020          822.0             OS  Samsung Galaxy A10s   \n",
       "4/27/2020          822.0             OS  Samsung Galaxy A10s   \n",
       "4/7/2020           856.0             OS  Samsung Galaxy A10s   \n",
       "\n",
       "                             merchant_city    cod    price  stock  daily_gmv  \\\n",
       "date                                                                           \n",
       "4/8/2020                       Kab. Bantul  False  1581000    0.0    1581000   \n",
       "4/26/2020  Kota Administrasi Jakarta Utara  False  1650000   17.0          0   \n",
       "4/18/2020                      Kab. Bantul  False  1609400   10.0          0   \n",
       "4/15/2020  Kota Administrasi Jakarta Utara  False  1589900    3.0          0   \n",
       "4/14/2020                      Kab. Bantul  False  1609400   10.0          0   \n",
       "...                                    ...    ...      ...    ...        ...   \n",
       "4/4/2020   Kota Administrasi Jakarta Pusat  False  1621000    7.0   25936000   \n",
       "4/6/2020   Kota Administrasi Jakarta Pusat  False  1650000    8.0    3300000   \n",
       "4/18/2020  Kota Administrasi Jakarta Pusat  False  1629000   18.0    3258000   \n",
       "4/27/2020  Kota Administrasi Jakarta Pusat  False  1635000   20.0          0   \n",
       "4/7/2020                      Kab. Cirebon  False  1635000   10.0   -1635000   \n",
       "\n",
       "           daily_sold  daily_view  rating  total_review  total_sold  \n",
       "date                                                                 \n",
       "4/8/2020            1          19     100            50         186  \n",
       "4/26/2020           0           2      99            25          26  \n",
       "4/18/2020           0           2     100            21          73  \n",
       "4/15/2020           0          11     100            21         329  \n",
       "4/14/2020           0           7     100            21          73  \n",
       "...               ...         ...     ...           ...         ...  \n",
       "4/4/2020           16         565      98           529        4100  \n",
       "4/6/2020            2         236      94            35         241  \n",
       "4/18/2020           2          32      98            36         203  \n",
       "4/27/2020           0         663      99           203        1431  \n",
       "4/7/2020           -1          57      98            46         581  \n",
       "\n",
       "[1062 rows x 15 columns]"
      ]
     },
     "execution_count": 16,
     "metadata": {},
     "output_type": "execute_result"
    }
   ],
   "source": [
    "#menampilkan data samsung\n",
    "dt_mrkt.groupby('product_type').get_group('Samsung Galaxy A10s')"
   ]
  },
  {
   "cell_type": "code",
   "execution_count": 17,
   "metadata": {},
   "outputs": [
    {
     "name": "stdout",
     "output_type": "stream",
     "text": [
      "Variasi Harga : 196\n",
      "Total Harga : 1723255197\n",
      "Rata Rata : 1622650.8446327683\n",
      "Standar Deviasi : 48564.72580458397\n"
     ]
    }
   ],
   "source": [
    "#mencari variasi harga, total harga, rata-rata harga dan standar deviasi harga\n",
    "print('Variasi Harga :',dt_mrkt.groupby('product_type')['price'].get_group('Samsung Galaxy A10s').nunique())\n",
    "print('Total Harga :',dt_mrkt.groupby('product_type')['price'].get_group('Samsung Galaxy A10s').sum())\n",
    "print('Rata Rata :',dt_mrkt.groupby('product_type')['price'].get_group('Samsung Galaxy A10s').mean())\n",
    "print('Standar Deviasi :',dt_mrkt.groupby('product_type')['price'].get_group('Samsung Galaxy A10s').std())"
   ]
  },
  {
   "cell_type": "code",
   "execution_count": 18,
   "metadata": {},
   "outputs": [
    {
     "data": {
      "text/plain": [
       "<matplotlib.axes._subplots.AxesSubplot at 0x807136e908>"
      ]
     },
     "execution_count": 18,
     "metadata": {},
     "output_type": "execute_result"
    },
    {
     "data": {
      "image/png": "[encoded data removed]",
      "text/plain": [
       "<Figure size 432x288 with 1 Axes>"
      ]
     },
     "metadata": {
      "needs_background": "light"
     },
     "output_type": "display_data"
    }
   ],
   "source": [
    "#menampilkan visualisasi histogram\n",
    "kota=dt_mrkt.groupby('product_type')['price'].get_group('Samsung Galaxy A10s')\n",
    "kota.plot(kind='hist')"
   ]
  },
  {
   "cell_type": "markdown",
   "metadata": {},
   "source": [
    "# 7. Filter dataset hanya dengan 'Samsung Galaxy A10s', dan temukan 3 kota pedagang terlaris.Tunjukkan dengan beberapa boxplot distribusi harga antara kota pedagang 3 teratas itu!"
   ]
  },
  {
   "cell_type": "code",
   "execution_count": 19,
   "metadata": {},
   "outputs": [
    {
     "data": {
      "text/plain": [
       "merchant_city\n",
       "Kota Administrasi Jakarta Pusat    71373\n",
       "Kab. Sleman                        57790\n",
       "Kab. Bantul                        46091\n",
       "Name: total_sold, dtype: int64"
      ]
     },
     "execution_count": 19,
     "metadata": {},
     "output_type": "execute_result"
    }
   ],
   "source": [
    "#mencari 3 kota terlaris dari samsung\n",
    "kota=dt_mrkt.groupby('product_type').get_group('Samsung Galaxy A10s')\n",
    "kota.groupby('merchant_city')['total_sold'].sum().sort_values(ascending = False).head(3)"
   ]
  },
  {
   "cell_type": "code",
   "execution_count": 20,
   "metadata": {},
   "outputs": [
    {
     "data": {
      "image/png": "[encoded data removed]",
      "text/plain": [
       "<Figure size 720x720 with 1 Axes>"
      ]
     },
     "metadata": {
      "needs_background": "light"
     },
     "output_type": "display_data"
    }
   ],
   "source": [
    "#visualisasi boxplot\n",
    "list_kota = ['Kota Administrasi Jakarta Pusat','Kab. Sleman','Kab. Bantul']\n",
    "filterkota=dt_mrkt[dt_mrkt['merchant_city'].isin(list_kota)]\n",
    "plt.figure(figsize=(10,10))\n",
    "plot = sns.boxplot(x='merchant_city', y='total_sold', data=filterkota)"
   ]
  },
  {
   "cell_type": "markdown",
   "metadata": {},
   "source": [
    "# 8. Ujilah perbedaan total_sold produk Samsung Galaxy A10s dengan Xiaomi Redmi 6A menggunakan t-sample test"
   ]
  },
  {
   "cell_type": "code",
   "execution_count": 21,
   "metadata": {},
   "outputs": [
    {
     "name": "stdout",
     "output_type": "stream",
     "text": [
      "Total penjulan Samsung Galaxy A10s : 525852\n",
      "Total penjualan Xiaomi Redmi 6A : 332426\n",
      "\n",
      "Rata-rata penjulan Samsung Galaxy A10s : 495.1525423728813\n",
      "Rata-rata penjualan Xiaomi Redmi 6A : 445.0147255689424\n",
      "\n",
      "Standar deviasi Samsung Galaxy A10s : 626.6385761173309\n",
      "Standar deviasi Xiaomi Redmi 6A : 580.7835384630172\n",
      "\n",
      "p-value 0.08442284533312362\n",
      "Hipotesis Null Diterima\n"
     ]
    }
   ],
   "source": [
    "#melakukan uji t-test Samsung Galaxy A10 dan Xiaomi Redmi 6A\n",
    "from scipy.stats import ttest_ind\n",
    "#jumlah penjualan\n",
    "samsung = dt_mrkt.groupby('product_type')['total_sold'].get_group('Samsung Galaxy A10s')\n",
    "redmi = dt_mrkt.groupby('product_type')['total_sold'].get_group('Xiaomi Redmi 6A')\n",
    "\n",
    "#total penjualan\n",
    "print(\"Total penjulan Samsung Galaxy A10s :\",samsung.sum())\n",
    "print(\"Total penjualan Xiaomi Redmi 6A :\",redmi.sum())\n",
    "\n",
    "#rata-rata\n",
    "print(\"\\nRata-rata penjulan Samsung Galaxy A10s :\",samsung.mean())\n",
    "print(\"Rata-rata penjualan Xiaomi Redmi 6A :\",redmi.mean())\n",
    "\n",
    "#standar deviasi\n",
    "print(\"\\nStandar deviasi Samsung Galaxy A10s :\",samsung.std())\n",
    "print(\"Standar deviasi Xiaomi Redmi 6A :\",redmi.std())\n",
    "\n",
    "ttest,pval = ttest_ind(samsung,redmi)\n",
    "print(\"\\np-value\",pval)\n",
    "if pval <0.05:\n",
    "  print(\"Hipotesis Null Ditolak\")\n",
    "else:\n",
    "  print(\"Hipotesis Null Diterima\")"
   ]
  },
  {
   "cell_type": "markdown",
   "metadata": {},
   "source": [
    "# 9. Berikan kesimpulan dari jawaban yang telah didapatkan dari poin 1-8"
   ]
  },
  {
   "cell_type": "markdown",
   "metadata": {},
   "source": [
    "Data marketplace.csv merupakan data penjualan handphone yang dilakukan kira-kira selama 2 bulan. Dari hasil pengamatan terhadap data tersebut dapat disimpulkan bahwa produk yang paling laris terjual adalah Samsung Galaxy A10s sebanyak 525.852, rata-rata berjumlah 495,1525423728813, standar deviasi berjumlah 626,6385761173309 dan 3 kota terlaris yang menjual Samsung Galaxy A10s adalah Kota Administrasi Jakarta Pusat sebanyak 71.373, Kab. Sleman sebanyak 57.790 dan Kab. Bantul sebanyak 46.091. Setelah Samsung Galaxy A10s, 2 produk lain yang terjual paling laris adalah Xiaomi Redmi 6A sebanyak 332.426 dan Realme 6 sebanyak 277.352. Perbandingan produk Samsung Galaxy A10s dengan produk Xiaomi Redmi 6A menggunakan t-sample test memperoleh hasil bahwa produk Samsung lebih disukai sehingga lebih banyak terjual daripada produk Redmi dengan hasil dari p-value adalah 0.08442284533312362 sehingga dapat disimpulkan bahwa Hipotesis Null Diterima."
   ]
  },
  {
   "cell_type": "code",
   "execution_count": null,
   "metadata": {},
   "outputs": [],
   "source": []
  }
 ],
 "metadata": {
  "kernelspec": {
   "display_name": "Python 3",
   "language": "python",
   "name": "python3"
  },
  "language_info": {
   "codemirror_mode": {
    "name": "ipython",
    "version": 3
   },
   "file_extension": ".py",
   "mimetype": "text/x-python",
   "name": "python",
   "nbconvert_exporter": "python",
   "pygments_lexer": "ipython3",
   "version": "3.7.4"
  }
 },
 "nbformat": 4,
 "nbformat_minor": 4
}
