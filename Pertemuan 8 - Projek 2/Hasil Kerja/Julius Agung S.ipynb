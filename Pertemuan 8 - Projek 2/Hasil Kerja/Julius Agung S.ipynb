{
 "cells": [
  {
   "cell_type": "code",
   "execution_count": 1,
   "id": "conservative-building",
   "metadata": {},
   "outputs": [],
   "source": [
    "import pandas as pd\n",
    "import numpy as np\n",
    "import seaborn as sns\n",
    "import matplotlib.pyplot as plt\n",
    "%matplotlib inline\n",
    " \n",
    "from sklearn.preprocessing import StandardScaler\n",
    "from sklearn.decomposition import PCA\n",
    "from sklearn import decomposition"
   ]
  },
  {
   "cell_type": "code",
   "execution_count": 2,
   "id": "linear-electronics",
   "metadata": {},
   "outputs": [
    {
     "data": {
      "text/plain": [
       "(26014, 15)"
      ]
     },
     "execution_count": 2,
     "metadata": {},
     "output_type": "execute_result"
    }
   ],
   "source": [
    "data = pd.read_csv('marketplace.csv', sep=',', index_col=0)\n",
    "data.shape"
   ]
  },
  {
   "cell_type": "code",
   "execution_count": 3,
   "id": "practical-manitoba",
   "metadata": {},
   "outputs": [
    {
     "name": "stdout",
     "output_type": "stream",
     "text": [
      "2220\n"
     ]
    },
    {
     "data": {
      "text/html": [
       "<div>\n",
       "<style scoped>\n",
       "    .dataframe tbody tr th:only-of-type {\n",
       "        vertical-align: middle;\n",
       "    }\n",
       "\n",
       "    .dataframe tbody tr th {\n",
       "        vertical-align: top;\n",
       "    }\n",
       "\n",
       "    .dataframe thead th {\n",
       "        text-align: right;\n",
       "    }\n",
       "</style>\n",
       "<table border=\"1\" class=\"dataframe\">\n",
       "  <thead>\n",
       "    <tr style=\"text-align: right;\">\n",
       "      <th></th>\n",
       "      <th>sku_name</th>\n",
       "      <th>product_id</th>\n",
       "      <th>merchant_code</th>\n",
       "      <th>merchant_badge</th>\n",
       "      <th>product_type</th>\n",
       "      <th>merchant_city</th>\n",
       "      <th>cod</th>\n",
       "      <th>price</th>\n",
       "      <th>stock</th>\n",
       "      <th>daily_gmv</th>\n",
       "      <th>daily_sold</th>\n",
       "      <th>daily_view</th>\n",
       "      <th>rating</th>\n",
       "      <th>total_review</th>\n",
       "      <th>total_sold</th>\n",
       "    </tr>\n",
       "    <tr>\n",
       "      <th>date</th>\n",
       "      <th></th>\n",
       "      <th></th>\n",
       "      <th></th>\n",
       "      <th></th>\n",
       "      <th></th>\n",
       "      <th></th>\n",
       "      <th></th>\n",
       "      <th></th>\n",
       "      <th></th>\n",
       "      <th></th>\n",
       "      <th></th>\n",
       "      <th></th>\n",
       "      <th></th>\n",
       "      <th></th>\n",
       "      <th></th>\n",
       "    </tr>\n",
       "  </thead>\n",
       "  <tbody>\n",
       "    <tr>\n",
       "      <th>4/25/2020</th>\n",
       "      <td>oppo A9 2020 ram 8/128gb garansi resmi</td>\n",
       "      <td>E5</td>\n",
       "      <td>12.0</td>\n",
       "      <td>RM</td>\n",
       "      <td>Oppo A9</td>\n",
       "      <td>Kota Administrasi Jakarta Utara</td>\n",
       "      <td>False</td>\n",
       "      <td>4100000</td>\n",
       "      <td>999959</td>\n",
       "      <td>0</td>\n",
       "      <td>0</td>\n",
       "      <td>1</td>\n",
       "      <td>98</td>\n",
       "      <td>29</td>\n",
       "      <td>45</td>\n",
       "    </tr>\n",
       "    <tr>\n",
       "      <th>4/19/2020</th>\n",
       "      <td>[NEW] Oppo A9 2020 8/128 GB Garansi Resmi RAM ...</td>\n",
       "      <td>E7</td>\n",
       "      <td>16.0</td>\n",
       "      <td>RM</td>\n",
       "      <td>Oppo A9</td>\n",
       "      <td>Kota Administrasi Jakarta Barat</td>\n",
       "      <td>False</td>\n",
       "      <td>3575000</td>\n",
       "      <td>840</td>\n",
       "      <td>0</td>\n",
       "      <td>0</td>\n",
       "      <td>14</td>\n",
       "      <td>94</td>\n",
       "      <td>119</td>\n",
       "      <td>261</td>\n",
       "    </tr>\n",
       "    <tr>\n",
       "      <th>4/26/2020</th>\n",
       "      <td>hp Oppo a9 2020</td>\n",
       "      <td>F5</td>\n",
       "      <td>17.0</td>\n",
       "      <td>RM</td>\n",
       "      <td>Oppo A9</td>\n",
       "      <td>Kota Administrasi Jakarta Barat</td>\n",
       "      <td>False</td>\n",
       "      <td>4000000</td>\n",
       "      <td>9925</td>\n",
       "      <td>0</td>\n",
       "      <td>0</td>\n",
       "      <td>3</td>\n",
       "      <td>100</td>\n",
       "      <td>32</td>\n",
       "      <td>75</td>\n",
       "    </tr>\n",
       "    <tr>\n",
       "      <th>4/28/2020</th>\n",
       "      <td>Oppo F3 Ram 4gb Rom 64gb Garansi Resmi</td>\n",
       "      <td>A2</td>\n",
       "      <td>10.0</td>\n",
       "      <td>RM</td>\n",
       "      <td>Oppo F3</td>\n",
       "      <td>Kota Tangerang Selatan</td>\n",
       "      <td>False</td>\n",
       "      <td>3199000</td>\n",
       "      <td>999999</td>\n",
       "      <td>0</td>\n",
       "      <td>0</td>\n",
       "      <td>2</td>\n",
       "      <td>94</td>\n",
       "      <td>56</td>\n",
       "      <td>91</td>\n",
       "    </tr>\n",
       "    <tr>\n",
       "      <th>4/29/2020</th>\n",
       "      <td>Oppo F3 Ram 4gb Rom 64gb Garansi Resmi</td>\n",
       "      <td>A2</td>\n",
       "      <td>10.0</td>\n",
       "      <td>RM</td>\n",
       "      <td>Oppo F3</td>\n",
       "      <td>Kota Tangerang Selatan</td>\n",
       "      <td>False</td>\n",
       "      <td>3199000</td>\n",
       "      <td>999999</td>\n",
       "      <td>0</td>\n",
       "      <td>0</td>\n",
       "      <td>2</td>\n",
       "      <td>94</td>\n",
       "      <td>56</td>\n",
       "      <td>91</td>\n",
       "    </tr>\n",
       "    <tr>\n",
       "      <th>...</th>\n",
       "      <td>...</td>\n",
       "      <td>...</td>\n",
       "      <td>...</td>\n",
       "      <td>...</td>\n",
       "      <td>...</td>\n",
       "      <td>...</td>\n",
       "      <td>...</td>\n",
       "      <td>...</td>\n",
       "      <td>...</td>\n",
       "      <td>...</td>\n",
       "      <td>...</td>\n",
       "      <td>...</td>\n",
       "      <td>...</td>\n",
       "      <td>...</td>\n",
       "      <td>...</td>\n",
       "    </tr>\n",
       "    <tr>\n",
       "      <th>4/17/2020</th>\n",
       "      <td>XIAOMI REDMI NOTE 7 RAM 4GB INTERNAL 64GB 4/64...</td>\n",
       "      <td>D2319</td>\n",
       "      <td>829.0</td>\n",
       "      <td>OS</td>\n",
       "      <td>Xiaomi Redmi Note 7</td>\n",
       "      <td>Kota Administrasi Jakarta Barat</td>\n",
       "      <td>False</td>\n",
       "      <td>2650000</td>\n",
       "      <td>7</td>\n",
       "      <td>0</td>\n",
       "      <td>0</td>\n",
       "      <td>6</td>\n",
       "      <td>99</td>\n",
       "      <td>91</td>\n",
       "      <td>141</td>\n",
       "    </tr>\n",
       "    <tr>\n",
       "      <th>4/4/2020</th>\n",
       "      <td>XIAOMI REDMI NOTE 8 Pro NOTE8 6GB 128GB 6 128 ...</td>\n",
       "      <td>F339</td>\n",
       "      <td>4239.0</td>\n",
       "      <td>OS</td>\n",
       "      <td>Xiaomi Redmi Note 6 Pro</td>\n",
       "      <td>Kota Administrasi Jakarta Barat</td>\n",
       "      <td>False</td>\n",
       "      <td>3699000</td>\n",
       "      <td>76</td>\n",
       "      <td>0</td>\n",
       "      <td>0</td>\n",
       "      <td>11</td>\n",
       "      <td>100</td>\n",
       "      <td>8</td>\n",
       "      <td>24</td>\n",
       "    </tr>\n",
       "    <tr>\n",
       "      <th>4/7/2020</th>\n",
       "      <td>Asus Zenfone 3 Max ZC520TL - 4G LTE - 2GB/32GB...</td>\n",
       "      <td>A287</td>\n",
       "      <td>843.0</td>\n",
       "      <td>OS</td>\n",
       "      <td>Asus Zenfone 3 Max ZC520TL</td>\n",
       "      <td>Kota Administrasi Jakarta Pusat</td>\n",
       "      <td>False</td>\n",
       "      <td>1580000</td>\n",
       "      <td>7</td>\n",
       "      <td>0</td>\n",
       "      <td>0</td>\n",
       "      <td>25</td>\n",
       "      <td>100</td>\n",
       "      <td>6</td>\n",
       "      <td>8</td>\n",
       "    </tr>\n",
       "    <tr>\n",
       "      <th>4/27/2020</th>\n",
       "      <td>[NEW] Huawei Honor 9 Lite RAM 3GB Internal 32G...</td>\n",
       "      <td>C1304</td>\n",
       "      <td>842.0</td>\n",
       "      <td>OS</td>\n",
       "      <td>Huawei P30 lite New Edition</td>\n",
       "      <td>Kota Administrasi Jakarta Pusat</td>\n",
       "      <td>False</td>\n",
       "      <td>2000000</td>\n",
       "      <td>999985</td>\n",
       "      <td>0</td>\n",
       "      <td>0</td>\n",
       "      <td>10</td>\n",
       "      <td>97</td>\n",
       "      <td>27</td>\n",
       "      <td>133</td>\n",
       "    </tr>\n",
       "    <tr>\n",
       "      <th>4/30/2020</th>\n",
       "      <td>Asus Zenfone 4 Selfie (ZD553KL) - Garansi Resmi</td>\n",
       "      <td>B673</td>\n",
       "      <td>813.0</td>\n",
       "      <td>OS</td>\n",
       "      <td>Asus Zenfone 4 Selfie ZD553KL</td>\n",
       "      <td>Kota Administrasi Jakarta Timur</td>\n",
       "      <td>False</td>\n",
       "      <td>1520000</td>\n",
       "      <td>2</td>\n",
       "      <td>0</td>\n",
       "      <td>0</td>\n",
       "      <td>34</td>\n",
       "      <td>96</td>\n",
       "      <td>205</td>\n",
       "      <td>423</td>\n",
       "    </tr>\n",
       "  </tbody>\n",
       "</table>\n",
       "<p>2220 rows × 15 columns</p>\n",
       "</div>"
      ],
      "text/plain": [
       "                                                    sku_name product_id  \\\n",
       "date                                                                      \n",
       "4/25/2020             oppo A9 2020 ram 8/128gb garansi resmi         E5   \n",
       "4/19/2020  [NEW] Oppo A9 2020 8/128 GB Garansi Resmi RAM ...         E7   \n",
       "4/26/2020                                    hp Oppo a9 2020         F5   \n",
       "4/28/2020             Oppo F3 Ram 4gb Rom 64gb Garansi Resmi         A2   \n",
       "4/29/2020             Oppo F3 Ram 4gb Rom 64gb Garansi Resmi         A2   \n",
       "...                                                      ...        ...   \n",
       "4/17/2020  XIAOMI REDMI NOTE 7 RAM 4GB INTERNAL 64GB 4/64...      D2319   \n",
       "4/4/2020   XIAOMI REDMI NOTE 8 Pro NOTE8 6GB 128GB 6 128 ...       F339   \n",
       "4/7/2020   Asus Zenfone 3 Max ZC520TL - 4G LTE - 2GB/32GB...       A287   \n",
       "4/27/2020  [NEW] Huawei Honor 9 Lite RAM 3GB Internal 32G...      C1304   \n",
       "4/30/2020    Asus Zenfone 4 Selfie (ZD553KL) - Garansi Resmi       B673   \n",
       "\n",
       "           merchant_code merchant_badge                   product_type  \\\n",
       "date                                                                     \n",
       "4/25/2020           12.0             RM                        Oppo A9   \n",
       "4/19/2020           16.0             RM                        Oppo A9   \n",
       "4/26/2020           17.0             RM                        Oppo A9   \n",
       "4/28/2020           10.0             RM                        Oppo F3   \n",
       "4/29/2020           10.0             RM                        Oppo F3   \n",
       "...                  ...            ...                            ...   \n",
       "4/17/2020          829.0             OS            Xiaomi Redmi Note 7   \n",
       "4/4/2020          4239.0             OS        Xiaomi Redmi Note 6 Pro   \n",
       "4/7/2020           843.0             OS     Asus Zenfone 3 Max ZC520TL   \n",
       "4/27/2020          842.0             OS    Huawei P30 lite New Edition   \n",
       "4/30/2020          813.0             OS  Asus Zenfone 4 Selfie ZD553KL   \n",
       "\n",
       "                             merchant_city    cod    price   stock  daily_gmv  \\\n",
       "date                                                                            \n",
       "4/25/2020  Kota Administrasi Jakarta Utara  False  4100000  999959          0   \n",
       "4/19/2020  Kota Administrasi Jakarta Barat  False  3575000     840          0   \n",
       "4/26/2020  Kota Administrasi Jakarta Barat  False  4000000    9925          0   \n",
       "4/28/2020           Kota Tangerang Selatan  False  3199000  999999          0   \n",
       "4/29/2020           Kota Tangerang Selatan  False  3199000  999999          0   \n",
       "...                                    ...    ...      ...     ...        ...   \n",
       "4/17/2020  Kota Administrasi Jakarta Barat  False  2650000       7          0   \n",
       "4/4/2020   Kota Administrasi Jakarta Barat  False  3699000      76          0   \n",
       "4/7/2020   Kota Administrasi Jakarta Pusat  False  1580000       7          0   \n",
       "4/27/2020  Kota Administrasi Jakarta Pusat  False  2000000  999985          0   \n",
       "4/30/2020  Kota Administrasi Jakarta Timur  False  1520000       2          0   \n",
       "\n",
       "           daily_sold  daily_view  rating  total_review  total_sold  \n",
       "date                                                                 \n",
       "4/25/2020           0           1      98            29          45  \n",
       "4/19/2020           0          14      94           119         261  \n",
       "4/26/2020           0           3     100            32          75  \n",
       "4/28/2020           0           2      94            56          91  \n",
       "4/29/2020           0           2      94            56          91  \n",
       "...               ...         ...     ...           ...         ...  \n",
       "4/17/2020           0           6      99            91         141  \n",
       "4/4/2020            0          11     100             8          24  \n",
       "4/7/2020            0          25     100             6           8  \n",
       "4/27/2020           0          10      97            27         133  \n",
       "4/30/2020           0          34      96           205         423  \n",
       "\n",
       "[2220 rows x 15 columns]"
      ]
     },
     "execution_count": 3,
     "metadata": {},
     "output_type": "execute_result"
    }
   ],
   "source": [
    "dup = data.duplicated()\n",
    "print(dup.sum())\n",
    "data[dup]"
   ]
  },
  {
   "cell_type": "code",
   "execution_count": 4,
   "id": "scenic-nitrogen",
   "metadata": {},
   "outputs": [
    {
     "data": {
      "text/html": [
       "<div>\n",
       "<style scoped>\n",
       "    .dataframe tbody tr th:only-of-type {\n",
       "        vertical-align: middle;\n",
       "    }\n",
       "\n",
       "    .dataframe tbody tr th {\n",
       "        vertical-align: top;\n",
       "    }\n",
       "\n",
       "    .dataframe thead th {\n",
       "        text-align: right;\n",
       "    }\n",
       "</style>\n",
       "<table border=\"1\" class=\"dataframe\">\n",
       "  <thead>\n",
       "    <tr style=\"text-align: right;\">\n",
       "      <th></th>\n",
       "      <th>sku_name</th>\n",
       "      <th>product_id</th>\n",
       "      <th>merchant_code</th>\n",
       "      <th>merchant_badge</th>\n",
       "      <th>product_type</th>\n",
       "      <th>merchant_city</th>\n",
       "      <th>cod</th>\n",
       "      <th>price</th>\n",
       "      <th>stock</th>\n",
       "      <th>daily_gmv</th>\n",
       "      <th>daily_sold</th>\n",
       "      <th>daily_view</th>\n",
       "      <th>rating</th>\n",
       "      <th>total_review</th>\n",
       "      <th>total_sold</th>\n",
       "    </tr>\n",
       "    <tr>\n",
       "      <th>date</th>\n",
       "      <th></th>\n",
       "      <th></th>\n",
       "      <th></th>\n",
       "      <th></th>\n",
       "      <th></th>\n",
       "      <th></th>\n",
       "      <th></th>\n",
       "      <th></th>\n",
       "      <th></th>\n",
       "      <th></th>\n",
       "      <th></th>\n",
       "      <th></th>\n",
       "      <th></th>\n",
       "      <th></th>\n",
       "      <th></th>\n",
       "    </tr>\n",
       "  </thead>\n",
       "  <tbody>\n",
       "    <tr>\n",
       "      <th>3/11/2020</th>\n",
       "      <td>HUAWEI NOVA 5T RAM 8GB INTERNAL 128GB</td>\n",
       "      <td>E1</td>\n",
       "      <td>1.0</td>\n",
       "      <td>PM</td>\n",
       "      <td>Huawei nova 5T</td>\n",
       "      <td>Kota Kediri</td>\n",
       "      <td>False</td>\n",
       "      <td>4500000</td>\n",
       "      <td>1</td>\n",
       "      <td>0</td>\n",
       "      <td>0</td>\n",
       "      <td>0</td>\n",
       "      <td>95</td>\n",
       "      <td>37</td>\n",
       "      <td>74</td>\n",
       "    </tr>\n",
       "    <tr>\n",
       "      <th>3/26/2020</th>\n",
       "      <td>Huawei Nova 5T (8GB/128GB) - Crush Green</td>\n",
       "      <td>F1</td>\n",
       "      <td>2.0</td>\n",
       "      <td>OS</td>\n",
       "      <td>Huawei nova 5T</td>\n",
       "      <td>Kota Administrasi Jakarta Utara</td>\n",
       "      <td>False</td>\n",
       "      <td>4999000</td>\n",
       "      <td>5</td>\n",
       "      <td>0</td>\n",
       "      <td>0</td>\n",
       "      <td>0</td>\n",
       "      <td>0</td>\n",
       "      <td>0</td>\n",
       "      <td>2</td>\n",
       "    </tr>\n",
       "    <tr>\n",
       "      <th>3/23/2020</th>\n",
       "      <td>HUAWEI NOVA 5T RAM 8/128 GARANSI RESMI HUAWEI ...</td>\n",
       "      <td>F2</td>\n",
       "      <td>3.0</td>\n",
       "      <td>PM</td>\n",
       "      <td>Huawei nova 5T</td>\n",
       "      <td>Kota Administrasi Jakarta Barat</td>\n",
       "      <td>False</td>\n",
       "      <td>4589900</td>\n",
       "      <td>16</td>\n",
       "      <td>0</td>\n",
       "      <td>0</td>\n",
       "      <td>0</td>\n",
       "      <td>96</td>\n",
       "      <td>12</td>\n",
       "      <td>19</td>\n",
       "    </tr>\n",
       "    <tr>\n",
       "      <th>4/29/2020</th>\n",
       "      <td>HUAWEI NOVA 5T RAM 8/128GB GARANSI RESMI HUAWE...</td>\n",
       "      <td>E2</td>\n",
       "      <td>4.0</td>\n",
       "      <td>OS</td>\n",
       "      <td>Huawei nova 5T</td>\n",
       "      <td>Kota Surabaya</td>\n",
       "      <td>False</td>\n",
       "      <td>4698500</td>\n",
       "      <td>5</td>\n",
       "      <td>0</td>\n",
       "      <td>0</td>\n",
       "      <td>0</td>\n",
       "      <td>99</td>\n",
       "      <td>42</td>\n",
       "      <td>63</td>\n",
       "    </tr>\n",
       "    <tr>\n",
       "      <th>4/15/2020</th>\n",
       "      <td>nokia 3310 reborn</td>\n",
       "      <td>C1</td>\n",
       "      <td>5.0</td>\n",
       "      <td>RM</td>\n",
       "      <td>Nokia 1</td>\n",
       "      <td>Kab. Bangkalan</td>\n",
       "      <td>True</td>\n",
       "      <td>1000000</td>\n",
       "      <td>999999</td>\n",
       "      <td>0</td>\n",
       "      <td>0</td>\n",
       "      <td>3</td>\n",
       "      <td>100</td>\n",
       "      <td>18</td>\n",
       "      <td>82</td>\n",
       "    </tr>\n",
       "    <tr>\n",
       "      <th>...</th>\n",
       "      <td>...</td>\n",
       "      <td>...</td>\n",
       "      <td>...</td>\n",
       "      <td>...</td>\n",
       "      <td>...</td>\n",
       "      <td>...</td>\n",
       "      <td>...</td>\n",
       "      <td>...</td>\n",
       "      <td>...</td>\n",
       "      <td>...</td>\n",
       "      <td>...</td>\n",
       "      <td>...</td>\n",
       "      <td>...</td>\n",
       "      <td>...</td>\n",
       "      <td>...</td>\n",
       "    </tr>\n",
       "    <tr>\n",
       "      <th>4/27/2020</th>\n",
       "      <td>Asus Zenfone Max Pro M1 - ZB602KL - 4GB/64GB -...</td>\n",
       "      <td>B311</td>\n",
       "      <td>813.0</td>\n",
       "      <td>OS</td>\n",
       "      <td>Asus Zenfone Max Pro (M1) ZB601KL/ZB602K</td>\n",
       "      <td>Kota Administrasi Jakarta Timur</td>\n",
       "      <td>False</td>\n",
       "      <td>2300000</td>\n",
       "      <td>5</td>\n",
       "      <td>0</td>\n",
       "      <td>0</td>\n",
       "      <td>34</td>\n",
       "      <td>96</td>\n",
       "      <td>99</td>\n",
       "      <td>262</td>\n",
       "    </tr>\n",
       "    <tr>\n",
       "      <th>4/8/2020</th>\n",
       "      <td>Asus Zenfone Max Pro M1 Ram 6/64GB Garansi Res...</td>\n",
       "      <td>E417</td>\n",
       "      <td>828.0</td>\n",
       "      <td>OS</td>\n",
       "      <td>Asus Zenfone Max Pro (M1) ZB601KL/ZB602K</td>\n",
       "      <td>Kota Administrasi Jakarta Pusat</td>\n",
       "      <td>False</td>\n",
       "      <td>2045000</td>\n",
       "      <td>9</td>\n",
       "      <td>4090000</td>\n",
       "      <td>2</td>\n",
       "      <td>65</td>\n",
       "      <td>98</td>\n",
       "      <td>16</td>\n",
       "      <td>29</td>\n",
       "    </tr>\n",
       "    <tr>\n",
       "      <th>4/2/2020</th>\n",
       "      <td>Asus Zenfone Max Pro M1 ZB602KL 3/32 GARANSI R...</td>\n",
       "      <td>B676</td>\n",
       "      <td>809.0</td>\n",
       "      <td>OS</td>\n",
       "      <td>Asus Zenfone Max Pro (M1) ZB601KL/ZB602K</td>\n",
       "      <td>Kota Administrasi Jakarta Pusat</td>\n",
       "      <td>False</td>\n",
       "      <td>1550000</td>\n",
       "      <td>5</td>\n",
       "      <td>0</td>\n",
       "      <td>0</td>\n",
       "      <td>694</td>\n",
       "      <td>98</td>\n",
       "      <td>123</td>\n",
       "      <td>393</td>\n",
       "    </tr>\n",
       "    <tr>\n",
       "      <th>4/15/2020</th>\n",
       "      <td>Asus Zenfone Max M1 Pro ZB602KL -6GB/64GB - Ga...</td>\n",
       "      <td>B312</td>\n",
       "      <td>813.0</td>\n",
       "      <td>OS</td>\n",
       "      <td>Asus Zenfone Max Pro (M1) ZB601KL/ZB602K</td>\n",
       "      <td>Kota Administrasi Jakarta Timur</td>\n",
       "      <td>False</td>\n",
       "      <td>2085000</td>\n",
       "      <td>10</td>\n",
       "      <td>4170000</td>\n",
       "      <td>2</td>\n",
       "      <td>290</td>\n",
       "      <td>96</td>\n",
       "      <td>48</td>\n",
       "      <td>126</td>\n",
       "    </tr>\n",
       "    <tr>\n",
       "      <th>4/11/2020</th>\n",
       "      <td>Asus Zenfone Max M1 Pro ZB602KL -6GB/64GB - Ga...</td>\n",
       "      <td>B312</td>\n",
       "      <td>813.0</td>\n",
       "      <td>OS</td>\n",
       "      <td>Asus Zenfone Max Pro (M1) ZB601KL/ZB602K</td>\n",
       "      <td>Kota Administrasi Jakarta Timur</td>\n",
       "      <td>False</td>\n",
       "      <td>2085000</td>\n",
       "      <td>15</td>\n",
       "      <td>12510000</td>\n",
       "      <td>6</td>\n",
       "      <td>267</td>\n",
       "      <td>96</td>\n",
       "      <td>47</td>\n",
       "      <td>121</td>\n",
       "    </tr>\n",
       "  </tbody>\n",
       "</table>\n",
       "<p>23794 rows × 15 columns</p>\n",
       "</div>"
      ],
      "text/plain": [
       "                                                    sku_name product_id  \\\n",
       "date                                                                      \n",
       "3/11/2020              HUAWEI NOVA 5T RAM 8GB INTERNAL 128GB         E1   \n",
       "3/26/2020           Huawei Nova 5T (8GB/128GB) - Crush Green         F1   \n",
       "3/23/2020  HUAWEI NOVA 5T RAM 8/128 GARANSI RESMI HUAWEI ...         F2   \n",
       "4/29/2020  HUAWEI NOVA 5T RAM 8/128GB GARANSI RESMI HUAWE...         E2   \n",
       "4/15/2020                                  nokia 3310 reborn         C1   \n",
       "...                                                      ...        ...   \n",
       "4/27/2020  Asus Zenfone Max Pro M1 - ZB602KL - 4GB/64GB -...       B311   \n",
       "4/8/2020   Asus Zenfone Max Pro M1 Ram 6/64GB Garansi Res...       E417   \n",
       "4/2/2020   Asus Zenfone Max Pro M1 ZB602KL 3/32 GARANSI R...       B676   \n",
       "4/15/2020  Asus Zenfone Max M1 Pro ZB602KL -6GB/64GB - Ga...       B312   \n",
       "4/11/2020  Asus Zenfone Max M1 Pro ZB602KL -6GB/64GB - Ga...       B312   \n",
       "\n",
       "           merchant_code merchant_badge  \\\n",
       "date                                      \n",
       "3/11/2020            1.0             PM   \n",
       "3/26/2020            2.0             OS   \n",
       "3/23/2020            3.0             PM   \n",
       "4/29/2020            4.0             OS   \n",
       "4/15/2020            5.0             RM   \n",
       "...                  ...            ...   \n",
       "4/27/2020          813.0             OS   \n",
       "4/8/2020           828.0             OS   \n",
       "4/2/2020           809.0             OS   \n",
       "4/15/2020          813.0             OS   \n",
       "4/11/2020          813.0             OS   \n",
       "\n",
       "                                       product_type  \\\n",
       "date                                                  \n",
       "3/11/2020                            Huawei nova 5T   \n",
       "3/26/2020                            Huawei nova 5T   \n",
       "3/23/2020                            Huawei nova 5T   \n",
       "4/29/2020                            Huawei nova 5T   \n",
       "4/15/2020                                   Nokia 1   \n",
       "...                                             ...   \n",
       "4/27/2020  Asus Zenfone Max Pro (M1) ZB601KL/ZB602K   \n",
       "4/8/2020   Asus Zenfone Max Pro (M1) ZB601KL/ZB602K   \n",
       "4/2/2020   Asus Zenfone Max Pro (M1) ZB601KL/ZB602K   \n",
       "4/15/2020  Asus Zenfone Max Pro (M1) ZB601KL/ZB602K   \n",
       "4/11/2020  Asus Zenfone Max Pro (M1) ZB601KL/ZB602K   \n",
       "\n",
       "                             merchant_city    cod    price   stock  daily_gmv  \\\n",
       "date                                                                            \n",
       "3/11/2020                      Kota Kediri  False  4500000       1          0   \n",
       "3/26/2020  Kota Administrasi Jakarta Utara  False  4999000       5          0   \n",
       "3/23/2020  Kota Administrasi Jakarta Barat  False  4589900      16          0   \n",
       "4/29/2020                    Kota Surabaya  False  4698500       5          0   \n",
       "4/15/2020                   Kab. Bangkalan   True  1000000  999999          0   \n",
       "...                                    ...    ...      ...     ...        ...   \n",
       "4/27/2020  Kota Administrasi Jakarta Timur  False  2300000       5          0   \n",
       "4/8/2020   Kota Administrasi Jakarta Pusat  False  2045000       9    4090000   \n",
       "4/2/2020   Kota Administrasi Jakarta Pusat  False  1550000       5          0   \n",
       "4/15/2020  Kota Administrasi Jakarta Timur  False  2085000      10    4170000   \n",
       "4/11/2020  Kota Administrasi Jakarta Timur  False  2085000      15   12510000   \n",
       "\n",
       "           daily_sold  daily_view  rating  total_review  total_sold  \n",
       "date                                                                 \n",
       "3/11/2020           0           0      95            37          74  \n",
       "3/26/2020           0           0       0             0           2  \n",
       "3/23/2020           0           0      96            12          19  \n",
       "4/29/2020           0           0      99            42          63  \n",
       "4/15/2020           0           3     100            18          82  \n",
       "...               ...         ...     ...           ...         ...  \n",
       "4/27/2020           0          34      96            99         262  \n",
       "4/8/2020            2          65      98            16          29  \n",
       "4/2/2020            0         694      98           123         393  \n",
       "4/15/2020           2         290      96            48         126  \n",
       "4/11/2020           6         267      96            47         121  \n",
       "\n",
       "[23794 rows x 15 columns]"
      ]
     },
     "execution_count": 4,
     "metadata": {},
     "output_type": "execute_result"
    }
   ],
   "source": [
    "dup = data.drop_duplicates()\n",
    "dup"
   ]
  },
  {
   "cell_type": "code",
   "execution_count": 4,
   "id": "sensitive-struggle",
   "metadata": {
    "scrolled": true
   },
   "outputs": [
    {
     "name": "stdout",
     "output_type": "stream",
     "text": [
      "<class 'pandas.core.frame.DataFrame'>\n",
      "Index: 26014 entries, 3/11/2020 to 4/11/2020\n",
      "Data columns (total 15 columns):\n",
      " #   Column          Non-Null Count  Dtype  \n",
      "---  ------          --------------  -----  \n",
      " 0   sku_name        26014 non-null  object \n",
      " 1   product_id      26014 non-null  object \n",
      " 2   merchant_code   26007 non-null  float64\n",
      " 3   merchant_badge  26014 non-null  object \n",
      " 4   product_type    26014 non-null  object \n",
      " 5   merchant_city   26014 non-null  object \n",
      " 6   cod             26014 non-null  bool   \n",
      " 7   price           26014 non-null  int64  \n",
      " 8   stock           26014 non-null  int64  \n",
      " 9   daily_gmv       26014 non-null  int64  \n",
      " 10  daily_sold      26014 non-null  int64  \n",
      " 11  daily_view      26014 non-null  int64  \n",
      " 12  rating          26014 non-null  int64  \n",
      " 13  total_review    26014 non-null  int64  \n",
      " 14  total_sold      26014 non-null  int64  \n",
      "dtypes: bool(1), float64(1), int64(8), object(5)\n",
      "memory usage: 3.0+ MB\n"
     ]
    }
   ],
   "source": [
    "data.info()"
   ]
  },
  {
   "cell_type": "code",
   "execution_count": 6,
   "id": "expanded-mainland",
   "metadata": {},
   "outputs": [],
   "source": [
    "data[['merchant_code']]=data[['merchant_code']].astype('Int64')"
   ]
  },
  {
   "cell_type": "code",
   "execution_count": 11,
   "id": "changed-segment",
   "metadata": {},
   "outputs": [
    {
     "name": "stdout",
     "output_type": "stream",
     "text": [
      "<class 'pandas.core.frame.DataFrame'>\n",
      "Index: 26014 entries, 3/11/2020 to 4/11/2020\n",
      "Data columns (total 15 columns):\n",
      " #   Column          Non-Null Count  Dtype \n",
      "---  ------          --------------  ----- \n",
      " 0   sku_name        26014 non-null  object\n",
      " 1   product_id      26014 non-null  object\n",
      " 2   merchant_code   26007 non-null  Int64 \n",
      " 3   merchant_badge  26014 non-null  object\n",
      " 4   product_type    26014 non-null  object\n",
      " 5   merchant_city   26014 non-null  object\n",
      " 6   cod             26014 non-null  bool  \n",
      " 7   price           26014 non-null  int64 \n",
      " 8   stock           26014 non-null  int64 \n",
      " 9   daily_gmv       26014 non-null  int64 \n",
      " 10  daily_sold      26014 non-null  int64 \n",
      " 11  daily_view      26014 non-null  int64 \n",
      " 12  rating          26014 non-null  int64 \n",
      " 13  total_review    26014 non-null  int64 \n",
      " 14  total_sold      26014 non-null  int64 \n",
      "dtypes: Int64(1), bool(1), int64(8), object(5)\n",
      "memory usage: 3.0+ MB\n"
     ]
    }
   ],
   "source": [
    "data.info()"
   ]
  },
  {
   "cell_type": "code",
   "execution_count": 7,
   "id": "choice-turning",
   "metadata": {},
   "outputs": [
    {
     "data": {
      "text/plain": [
       "sku_name          0\n",
       "product_id        0\n",
       "merchant_code     7\n",
       "merchant_badge    0\n",
       "product_type      0\n",
       "merchant_city     0\n",
       "cod               0\n",
       "price             0\n",
       "stock             0\n",
       "daily_gmv         0\n",
       "daily_sold        0\n",
       "daily_view        0\n",
       "rating            0\n",
       "total_review      0\n",
       "total_sold        0\n",
       "dtype: int64"
      ]
     },
     "execution_count": 7,
     "metadata": {},
     "output_type": "execute_result"
    }
   ],
   "source": [
    "data.isnull().sum()"
   ]
  },
  {
   "cell_type": "code",
   "execution_count": 11,
   "id": "other-dietary",
   "metadata": {},
   "outputs": [],
   "source": [
    "data[\"merchant_code\"]=data[\"merchant_code\"].fillna(0)"
   ]
  },
  {
   "cell_type": "code",
   "execution_count": 12,
   "id": "legislative-dinner",
   "metadata": {},
   "outputs": [
    {
     "data": {
      "text/plain": [
       "sku_name          0\n",
       "product_id        0\n",
       "merchant_code     0\n",
       "merchant_badge    0\n",
       "product_type      0\n",
       "merchant_city     0\n",
       "cod               0\n",
       "price             0\n",
       "stock             0\n",
       "daily_gmv         0\n",
       "daily_sold        0\n",
       "daily_view        0\n",
       "rating            0\n",
       "total_review      0\n",
       "total_sold        0\n",
       "dtype: int64"
      ]
     },
     "execution_count": 12,
     "metadata": {},
     "output_type": "execute_result"
    }
   ],
   "source": [
    "data.isnull().sum()"
   ]
  },
  {
   "cell_type": "code",
   "execution_count": 13,
   "id": "oriental-tulsa",
   "metadata": {},
   "outputs": [
    {
     "data": {
      "text/plain": [
       "Realme 6                 2161\n",
       "Samsung Galaxy A10s      1062\n",
       "Xiaomi Redmi Note 8      1025\n",
       "Xiaomi Redmi 7A           860\n",
       "Xiaomi Redmi 6A           747\n",
       "                         ... \n",
       "Infinix Note 4              1\n",
       "Samsung Galaxy Fold         1\n",
       "vivo Y21                    1\n",
       "Samsung Galaxy Z Flip       1\n",
       "Huawei nova 4               1\n",
       "Name: product_type, Length: 361, dtype: int64"
      ]
     },
     "execution_count": 13,
     "metadata": {},
     "output_type": "execute_result"
    }
   ],
   "source": [
    "data['product_type'].value_counts()"
   ]
  },
  {
   "cell_type": "code",
   "execution_count": 14,
   "id": "complex-federal",
   "metadata": {},
   "outputs": [
    {
     "data": {
      "text/plain": [
       "<AxesSubplot:xlabel='product_type'>"
      ]
     },
     "execution_count": 14,
     "metadata": {},
     "output_type": "execute_result"
    },
    {
     "data": {
      "image/png": "[encoded data removed]",
      "text/plain": [
       "<Figure size 432x288 with 1 Axes>"
      ]
     },
     "metadata": {
      "needs_background": "light"
     },
     "output_type": "display_data"
    }
   ],
   "source": [
    "data.groupby(\"product_type\")['total_sold'].sum().sort_values(ascending=False).head(10).plot(kind=\"bar\")"
   ]
  },
  {
   "cell_type": "code",
   "execution_count": 26,
   "id": "enclosed-lobby",
   "metadata": {},
   "outputs": [
    {
     "data": {
      "text/plain": [
       "<AxesSubplot:ylabel='Frequency'>"
      ]
     },
     "execution_count": 26,
     "metadata": {},
     "output_type": "execute_result"
    },
    {
     "data": {
      "image/png": "[encoded data removed]",
      "text/plain": [
       "<Figure size 432x288 with 1 Axes>"
      ]
     },
     "metadata": {
      "needs_background": "light"
     },
     "output_type": "display_data"
    }
   ],
   "source": [
    "data[data[\"product_type\"]==\"Samsung Galaxy A10s\"][\"price\"].plot(kind=\"hist\")"
   ]
  },
  {
   "cell_type": "code",
   "execution_count": 20,
   "id": "convinced-network",
   "metadata": {},
   "outputs": [
    {
     "name": "stderr",
     "output_type": "stream",
     "text": [
      "C:\\Users\\julius-745\\AppData\\Roaming\\Python\\Python39\\site-packages\\seaborn\\distributions.py:2557: FutureWarning: `distplot` is a deprecated function and will be removed in a future version. Please adapt your code to use either `displot` (a figure-level function with similar flexibility) or `histplot` (an axes-level function for histograms).\n",
      "  warnings.warn(msg, FutureWarning)\n"
     ]
    },
    {
     "data": {
      "text/plain": [
       "<AxesSubplot:xlabel='price', ylabel='Density'>"
      ]
     },
     "execution_count": 20,
     "metadata": {},
     "output_type": "execute_result"
    },
    {
     "data": {
      "image/png": "[encoded data removed]",
      "text/plain": [
       "<Figure size 576x288 with 1 Axes>"
      ]
     },
     "metadata": {
      "needs_background": "light"
     },
     "output_type": "display_data"
    }
   ],
   "source": [
    "plt.figure(figsize=(8, 4))\n",
    "sns.distplot(data[data[\"product_type\"]==\"Xiaomi Redmi 6A\"][\"price\"], bins=40)"
   ]
  },
  {
   "cell_type": "code",
   "execution_count": 21,
   "id": "cloudy-postage",
   "metadata": {},
   "outputs": [
    {
     "name": "stdout",
     "output_type": "stream",
     "text": [
      "product_type\n",
      "Xiaomi Redmi 6A    1.281875e+06\n",
      "Name: price, dtype: float64\n"
     ]
    }
   ],
   "source": [
    "df=data.groupby(\"product_type\")['price'].mean().sort_values(ascending=False)\n",
    "print(df.loc[[\"Xiaomi Redmi 6A\"]])"
   ]
  },
  {
   "cell_type": "code",
   "execution_count": 27,
   "id": "descending-plasma",
   "metadata": {},
   "outputs": [
    {
     "data": {
      "text/plain": [
       "<AxesSubplot:xlabel='merchant_city'>"
      ]
     },
     "execution_count": 27,
     "metadata": {},
     "output_type": "execute_result"
    },
    {
     "data": {
      "image/png": "[encoded data removed]",
      "text/plain": [
       "<Figure size 432x288 with 1 Axes>"
      ]
     },
     "metadata": {
      "needs_background": "light"
     },
     "output_type": "display_data"
    }
   ],
   "source": [
    "a=data[data[\"product_type\"]==\"Samsung Galaxy A10s\"]\n",
    "a.groupby(\"merchant_city\")['total_sold'].sum().sort_values(ascending=False).head(3).plot(kind=\"bar\")"
   ]
  },
  {
   "cell_type": "code",
   "execution_count": 28,
   "id": "ancient-alaska",
   "metadata": {},
   "outputs": [
    {
     "data": {
      "text/plain": [
       "merchant_city\n",
       "Kota Administrasi Jakarta Pusat    71373\n",
       "Kab. Sleman                        57790\n",
       "Kab. Bantul                        46091\n",
       "Name: total_sold, dtype: int64"
      ]
     },
     "execution_count": 28,
     "metadata": {},
     "output_type": "execute_result"
    }
   ],
   "source": [
    "a.groupby(\"merchant_city\")['total_sold'].sum().sort_values(ascending=False).head(3)"
   ]
  },
  {
   "cell_type": "code",
   "execution_count": 29,
   "id": "variable-allocation",
   "metadata": {},
   "outputs": [
    {
     "name": "stdout",
     "output_type": "stream",
     "text": [
      "AxesSubplot(0.125,0.125;0.775x0.755)\n"
     ]
    },
    {
     "data": {
      "image/png": "[encoded data removed]",
      "text/plain": [
       "<Figure size 1080x1080 with 1 Axes>"
      ]
     },
     "metadata": {
      "needs_background": "light"
     },
     "output_type": "display_data"
    }
   ],
   "source": [
    "city=['Kota Administrasi Jakarta Pusat','Kab. Sleman','Kab. Bantul']\n",
    "b=data[data['merchant_city'].isin(city)]\n",
    "plt.figure(figsize=(15,15))\n",
    "boxplot=sns.boxplot(x=\"merchant_city\", y=\"total_sold\", data=b)\n",
    "print(boxplot)"
   ]
  },
  {
   "cell_type": "code",
   "execution_count": 30,
   "id": "hearing-speaker",
   "metadata": {},
   "outputs": [
    {
     "name": "stdout",
     "output_type": "stream",
     "text": [
      "Rata - rata penjualan Samsung Galaxy A10s :  495.1525423728813\n",
      "Rata - rata penjualan Xiaomi Redmi 6A :  445.0147255689424\n",
      "Standard Deviasi Samsung Galaxy A10s :  626.3434790554674\n",
      "Standard Deviasi Xiaomi Redmi 6A :  580.394664272472\n",
      "p-value 0.08442284533312362\n"
     ]
    }
   ],
   "source": [
    "from scipy.stats import ttest_ind\n",
    "import numpy as np\n",
    "samsung= data[data['product_type']=='Samsung Galaxy A10s']['total_sold']\n",
    "xiaomi2= data[data['product_type']=='Xiaomi Redmi 6A']['total_sold']\n",
    "\n",
    "samsung_mean=np.mean(samsung)\n",
    "xiaomi2_mean=np.mean(xiaomi2)\n",
    "\n",
    "print(\"Rata - rata penjualan Samsung Galaxy A10s : \",samsung_mean)\n",
    "print(\"Rata - rata penjualan Xiaomi Redmi 6A : \",xiaomi2_mean)\n",
    "\n",
    "samsung_std=np.std(samsung)\n",
    "xiaomi2_std=np.std(xiaomi2)\n",
    "\n",
    "print(\"Standard Deviasi Samsung Galaxy A10s : \",samsung_std)\n",
    "print(\"Standard Deviasi Xiaomi Redmi 6A : \",xiaomi2_std)\n",
    "\n",
    "ttest,pval = ttest_ind(samsung,xiaomi2)\n",
    "print(\"p-value\", pval)"
   ]
  },
  {
   "cell_type": "code",
   "execution_count": null,
   "id": "utility-brunswick",
   "metadata": {},
   "outputs": [],
   "source": []
  }
 ],
 "metadata": {
  "kernelspec": {
   "display_name": "Python 3",
   "language": "python",
   "name": "python3"
  },
  "language_info": {
   "codemirror_mode": {
    "name": "ipython",
    "version": 3
   },
   "file_extension": ".py",
   "mimetype": "text/x-python",
   "name": "python",
   "nbconvert_exporter": "python",
   "pygments_lexer": "ipython3",
   "version": "3.9.1"
  }
 },
 "nbformat": 4,
 "nbformat_minor": 5
}
