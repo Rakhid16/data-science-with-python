{
 "cells": [
  {
   "cell_type": "markdown",
   "metadata": {},
   "source": [
    "# PROJEK 2 DSC UTM\n",
    "\n",
    "#### NAMA : INDAH YUNITA\n",
    "#### NIM : 190411100067\n",
    "#### KELAS : A\n",
    "\n"
   ]
  },
  {
   "cell_type": "code",
   "execution_count": 1,
   "metadata": {},
   "outputs": [],
   "source": [
    "#import libraries yang diperlukan\n",
    "import pandas as pd\n",
    "import numpy as np\n",
    "import scipy.stats as st\n",
    "import matplotlib.pyplot as plt\n",
    "import seaborn as sns"
   ]
  },
  {
   "cell_type": "markdown",
   "metadata": {},
   "source": [
    "## Dataset"
   ]
  },
  {
   "cell_type": "code",
   "execution_count": 2,
   "metadata": {},
   "outputs": [
    {
     "data": {
      "text/html": [
       "<div>\n",
       "<style scoped>\n",
       "    .dataframe tbody tr th:only-of-type {\n",
       "        vertical-align: middle;\n",
       "    }\n",
       "\n",
       "    .dataframe tbody tr th {\n",
       "        vertical-align: top;\n",
       "    }\n",
       "\n",
       "    .dataframe thead th {\n",
       "        text-align: right;\n",
       "    }\n",
       "</style>\n",
       "<table border=\"1\" class=\"dataframe\">\n",
       "  <thead>\n",
       "    <tr style=\"text-align: right;\">\n",
       "      <th></th>\n",
       "      <th>date</th>\n",
       "      <th>sku_name</th>\n",
       "      <th>product_id</th>\n",
       "      <th>merchant_code</th>\n",
       "      <th>merchant_badge</th>\n",
       "      <th>product_type</th>\n",
       "      <th>merchant_city</th>\n",
       "      <th>cod</th>\n",
       "      <th>price</th>\n",
       "      <th>stock</th>\n",
       "      <th>daily_gmv</th>\n",
       "      <th>daily_sold</th>\n",
       "      <th>daily_view</th>\n",
       "      <th>rating</th>\n",
       "      <th>total_review</th>\n",
       "      <th>total_sold</th>\n",
       "    </tr>\n",
       "  </thead>\n",
       "  <tbody>\n",
       "    <tr>\n",
       "      <th>0</th>\n",
       "      <td>3/11/2020</td>\n",
       "      <td>HUAWEI NOVA 5T RAM 8GB INTERNAL 128GB</td>\n",
       "      <td>E1</td>\n",
       "      <td>1.0</td>\n",
       "      <td>PM</td>\n",
       "      <td>Huawei nova 5T</td>\n",
       "      <td>Kota Kediri</td>\n",
       "      <td>False</td>\n",
       "      <td>4500000</td>\n",
       "      <td>1</td>\n",
       "      <td>0</td>\n",
       "      <td>0</td>\n",
       "      <td>0</td>\n",
       "      <td>95</td>\n",
       "      <td>37</td>\n",
       "      <td>74</td>\n",
       "    </tr>\n",
       "    <tr>\n",
       "      <th>1</th>\n",
       "      <td>3/26/2020</td>\n",
       "      <td>Huawei Nova 5T (8GB/128GB) - Crush Green</td>\n",
       "      <td>F1</td>\n",
       "      <td>2.0</td>\n",
       "      <td>OS</td>\n",
       "      <td>Huawei nova 5T</td>\n",
       "      <td>Kota Administrasi Jakarta Utara</td>\n",
       "      <td>False</td>\n",
       "      <td>4999000</td>\n",
       "      <td>5</td>\n",
       "      <td>0</td>\n",
       "      <td>0</td>\n",
       "      <td>0</td>\n",
       "      <td>0</td>\n",
       "      <td>0</td>\n",
       "      <td>2</td>\n",
       "    </tr>\n",
       "    <tr>\n",
       "      <th>2</th>\n",
       "      <td>3/23/2020</td>\n",
       "      <td>HUAWEI NOVA 5T RAM 8/128 GARANSI RESMI HUAWEI ...</td>\n",
       "      <td>F2</td>\n",
       "      <td>3.0</td>\n",
       "      <td>PM</td>\n",
       "      <td>Huawei nova 5T</td>\n",
       "      <td>Kota Administrasi Jakarta Barat</td>\n",
       "      <td>False</td>\n",
       "      <td>4589900</td>\n",
       "      <td>16</td>\n",
       "      <td>0</td>\n",
       "      <td>0</td>\n",
       "      <td>0</td>\n",
       "      <td>96</td>\n",
       "      <td>12</td>\n",
       "      <td>19</td>\n",
       "    </tr>\n",
       "    <tr>\n",
       "      <th>3</th>\n",
       "      <td>4/29/2020</td>\n",
       "      <td>HUAWEI NOVA 5T RAM 8/128GB GARANSI RESMI HUAWE...</td>\n",
       "      <td>E2</td>\n",
       "      <td>4.0</td>\n",
       "      <td>OS</td>\n",
       "      <td>Huawei nova 5T</td>\n",
       "      <td>Kota Surabaya</td>\n",
       "      <td>False</td>\n",
       "      <td>4698500</td>\n",
       "      <td>5</td>\n",
       "      <td>0</td>\n",
       "      <td>0</td>\n",
       "      <td>0</td>\n",
       "      <td>99</td>\n",
       "      <td>42</td>\n",
       "      <td>63</td>\n",
       "    </tr>\n",
       "    <tr>\n",
       "      <th>4</th>\n",
       "      <td>4/15/2020</td>\n",
       "      <td>nokia 3310 reborn</td>\n",
       "      <td>C1</td>\n",
       "      <td>5.0</td>\n",
       "      <td>RM</td>\n",
       "      <td>Nokia 1</td>\n",
       "      <td>Kab. Bangkalan</td>\n",
       "      <td>True</td>\n",
       "      <td>1000000</td>\n",
       "      <td>999999</td>\n",
       "      <td>0</td>\n",
       "      <td>0</td>\n",
       "      <td>3</td>\n",
       "      <td>100</td>\n",
       "      <td>18</td>\n",
       "      <td>82</td>\n",
       "    </tr>\n",
       "  </tbody>\n",
       "</table>\n",
       "</div>"
      ],
      "text/plain": [
       "        date                                           sku_name product_id  \\\n",
       "0  3/11/2020              HUAWEI NOVA 5T RAM 8GB INTERNAL 128GB         E1   \n",
       "1  3/26/2020           Huawei Nova 5T (8GB/128GB) - Crush Green         F1   \n",
       "2  3/23/2020  HUAWEI NOVA 5T RAM 8/128 GARANSI RESMI HUAWEI ...         F2   \n",
       "3  4/29/2020  HUAWEI NOVA 5T RAM 8/128GB GARANSI RESMI HUAWE...         E2   \n",
       "4  4/15/2020                                  nokia 3310 reborn         C1   \n",
       "\n",
       "   merchant_code merchant_badge    product_type  \\\n",
       "0            1.0             PM  Huawei nova 5T   \n",
       "1            2.0             OS  Huawei nova 5T   \n",
       "2            3.0             PM  Huawei nova 5T   \n",
       "3            4.0             OS  Huawei nova 5T   \n",
       "4            5.0             RM         Nokia 1   \n",
       "\n",
       "                     merchant_city    cod    price   stock  daily_gmv  \\\n",
       "0                      Kota Kediri  False  4500000       1          0   \n",
       "1  Kota Administrasi Jakarta Utara  False  4999000       5          0   \n",
       "2  Kota Administrasi Jakarta Barat  False  4589900      16          0   \n",
       "3                    Kota Surabaya  False  4698500       5          0   \n",
       "4                   Kab. Bangkalan   True  1000000  999999          0   \n",
       "\n",
       "   daily_sold  daily_view  rating  total_review  total_sold  \n",
       "0           0           0      95            37          74  \n",
       "1           0           0       0             0           2  \n",
       "2           0           0      96            12          19  \n",
       "3           0           0      99            42          63  \n",
       "4           0           3     100            18          82  "
      ]
     },
     "execution_count": 2,
     "metadata": {},
     "output_type": "execute_result"
    }
   ],
   "source": [
    "data_marketplace = pd.read_csv('marketplace.csv')\n",
    "data_marketplace.head()"
   ]
  },
  {
   "cell_type": "code",
   "execution_count": 3,
   "metadata": {},
   "outputs": [
    {
     "name": "stdout",
     "output_type": "stream",
     "text": [
      "<class 'pandas.core.frame.DataFrame'>\n",
      "RangeIndex: 26014 entries, 0 to 26013\n",
      "Data columns (total 16 columns):\n",
      " #   Column          Non-Null Count  Dtype  \n",
      "---  ------          --------------  -----  \n",
      " 0   date            26014 non-null  object \n",
      " 1   sku_name        26014 non-null  object \n",
      " 2   product_id      26014 non-null  object \n",
      " 3   merchant_code   26007 non-null  float64\n",
      " 4   merchant_badge  26014 non-null  object \n",
      " 5   product_type    26014 non-null  object \n",
      " 6   merchant_city   26014 non-null  object \n",
      " 7   cod             26014 non-null  bool   \n",
      " 8   price           26014 non-null  int64  \n",
      " 9   stock           26014 non-null  int64  \n",
      " 10  daily_gmv       26014 non-null  int64  \n",
      " 11  daily_sold      26014 non-null  int64  \n",
      " 12  daily_view      26014 non-null  int64  \n",
      " 13  rating          26014 non-null  int64  \n",
      " 14  total_review    26014 non-null  int64  \n",
      " 15  total_sold      26014 non-null  int64  \n",
      "dtypes: bool(1), float64(1), int64(8), object(6)\n",
      "memory usage: 3.0+ MB\n"
     ]
    }
   ],
   "source": [
    "data_marketplace.info()"
   ]
  },
  {
   "cell_type": "markdown",
   "metadata": {},
   "source": [
    "## 1. Observasi dataset dan mendeteksi kolom yang tidak memiliki nilai duplikat"
   ]
  },
  {
   "cell_type": "code",
   "execution_count": 4,
   "metadata": {},
   "outputs": [
    {
     "data": {
      "text/plain": [
       "(26014, 16)"
      ]
     },
     "execution_count": 4,
     "metadata": {},
     "output_type": "execute_result"
    }
   ],
   "source": [
    "#total jumlah baris dan kolom\n",
    "data_marketplace.shape"
   ]
  },
  {
   "cell_type": "code",
   "execution_count": 5,
   "metadata": {},
   "outputs": [
    {
     "name": "stdout",
     "output_type": "stream",
     "text": [
      "Jumlah baris data yang duplikat :  (0, 16)\n"
     ]
    }
   ],
   "source": [
    "# baris yang berisi data duplikat\n",
    "duplikat = data_marketplace[data_marketplace.duplicated()]\n",
    "print(\"Jumlah baris data yang duplikat : \", duplikat.shape)"
   ]
  },
  {
   "cell_type": "markdown",
   "metadata": {},
   "source": [
    "Ket: tidak ada data duplikat dalam baris dataset tersebut"
   ]
  },
  {
   "cell_type": "markdown",
   "metadata": {},
   "source": [
    "Mendeteksi kolom yang berisi data duplikat"
   ]
  },
  {
   "cell_type": "code",
   "execution_count": 6,
   "metadata": {},
   "outputs": [
    {
     "name": "stdout",
     "output_type": "stream",
     "text": [
      "Tidak ada kolom yang duplikat\n"
     ]
    }
   ],
   "source": [
    "def getDuplicateColumns(df):\n",
    "    kolomDuplikat = set()\n",
    "    \n",
    "    #iterasi semua kolom dalam dataframe\n",
    "    for i in range(df.shape[1]):\n",
    "        #kolom pada indeks ke i\n",
    "        kolom = df.iloc[:, i]\n",
    "        # iterasi semua kolom pada dataframe dari indeks ke i+1 hingga akhir\n",
    "        for j in range(i+1, df.shape[1]):\n",
    "            #kolom pada indeks ke j\n",
    "            kolomPembanding = df.iloc[:, j]\n",
    "            #cek apakah kolom pada indeks ke i dan j sama\n",
    "            if kolom.equals(kolomPembanding):\n",
    "                kolomDuplikat.add(df.columns.values[j])\n",
    "                \n",
    "    return list(kolomDuplikat)\n",
    "\n",
    "#menggunakan API untuk menemukan kolom yang duplikat pada dataframe yg ada \n",
    "kolomDuplikat = getDuplicateColumns(data_marketplace)\n",
    "if len(kolomDuplikat) != 0:\n",
    "    print(\"Kolom yang duplikat adalah: \")\n",
    "    for kolom in kolomDuplikat:\n",
    "        print(kolom)\n",
    "else:\n",
    "    print(\"Tidak ada kolom yang duplikat\")\n"
   ]
  },
  {
   "cell_type": "code",
   "execution_count": 7,
   "metadata": {
    "scrolled": true
   },
   "outputs": [
    {
     "data": {
      "text/plain": [
       "date                 41\n",
       "sku_name          11397\n",
       "product_id        12120\n",
       "merchant_code      4094\n",
       "merchant_badge        3\n",
       "product_type        361\n",
       "merchant_city       136\n",
       "cod                   2\n",
       "price              3224\n",
       "stock               799\n",
       "daily_gmv          2760\n",
       "daily_sold          137\n",
       "daily_view          909\n",
       "rating               30\n",
       "total_review        558\n",
       "total_sold         1267\n",
       "dtype: int64"
      ]
     },
     "execution_count": 7,
     "metadata": {},
     "output_type": "execute_result"
    }
   ],
   "source": [
    "#cara lain untuk melihat kolom yang unik\n",
    "data_marketplace.nunique()"
   ]
  },
  {
   "cell_type": "markdown",
   "metadata": {},
   "source": [
    "Total data keseluruhan adalah 26014, namun jumlah data product ID adalah 12120, ini artinya masih terdapat data yang sama.\n",
    "\n",
    "Untuk melihat data apa saja yang sama:"
   ]
  },
  {
   "cell_type": "code",
   "execution_count": 8,
   "metadata": {},
   "outputs": [
    {
     "data": {
      "text/html": [
       "<div>\n",
       "<style scoped>\n",
       "    .dataframe tbody tr th:only-of-type {\n",
       "        vertical-align: middle;\n",
       "    }\n",
       "\n",
       "    .dataframe tbody tr th {\n",
       "        vertical-align: top;\n",
       "    }\n",
       "\n",
       "    .dataframe thead th {\n",
       "        text-align: right;\n",
       "    }\n",
       "</style>\n",
       "<table border=\"1\" class=\"dataframe\">\n",
       "  <thead>\n",
       "    <tr style=\"text-align: right;\">\n",
       "      <th></th>\n",
       "      <th>date</th>\n",
       "      <th>sku_name</th>\n",
       "      <th>product_id</th>\n",
       "      <th>merchant_code</th>\n",
       "      <th>merchant_badge</th>\n",
       "      <th>product_type</th>\n",
       "      <th>merchant_city</th>\n",
       "      <th>cod</th>\n",
       "      <th>price</th>\n",
       "      <th>stock</th>\n",
       "      <th>daily_gmv</th>\n",
       "      <th>daily_sold</th>\n",
       "      <th>daily_view</th>\n",
       "      <th>rating</th>\n",
       "      <th>total_review</th>\n",
       "      <th>total_sold</th>\n",
       "    </tr>\n",
       "  </thead>\n",
       "  <tbody>\n",
       "    <tr>\n",
       "      <th>42</th>\n",
       "      <td>4/20/2020</td>\n",
       "      <td>Oppo F3 Ram 4gb Rom 64gb Garansi Resmi</td>\n",
       "      <td>A1</td>\n",
       "      <td>11.0</td>\n",
       "      <td>RM</td>\n",
       "      <td>Oppo F3</td>\n",
       "      <td>Kota Tangerang Selatan</td>\n",
       "      <td>False</td>\n",
       "      <td>3149000</td>\n",
       "      <td>999999</td>\n",
       "      <td>0</td>\n",
       "      <td>0</td>\n",
       "      <td>9</td>\n",
       "      <td>90</td>\n",
       "      <td>238</td>\n",
       "      <td>395</td>\n",
       "    </tr>\n",
       "    <tr>\n",
       "      <th>51</th>\n",
       "      <td>4/21/2020</td>\n",
       "      <td>Oppo F3 Ram 4gb Rom 64gb Garansi Resmi</td>\n",
       "      <td>A1</td>\n",
       "      <td>11.0</td>\n",
       "      <td>RM</td>\n",
       "      <td>Oppo F3</td>\n",
       "      <td>Kota Tangerang Selatan</td>\n",
       "      <td>False</td>\n",
       "      <td>3149000</td>\n",
       "      <td>999999</td>\n",
       "      <td>0</td>\n",
       "      <td>0</td>\n",
       "      <td>8</td>\n",
       "      <td>90</td>\n",
       "      <td>238</td>\n",
       "      <td>395</td>\n",
       "    </tr>\n",
       "    <tr>\n",
       "      <th>197</th>\n",
       "      <td>4/17/2020</td>\n",
       "      <td>Oppo F3 Ram 4gb Rom 64gb Garansi Resmi</td>\n",
       "      <td>A1</td>\n",
       "      <td>11.0</td>\n",
       "      <td>RM</td>\n",
       "      <td>Oppo F3</td>\n",
       "      <td>Kota Tangerang Selatan</td>\n",
       "      <td>False</td>\n",
       "      <td>3149000</td>\n",
       "      <td>999999</td>\n",
       "      <td>0</td>\n",
       "      <td>0</td>\n",
       "      <td>4</td>\n",
       "      <td>90</td>\n",
       "      <td>238</td>\n",
       "      <td>395</td>\n",
       "    </tr>\n",
       "    <tr>\n",
       "      <th>165</th>\n",
       "      <td>4/28/2020</td>\n",
       "      <td>Oppo F1s Ram 3/32gb Gold dan Rose gold Garansi...</td>\n",
       "      <td>A10</td>\n",
       "      <td>10.0</td>\n",
       "      <td>RM</td>\n",
       "      <td>Oppo F1s</td>\n",
       "      <td>Kota Tangerang Selatan</td>\n",
       "      <td>False</td>\n",
       "      <td>2950000</td>\n",
       "      <td>999999</td>\n",
       "      <td>0</td>\n",
       "      <td>0</td>\n",
       "      <td>1</td>\n",
       "      <td>96</td>\n",
       "      <td>57</td>\n",
       "      <td>81</td>\n",
       "    </tr>\n",
       "    <tr>\n",
       "      <th>176</th>\n",
       "      <td>4/17/2020</td>\n",
       "      <td>Oppo F1s Ram 3/32gb Gold dan Rose gold Garansi...</td>\n",
       "      <td>A10</td>\n",
       "      <td>10.0</td>\n",
       "      <td>RM</td>\n",
       "      <td>Oppo F1s</td>\n",
       "      <td>Kota Tangerang Selatan</td>\n",
       "      <td>False</td>\n",
       "      <td>2950000</td>\n",
       "      <td>999999</td>\n",
       "      <td>0</td>\n",
       "      <td>0</td>\n",
       "      <td>1</td>\n",
       "      <td>96</td>\n",
       "      <td>57</td>\n",
       "      <td>81</td>\n",
       "    </tr>\n",
       "    <tr>\n",
       "      <th>...</th>\n",
       "      <td>...</td>\n",
       "      <td>...</td>\n",
       "      <td>...</td>\n",
       "      <td>...</td>\n",
       "      <td>...</td>\n",
       "      <td>...</td>\n",
       "      <td>...</td>\n",
       "      <td>...</td>\n",
       "      <td>...</td>\n",
       "      <td>...</td>\n",
       "      <td>...</td>\n",
       "      <td>...</td>\n",
       "      <td>...</td>\n",
       "      <td>...</td>\n",
       "      <td>...</td>\n",
       "      <td>...</td>\n",
       "    </tr>\n",
       "    <tr>\n",
       "      <th>14607</th>\n",
       "      <td>4/30/2020</td>\n",
       "      <td>NEW iPhone 11 64GB DUAL SIM - Black White Red ...</td>\n",
       "      <td>H4</td>\n",
       "      <td>2446.0</td>\n",
       "      <td>PM</td>\n",
       "      <td>Apple iPhone 11</td>\n",
       "      <td>Kota Administrasi Jakarta Pusat</td>\n",
       "      <td>False</td>\n",
       "      <td>14192000</td>\n",
       "      <td>5</td>\n",
       "      <td>0</td>\n",
       "      <td>0</td>\n",
       "      <td>3</td>\n",
       "      <td>97</td>\n",
       "      <td>7</td>\n",
       "      <td>7</td>\n",
       "    </tr>\n",
       "    <tr>\n",
       "      <th>14624</th>\n",
       "      <td>4/29/2020</td>\n",
       "      <td>NEW iPhone 11 64GB DUAL SIM - Black White Red ...</td>\n",
       "      <td>H4</td>\n",
       "      <td>2446.0</td>\n",
       "      <td>PM</td>\n",
       "      <td>Apple iPhone 11</td>\n",
       "      <td>Kota Administrasi Jakarta Pusat</td>\n",
       "      <td>False</td>\n",
       "      <td>14192000</td>\n",
       "      <td>5</td>\n",
       "      <td>0</td>\n",
       "      <td>0</td>\n",
       "      <td>3</td>\n",
       "      <td>97</td>\n",
       "      <td>7</td>\n",
       "      <td>7</td>\n",
       "    </tr>\n",
       "    <tr>\n",
       "      <th>14632</th>\n",
       "      <td>4/25/2020</td>\n",
       "      <td>NEW iPhone 11 64GB DUAL SIM - Black White Red ...</td>\n",
       "      <td>H4</td>\n",
       "      <td>2446.0</td>\n",
       "      <td>PM</td>\n",
       "      <td>Apple iPhone 11</td>\n",
       "      <td>Kota Administrasi Jakarta Pusat</td>\n",
       "      <td>False</td>\n",
       "      <td>14192000</td>\n",
       "      <td>5</td>\n",
       "      <td>0</td>\n",
       "      <td>0</td>\n",
       "      <td>0</td>\n",
       "      <td>97</td>\n",
       "      <td>7</td>\n",
       "      <td>7</td>\n",
       "    </tr>\n",
       "    <tr>\n",
       "      <th>14691</th>\n",
       "      <td>4/30/2020</td>\n",
       "      <td>HDC IPHONE 11 3G - Abu-abu</td>\n",
       "      <td>H5</td>\n",
       "      <td>3195.0</td>\n",
       "      <td>PM</td>\n",
       "      <td>Apple iPhone 11</td>\n",
       "      <td>Kota Administrasi Jakarta Barat</td>\n",
       "      <td>False</td>\n",
       "      <td>1500000</td>\n",
       "      <td>98</td>\n",
       "      <td>0</td>\n",
       "      <td>0</td>\n",
       "      <td>102</td>\n",
       "      <td>98</td>\n",
       "      <td>15</td>\n",
       "      <td>51</td>\n",
       "    </tr>\n",
       "    <tr>\n",
       "      <th>14653</th>\n",
       "      <td>4/26/2020</td>\n",
       "      <td>HDC IPHONE 11 3G - Abu-abu</td>\n",
       "      <td>H5</td>\n",
       "      <td>3195.0</td>\n",
       "      <td>PM</td>\n",
       "      <td>Apple iPhone 11</td>\n",
       "      <td>Kota Administrasi Jakarta Barat</td>\n",
       "      <td>False</td>\n",
       "      <td>1500000</td>\n",
       "      <td>100</td>\n",
       "      <td>0</td>\n",
       "      <td>0</td>\n",
       "      <td>259</td>\n",
       "      <td>98</td>\n",
       "      <td>15</td>\n",
       "      <td>47</td>\n",
       "    </tr>\n",
       "  </tbody>\n",
       "</table>\n",
       "<p>20885 rows × 16 columns</p>\n",
       "</div>"
      ],
      "text/plain": [
       "            date                                           sku_name  \\\n",
       "42     4/20/2020             Oppo F3 Ram 4gb Rom 64gb Garansi Resmi   \n",
       "51     4/21/2020             Oppo F3 Ram 4gb Rom 64gb Garansi Resmi   \n",
       "197    4/17/2020             Oppo F3 Ram 4gb Rom 64gb Garansi Resmi   \n",
       "165    4/28/2020  Oppo F1s Ram 3/32gb Gold dan Rose gold Garansi...   \n",
       "176    4/17/2020  Oppo F1s Ram 3/32gb Gold dan Rose gold Garansi...   \n",
       "...          ...                                                ...   \n",
       "14607  4/30/2020  NEW iPhone 11 64GB DUAL SIM - Black White Red ...   \n",
       "14624  4/29/2020  NEW iPhone 11 64GB DUAL SIM - Black White Red ...   \n",
       "14632  4/25/2020  NEW iPhone 11 64GB DUAL SIM - Black White Red ...   \n",
       "14691  4/30/2020                         HDC IPHONE 11 3G - Abu-abu   \n",
       "14653  4/26/2020                         HDC IPHONE 11 3G - Abu-abu   \n",
       "\n",
       "      product_id  merchant_code merchant_badge     product_type  \\\n",
       "42            A1           11.0             RM          Oppo F3   \n",
       "51            A1           11.0             RM          Oppo F3   \n",
       "197           A1           11.0             RM          Oppo F3   \n",
       "165          A10           10.0             RM         Oppo F1s   \n",
       "176          A10           10.0             RM         Oppo F1s   \n",
       "...          ...            ...            ...              ...   \n",
       "14607         H4         2446.0             PM  Apple iPhone 11   \n",
       "14624         H4         2446.0             PM  Apple iPhone 11   \n",
       "14632         H4         2446.0             PM  Apple iPhone 11   \n",
       "14691         H5         3195.0             PM  Apple iPhone 11   \n",
       "14653         H5         3195.0             PM  Apple iPhone 11   \n",
       "\n",
       "                         merchant_city    cod     price   stock  daily_gmv  \\\n",
       "42              Kota Tangerang Selatan  False   3149000  999999          0   \n",
       "51              Kota Tangerang Selatan  False   3149000  999999          0   \n",
       "197             Kota Tangerang Selatan  False   3149000  999999          0   \n",
       "165             Kota Tangerang Selatan  False   2950000  999999          0   \n",
       "176             Kota Tangerang Selatan  False   2950000  999999          0   \n",
       "...                                ...    ...       ...     ...        ...   \n",
       "14607  Kota Administrasi Jakarta Pusat  False  14192000       5          0   \n",
       "14624  Kota Administrasi Jakarta Pusat  False  14192000       5          0   \n",
       "14632  Kota Administrasi Jakarta Pusat  False  14192000       5          0   \n",
       "14691  Kota Administrasi Jakarta Barat  False   1500000      98          0   \n",
       "14653  Kota Administrasi Jakarta Barat  False   1500000     100          0   \n",
       "\n",
       "       daily_sold  daily_view  rating  total_review  total_sold  \n",
       "42              0           9      90           238         395  \n",
       "51              0           8      90           238         395  \n",
       "197             0           4      90           238         395  \n",
       "165             0           1      96            57          81  \n",
       "176             0           1      96            57          81  \n",
       "...           ...         ...     ...           ...         ...  \n",
       "14607           0           3      97             7           7  \n",
       "14624           0           3      97             7           7  \n",
       "14632           0           0      97             7           7  \n",
       "14691           0         102      98            15          51  \n",
       "14653           0         259      98            15          47  \n",
       "\n",
       "[20885 rows x 16 columns]"
      ]
     },
     "execution_count": 8,
     "metadata": {},
     "output_type": "execute_result"
    }
   ],
   "source": [
    "data_marketplace[data_marketplace.duplicated(subset = 'product_id', keep = False)].sort_values('product_id')"
   ]
  },
  {
   "cell_type": "markdown",
   "metadata": {},
   "source": [
    "## 2. Tipe Data"
   ]
  },
  {
   "cell_type": "code",
   "execution_count": 9,
   "metadata": {},
   "outputs": [
    {
     "data": {
      "text/plain": [
       "date               object\n",
       "sku_name           object\n",
       "product_id         object\n",
       "merchant_code     float64\n",
       "merchant_badge     object\n",
       "product_type       object\n",
       "merchant_city      object\n",
       "cod                  bool\n",
       "price               int64\n",
       "stock               int64\n",
       "daily_gmv           int64\n",
       "daily_sold          int64\n",
       "daily_view          int64\n",
       "rating              int64\n",
       "total_review        int64\n",
       "total_sold          int64\n",
       "dtype: object"
      ]
     },
     "execution_count": 9,
     "metadata": {},
     "output_type": "execute_result"
    }
   ],
   "source": [
    "data_marketplace.dtypes"
   ]
  },
  {
   "cell_type": "code",
   "execution_count": 11,
   "metadata": {},
   "outputs": [
    {
     "name": "stdout",
     "output_type": "stream",
     "text": [
      "<class 'pandas.core.frame.DataFrame'>\n",
      "RangeIndex: 26014 entries, 0 to 26013\n",
      "Data columns (total 16 columns):\n",
      " #   Column          Non-Null Count  Dtype  \n",
      "---  ------          --------------  -----  \n",
      " 0   date            26014 non-null  object \n",
      " 1   sku_name        26014 non-null  object \n",
      " 2   product_id      26014 non-null  object \n",
      " 3   merchant_code   26007 non-null  float64\n",
      " 4   merchant_badge  26014 non-null  object \n",
      " 5   product_type    26014 non-null  object \n",
      " 6   merchant_city   26014 non-null  object \n",
      " 7   cod             26014 non-null  bool   \n",
      " 8   price           26014 non-null  int64  \n",
      " 9   stock           26014 non-null  int64  \n",
      " 10  daily_gmv       26014 non-null  int64  \n",
      " 11  daily_sold      26014 non-null  int64  \n",
      " 12  daily_view      26014 non-null  int64  \n",
      " 13  rating          26014 non-null  int64  \n",
      " 14  total_review    26014 non-null  int64  \n",
      " 15  total_sold      26014 non-null  int64  \n",
      "dtypes: bool(1), float64(1), int64(8), object(6)\n",
      "memory usage: 3.0+ MB\n"
     ]
    }
   ],
   "source": [
    "data_marketplace.info()"
   ]
  },
  {
   "cell_type": "markdown",
   "metadata": {},
   "source": [
    "Ket: pada merchant code masih terdapat data yang Null/NaN. Oleh karena itu sebelum mengubah merchant_code menjadi integer perlu mengubah data NaN tersebut menjadi 0"
   ]
  },
  {
   "cell_type": "markdown",
   "metadata": {},
   "source": [
    "## 3. Mendeteksi data kosong dan mengisinya dengan 0"
   ]
  },
  {
   "cell_type": "code",
   "execution_count": 12,
   "metadata": {},
   "outputs": [
    {
     "data": {
      "text/plain": [
       "date              0\n",
       "sku_name          0\n",
       "product_id        0\n",
       "merchant_code     7\n",
       "merchant_badge    0\n",
       "product_type      0\n",
       "merchant_city     0\n",
       "cod               0\n",
       "price             0\n",
       "stock             0\n",
       "daily_gmv         0\n",
       "daily_sold        0\n",
       "daily_view        0\n",
       "rating            0\n",
       "total_review      0\n",
       "total_sold        0\n",
       "dtype: int64"
      ]
     },
     "execution_count": 12,
     "metadata": {},
     "output_type": "execute_result"
    }
   ],
   "source": [
    "data_marketplace.isnull().sum()"
   ]
  },
  {
   "cell_type": "code",
   "execution_count": 14,
   "metadata": {},
   "outputs": [
    {
     "data": {
      "text/plain": [
       "date              0\n",
       "sku_name          0\n",
       "product_id        0\n",
       "merchant_code     0\n",
       "merchant_badge    0\n",
       "product_type      0\n",
       "merchant_city     0\n",
       "cod               0\n",
       "price             0\n",
       "stock             0\n",
       "daily_gmv         0\n",
       "daily_sold        0\n",
       "daily_view        0\n",
       "rating            0\n",
       "total_review      0\n",
       "total_sold        0\n",
       "dtype: int64"
      ]
     },
     "execution_count": 14,
     "metadata": {},
     "output_type": "execute_result"
    }
   ],
   "source": [
    "data_marketplace['merchant_code'].fillna(0, inplace=True)\n",
    "data_marketplace.isnull().sum()"
   ]
  },
  {
   "cell_type": "markdown",
   "metadata": {},
   "source": [
    "## Lanjutan yg no 2 td : mengubah tipe data merchant_code menjadi integer"
   ]
  },
  {
   "cell_type": "code",
   "execution_count": 15,
   "metadata": {},
   "outputs": [
    {
     "data": {
      "text/plain": [
       "date              object\n",
       "sku_name          object\n",
       "product_id        object\n",
       "merchant_code      int32\n",
       "merchant_badge    object\n",
       "product_type      object\n",
       "merchant_city     object\n",
       "cod                 bool\n",
       "price              int64\n",
       "stock              int64\n",
       "daily_gmv          int64\n",
       "daily_sold         int64\n",
       "daily_view         int64\n",
       "rating             int64\n",
       "total_review       int64\n",
       "total_sold         int64\n",
       "dtype: object"
      ]
     },
     "execution_count": 15,
     "metadata": {},
     "output_type": "execute_result"
    }
   ],
   "source": [
    "data_marketplace[\"merchant_code\"] = data_marketplace['merchant_code'].astype('int')\n",
    "data_marketplace.dtypes"
   ]
  },
  {
   "cell_type": "markdown",
   "metadata": {},
   "source": [
    "## 4. Jenis Produk Kategori yang Dijual"
   ]
  },
  {
   "cell_type": "code",
   "execution_count": 26,
   "metadata": {},
   "outputs": [
    {
     "data": {
      "text/plain": [
       "array(['Huawei nova 5T', 'Nokia 1', 'Oppo A7', 'Oppo A9', 'Oppo F3',\n",
       "       'Oppo F5', 'Oppo F7', 'vivo S1', 'vivo V5', 'vivo V7', 'vivo V9',\n",
       "       'Honor 7S', 'Oppo A1k', 'Oppo A37', 'Oppo A39', 'Oppo A3s',\n",
       "       'Oppo A57', 'Oppo A83', 'Oppo A91', 'Oppo F11', 'Oppo F1s',\n",
       "       'Realme 2', 'Realme 6', 'vivo V15', 'vivo Y12', 'vivo Y15',\n",
       "       'vivo Y17', 'vivo Y19', 'vivo Y71', 'vivo Y81', 'vivo Y83',\n",
       "       'vivo Y93', 'vivo Y95', 'Realme C1', 'Vivo Y91C', 'Infinix S5',\n",
       "       'vivo NEX A', 'vivo Z1Pro', 'Oppo Reno A', 'Apple iPhone',\n",
       "       'Oppo F1 Plus', 'Oppo F11 Pro', 'Oppo F3 Plus', 'Oppo Reno2 F',\n",
       "       'vivo V15 Pro', 'vivo V17 Pro', 'vivo V5 Plus', 'Huawei nova 2',\n",
       "       'Infinix Hot 5', 'Infinix Hot 8', 'Oppo A5 (AX5)', 'Oppo F5 Youth',\n",
       "       'Xiaomi Mi Max', 'vivo iQOO Pro', 'Apple iPhone 4',\n",
       "       'Apple iPhone 5', 'Apple iPhone 6', 'Apple iPhone 7',\n",
       "       'Apple iPhone 8', 'Apple iPhone X', 'Huawei Mate 10',\n",
       "       'Huawei P20 Pro', 'Huawei nova 3i', 'Infinix Hot S3',\n",
       "       'Infinix Note 5', 'Oppo A5 (2020)', 'Xiaomi Redmi 2',\n",
       "       'Xiaomi Redmi 3', 'Xiaomi Redmi 7', 'Xiaomi Redmi 8',\n",
       "       'Apple iPhone 11', 'Apple iPhone 4s', 'Apple iPhone 5c',\n",
       "       'Apple iPhone 5s', 'Apple iPhone 6s', 'Apple iPhone SE',\n",
       "       'Apple iPhone XR', 'Apple iPhone XS', 'Huawei P30 lite',\n",
       "       'Infinix S5 lite', 'Oppo A31 (2020)', 'Oppo A5s (AX5s)',\n",
       "       'Oppo A71 (2017)', 'Xiaomi Mi Max 2', 'Xiaomi Mi Max 3',\n",
       "       'Xiaomi Mi Mix 3', 'Xiaomi Redmi 4A', 'Xiaomi Redmi 5A',\n",
       "       'Xiaomi Redmi 6A', 'Xiaomi Redmi 7A', 'Xiaomi Redmi 8A',\n",
       "       'Xiaomi Redmi Go', 'vivo Y11 (2019)', 'Oppo F9 (F9 Pro)',\n",
       "       'Xiaomi Mi 8 Lite', 'Xiaomi Mi 9 Lite', 'Xiaomi Mi 9T Pro',\n",
       "       'Xiaomi Mi Note 3', 'Xiaomi Redmi K20', 'Oppo Reno3 Pro 5G',\n",
       "       'Samsung Galaxy A8', 'Samsung Galaxy J1', 'Samsung Galaxy J4',\n",
       "       'Samsung Galaxy J5', 'Samsung Galaxy J7', 'Samsung Galaxy J8',\n",
       "       'Samsung Galaxy S7', 'Samsung Galaxy S8', 'Samsung Galaxy S9',\n",
       "       'Huawei Mate 20 Pro', 'Samsung Galaxy A10', 'Samsung Galaxy A20',\n",
       "       'Samsung Galaxy A30', 'Samsung Galaxy A50', 'Samsung Galaxy A51',\n",
       "       'Samsung Galaxy A71', 'Samsung Galaxy M10', 'Samsung Galaxy M20',\n",
       "       'Samsung Galaxy S20', 'vivo V11 (V11 Pro)', 'Apple iPhone 11 Pro',\n",
       "       'Apple iPhone 4 CDMA', 'Apple iPhone 6 Plus',\n",
       "       'Apple iPhone 7 Plus', 'Apple iPhone 8 Plus',\n",
       "       'Apple iPhone XS Max', 'Huawei Mate 10 Lite',\n",
       "       'Samsung Galaxy A10s', 'Samsung Galaxy A20s',\n",
       "       'Samsung Galaxy A30s', 'Samsung Galaxy A50s',\n",
       "       'Samsung Galaxy S10e', 'Xiaomi Pocophone F1',\n",
       "       'Xiaomi Redmi 4 (4X)', 'Xiaomi Redmi 8A Pro',\n",
       "       'Xiaomi Redmi Note 2', 'Xiaomi Redmi Note 3',\n",
       "       'Xiaomi Redmi Note 4', 'Xiaomi Redmi Note 7',\n",
       "       'Xiaomi Redmi Note 8', 'Apple iPhone 6s Plus',\n",
       "       'Huawei Y6 Pro (2019)', 'Samsung Galaxy Note8',\n",
       "       'Samsung Galaxy Note9', 'Xiaomi Black Shark 2',\n",
       "       'Xiaomi Mi A1 (Mi 5X)', 'Xiaomi Mi A2 (Mi 6X)',\n",
       "       'Xiaomi Redmi 2 Prime', 'Xiaomi Redmi 4 Prime',\n",
       "       'Xiaomi Redmi K20 Pro', 'Xiaomi Redmi Note 4X',\n",
       "       'Samsung Galaxy C9 Pro', 'Samsung Galaxy Folder',\n",
       "       'Samsung Galaxy J1 Ace', 'Samsung Galaxy J7 Pro',\n",
       "       'Xiaomi Mi Note 10 Pro', 'Asus Zenfone 3 ZE520KL',\n",
       "       'Asus Zenfone 5 ZE620KL', 'Samsung Galaxy Note FE',\n",
       "       'Samsung Galaxy S7 edge', 'Apple iPhone 11 Pro Max',\n",
       "       'Samsung Galaxy J2 Prime', 'Samsung Galaxy J7 Prime',\n",
       "       'Xiaomi Redmi Note 5 Pro', 'Xiaomi Redmi Note 7 Pro',\n",
       "       'Xiaomi Redmi Note 8 Pro', 'Xiaomi Redmi Note Prime',\n",
       "       'Samsung Galaxy A6 (2018)', 'Samsung Galaxy A7 (2018)',\n",
       "       'Samsung Galaxy A8 (2018)', 'Samsung Galaxy J3 (2016)',\n",
       "       'Samsung Galaxy J7 (2017)', 'Xiaomi Black Shark 2 Pro',\n",
       "       'Asus ROG Phone II ZS660KL', 'Nokia 6.1 Plus (Nokia X6)',\n",
       "       'Xiaomi Redmi Y1 (Note 5A)', 'Asus Zenfone 3 Max ZC553KL',\n",
       "       'Xiaomi Redmi S2 (Redmi Y2)', 'Asus Zenfone 5 Lite ZC600KL',\n",
       "       'Samsung Galaxy Note 10 Lite', 'Samsung Galaxy S20 Ultra 5G',\n",
       "       'Samsung Galaxy A9 Pro (2016)', 'Samsung Galaxy J2 Pro (2016)',\n",
       "       'Samsung Galaxy J2 Pro (2018)', 'Asus Zenfone 2 Deluxe ZE551ML',\n",
       "       'Asus Zenfone Max (M1) ZB555KL', 'Asus ZenFone Live (L1) ZA550KL',\n",
       "       'Asus Zenfone 4 Max Pro ZC554KL',\n",
       "       'Xiaomi Mi A2 Lite (Redmi 6 Pro)',\n",
       "       'Asus Zenfone Max Pro (M2) ZB631KL',\n",
       "       'Asus Zenfone 4 Selfie Lite ZB553KL',\n",
       "       'Xiaomi Redmi 5 Plus (Redmi Note 5)',\n",
       "       'Xiaomi Redmi Note 5 AI Dual Camera',\n",
       "       'Asus Zenfone Max Pro (M1) ZB601KL/ZB602K', 'Oppo K3', 'Nokia 2.2',\n",
       "       'Oppo Reno2', 'vivo S1 Pro', 'Honor 8A Pro', 'Honor 9 Lite',\n",
       "       'Xiaomi Mi 5c', 'Honor 10 Lite', 'Oppo Mirror 3', 'Huawei P30 Pro',\n",
       "       'Infinix Smart 4', 'Oppo Reno 10x zoom', 'Samsung Galaxy A01',\n",
       "       'Samsung Galaxy A70', 'Samsung Galaxy A80', 'Samsung Galaxy M30',\n",
       "       'Samsung Galaxy S10', 'Samsung Galaxy M30s',\n",
       "       'Huawei Y7 Pro (2019)', 'Samsung Galaxy Note10',\n",
       "       'Asus ZenFone Live (L2)', 'Asus Zenfone 6 ZS630KL',\n",
       "       'Samsung Galaxy A2 Core', 'Samsung Galaxy S10 Lite',\n",
       "       'Samsung Galaxy Xcover 4', 'Xiaomi Redmi Note 6 Pro',\n",
       "       'Samsung Galaxy A7 (2016)', 'Samsung Galaxy A9 (2018)',\n",
       "       'Asus Zenfone 3 Max ZC520TL', 'Asus Zenfone 4 Selfie ZD553KL',\n",
       "       'Asus Zenfone Max (M2) ZB633KL', 'Samsung Galaxy J2 Core (2020)',\n",
       "       'Asus Zenfone 4 Selfie Pro ZD552KL', 'Honor 7', 'Nokia 3',\n",
       "       'Nokia 5', 'Honor 10', 'Honor 8X', 'Realme 3', 'vivo V17',\n",
       "       'vivo V5s', 'vivo Y51', 'vivo Y69', 'Huawei Y6', 'Nokia 4.2',\n",
       "       'Nokia 7.1', 'Oppo Reno', 'Realme 5i', 'Realme U1', 'Realme XT',\n",
       "       'vivo V11i', 'Huawei P30', 'Infinix S4', 'Nokia 3.1 A',\n",
       "       'Oppo Neo 5s', 'Xiaomi Mi 6', 'Realme 5 Pro', 'Xiaomi Mi 4i',\n",
       "       'Xiaomi Mi 9T', 'Honor 9N (9i)', 'Infinix Hot 6', 'Infinix Smart',\n",
       "       'Infinix Note 4', 'Infinix Zero 5', 'Nokia 3.1 Plus',\n",
       "       'Samsung A51 5G', 'Xiaomi Mi 8 SE', 'Xiaomi Mi Play',\n",
       "       'Huawei P10 Plus', 'Oppo A31 (2015)', 'Xiaomi Mi 8 Pro',\n",
       "       'Xiaomi Mi Mix 2', 'Xiaomi Redmi 3s', 'Xiaomi Redmi 3x',\n",
       "       'Xiaomi Mi Mix 2S', 'Xiaomi Mi Note 2', 'Infinix Hot 4 Pro',\n",
       "       'Infinix Hot 7 Pro', 'Samsung Galaxy A7', 'Samsung Galaxy J2',\n",
       "       'Samsung Galaxy J6', 'Xiaomi Mi Note 10', 'Huawei Mate 10 Pro',\n",
       "       'Huawei Mate 30 Pro', 'Samsung Galaxy A40', 'Samsung Galaxy A60',\n",
       "       'Samsung Galaxy M40', 'Xiaomi Redmi 2 Pro', 'Samsung Galaxy A70s',\n",
       "       'Asus Zenfone Go T500', 'Huawei Y7 Pro (2018)',\n",
       "       'Samsung Galaxy J1 4G', 'Xiaomi Mi 10 Lite 5G',\n",
       "       'Xiaomi Mi 8 Explorer', 'Huawei P8 Lite (2017)',\n",
       "       'Samsung Galaxy J3 Pro', 'Samsung Galaxy J7 Duo',\n",
       "       'Samsung Galaxy S5 Neo', 'vivo NEX Dual Display',\n",
       "       'Samsung Galaxy Fold 5G', 'Samsung Galaxy J2 Core',\n",
       "       'Samsung Galaxy S6 edge', 'Asus Zenfone 5z ZS620KL',\n",
       "       'Samsung Galaxy J5 Prime', 'Samsung Galaxy A5 (2016)',\n",
       "       'Samsung Galaxy J7 (2016)', 'Asus Zenfone Live ZB501KL',\n",
       "       'Samsung Galaxy A6+ (2018)', 'Asus Zenfone 4 Max ZC520KL',\n",
       "       'Asus Zenfone Selfie ZD551KL', 'Huawei P30 lite New Edition',\n",
       "       'Asus Zenfone 5 A501CG (2015)', 'Samsung Galaxy Express Prime',\n",
       "       'Samsung Galaxy J1 mini prime', 'Samsung Galaxy S4 mini I9195I',\n",
       "       'Asus Zenfone 4 Max Plus ZC554KL',\n",
       "       'Samsung Galaxy A8 Star (A9 Star)',\n",
       "       'Asus Zenfone 3 Deluxe 5.5 ZS550KL', 'vivo Z1', 'Honor 7A',\n",
       "       'Oppo A7x', 'vivo V19', 'vivo Y21', 'vivo Y53', 'vivo Y65',\n",
       "       'Nokia 7.2', 'Realme C2', 'Huawei P20', 'Oppo Joy 3', 'Oppo Neo 7',\n",
       "       'Huawei Y5II', 'Oppo Find X', 'Xiaomi Mi 8', 'Oppo Reno2 Z',\n",
       "       'Realme 2 Pro', 'Xiaomi Mi 5s', 'Huawei nova 4', 'Infinix Hot S',\n",
       "       'Oppo F7 Youth', 'Huawei Enjoy 9', 'Huawei Mate 30',\n",
       "       'Huawei Enjoy 10', 'Asus Live G500TG', 'Huawei Mate 20 X',\n",
       "       'Huawei Y6 (2018)', 'Huawei nova 7 5G', 'Xiaomi Redmi K30',\n",
       "       'Samsung Galaxy S6', 'Huawei Ascend Y540', 'Samsung Galaxy M31',\n",
       "       'Xiaomi Redmi 3 Pro', 'Samsung Galaxy Fold',\n",
       "       'Nokia 8.1 (Nokia X7)', 'Xiaomi Redmi 8A Dual',\n",
       "       'Samsung Galaxy Z Flip', 'Xiaomi Mi 10 Youth 5G',\n",
       "       'Xiaomi Redmi 3s Prime', 'Samsung Galaxy A5 (2017)',\n",
       "       'Samsung Galaxy A7 (2017)', 'Samsung Galaxy J7 Prime 2',\n",
       "       'Xiaomi Redmi Note 9 Pro Max', 'vivo X5Max Platinum Edition',\n",
       "       'Asus ZenFone Lite (L1) ZA551KL', 'Nokia 2', 'Nokia 1 Plus',\n",
       "       'Infinix Hot 9', 'Samsung Galaxy S6 active'], dtype=object)"
      ]
     },
     "execution_count": 26,
     "metadata": {},
     "output_type": "execute_result"
    }
   ],
   "source": [
    "data_marketplace['product_type'].unique()\n",
    "\n"
   ]
  },
  {
   "cell_type": "markdown",
   "metadata": {},
   "source": [
    "## 5. Tiga Produk Teratas dalam Penjualan"
   ]
  },
  {
   "cell_type": "code",
   "execution_count": 41,
   "metadata": {},
   "outputs": [
    {
     "data": {
      "text/plain": [
       "product_type\n",
       "Samsung Galaxy A10s    525852\n",
       "Xiaomi Redmi 6A        332426\n",
       "Realme 6               277352\n",
       "Name: total_sold, dtype: int64"
      ]
     },
     "execution_count": 41,
     "metadata": {},
     "output_type": "execute_result"
    }
   ],
   "source": [
    "data_marketplace.groupby(\"product_type\")['total_sold'].sum().sort_values(ascending=False).head(3)"
   ]
  },
  {
   "cell_type": "markdown",
   "metadata": {},
   "source": [
    "## 6. Produk Teratas Pertama: Harga rata-rata, variasi harga jual, Visualisasi Distribusi dengan Histogram"
   ]
  },
  {
   "cell_type": "code",
   "execution_count": 42,
   "metadata": {},
   "outputs": [
    {
     "data": {
      "text/html": [
       "<div>\n",
       "<style scoped>\n",
       "    .dataframe tbody tr th:only-of-type {\n",
       "        vertical-align: middle;\n",
       "    }\n",
       "\n",
       "    .dataframe tbody tr th {\n",
       "        vertical-align: top;\n",
       "    }\n",
       "\n",
       "    .dataframe thead th {\n",
       "        text-align: right;\n",
       "    }\n",
       "</style>\n",
       "<table border=\"1\" class=\"dataframe\">\n",
       "  <thead>\n",
       "    <tr style=\"text-align: right;\">\n",
       "      <th></th>\n",
       "      <th>date</th>\n",
       "      <th>sku_name</th>\n",
       "      <th>product_id</th>\n",
       "      <th>merchant_code</th>\n",
       "      <th>merchant_badge</th>\n",
       "      <th>product_type</th>\n",
       "      <th>merchant_city</th>\n",
       "      <th>cod</th>\n",
       "      <th>price</th>\n",
       "      <th>stock</th>\n",
       "      <th>daily_gmv</th>\n",
       "      <th>daily_sold</th>\n",
       "      <th>daily_view</th>\n",
       "      <th>rating</th>\n",
       "      <th>total_review</th>\n",
       "      <th>total_sold</th>\n",
       "    </tr>\n",
       "  </thead>\n",
       "  <tbody>\n",
       "    <tr>\n",
       "      <th>25315</th>\n",
       "      <td>4/19/2020</td>\n",
       "      <td>Samsung Galaxy A10s 2/32 RAM 2GB ROM 32GB GARA...</td>\n",
       "      <td>E3291</td>\n",
       "      <td>805</td>\n",
       "      <td>OS</td>\n",
       "      <td>Samsung Galaxy A10s</td>\n",
       "      <td>Kota Administrasi Jakarta Pusat</td>\n",
       "      <td>False</td>\n",
       "      <td>1625000</td>\n",
       "      <td>25</td>\n",
       "      <td>87750000</td>\n",
       "      <td>54</td>\n",
       "      <td>1253</td>\n",
       "      <td>98</td>\n",
       "      <td>570</td>\n",
       "      <td>4290</td>\n",
       "    </tr>\n",
       "    <tr>\n",
       "      <th>19897</th>\n",
       "      <td>4/26/2020</td>\n",
       "      <td>samsung a10s garansi resmi sein 2/32 termurah ...</td>\n",
       "      <td>G486</td>\n",
       "      <td>1750</td>\n",
       "      <td>PM</td>\n",
       "      <td>Samsung Galaxy A10s</td>\n",
       "      <td>Kab. Bantul</td>\n",
       "      <td>False</td>\n",
       "      <td>1625000</td>\n",
       "      <td>1</td>\n",
       "      <td>6500000</td>\n",
       "      <td>4</td>\n",
       "      <td>79</td>\n",
       "      <td>99</td>\n",
       "      <td>338</td>\n",
       "      <td>4118</td>\n",
       "    </tr>\n",
       "    <tr>\n",
       "      <th>25326</th>\n",
       "      <td>4/4/2020</td>\n",
       "      <td>Samsung Galaxy A10s 2/32 RAM 2GB ROM 32GB GARA...</td>\n",
       "      <td>E3287</td>\n",
       "      <td>805</td>\n",
       "      <td>OS</td>\n",
       "      <td>Samsung Galaxy A10s</td>\n",
       "      <td>Kota Administrasi Jakarta Pusat</td>\n",
       "      <td>False</td>\n",
       "      <td>1621000</td>\n",
       "      <td>7</td>\n",
       "      <td>25936000</td>\n",
       "      <td>16</td>\n",
       "      <td>565</td>\n",
       "      <td>98</td>\n",
       "      <td>529</td>\n",
       "      <td>4100</td>\n",
       "    </tr>\n",
       "    <tr>\n",
       "      <th>25292</th>\n",
       "      <td>4/1/2020</td>\n",
       "      <td>Samsung Galaxy A10s 2/32 RAM 2GB ROM 32GB GARA...</td>\n",
       "      <td>E3287</td>\n",
       "      <td>805</td>\n",
       "      <td>OS</td>\n",
       "      <td>Samsung Galaxy A10s</td>\n",
       "      <td>Kota Administrasi Jakarta Pusat</td>\n",
       "      <td>False</td>\n",
       "      <td>1633000</td>\n",
       "      <td>8</td>\n",
       "      <td>3266000</td>\n",
       "      <td>2</td>\n",
       "      <td>495</td>\n",
       "      <td>98</td>\n",
       "      <td>515</td>\n",
       "      <td>4063</td>\n",
       "    </tr>\n",
       "    <tr>\n",
       "      <th>19676</th>\n",
       "      <td>4/9/2020</td>\n",
       "      <td>samsung a10s garansi resmi sein 2/32 termurah ...</td>\n",
       "      <td>G486</td>\n",
       "      <td>1750</td>\n",
       "      <td>PM</td>\n",
       "      <td>Samsung Galaxy A10s</td>\n",
       "      <td>Kab. Bantul</td>\n",
       "      <td>False</td>\n",
       "      <td>1595000</td>\n",
       "      <td>1</td>\n",
       "      <td>0</td>\n",
       "      <td>0</td>\n",
       "      <td>48</td>\n",
       "      <td>99</td>\n",
       "      <td>319</td>\n",
       "      <td>3990</td>\n",
       "    </tr>\n",
       "    <tr>\n",
       "      <th>...</th>\n",
       "      <td>...</td>\n",
       "      <td>...</td>\n",
       "      <td>...</td>\n",
       "      <td>...</td>\n",
       "      <td>...</td>\n",
       "      <td>...</td>\n",
       "      <td>...</td>\n",
       "      <td>...</td>\n",
       "      <td>...</td>\n",
       "      <td>...</td>\n",
       "      <td>...</td>\n",
       "      <td>...</td>\n",
       "      <td>...</td>\n",
       "      <td>...</td>\n",
       "      <td>...</td>\n",
       "      <td>...</td>\n",
       "    </tr>\n",
       "    <tr>\n",
       "      <th>7171</th>\n",
       "      <td>3/25/2020</td>\n",
       "      <td>HANDPHONE SAMSUNG GALAXY A10S 2GB/32GB</td>\n",
       "      <td>E1348</td>\n",
       "      <td>1178</td>\n",
       "      <td>PM</td>\n",
       "      <td>Samsung Galaxy A10s</td>\n",
       "      <td>Kota Medan</td>\n",
       "      <td>False</td>\n",
       "      <td>1620000</td>\n",
       "      <td>5</td>\n",
       "      <td>0</td>\n",
       "      <td>0</td>\n",
       "      <td>0</td>\n",
       "      <td>100</td>\n",
       "      <td>2</td>\n",
       "      <td>9</td>\n",
       "    </tr>\n",
       "    <tr>\n",
       "      <th>20144</th>\n",
       "      <td>4/5/2020</td>\n",
       "      <td>SAMSUNG GALAXY A10S GARANSI RESMI</td>\n",
       "      <td>F1098</td>\n",
       "      <td>2065</td>\n",
       "      <td>PM</td>\n",
       "      <td>Samsung Galaxy A10s</td>\n",
       "      <td>Kota Magelang</td>\n",
       "      <td>False</td>\n",
       "      <td>1620000</td>\n",
       "      <td>2</td>\n",
       "      <td>0</td>\n",
       "      <td>0</td>\n",
       "      <td>1</td>\n",
       "      <td>100</td>\n",
       "      <td>1</td>\n",
       "      <td>7</td>\n",
       "    </tr>\n",
       "    <tr>\n",
       "      <th>25322</th>\n",
       "      <td>4/8/2020</td>\n",
       "      <td>SAMSUNG GALAXY A10s 2/32GB GARANSI RESMI</td>\n",
       "      <td>E323</td>\n",
       "      <td>858</td>\n",
       "      <td>OS</td>\n",
       "      <td>Samsung Galaxy A10s</td>\n",
       "      <td>Kota Semarang</td>\n",
       "      <td>False</td>\n",
       "      <td>1675000</td>\n",
       "      <td>8</td>\n",
       "      <td>0</td>\n",
       "      <td>0</td>\n",
       "      <td>5</td>\n",
       "      <td>100</td>\n",
       "      <td>3</td>\n",
       "      <td>7</td>\n",
       "    </tr>\n",
       "    <tr>\n",
       "      <th>3545</th>\n",
       "      <td>3/29/2020</td>\n",
       "      <td>SAMSUNG GALAXY A10s 2/32GB GARANSI RESMI</td>\n",
       "      <td>E323</td>\n",
       "      <td>858</td>\n",
       "      <td>OS</td>\n",
       "      <td>Samsung Galaxy A10s</td>\n",
       "      <td>Kota Semarang</td>\n",
       "      <td>False</td>\n",
       "      <td>1670000</td>\n",
       "      <td>8</td>\n",
       "      <td>0</td>\n",
       "      <td>0</td>\n",
       "      <td>0</td>\n",
       "      <td>100</td>\n",
       "      <td>3</td>\n",
       "      <td>7</td>\n",
       "    </tr>\n",
       "    <tr>\n",
       "      <th>6964</th>\n",
       "      <td>3/30/2020</td>\n",
       "      <td>SAMSUNG GALAXY A10S GARANSI RESMI</td>\n",
       "      <td>F1098</td>\n",
       "      <td>2065</td>\n",
       "      <td>PM</td>\n",
       "      <td>Samsung Galaxy A10s</td>\n",
       "      <td>Kota Magelang</td>\n",
       "      <td>False</td>\n",
       "      <td>1620000</td>\n",
       "      <td>2</td>\n",
       "      <td>0</td>\n",
       "      <td>0</td>\n",
       "      <td>3</td>\n",
       "      <td>100</td>\n",
       "      <td>1</td>\n",
       "      <td>7</td>\n",
       "    </tr>\n",
       "  </tbody>\n",
       "</table>\n",
       "<p>1062 rows × 16 columns</p>\n",
       "</div>"
      ],
      "text/plain": [
       "            date                                           sku_name  \\\n",
       "25315  4/19/2020  Samsung Galaxy A10s 2/32 RAM 2GB ROM 32GB GARA...   \n",
       "19897  4/26/2020  samsung a10s garansi resmi sein 2/32 termurah ...   \n",
       "25326   4/4/2020  Samsung Galaxy A10s 2/32 RAM 2GB ROM 32GB GARA...   \n",
       "25292   4/1/2020  Samsung Galaxy A10s 2/32 RAM 2GB ROM 32GB GARA...   \n",
       "19676   4/9/2020  samsung a10s garansi resmi sein 2/32 termurah ...   \n",
       "...          ...                                                ...   \n",
       "7171   3/25/2020             HANDPHONE SAMSUNG GALAXY A10S 2GB/32GB   \n",
       "20144   4/5/2020                  SAMSUNG GALAXY A10S GARANSI RESMI   \n",
       "25322   4/8/2020           SAMSUNG GALAXY A10s 2/32GB GARANSI RESMI   \n",
       "3545   3/29/2020           SAMSUNG GALAXY A10s 2/32GB GARANSI RESMI   \n",
       "6964   3/30/2020                  SAMSUNG GALAXY A10S GARANSI RESMI   \n",
       "\n",
       "      product_id  merchant_code merchant_badge         product_type  \\\n",
       "25315      E3291            805             OS  Samsung Galaxy A10s   \n",
       "19897       G486           1750             PM  Samsung Galaxy A10s   \n",
       "25326      E3287            805             OS  Samsung Galaxy A10s   \n",
       "25292      E3287            805             OS  Samsung Galaxy A10s   \n",
       "19676       G486           1750             PM  Samsung Galaxy A10s   \n",
       "...          ...            ...            ...                  ...   \n",
       "7171       E1348           1178             PM  Samsung Galaxy A10s   \n",
       "20144      F1098           2065             PM  Samsung Galaxy A10s   \n",
       "25322       E323            858             OS  Samsung Galaxy A10s   \n",
       "3545        E323            858             OS  Samsung Galaxy A10s   \n",
       "6964       F1098           2065             PM  Samsung Galaxy A10s   \n",
       "\n",
       "                         merchant_city    cod    price  stock  daily_gmv  \\\n",
       "25315  Kota Administrasi Jakarta Pusat  False  1625000     25   87750000   \n",
       "19897                      Kab. Bantul  False  1625000      1    6500000   \n",
       "25326  Kota Administrasi Jakarta Pusat  False  1621000      7   25936000   \n",
       "25292  Kota Administrasi Jakarta Pusat  False  1633000      8    3266000   \n",
       "19676                      Kab. Bantul  False  1595000      1          0   \n",
       "...                                ...    ...      ...    ...        ...   \n",
       "7171                        Kota Medan  False  1620000      5          0   \n",
       "20144                    Kota Magelang  False  1620000      2          0   \n",
       "25322                    Kota Semarang  False  1675000      8          0   \n",
       "3545                     Kota Semarang  False  1670000      8          0   \n",
       "6964                     Kota Magelang  False  1620000      2          0   \n",
       "\n",
       "       daily_sold  daily_view  rating  total_review  total_sold  \n",
       "25315          54        1253      98           570        4290  \n",
       "19897           4          79      99           338        4118  \n",
       "25326          16         565      98           529        4100  \n",
       "25292           2         495      98           515        4063  \n",
       "19676           0          48      99           319        3990  \n",
       "...           ...         ...     ...           ...         ...  \n",
       "7171            0           0     100             2           9  \n",
       "20144           0           1     100             1           7  \n",
       "25322           0           5     100             3           7  \n",
       "3545            0           0     100             3           7  \n",
       "6964            0           3     100             1           7  \n",
       "\n",
       "[1062 rows x 16 columns]"
      ]
     },
     "execution_count": 42,
     "metadata": {},
     "output_type": "execute_result"
    }
   ],
   "source": [
    "teratas = data_marketplace[data_marketplace['product_type'] == \"Samsung Galaxy A10s\" ]\n",
    "teratas"
   ]
  },
  {
   "cell_type": "code",
   "execution_count": 43,
   "metadata": {},
   "outputs": [
    {
     "name": "stdout",
     "output_type": "stream",
     "text": [
      "Harga Rata-rata :  1622650.8446327683\n"
     ]
    }
   ],
   "source": [
    "rata_rata = teratas['price'].mean()\n",
    "print(\"Harga Rata-rata : \", rata_rata)"
   ]
  },
  {
   "cell_type": "markdown",
   "metadata": {},
   "source": [
    "### Distribusi Harga dengan Histogram"
   ]
  },
  {
   "cell_type": "code",
   "execution_count": 44,
   "metadata": {},
   "outputs": [
    {
     "data": {
      "text/plain": [
       "<matplotlib.axes._subplots.AxesSubplot at 0x185c3640fd0>"
      ]
     },
     "execution_count": 44,
     "metadata": {},
     "output_type": "execute_result"
    },
    {
     "data": {
      "image/png": "[encoded data removed]",
      "text/plain": [
       "<Figure size 576x288 with 1 Axes>"
      ]
     },
     "metadata": {},
     "output_type": "display_data"
    }
   ],
   "source": [
    "#Histogram & KDE\n",
    "plt.figure(figsize=(8,4))\n",
    "sns.distplot(data_marketplace['price'], bins=40)"
   ]
  },
  {
   "cell_type": "markdown",
   "metadata": {},
   "source": [
    "## 7. Filter dataset hanya Samsung Galaxy A10s, temukan 3 kota pedagang terlaris, boxplot distribusi harga"
   ]
  },
  {
   "cell_type": "code",
   "execution_count": 59,
   "metadata": {},
   "outputs": [
    {
     "data": {
      "text/plain": [
       "merchant_city\n",
       "Kota Administrasi Jakarta Pusat    71373\n",
       "Kab. Sleman                        57790\n",
       "Kab. Bantul                        46091\n",
       "Name: total_sold, dtype: int64"
      ]
     },
     "execution_count": 59,
     "metadata": {},
     "output_type": "execute_result"
    }
   ],
   "source": [
    "filter = data_marketplace[data_marketplace['product_type'] == \"Samsung Galaxy A10s\" ]\n",
    "filter.groupby(\"merchant_city\")['total_sold'].sum().sort_values(ascending=False).head(3)"
   ]
  },
  {
   "cell_type": "markdown",
   "metadata": {},
   "source": [
    "### Boxplot"
   ]
  },
  {
   "cell_type": "code",
   "execution_count": 60,
   "metadata": {
    "scrolled": true
   },
   "outputs": [
    {
     "name": "stdout",
     "output_type": "stream",
     "text": [
      "AxesSubplot(0.125,0.125;0.775x0.755)\n"
     ]
    },
    {
     "data": {
      "image/png": "[encoded data removed]",
      "text/plain": [
       "<Figure size 1080x1080 with 1 Axes>"
      ]
     },
     "metadata": {},
     "output_type": "display_data"
    }
   ],
   "source": [
    "list_kota = ['Kab. Sleman', 'Kab. Bantul', 'Kota Administrasi Jakarta Pusat']\n",
    "filter_kota = data_marketplace[data_marketplace['merchant_city'].isin(list_kota)]\n",
    "plt.figure(figsize=(15,15))\n",
    "boxplot = sns.boxplot(x=\"merchant_city\", y=\"total_sold\", data=filter_kota)\n",
    "print(boxplot)"
   ]
  },
  {
   "cell_type": "markdown",
   "metadata": {},
   "source": [
    "## 8. Uji perbedaan total_sold Samsung Galaxy A10s dengan Xiaomi Redmi 6A menggunakan t-sample test"
   ]
  },
  {
   "cell_type": "markdown",
   "metadata": {},
   "source": [
    "H0: Penjualan Samsung Galaxy A10s = Xiaomi Redmi 6A\n",
    "\n",
    "H1: Penjualan Samsung Galaksi A10s != Xiaomi Redmi 6A"
   ]
  },
  {
   "cell_type": "code",
   "execution_count": 58,
   "metadata": {},
   "outputs": [
    {
     "name": "stdout",
     "output_type": "stream",
     "text": [
      "Rata-rata Penjualan Samsung Galaxy A10s:  495.1525423728813\n",
      "Rata-rata Penjualan Xiaomi:  445.0147255689424\n",
      "Standar Deviasi Samsung Galaxy A10s:  626.3434790554671\n",
      "Standar Deviasi Xiaomi:  580.3946642724721\n",
      "p-value  0.0844228453331236\n",
      "Hipotesis null diterima\n"
     ]
    }
   ],
   "source": [
    "from scipy.stats import  ttest_ind\n",
    "import numpy as np\n",
    "product_samsung = data_marketplace[data_marketplace['product_type']=='Samsung Galaxy A10s']['total_sold']\n",
    "product_xiaomi =  data_marketplace[data_marketplace['product_type']=='Xiaomi Redmi 6A']['total_sold']\n",
    "\n",
    "samsung_mean = np.mean(product_samsung)\n",
    "xiaomi_mean = np.mean(product_xiaomi)\n",
    "\n",
    "print(\"Rata-rata Penjualan Samsung Galaxy A10s: \", samsung_mean)\n",
    "print(\"Rata-rata Penjualan Xiaomi: \",xiaomi_mean)\n",
    "\n",
    "samsung_std= np.std(product_samsung)\n",
    "xiaomi_std= np.std(product_xiaomi)\n",
    "\n",
    "print(\"Standar Deviasi Samsung Galaxy A10s: \", samsung_std)\n",
    "print(\"Standar Deviasi Xiaomi: \", xiaomi_std)\n",
    "\n",
    "ttest,pval = ttest_ind(product_samsung, product_xiaomi)\n",
    "print(\"p-value \", pval)\n",
    "\n",
    "if pval < 0.05:\n",
    "    print(\"Hiptesis null ditolak\")\n",
    "else:\n",
    "    print(\"Hipotesis null diterima\")"
   ]
  },
  {
   "cell_type": "markdown",
   "metadata": {},
   "source": [
    "Jika Hipotesis null diterima, artinya tidak ada perbedaan yang signifikan antara total penjualan dari samsung galaxy A10s dan Xiaomi Redmi 6A"
   ]
  },
  {
   "cell_type": "markdown",
   "metadata": {},
   "source": [
    "## 9. Kesimpulan"
   ]
  },
  {
   "cell_type": "markdown",
   "metadata": {},
   "source": [
    "1. Tiga produk teratas dalam penjualan: Samsung Galaxy A10s, Xiaomi Redmi 6A, dan Realmi 6\n",
    "\n",
    "2. Kota yang menjual produk Samsung Galaxy A10s dengan rata-rata penjualan terbanyak: Kota TAdministrasi Jakarta Pusat, Kab. Sleman, dan Kota Bantul\n",
    "\n",
    "3. Persebaran distribusi harga pada data tersebut condong ke kiri\n",
    "\n",
    "4. Pada uji t antara total_sold Samsung Galaxy A10s dengan Xiaomi Redmi 6A menunjukkan bahwa hipotesis null diterima, ini artinya jumlah penjualan produk Samsung Galaxy A10s dan Xiaomi Redmi 6A tidak memiliki perbedaan yang signifikan"
   ]
  }
 ],
 "metadata": {
  "kernelspec": {
   "display_name": "Python 3",
   "language": "python",
   "name": "python3"
  },
  "language_info": {
   "codemirror_mode": {
    "name": "ipython",
    "version": 3
   },
   "file_extension": ".py",
   "mimetype": "text/x-python",
   "name": "python",
   "nbconvert_exporter": "python",
   "pygments_lexer": "ipython3",
   "version": "3.8.3"
  }
 },
 "nbformat": 4,
 "nbformat_minor": 4
}
