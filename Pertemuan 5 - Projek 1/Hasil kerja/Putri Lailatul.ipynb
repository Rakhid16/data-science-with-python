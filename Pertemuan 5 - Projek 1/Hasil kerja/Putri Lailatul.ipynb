{
 "cells": [
  {
   "cell_type": "code",
   "execution_count": 1,
   "metadata": {},
   "outputs": [],
   "source": [
    "import pandas as pd\n",
    "import mysql.connector as mysql"
   ]
  },
  {
   "cell_type": "code",
   "execution_count": 2,
   "metadata": {},
   "outputs": [],
   "source": [
    "connect = mysql.connect(host = \"localhost\",database = \"dsc\", user=\"admin\", password = \"admin\")"
   ]
  },
  {
   "cell_type": "code",
   "execution_count": 3,
   "metadata": {},
   "outputs": [
    {
     "data": {
      "text/plain": [
       "[('1',\n",
       "  'San Francisco',\n",
       "  '+1 650 219 4782',\n",
       "  '100 Market Street',\n",
       "  'Suite 300',\n",
       "  'CA',\n",
       "  'USA',\n",
       "  '94080',\n",
       "  'NA'),\n",
       " ('2',\n",
       "  'Boston',\n",
       "  '+1 215 837 0825',\n",
       "  '1550 Court Place',\n",
       "  'Suite 102',\n",
       "  'MA',\n",
       "  'USA',\n",
       "  '02107',\n",
       "  'NA'),\n",
       " ('3',\n",
       "  'NYC',\n",
       "  '+1 212 555 3000',\n",
       "  '523 East 53rd Street',\n",
       "  'apt. 5A',\n",
       "  'NY',\n",
       "  'USA',\n",
       "  '10022',\n",
       "  'NA'),\n",
       " ('4',\n",
       "  'Paris',\n",
       "  '+33 14 723 4404',\n",
       "  \"43 Rue Jouffroy D'abbans\",\n",
       "  None,\n",
       "  None,\n",
       "  'France',\n",
       "  '75017',\n",
       "  'EMEA'),\n",
       " ('5',\n",
       "  'Tokyo',\n",
       "  '+81 33 224 5000',\n",
       "  '4-1 Kioicho',\n",
       "  None,\n",
       "  'Chiyoda-Ku',\n",
       "  'Japan',\n",
       "  '102-8578',\n",
       "  'Japan'),\n",
       " ('6',\n",
       "  'Sydney',\n",
       "  '+61 2 9264 2451',\n",
       "  '5-11 Wentworth Avenue',\n",
       "  'Floor #2',\n",
       "  None,\n",
       "  'Australia',\n",
       "  'NSW 2010',\n",
       "  'APAC'),\n",
       " ('7',\n",
       "  'Amsterdam',\n",
       "  '+44 20 7877 2041',\n",
       "  '25 Old Broad Street',\n",
       "  'Level 7',\n",
       "  None,\n",
       "  'UK',\n",
       "  'EC2N 1HN',\n",
       "  'EMEA')]"
      ]
     },
     "execution_count": 3,
     "metadata": {},
     "output_type": "execute_result"
    }
   ],
   "source": [
    "cursor = connect.cursor()\n",
    "cursor.execute(\"SELECT * FROM offices\")\n",
    "\n",
    "tabel_office = cursor.fetchall()\n",
    "tabel_office"
   ]
  },
  {
   "cell_type": "code",
   "execution_count": 4,
   "metadata": {},
   "outputs": [],
   "source": [
    "query = \"INSERT INTO offices VALUES ('9','Jakarta','+62 8155 431 8322','Jln Merdeka Barat','Jln Sudirman','JKT','IDN','61374','Indonesia')\"\n",
    "cursor.execute(query)\n",
    "connect.commit()"
   ]
  },
  {
   "cell_type": "code",
   "execution_count": 5,
   "metadata": {},
   "outputs": [
    {
     "data": {
      "text/plain": [
       "[('1',\n",
       "  'San Francisco',\n",
       "  '+1 650 219 4782',\n",
       "  '100 Market Street',\n",
       "  'Suite 300',\n",
       "  'CA',\n",
       "  'USA',\n",
       "  '94080',\n",
       "  'NA'),\n",
       " ('2',\n",
       "  'Boston',\n",
       "  '+1 215 837 0825',\n",
       "  '1550 Court Place',\n",
       "  'Suite 102',\n",
       "  'MA',\n",
       "  'USA',\n",
       "  '02107',\n",
       "  'NA'),\n",
       " ('3',\n",
       "  'NYC',\n",
       "  '+1 212 555 3000',\n",
       "  '523 East 53rd Street',\n",
       "  'apt. 5A',\n",
       "  'NY',\n",
       "  'USA',\n",
       "  '10022',\n",
       "  'NA'),\n",
       " ('4',\n",
       "  'Paris',\n",
       "  '+33 14 723 4404',\n",
       "  \"43 Rue Jouffroy D'abbans\",\n",
       "  None,\n",
       "  None,\n",
       "  'France',\n",
       "  '75017',\n",
       "  'EMEA'),\n",
       " ('5',\n",
       "  'Tokyo',\n",
       "  '+81 33 224 5000',\n",
       "  '4-1 Kioicho',\n",
       "  None,\n",
       "  'Chiyoda-Ku',\n",
       "  'Japan',\n",
       "  '102-8578',\n",
       "  'Japan'),\n",
       " ('6',\n",
       "  'Sydney',\n",
       "  '+61 2 9264 2451',\n",
       "  '5-11 Wentworth Avenue',\n",
       "  'Floor #2',\n",
       "  None,\n",
       "  'Australia',\n",
       "  'NSW 2010',\n",
       "  'APAC'),\n",
       " ('7',\n",
       "  'Amsterdam',\n",
       "  '+44 20 7877 2041',\n",
       "  '25 Old Broad Street',\n",
       "  'Level 7',\n",
       "  None,\n",
       "  'UK',\n",
       "  'EC2N 1HN',\n",
       "  'EMEA'),\n",
       " ('9',\n",
       "  'Jakarta',\n",
       "  '+62 8155 431 8322',\n",
       "  'Jln Merdeka Barat',\n",
       "  'Jln Sudirman',\n",
       "  'JKT',\n",
       "  'IDN',\n",
       "  '61374',\n",
       "  'Indonesia')]"
      ]
     },
     "execution_count": 5,
     "metadata": {},
     "output_type": "execute_result"
    }
   ],
   "source": [
    "cursor.execute(\"SELECT * FROM offices\")\n",
    "tabel_office = cursor.fetchall()\n",
    "tabel_office"
   ]
  },
  {
   "cell_type": "code",
   "execution_count": 6,
   "metadata": {},
   "outputs": [],
   "source": [
    "query = \"UPDATE offices SET city = 'Amsterdam' WHERE officeCode = 7\"\n",
    "cursor.execute(query)\n",
    "connect.commit()"
   ]
  },
  {
   "cell_type": "code",
   "execution_count": 7,
   "metadata": {},
   "outputs": [
    {
     "data": {
      "text/plain": [
       "[('1',\n",
       "  'San Francisco',\n",
       "  '+1 650 219 4782',\n",
       "  '100 Market Street',\n",
       "  'Suite 300',\n",
       "  'CA',\n",
       "  'USA',\n",
       "  '94080',\n",
       "  'NA'),\n",
       " ('2',\n",
       "  'Boston',\n",
       "  '+1 215 837 0825',\n",
       "  '1550 Court Place',\n",
       "  'Suite 102',\n",
       "  'MA',\n",
       "  'USA',\n",
       "  '02107',\n",
       "  'NA'),\n",
       " ('3',\n",
       "  'NYC',\n",
       "  '+1 212 555 3000',\n",
       "  '523 East 53rd Street',\n",
       "  'apt. 5A',\n",
       "  'NY',\n",
       "  'USA',\n",
       "  '10022',\n",
       "  'NA'),\n",
       " ('4',\n",
       "  'Paris',\n",
       "  '+33 14 723 4404',\n",
       "  \"43 Rue Jouffroy D'abbans\",\n",
       "  None,\n",
       "  None,\n",
       "  'France',\n",
       "  '75017',\n",
       "  'EMEA'),\n",
       " ('5',\n",
       "  'Tokyo',\n",
       "  '+81 33 224 5000',\n",
       "  '4-1 Kioicho',\n",
       "  None,\n",
       "  'Chiyoda-Ku',\n",
       "  'Japan',\n",
       "  '102-8578',\n",
       "  'Japan'),\n",
       " ('6',\n",
       "  'Sydney',\n",
       "  '+61 2 9264 2451',\n",
       "  '5-11 Wentworth Avenue',\n",
       "  'Floor #2',\n",
       "  None,\n",
       "  'Australia',\n",
       "  'NSW 2010',\n",
       "  'APAC'),\n",
       " ('7',\n",
       "  'Amsterdam',\n",
       "  '+44 20 7877 2041',\n",
       "  '25 Old Broad Street',\n",
       "  'Level 7',\n",
       "  None,\n",
       "  'UK',\n",
       "  'EC2N 1HN',\n",
       "  'EMEA'),\n",
       " ('9',\n",
       "  'Jakarta',\n",
       "  '+62 8155 431 8322',\n",
       "  'Jln Merdeka Barat',\n",
       "  'Jln Sudirman',\n",
       "  'JKT',\n",
       "  'IDN',\n",
       "  '61374',\n",
       "  'Indonesia')]"
      ]
     },
     "execution_count": 7,
     "metadata": {},
     "output_type": "execute_result"
    }
   ],
   "source": [
    "cursor.execute(\"SELECT * FROM offices\")\n",
    "tabel_office = cursor.fetchall()\n",
    "tabel_office"
   ]
  },
  {
   "cell_type": "code",
   "execution_count": 8,
   "metadata": {},
   "outputs": [],
   "source": [
    "query = \"DELETE FROM offices WHERE officeCode = 9\"\n",
    "cursor.execute(query)\n",
    "connect.commit()"
   ]
  },
  {
   "cell_type": "code",
   "execution_count": 9,
   "metadata": {},
   "outputs": [
    {
     "data": {
      "text/html": [
       "<div>\n",
       "<style scoped>\n",
       "    .dataframe tbody tr th:only-of-type {\n",
       "        vertical-align: middle;\n",
       "    }\n",
       "\n",
       "    .dataframe tbody tr th {\n",
       "        vertical-align: top;\n",
       "    }\n",
       "\n",
       "    .dataframe thead th {\n",
       "        text-align: right;\n",
       "    }\n",
       "</style>\n",
       "<table border=\"1\" class=\"dataframe\">\n",
       "  <thead>\n",
       "    <tr style=\"text-align: right;\">\n",
       "      <th></th>\n",
       "      <th>Office Code</th>\n",
       "      <th>City</th>\n",
       "      <th>Phone</th>\n",
       "      <th>Address 1</th>\n",
       "      <th>Address 2</th>\n",
       "      <th>State</th>\n",
       "      <th>Country</th>\n",
       "      <th>Postal Code</th>\n",
       "      <th>Teritory</th>\n",
       "    </tr>\n",
       "  </thead>\n",
       "  <tbody>\n",
       "    <tr>\n",
       "      <th>0</th>\n",
       "      <td>1</td>\n",
       "      <td>San Francisco</td>\n",
       "      <td>+1 650 219 4782</td>\n",
       "      <td>100 Market Street</td>\n",
       "      <td>Suite 300</td>\n",
       "      <td>CA</td>\n",
       "      <td>USA</td>\n",
       "      <td>94080</td>\n",
       "      <td>NA</td>\n",
       "    </tr>\n",
       "    <tr>\n",
       "      <th>1</th>\n",
       "      <td>2</td>\n",
       "      <td>Boston</td>\n",
       "      <td>+1 215 837 0825</td>\n",
       "      <td>1550 Court Place</td>\n",
       "      <td>Suite 102</td>\n",
       "      <td>MA</td>\n",
       "      <td>USA</td>\n",
       "      <td>02107</td>\n",
       "      <td>NA</td>\n",
       "    </tr>\n",
       "    <tr>\n",
       "      <th>2</th>\n",
       "      <td>3</td>\n",
       "      <td>NYC</td>\n",
       "      <td>+1 212 555 3000</td>\n",
       "      <td>523 East 53rd Street</td>\n",
       "      <td>apt. 5A</td>\n",
       "      <td>NY</td>\n",
       "      <td>USA</td>\n",
       "      <td>10022</td>\n",
       "      <td>NA</td>\n",
       "    </tr>\n",
       "    <tr>\n",
       "      <th>3</th>\n",
       "      <td>4</td>\n",
       "      <td>Paris</td>\n",
       "      <td>+33 14 723 4404</td>\n",
       "      <td>43 Rue Jouffroy D'abbans</td>\n",
       "      <td>None</td>\n",
       "      <td>None</td>\n",
       "      <td>France</td>\n",
       "      <td>75017</td>\n",
       "      <td>EMEA</td>\n",
       "    </tr>\n",
       "    <tr>\n",
       "      <th>4</th>\n",
       "      <td>5</td>\n",
       "      <td>Tokyo</td>\n",
       "      <td>+81 33 224 5000</td>\n",
       "      <td>4-1 Kioicho</td>\n",
       "      <td>None</td>\n",
       "      <td>Chiyoda-Ku</td>\n",
       "      <td>Japan</td>\n",
       "      <td>102-8578</td>\n",
       "      <td>Japan</td>\n",
       "    </tr>\n",
       "    <tr>\n",
       "      <th>5</th>\n",
       "      <td>6</td>\n",
       "      <td>Sydney</td>\n",
       "      <td>+61 2 9264 2451</td>\n",
       "      <td>5-11 Wentworth Avenue</td>\n",
       "      <td>Floor #2</td>\n",
       "      <td>None</td>\n",
       "      <td>Australia</td>\n",
       "      <td>NSW 2010</td>\n",
       "      <td>APAC</td>\n",
       "    </tr>\n",
       "    <tr>\n",
       "      <th>6</th>\n",
       "      <td>7</td>\n",
       "      <td>Amsterdam</td>\n",
       "      <td>+44 20 7877 2041</td>\n",
       "      <td>25 Old Broad Street</td>\n",
       "      <td>Level 7</td>\n",
       "      <td>None</td>\n",
       "      <td>UK</td>\n",
       "      <td>EC2N 1HN</td>\n",
       "      <td>EMEA</td>\n",
       "    </tr>\n",
       "    <tr>\n",
       "      <th>7</th>\n",
       "      <td>9</td>\n",
       "      <td>Jakarta</td>\n",
       "      <td>+62 8155 431 8322</td>\n",
       "      <td>Jln Merdeka Barat</td>\n",
       "      <td>Jln Sudirman</td>\n",
       "      <td>JKT</td>\n",
       "      <td>IDN</td>\n",
       "      <td>61374</td>\n",
       "      <td>Indonesia</td>\n",
       "    </tr>\n",
       "  </tbody>\n",
       "</table>\n",
       "</div>"
      ],
      "text/plain": [
       "  Office Code           City              Phone                 Address 1  \\\n",
       "0           1  San Francisco    +1 650 219 4782         100 Market Street   \n",
       "1           2         Boston    +1 215 837 0825          1550 Court Place   \n",
       "2           3            NYC    +1 212 555 3000      523 East 53rd Street   \n",
       "3           4          Paris    +33 14 723 4404  43 Rue Jouffroy D'abbans   \n",
       "4           5          Tokyo    +81 33 224 5000               4-1 Kioicho   \n",
       "5           6         Sydney    +61 2 9264 2451     5-11 Wentworth Avenue   \n",
       "6           7      Amsterdam   +44 20 7877 2041       25 Old Broad Street   \n",
       "7           9        Jakarta  +62 8155 431 8322         Jln Merdeka Barat   \n",
       "\n",
       "      Address 2       State    Country Postal Code   Teritory  \n",
       "0     Suite 300          CA        USA       94080         NA  \n",
       "1     Suite 102          MA        USA       02107         NA  \n",
       "2       apt. 5A          NY        USA       10022         NA  \n",
       "3          None        None     France       75017       EMEA  \n",
       "4          None  Chiyoda-Ku      Japan    102-8578      Japan  \n",
       "5      Floor #2        None  Australia    NSW 2010       APAC  \n",
       "6       Level 7        None         UK    EC2N 1HN       EMEA  \n",
       "7  Jln Sudirman         JKT        IDN       61374  Indonesia  "
      ]
     },
     "execution_count": 9,
     "metadata": {},
     "output_type": "execute_result"
    }
   ],
   "source": [
    "data_office = pd.DataFrame(columns = [\"Office Code\",\"City\",\"Phone\",\n",
    "                                      \"Address 1\",\"Address 2\",\"State\",\"Country\",\"Postal Code\",\"Teritory\"],\n",
    "                           data = tabel_office)\n",
    "data_office"
   ]
  },
  {
   "cell_type": "code",
   "execution_count": 10,
   "metadata": {},
   "outputs": [
    {
     "data": {
      "text/plain": [
       "(8, 9)"
      ]
     },
     "execution_count": 10,
     "metadata": {},
     "output_type": "execute_result"
    }
   ],
   "source": [
    "data_office.shape"
   ]
  },
  {
   "cell_type": "code",
   "execution_count": 11,
   "metadata": {},
   "outputs": [
    {
     "data": {
      "text/html": [
       "<div>\n",
       "<style scoped>\n",
       "    .dataframe tbody tr th:only-of-type {\n",
       "        vertical-align: middle;\n",
       "    }\n",
       "\n",
       "    .dataframe tbody tr th {\n",
       "        vertical-align: top;\n",
       "    }\n",
       "\n",
       "    .dataframe thead th {\n",
       "        text-align: right;\n",
       "    }\n",
       "</style>\n",
       "<table border=\"1\" class=\"dataframe\">\n",
       "  <thead>\n",
       "    <tr style=\"text-align: right;\">\n",
       "      <th></th>\n",
       "      <th>Office Code</th>\n",
       "      <th>City</th>\n",
       "      <th>Phone</th>\n",
       "      <th>Address 1</th>\n",
       "      <th>Address 2</th>\n",
       "      <th>State</th>\n",
       "      <th>Country</th>\n",
       "      <th>Postal Code</th>\n",
       "      <th>Teritory</th>\n",
       "    </tr>\n",
       "  </thead>\n",
       "  <tbody>\n",
       "    <tr>\n",
       "      <th>count</th>\n",
       "      <td>8</td>\n",
       "      <td>8</td>\n",
       "      <td>8</td>\n",
       "      <td>8</td>\n",
       "      <td>6</td>\n",
       "      <td>5</td>\n",
       "      <td>8</td>\n",
       "      <td>8</td>\n",
       "      <td>8</td>\n",
       "    </tr>\n",
       "    <tr>\n",
       "      <th>unique</th>\n",
       "      <td>8</td>\n",
       "      <td>8</td>\n",
       "      <td>8</td>\n",
       "      <td>8</td>\n",
       "      <td>6</td>\n",
       "      <td>5</td>\n",
       "      <td>6</td>\n",
       "      <td>8</td>\n",
       "      <td>5</td>\n",
       "    </tr>\n",
       "    <tr>\n",
       "      <th>top</th>\n",
       "      <td>3</td>\n",
       "      <td>Tokyo</td>\n",
       "      <td>+1 215 837 0825</td>\n",
       "      <td>523 East 53rd Street</td>\n",
       "      <td>Jln Sudirman</td>\n",
       "      <td>NY</td>\n",
       "      <td>USA</td>\n",
       "      <td>10022</td>\n",
       "      <td>NA</td>\n",
       "    </tr>\n",
       "    <tr>\n",
       "      <th>freq</th>\n",
       "      <td>1</td>\n",
       "      <td>1</td>\n",
       "      <td>1</td>\n",
       "      <td>1</td>\n",
       "      <td>1</td>\n",
       "      <td>1</td>\n",
       "      <td>3</td>\n",
       "      <td>1</td>\n",
       "      <td>3</td>\n",
       "    </tr>\n",
       "  </tbody>\n",
       "</table>\n",
       "</div>"
      ],
      "text/plain": [
       "       Office Code   City            Phone             Address 1  \\\n",
       "count            8      8                8                     8   \n",
       "unique           8      8                8                     8   \n",
       "top              3  Tokyo  +1 215 837 0825  523 East 53rd Street   \n",
       "freq             1      1                1                     1   \n",
       "\n",
       "           Address 2 State Country Postal Code Teritory  \n",
       "count              6     5       8           8        8  \n",
       "unique             6     5       6           8        5  \n",
       "top     Jln Sudirman    NY     USA       10022       NA  \n",
       "freq               1     1       3           1        3  "
      ]
     },
     "execution_count": 11,
     "metadata": {},
     "output_type": "execute_result"
    }
   ],
   "source": [
    "data_office.describe()\n"
   ]
  },
  {
   "cell_type": "code",
   "execution_count": 12,
   "metadata": {},
   "outputs": [
    {
     "data": {
      "text/plain": [
       "NY            1\n",
       "JKT           1\n",
       "CA            1\n",
       "Chiyoda-Ku    1\n",
       "MA            1\n",
       "Name: State, dtype: int64"
      ]
     },
     "execution_count": 12,
     "metadata": {},
     "output_type": "execute_result"
    }
   ],
   "source": [
    "data_office['State'].value_counts()"
   ]
  },
  {
   "cell_type": "code",
   "execution_count": 13,
   "metadata": {},
   "outputs": [
    {
     "name": "stdout",
     "output_type": "stream",
     "text": [
      "<class 'pandas.core.frame.DataFrame'>\n",
      "RangeIndex: 8 entries, 0 to 7\n",
      "Data columns (total 9 columns):\n",
      " #   Column       Non-Null Count  Dtype \n",
      "---  ------       --------------  ----- \n",
      " 0   Office Code  8 non-null      object\n",
      " 1   City         8 non-null      object\n",
      " 2   Phone        8 non-null      object\n",
      " 3   Address 1    8 non-null      object\n",
      " 4   Address 2    6 non-null      object\n",
      " 5   State        5 non-null      object\n",
      " 6   Country      8 non-null      object\n",
      " 7   Postal Code  8 non-null      object\n",
      " 8   Teritory     8 non-null      object\n",
      "dtypes: object(9)\n",
      "memory usage: 704.0+ bytes\n"
     ]
    }
   ],
   "source": [
    "data_office.info()"
   ]
  },
  {
   "cell_type": "code",
   "execution_count": 14,
   "metadata": {},
   "outputs": [],
   "source": [
    "import numpy as np"
   ]
  },
  {
   "cell_type": "code",
   "execution_count": 15,
   "metadata": {},
   "outputs": [
    {
     "data": {
      "text/plain": [
       "Office Code    0\n",
       "City           0\n",
       "Phone          0\n",
       "Address 1      0\n",
       "Address 2      2\n",
       "State          3\n",
       "Country        0\n",
       "Postal Code    0\n",
       "Teritory       0\n",
       "dtype: int64"
      ]
     },
     "execution_count": 15,
     "metadata": {},
     "output_type": "execute_result"
    }
   ],
   "source": [
    "np.sum(data_office.isnull())"
   ]
  },
  {
   "cell_type": "code",
   "execution_count": 16,
   "metadata": {},
   "outputs": [],
   "source": [
    "from sklearn.impute import SimpleImputer\n",
    "from scipy.stats import mode"
   ]
  },
  {
   "cell_type": "code",
   "execution_count": 17,
   "metadata": {},
   "outputs": [
    {
     "data": {
      "text/plain": [
       "0            CA\n",
       "1    Chiyoda-Ku\n",
       "2           JKT\n",
       "3            MA\n",
       "4            NY\n",
       "dtype: object"
      ]
     },
     "execution_count": 17,
     "metadata": {},
     "output_type": "execute_result"
    }
   ],
   "source": [
    "data_office['State'].mode()"
   ]
  },
  {
   "cell_type": "code",
   "execution_count": 18,
   "metadata": {},
   "outputs": [
    {
     "data": {
      "text/plain": [
       "0        Floor #2\n",
       "1    Jln Sudirman\n",
       "2         Level 7\n",
       "3       Suite 102\n",
       "4       Suite 300\n",
       "5         apt. 5A\n",
       "dtype: object"
      ]
     },
     "execution_count": 18,
     "metadata": {},
     "output_type": "execute_result"
    }
   ],
   "source": [
    "data_office['Address 2'].mode()"
   ]
  },
  {
   "cell_type": "code",
   "execution_count": 19,
   "metadata": {},
   "outputs": [],
   "source": [
    "data_office['State']= data_office['State'].fillna(data_office['State'].mode()[0])\n",
    "data_office['Address 2']= data_office['Address 2'].fillna(data_office['Address 2'].mode()[0])"
   ]
  },
  {
   "cell_type": "code",
   "execution_count": 20,
   "metadata": {},
   "outputs": [
    {
     "data": {
      "text/html": [
       "<div>\n",
       "<style scoped>\n",
       "    .dataframe tbody tr th:only-of-type {\n",
       "        vertical-align: middle;\n",
       "    }\n",
       "\n",
       "    .dataframe tbody tr th {\n",
       "        vertical-align: top;\n",
       "    }\n",
       "\n",
       "    .dataframe thead th {\n",
       "        text-align: right;\n",
       "    }\n",
       "</style>\n",
       "<table border=\"1\" class=\"dataframe\">\n",
       "  <thead>\n",
       "    <tr style=\"text-align: right;\">\n",
       "      <th></th>\n",
       "      <th>Office Code</th>\n",
       "      <th>City</th>\n",
       "      <th>Phone</th>\n",
       "      <th>Address 1</th>\n",
       "      <th>Address 2</th>\n",
       "      <th>State</th>\n",
       "      <th>Country</th>\n",
       "      <th>Postal Code</th>\n",
       "      <th>Teritory</th>\n",
       "    </tr>\n",
       "  </thead>\n",
       "  <tbody>\n",
       "    <tr>\n",
       "      <th>0</th>\n",
       "      <td>1</td>\n",
       "      <td>San Francisco</td>\n",
       "      <td>+1 650 219 4782</td>\n",
       "      <td>100 Market Street</td>\n",
       "      <td>Suite 300</td>\n",
       "      <td>CA</td>\n",
       "      <td>USA</td>\n",
       "      <td>94080</td>\n",
       "      <td>NA</td>\n",
       "    </tr>\n",
       "    <tr>\n",
       "      <th>1</th>\n",
       "      <td>2</td>\n",
       "      <td>Boston</td>\n",
       "      <td>+1 215 837 0825</td>\n",
       "      <td>1550 Court Place</td>\n",
       "      <td>Suite 102</td>\n",
       "      <td>MA</td>\n",
       "      <td>USA</td>\n",
       "      <td>02107</td>\n",
       "      <td>NA</td>\n",
       "    </tr>\n",
       "    <tr>\n",
       "      <th>2</th>\n",
       "      <td>3</td>\n",
       "      <td>NYC</td>\n",
       "      <td>+1 212 555 3000</td>\n",
       "      <td>523 East 53rd Street</td>\n",
       "      <td>apt. 5A</td>\n",
       "      <td>NY</td>\n",
       "      <td>USA</td>\n",
       "      <td>10022</td>\n",
       "      <td>NA</td>\n",
       "    </tr>\n",
       "    <tr>\n",
       "      <th>3</th>\n",
       "      <td>4</td>\n",
       "      <td>Paris</td>\n",
       "      <td>+33 14 723 4404</td>\n",
       "      <td>43 Rue Jouffroy D'abbans</td>\n",
       "      <td>Floor #2</td>\n",
       "      <td>CA</td>\n",
       "      <td>France</td>\n",
       "      <td>75017</td>\n",
       "      <td>EMEA</td>\n",
       "    </tr>\n",
       "    <tr>\n",
       "      <th>4</th>\n",
       "      <td>5</td>\n",
       "      <td>Tokyo</td>\n",
       "      <td>+81 33 224 5000</td>\n",
       "      <td>4-1 Kioicho</td>\n",
       "      <td>Floor #2</td>\n",
       "      <td>Chiyoda-Ku</td>\n",
       "      <td>Japan</td>\n",
       "      <td>102-8578</td>\n",
       "      <td>Japan</td>\n",
       "    </tr>\n",
       "    <tr>\n",
       "      <th>5</th>\n",
       "      <td>6</td>\n",
       "      <td>Sydney</td>\n",
       "      <td>+61 2 9264 2451</td>\n",
       "      <td>5-11 Wentworth Avenue</td>\n",
       "      <td>Floor #2</td>\n",
       "      <td>CA</td>\n",
       "      <td>Australia</td>\n",
       "      <td>NSW 2010</td>\n",
       "      <td>APAC</td>\n",
       "    </tr>\n",
       "    <tr>\n",
       "      <th>6</th>\n",
       "      <td>7</td>\n",
       "      <td>Amsterdam</td>\n",
       "      <td>+44 20 7877 2041</td>\n",
       "      <td>25 Old Broad Street</td>\n",
       "      <td>Level 7</td>\n",
       "      <td>CA</td>\n",
       "      <td>UK</td>\n",
       "      <td>EC2N 1HN</td>\n",
       "      <td>EMEA</td>\n",
       "    </tr>\n",
       "    <tr>\n",
       "      <th>7</th>\n",
       "      <td>9</td>\n",
       "      <td>Jakarta</td>\n",
       "      <td>+62 8155 431 8322</td>\n",
       "      <td>Jln Merdeka Barat</td>\n",
       "      <td>Jln Sudirman</td>\n",
       "      <td>JKT</td>\n",
       "      <td>IDN</td>\n",
       "      <td>61374</td>\n",
       "      <td>Indonesia</td>\n",
       "    </tr>\n",
       "  </tbody>\n",
       "</table>\n",
       "</div>"
      ],
      "text/plain": [
       "  Office Code           City              Phone                 Address 1  \\\n",
       "0           1  San Francisco    +1 650 219 4782         100 Market Street   \n",
       "1           2         Boston    +1 215 837 0825          1550 Court Place   \n",
       "2           3            NYC    +1 212 555 3000      523 East 53rd Street   \n",
       "3           4          Paris    +33 14 723 4404  43 Rue Jouffroy D'abbans   \n",
       "4           5          Tokyo    +81 33 224 5000               4-1 Kioicho   \n",
       "5           6         Sydney    +61 2 9264 2451     5-11 Wentworth Avenue   \n",
       "6           7      Amsterdam   +44 20 7877 2041       25 Old Broad Street   \n",
       "7           9        Jakarta  +62 8155 431 8322         Jln Merdeka Barat   \n",
       "\n",
       "      Address 2       State    Country Postal Code   Teritory  \n",
       "0     Suite 300          CA        USA       94080         NA  \n",
       "1     Suite 102          MA        USA       02107         NA  \n",
       "2       apt. 5A          NY        USA       10022         NA  \n",
       "3      Floor #2          CA     France       75017       EMEA  \n",
       "4      Floor #2  Chiyoda-Ku      Japan    102-8578      Japan  \n",
       "5      Floor #2          CA  Australia    NSW 2010       APAC  \n",
       "6       Level 7          CA         UK    EC2N 1HN       EMEA  \n",
       "7  Jln Sudirman         JKT        IDN       61374  Indonesia  "
      ]
     },
     "execution_count": 20,
     "metadata": {},
     "output_type": "execute_result"
    }
   ],
   "source": [
    "data_office"
   ]
  },
  {
   "cell_type": "code",
   "execution_count": 21,
   "metadata": {},
   "outputs": [
    {
     "data": {
      "text/plain": [
       "count         8\n",
       "unique        8\n",
       "top       10022\n",
       "freq          1\n",
       "Name: Postal Code, dtype: object"
      ]
     },
     "execution_count": 21,
     "metadata": {},
     "output_type": "execute_result"
    }
   ],
   "source": [
    "data_office['Postal Code'].describe()"
   ]
  },
  {
   "cell_type": "code",
   "execution_count": 22,
   "metadata": {},
   "outputs": [],
   "source": [
    "from sklearn import preprocessing"
   ]
  },
  {
   "cell_type": "code",
   "execution_count": 23,
   "metadata": {},
   "outputs": [],
   "source": [
    "kategori = [\"Country\",\"Teritory\"]"
   ]
  },
  {
   "cell_type": "code",
   "execution_count": 24,
   "metadata": {},
   "outputs": [],
   "source": [
    "le = preprocessing.LabelEncoder()"
   ]
  },
  {
   "cell_type": "code",
   "execution_count": 25,
   "metadata": {},
   "outputs": [
    {
     "data": {
      "text/plain": [
       "array(['Office Code', 'City', 'Phone', 'Address 1', 'Address 2', 'State',\n",
       "       'Country', 'Postal Code', 'Teritory'], dtype=object)"
      ]
     },
     "execution_count": 25,
     "metadata": {},
     "output_type": "execute_result"
    }
   ],
   "source": [
    "data_office.columns.values"
   ]
  },
  {
   "cell_type": "code",
   "execution_count": 26,
   "metadata": {},
   "outputs": [],
   "source": [
    "for i in kategori:\n",
    "    if i in data_office.columns.values:\n",
    "        data_office[i] = le.fit_transform(data_office[i])"
   ]
  },
  {
   "cell_type": "code",
   "execution_count": 27,
   "metadata": {},
   "outputs": [
    {
     "data": {
      "text/html": [
       "<div>\n",
       "<style scoped>\n",
       "    .dataframe tbody tr th:only-of-type {\n",
       "        vertical-align: middle;\n",
       "    }\n",
       "\n",
       "    .dataframe tbody tr th {\n",
       "        vertical-align: top;\n",
       "    }\n",
       "\n",
       "    .dataframe thead th {\n",
       "        text-align: right;\n",
       "    }\n",
       "</style>\n",
       "<table border=\"1\" class=\"dataframe\">\n",
       "  <thead>\n",
       "    <tr style=\"text-align: right;\">\n",
       "      <th></th>\n",
       "      <th>Office Code</th>\n",
       "      <th>City</th>\n",
       "      <th>Phone</th>\n",
       "      <th>Address 1</th>\n",
       "      <th>Address 2</th>\n",
       "      <th>State</th>\n",
       "      <th>Country</th>\n",
       "      <th>Postal Code</th>\n",
       "      <th>Teritory</th>\n",
       "    </tr>\n",
       "  </thead>\n",
       "  <tbody>\n",
       "    <tr>\n",
       "      <th>0</th>\n",
       "      <td>1</td>\n",
       "      <td>San Francisco</td>\n",
       "      <td>+1 650 219 4782</td>\n",
       "      <td>100 Market Street</td>\n",
       "      <td>Suite 300</td>\n",
       "      <td>CA</td>\n",
       "      <td>5</td>\n",
       "      <td>94080</td>\n",
       "      <td>4</td>\n",
       "    </tr>\n",
       "    <tr>\n",
       "      <th>1</th>\n",
       "      <td>2</td>\n",
       "      <td>Boston</td>\n",
       "      <td>+1 215 837 0825</td>\n",
       "      <td>1550 Court Place</td>\n",
       "      <td>Suite 102</td>\n",
       "      <td>MA</td>\n",
       "      <td>5</td>\n",
       "      <td>02107</td>\n",
       "      <td>4</td>\n",
       "    </tr>\n",
       "    <tr>\n",
       "      <th>2</th>\n",
       "      <td>3</td>\n",
       "      <td>NYC</td>\n",
       "      <td>+1 212 555 3000</td>\n",
       "      <td>523 East 53rd Street</td>\n",
       "      <td>apt. 5A</td>\n",
       "      <td>NY</td>\n",
       "      <td>5</td>\n",
       "      <td>10022</td>\n",
       "      <td>4</td>\n",
       "    </tr>\n",
       "    <tr>\n",
       "      <th>3</th>\n",
       "      <td>4</td>\n",
       "      <td>Paris</td>\n",
       "      <td>+33 14 723 4404</td>\n",
       "      <td>43 Rue Jouffroy D'abbans</td>\n",
       "      <td>Floor #2</td>\n",
       "      <td>CA</td>\n",
       "      <td>1</td>\n",
       "      <td>75017</td>\n",
       "      <td>1</td>\n",
       "    </tr>\n",
       "    <tr>\n",
       "      <th>4</th>\n",
       "      <td>5</td>\n",
       "      <td>Tokyo</td>\n",
       "      <td>+81 33 224 5000</td>\n",
       "      <td>4-1 Kioicho</td>\n",
       "      <td>Floor #2</td>\n",
       "      <td>Chiyoda-Ku</td>\n",
       "      <td>3</td>\n",
       "      <td>102-8578</td>\n",
       "      <td>3</td>\n",
       "    </tr>\n",
       "  </tbody>\n",
       "</table>\n",
       "</div>"
      ],
      "text/plain": [
       "  Office Code           City            Phone                 Address 1  \\\n",
       "0           1  San Francisco  +1 650 219 4782         100 Market Street   \n",
       "1           2         Boston  +1 215 837 0825          1550 Court Place   \n",
       "2           3            NYC  +1 212 555 3000      523 East 53rd Street   \n",
       "3           4          Paris  +33 14 723 4404  43 Rue Jouffroy D'abbans   \n",
       "4           5          Tokyo  +81 33 224 5000               4-1 Kioicho   \n",
       "\n",
       "   Address 2       State  Country Postal Code  Teritory  \n",
       "0  Suite 300          CA        5       94080         4  \n",
       "1  Suite 102          MA        5       02107         4  \n",
       "2    apt. 5A          NY        5       10022         4  \n",
       "3   Floor #2          CA        1       75017         1  \n",
       "4   Floor #2  Chiyoda-Ku        3    102-8578         3  "
      ]
     },
     "execution_count": 27,
     "metadata": {},
     "output_type": "execute_result"
    }
   ],
   "source": [
    "data_office.head()"
   ]
  },
  {
   "cell_type": "code",
   "execution_count": 28,
   "metadata": {},
   "outputs": [],
   "source": [
    "from sklearn.preprocessing import StandardScaler\n",
    "from sklearn.decomposition import PCA\n",
    "from sklearn import decomposition\n"
   ]
  },
  {
   "cell_type": "code",
   "execution_count": 29,
   "metadata": {},
   "outputs": [
    {
     "data": {
      "text/plain": [
       "(2, 8)"
      ]
     },
     "execution_count": 29,
     "metadata": {},
     "output_type": "execute_result"
    }
   ],
   "source": [
    "bmsx = np.array([data_office[\"Country\"],\n",
    "                data_office[\"Teritory\"]])\n",
    "bmsx.shape"
   ]
  },
  {
   "cell_type": "code",
   "execution_count": 30,
   "metadata": {},
   "outputs": [
    {
     "data": {
      "text/plain": [
       "array([[5, 5, 5, 1, 3, 0, 4, 2],\n",
       "       [4, 4, 4, 1, 3, 0, 1, 2]])"
      ]
     },
     "execution_count": 30,
     "metadata": {},
     "output_type": "execute_result"
    }
   ],
   "source": [
    "bmsx"
   ]
  },
  {
   "cell_type": "code",
   "execution_count": 31,
   "metadata": {},
   "outputs": [
    {
     "data": {
      "text/plain": [
       "array([[ 1.,  1.,  1.,  0.,  0.,  0.,  1.,  0.],\n",
       "       [-1., -1., -1.,  0.,  0.,  0., -1.,  0.]])"
      ]
     },
     "execution_count": 31,
     "metadata": {},
     "output_type": "execute_result"
    }
   ],
   "source": [
    "bms_std=StandardScaler().fit_transform(bmsx)\n",
    "bms_std"
   ]
  },
  {
   "cell_type": "code",
   "execution_count": 32,
   "metadata": {},
   "outputs": [],
   "source": [
    "pcafs=PCA(n_components=0.7,whiten=True)\n",
    "bmsfs_pca=pcafs.fit_transform(bms_std)"
   ]
  },
  {
   "cell_type": "code",
   "execution_count": 33,
   "metadata": {},
   "outputs": [
    {
     "name": "stdout",
     "output_type": "stream",
     "text": [
      "Original number of features: 8\n",
      "Reduced numer of features: 1\n"
     ]
    }
   ],
   "source": [
    "print('Original number of features:', bms_std.shape[1])\n",
    "print('Reduced numer of features:', bmsfs_pca.shape[1])"
   ]
  },
  {
   "cell_type": "code",
   "execution_count": 34,
   "metadata": {},
   "outputs": [
    {
     "data": {
      "text/html": [
       "<div>\n",
       "<style scoped>\n",
       "    .dataframe tbody tr th:only-of-type {\n",
       "        vertical-align: middle;\n",
       "    }\n",
       "\n",
       "    .dataframe tbody tr th {\n",
       "        vertical-align: top;\n",
       "    }\n",
       "\n",
       "    .dataframe thead th {\n",
       "        text-align: right;\n",
       "    }\n",
       "</style>\n",
       "<table border=\"1\" class=\"dataframe\">\n",
       "  <thead>\n",
       "    <tr style=\"text-align: right;\">\n",
       "      <th></th>\n",
       "      <th>PC1</th>\n",
       "    </tr>\n",
       "  </thead>\n",
       "  <tbody>\n",
       "    <tr>\n",
       "      <th>0</th>\n",
       "      <td>0.707107</td>\n",
       "    </tr>\n",
       "    <tr>\n",
       "      <th>1</th>\n",
       "      <td>-0.707107</td>\n",
       "    </tr>\n",
       "  </tbody>\n",
       "</table>\n",
       "</div>"
      ],
      "text/plain": [
       "        PC1\n",
       "0  0.707107\n",
       "1 -0.707107"
      ]
     },
     "execution_count": 34,
     "metadata": {},
     "output_type": "execute_result"
    }
   ],
   "source": [
    "datafe_pca=pd.DataFrame(bmsfs_pca, columns=[\"PC1\"])\n",
    "datafe_pca"
   ]
  },
  {
   "cell_type": "code",
   "execution_count": 35,
   "metadata": {},
   "outputs": [],
   "source": [
    "sql = \"CREATE TABLE hasil (id Integer AUTO_INCREMENT PRIMARY KEY, PC1 varchar(30))\"\n",
    "cursor.execute(sql)\n",
    "connect.commit()"
   ]
  },
  {
   "cell_type": "code",
   "execution_count": 46,
   "metadata": {},
   "outputs": [],
   "source": [
    "sql = \"INSERT INTO hasil (PC1) VALUES (%s) \"\n",
    "val = (\"John\",)\n",
    "cursor.execute(sql,val)\n",
    "\n",
    "# print(i,\"Telah Ditambahkan\")\n",
    "connect.commit()"
   ]
  },
  {
   "cell_type": "code",
   "execution_count": 54,
   "metadata": {},
   "outputs": [
    {
     "name": "stdout",
     "output_type": "stream",
     "text": [
      "[0.70710678] Telah Ditambahkan\n",
      "[-0.70710678] Telah Ditambahkan\n"
     ]
    }
   ],
   "source": [
    "cursor = connect.cursor()\n",
    "for i in bmsfs_pca:\n",
    "    sql = \"INSERT INTO hasil (PC1) VALUES (%s)\"\n",
    "    val = (float(i[0]),)\n",
    "    cursor.execute(sql,val)\n",
    "    \n",
    "    print(i,\"Telah Ditambahkan\")\n",
    "    connect.commit()\n",
    "    "
   ]
  },
  {
   "cell_type": "code",
   "execution_count": 61,
   "metadata": {},
   "outputs": [
    {
     "data": {
      "text/html": [
       "<div>\n",
       "<style scoped>\n",
       "    .dataframe tbody tr th:only-of-type {\n",
       "        vertical-align: middle;\n",
       "    }\n",
       "\n",
       "    .dataframe tbody tr th {\n",
       "        vertical-align: top;\n",
       "    }\n",
       "\n",
       "    .dataframe thead th {\n",
       "        text-align: right;\n",
       "    }\n",
       "</style>\n",
       "<table border=\"1\" class=\"dataframe\">\n",
       "  <thead>\n",
       "    <tr style=\"text-align: right;\">\n",
       "      <th></th>\n",
       "      <th>Office</th>\n",
       "      <th>City</th>\n",
       "      <th>Phone</th>\n",
       "      <th>Address 1</th>\n",
       "      <th>Address 2</th>\n",
       "      <th>State</th>\n",
       "      <th>Country</th>\n",
       "      <th>Postal Code</th>\n",
       "      <th>Teritory</th>\n",
       "    </tr>\n",
       "  </thead>\n",
       "  <tbody>\n",
       "    <tr>\n",
       "      <th>0</th>\n",
       "      <td>1</td>\n",
       "      <td>San Francisco</td>\n",
       "      <td>+1 650 219 4782</td>\n",
       "      <td>100 Market Street</td>\n",
       "      <td>Suite 300</td>\n",
       "      <td>CA</td>\n",
       "      <td>5</td>\n",
       "      <td>94080</td>\n",
       "      <td>4</td>\n",
       "    </tr>\n",
       "    <tr>\n",
       "      <th>1</th>\n",
       "      <td>2</td>\n",
       "      <td>Boston</td>\n",
       "      <td>+1 215 837 0825</td>\n",
       "      <td>1550 Court Place</td>\n",
       "      <td>Suite 102</td>\n",
       "      <td>MA</td>\n",
       "      <td>5</td>\n",
       "      <td>02107</td>\n",
       "      <td>4</td>\n",
       "    </tr>\n",
       "    <tr>\n",
       "      <th>2</th>\n",
       "      <td>3</td>\n",
       "      <td>NYC</td>\n",
       "      <td>+1 212 555 3000</td>\n",
       "      <td>523 East 53rd Street</td>\n",
       "      <td>apt. 5A</td>\n",
       "      <td>NY</td>\n",
       "      <td>5</td>\n",
       "      <td>10022</td>\n",
       "      <td>4</td>\n",
       "    </tr>\n",
       "    <tr>\n",
       "      <th>3</th>\n",
       "      <td>4</td>\n",
       "      <td>Paris</td>\n",
       "      <td>+33 14 723 4404</td>\n",
       "      <td>43 Rue Jouffroy D'abbans</td>\n",
       "      <td>Floor #2</td>\n",
       "      <td>CA</td>\n",
       "      <td>1</td>\n",
       "      <td>75017</td>\n",
       "      <td>1</td>\n",
       "    </tr>\n",
       "    <tr>\n",
       "      <th>4</th>\n",
       "      <td>5</td>\n",
       "      <td>Tokyo</td>\n",
       "      <td>+81 33 224 5000</td>\n",
       "      <td>4-1 Kioicho</td>\n",
       "      <td>Floor #2</td>\n",
       "      <td>Chiyoda-Ku</td>\n",
       "      <td>3</td>\n",
       "      <td>102-8578</td>\n",
       "      <td>3</td>\n",
       "    </tr>\n",
       "    <tr>\n",
       "      <th>5</th>\n",
       "      <td>6</td>\n",
       "      <td>Sydney</td>\n",
       "      <td>+61 2 9264 2451</td>\n",
       "      <td>5-11 Wentworth Avenue</td>\n",
       "      <td>Floor #2</td>\n",
       "      <td>CA</td>\n",
       "      <td>0</td>\n",
       "      <td>NSW 2010</td>\n",
       "      <td>0</td>\n",
       "    </tr>\n",
       "    <tr>\n",
       "      <th>6</th>\n",
       "      <td>7</td>\n",
       "      <td>Amsterdam</td>\n",
       "      <td>+44 20 7877 2041</td>\n",
       "      <td>25 Old Broad Street</td>\n",
       "      <td>Level 7</td>\n",
       "      <td>CA</td>\n",
       "      <td>4</td>\n",
       "      <td>EC2N 1HN</td>\n",
       "      <td>1</td>\n",
       "    </tr>\n",
       "    <tr>\n",
       "      <th>7</th>\n",
       "      <td>9</td>\n",
       "      <td>Jakarta</td>\n",
       "      <td>+62 8155 431 8322</td>\n",
       "      <td>Jln Merdeka Barat</td>\n",
       "      <td>Jln Sudirman</td>\n",
       "      <td>JKT</td>\n",
       "      <td>2</td>\n",
       "      <td>61374</td>\n",
       "      <td>2</td>\n",
       "    </tr>\n",
       "  </tbody>\n",
       "</table>\n",
       "</div>"
      ],
      "text/plain": [
       "  Office           City              Phone                 Address 1  \\\n",
       "0      1  San Francisco    +1 650 219 4782         100 Market Street   \n",
       "1      2         Boston    +1 215 837 0825          1550 Court Place   \n",
       "2      3            NYC    +1 212 555 3000      523 East 53rd Street   \n",
       "3      4          Paris    +33 14 723 4404  43 Rue Jouffroy D'abbans   \n",
       "4      5          Tokyo    +81 33 224 5000               4-1 Kioicho   \n",
       "5      6         Sydney    +61 2 9264 2451     5-11 Wentworth Avenue   \n",
       "6      7      Amsterdam   +44 20 7877 2041       25 Old Broad Street   \n",
       "7      9        Jakarta  +62 8155 431 8322         Jln Merdeka Barat   \n",
       "\n",
       "      Address 2       State  Country Postal Code  Teritory  \n",
       "0     Suite 300          CA        5       94080         4  \n",
       "1     Suite 102          MA        5       02107         4  \n",
       "2       apt. 5A          NY        5       10022         4  \n",
       "3      Floor #2          CA        1       75017         1  \n",
       "4      Floor #2  Chiyoda-Ku        3    102-8578         3  \n",
       "5      Floor #2          CA        0    NSW 2010         0  \n",
       "6       Level 7          CA        4    EC2N 1HN         1  \n",
       "7  Jln Sudirman         JKT        2       61374         2  "
      ]
     },
     "execution_count": 61,
     "metadata": {},
     "output_type": "execute_result"
    }
   ],
   "source": [
    "from pandas import DataFrame, read_csv\n",
    "\n",
    "data = DataFrame({'Office': data_office['Office Code'],\n",
    "                  'City': data_office['City'],\n",
    "                  'Phone': data_office['Phone'],\n",
    "                  'Address 1': data_office['Address 1'],\n",
    "                  'Address 2': data_office['Address 2'],\n",
    "                  'State': data_office['State'],\n",
    "                  'Country': data_office['Country'],\n",
    "                  'Postal Code': data_office['Postal Code'],\n",
    "                  'Teritory': data_office['Teritory'],\n",
    "                 })\n",
    "data"
   ]
  },
  {
   "cell_type": "code",
   "execution_count": 62,
   "metadata": {},
   "outputs": [],
   "source": [
    "data.to_csv(\"hasil_ekspor.csv\", index=False)"
   ]
  },
  {
   "cell_type": "code",
   "execution_count": 64,
   "metadata": {},
   "outputs": [
    {
     "data": {
      "text/html": [
       "<div>\n",
       "<style scoped>\n",
       "    .dataframe tbody tr th:only-of-type {\n",
       "        vertical-align: middle;\n",
       "    }\n",
       "\n",
       "    .dataframe tbody tr th {\n",
       "        vertical-align: top;\n",
       "    }\n",
       "\n",
       "    .dataframe thead th {\n",
       "        text-align: right;\n",
       "    }\n",
       "</style>\n",
       "<table border=\"1\" class=\"dataframe\">\n",
       "  <thead>\n",
       "    <tr style=\"text-align: right;\">\n",
       "      <th></th>\n",
       "      <th>Office</th>\n",
       "      <th>City</th>\n",
       "      <th>Phone</th>\n",
       "      <th>Address 1</th>\n",
       "      <th>Address 2</th>\n",
       "      <th>State</th>\n",
       "      <th>Country</th>\n",
       "      <th>Postal Code</th>\n",
       "      <th>Teritory</th>\n",
       "    </tr>\n",
       "  </thead>\n",
       "  <tbody>\n",
       "    <tr>\n",
       "      <th>0</th>\n",
       "      <td>1</td>\n",
       "      <td>San Francisco</td>\n",
       "      <td>+1 650 219 4782</td>\n",
       "      <td>100 Market Street</td>\n",
       "      <td>Suite 300</td>\n",
       "      <td>CA</td>\n",
       "      <td>5</td>\n",
       "      <td>94080</td>\n",
       "      <td>4</td>\n",
       "    </tr>\n",
       "    <tr>\n",
       "      <th>1</th>\n",
       "      <td>2</td>\n",
       "      <td>Boston</td>\n",
       "      <td>+1 215 837 0825</td>\n",
       "      <td>1550 Court Place</td>\n",
       "      <td>Suite 102</td>\n",
       "      <td>MA</td>\n",
       "      <td>5</td>\n",
       "      <td>02107</td>\n",
       "      <td>4</td>\n",
       "    </tr>\n",
       "    <tr>\n",
       "      <th>2</th>\n",
       "      <td>3</td>\n",
       "      <td>NYC</td>\n",
       "      <td>+1 212 555 3000</td>\n",
       "      <td>523 East 53rd Street</td>\n",
       "      <td>apt. 5A</td>\n",
       "      <td>NY</td>\n",
       "      <td>5</td>\n",
       "      <td>10022</td>\n",
       "      <td>4</td>\n",
       "    </tr>\n",
       "    <tr>\n",
       "      <th>3</th>\n",
       "      <td>4</td>\n",
       "      <td>Paris</td>\n",
       "      <td>+33 14 723 4404</td>\n",
       "      <td>43 Rue Jouffroy D'abbans</td>\n",
       "      <td>Floor #2</td>\n",
       "      <td>CA</td>\n",
       "      <td>1</td>\n",
       "      <td>75017</td>\n",
       "      <td>1</td>\n",
       "    </tr>\n",
       "    <tr>\n",
       "      <th>4</th>\n",
       "      <td>5</td>\n",
       "      <td>Tokyo</td>\n",
       "      <td>+81 33 224 5000</td>\n",
       "      <td>4-1 Kioicho</td>\n",
       "      <td>Floor #2</td>\n",
       "      <td>Chiyoda-Ku</td>\n",
       "      <td>3</td>\n",
       "      <td>102-8578</td>\n",
       "      <td>3</td>\n",
       "    </tr>\n",
       "    <tr>\n",
       "      <th>5</th>\n",
       "      <td>6</td>\n",
       "      <td>Sydney</td>\n",
       "      <td>+61 2 9264 2451</td>\n",
       "      <td>5-11 Wentworth Avenue</td>\n",
       "      <td>Floor #2</td>\n",
       "      <td>CA</td>\n",
       "      <td>0</td>\n",
       "      <td>NSW 2010</td>\n",
       "      <td>0</td>\n",
       "    </tr>\n",
       "    <tr>\n",
       "      <th>6</th>\n",
       "      <td>7</td>\n",
       "      <td>Amsterdam</td>\n",
       "      <td>+44 20 7877 2041</td>\n",
       "      <td>25 Old Broad Street</td>\n",
       "      <td>Level 7</td>\n",
       "      <td>CA</td>\n",
       "      <td>4</td>\n",
       "      <td>EC2N 1HN</td>\n",
       "      <td>1</td>\n",
       "    </tr>\n",
       "    <tr>\n",
       "      <th>7</th>\n",
       "      <td>9</td>\n",
       "      <td>Jakarta</td>\n",
       "      <td>+62 8155 431 8322</td>\n",
       "      <td>Jln Merdeka Barat</td>\n",
       "      <td>Jln Sudirman</td>\n",
       "      <td>JKT</td>\n",
       "      <td>2</td>\n",
       "      <td>61374</td>\n",
       "      <td>2</td>\n",
       "    </tr>\n",
       "  </tbody>\n",
       "</table>\n",
       "</div>"
      ],
      "text/plain": [
       "   Office           City              Phone                 Address 1  \\\n",
       "0       1  San Francisco    +1 650 219 4782         100 Market Street   \n",
       "1       2         Boston    +1 215 837 0825          1550 Court Place   \n",
       "2       3            NYC    +1 212 555 3000      523 East 53rd Street   \n",
       "3       4          Paris    +33 14 723 4404  43 Rue Jouffroy D'abbans   \n",
       "4       5          Tokyo    +81 33 224 5000               4-1 Kioicho   \n",
       "5       6         Sydney    +61 2 9264 2451     5-11 Wentworth Avenue   \n",
       "6       7      Amsterdam   +44 20 7877 2041       25 Old Broad Street   \n",
       "7       9        Jakarta  +62 8155 431 8322         Jln Merdeka Barat   \n",
       "\n",
       "      Address 2       State  Country Postal Code  Teritory  \n",
       "0     Suite 300          CA        5       94080         4  \n",
       "1     Suite 102          MA        5       02107         4  \n",
       "2       apt. 5A          NY        5       10022         4  \n",
       "3      Floor #2          CA        1       75017         1  \n",
       "4      Floor #2  Chiyoda-Ku        3    102-8578         3  \n",
       "5      Floor #2          CA        0    NSW 2010         0  \n",
       "6       Level 7          CA        4    EC2N 1HN         1  \n",
       "7  Jln Sudirman         JKT        2       61374         2  "
      ]
     },
     "execution_count": 64,
     "metadata": {},
     "output_type": "execute_result"
    }
   ],
   "source": [
    "data_ekspor = read_csv(\"hasil_ekspor.csv\")\n",
    "data_ekspor"
   ]
  }
 ],
 "metadata": {
  "kernelspec": {
   "display_name": "Python 3",
   "language": "python",
   "name": "python3"
  },
  "language_info": {
   "codemirror_mode": {
    "name": "ipython",
    "version": 3
   },
   "file_extension": ".py",
   "mimetype": "text/x-python",
   "name": "python",
   "nbconvert_exporter": "python",
   "pygments_lexer": "ipython3",
   "version": "3.7.6"
  }
 },
 "nbformat": 4,
 "nbformat_minor": 4
}
