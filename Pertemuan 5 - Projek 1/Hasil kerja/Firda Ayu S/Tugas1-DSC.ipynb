{
 "cells": [
  {
   "cell_type": "markdown",
   "metadata": {},
   "source": [
    "# Soal No.1"
   ]
  },
  {
   "cell_type": "code",
   "execution_count": 5,
   "metadata": {},
   "outputs": [],
   "source": [
    "import pandas as pd\n",
    "import mysql.connector as mysql"
   ]
  },
  {
   "cell_type": "code",
   "execution_count": 6,
   "metadata": {},
   "outputs": [],
   "source": [
    "koneksi = mysql.connect(host=\"localhost\", database=\"karyawan\", user=\"root\", password=\"\")"
   ]
  },
  {
   "cell_type": "code",
   "execution_count": 7,
   "metadata": {},
   "outputs": [],
   "source": [
    "cursor = koneksi.cursor()\n",
    "cursor.execute(\"CREATE TABLE IF NOT EXISTS productlines(productLine varchar(50) NOT NULL,\"\n",
    "               \"textDescription varchar(4000) DEFAULT NULL,htmlDescription mediumtext,image mediumblob,\"\n",
    "               \"PRIMARY KEY (`productLine`))ENGINE=InnoDB DEFAULT CHARSET=latin1;\")"
   ]
  },
  {
   "cell_type": "code",
   "execution_count": 8,
   "metadata": {},
   "outputs": [],
   "source": [
    "cursor = koneksi.cursor()\n",
    "cursor.execute(\"CREATE TABLE IF NOT EXISTS products(productCode varchar(15) NOT NULL, productName varchar(70) NOT NULL,\"+\n",
    "               \"productLine varchar(50) NOT NULL, productScale varchar(10) NOT NULL, productVendor varchar(50) NOT NULL,\"+\n",
    "               \"productDescription text NOT NULL, quantityInStock smallint NOT NULL, buyPrice decimal(10,2) NOT NULL,\"+\n",
    "               \"MSRP decimal(10,2) NOT NULL,PRIMARY KEY (`productCode`), KEY productLine (`productLine`),\"+\n",
    "               \"CONSTRAINT `products_ibfk_1` FOREIGN KEY (`productLine`) REFERENCES `productlines` (`productLine`))\"+\n",
    "               \"ENGINE=InnoDB DEFAULT CHARSET=latin1;\")"
   ]
  },
  {
   "cell_type": "code",
   "execution_count": 9,
   "metadata": {},
   "outputs": [],
   "source": [
    "cursor = koneksi.cursor()\n",
    "cursor.execute(\"CREATE TABLE IF NOT EXISTS offices(officeCode varchar(10) NOT NULL,city varchar(50) NOT NULL,\"\n",
    "               \"phone varchar(50) NOT NULL,addressLine1 varchar(50) NOT NULL,addressLine2 varchar(50) DEFAULT NULL,\"\n",
    "               \"state varchar(50) DEFAULT NULL,country varchar(50) NOT NULL,postalCode varchar(15) NOT NULL,\"\n",
    "               \"territory varchar(10) NOT NULL,PRIMARY KEY (`officeCode`)) ENGINE=InnoDB DEFAULT CHARSET=latin1;\")"
   ]
  },
  {
   "cell_type": "code",
   "execution_count": 6,
   "metadata": {},
   "outputs": [],
   "source": [
    "cursor = koneksi.cursor()\n",
    "cursor.execute(\"CREATE TABLE IF NOT EXISTS employees(employeeNumber int NOT NULL,lastName varchar(50) NOT NULL,\"\n",
    "               \"firstName varchar(50) NOT NULL,extension varchar(10) NOT NULL,email varchar(100) NOT NULL,\"\n",
    "               \"officeCode varchar(10) NOT NULL,reportsTo int DEFAULT NULL,jobTitle varchar(50) NOT NULL,\"\n",
    "               \"PRIMARY KEY (`employeeNumber`),KEY `reportsTo` (`reportsTo`),KEY `officeCode` (`officeCode`),\"\n",
    "               \"CONSTRAINT `employees_ibfk_1` FOREIGN KEY (`reportsTo`) REFERENCES `employees` (`employeeNumber`),\"\n",
    "               \"CONSTRAINT `employees_ibfk_2` FOREIGN KEY (`officeCode`) REFERENCES `offices` (`officeCode`))\"\n",
    "               \" ENGINE=InnoDB DEFAULT CHARSET=latin1;\")"
   ]
  },
  {
   "cell_type": "code",
   "execution_count": 10,
   "metadata": {},
   "outputs": [],
   "source": [
    "cursor = koneksi.cursor()\n",
    "cursor.execute(\"CREATE TABLE IF NOT EXISTS customers(customerNumber int NOT NULL,customerName varchar(50) NOT NULL,\"\n",
    "               \"contactLastName varchar(50) NOT NULL,contactFirstName varchar(50) NOT NULL,\"\n",
    "               \"phone varchar(50) NOT NULL,addressLine1 varchar(50) NOT NULL,addressLine2 varchar(50) DEFAULT NULL,\"\n",
    "               \"city varchar(50) NOT NULL,state varchar(50) DEFAULT NULL,postalCode varchar(15) DEFAULT NULL,\"\n",
    "               \"country varchar(50) NOT NULL,salesRepEmployeeNumber int DEFAULT NULL,creditLimit decimal(10,2) DEFAULT NULL,\"\n",
    "               \"PRIMARY KEY (`customerNumber`),KEY `salesRepEmployeeNumber` (`salesRepEmployeeNumber`),\"\n",
    "               \"CONSTRAINT `customers_ibfk_1` FOREIGN KEY (`salesRepEmployeeNumber`)\"\n",
    "               \" REFERENCES `employees` (`employeeNumber`)) ENGINE=InnoDB DEFAULT CHARSET=latin1;\")"
   ]
  },
  {
   "cell_type": "code",
   "execution_count": 11,
   "metadata": {},
   "outputs": [],
   "source": [
    "cursor = koneksi.cursor()\n",
    "cursor.execute(\"CREATE TABLE IF NOT EXISTS payments(customerNumber int NOT NULL,checkNumber varchar(50) NOT NULL,\"\n",
    "               \"paymentDate date NOT NULL,amount decimal(10,2) NOT NULL,PRIMARY KEY (`customerNumber`,`checkNumber`),\"\n",
    "               \"CONSTRAINT `payments_ibfk_1` FOREIGN KEY (`customerNumber`) REFERENCES `customers` (`customerNumber`))\"\n",
    "               \" ENGINE=InnoDB DEFAULT CHARSET=latin1;\")"
   ]
  },
  {
   "cell_type": "code",
   "execution_count": 12,
   "metadata": {},
   "outputs": [],
   "source": [
    "cursor = koneksi.cursor()\n",
    "cursor.execute(\"CREATE TABLE IF NOT EXISTS orders(orderNumber int NOT NULL,orderDate date NOT NULL,\"\n",
    "               \"requiredDate date NOT NULL,shippedDate date DEFAULT NULL,status varchar(15) NOT NULL,comments text,\"\n",
    "               \"customerNumber int NOT NULL,PRIMARY KEY (`orderNumber`),KEY `customerNumber` (`customerNumber`),\"\n",
    "               \"CONSTRAINT `orders_ibfk_1` FOREIGN KEY (`customerNumber`) REFERENCES `customers` (`customerNumber`))\"\n",
    "               \" ENGINE=InnoDB DEFAULT CHARSET=latin1;\")"
   ]
  },
  {
   "cell_type": "code",
   "execution_count": 13,
   "metadata": {},
   "outputs": [],
   "source": [
    "cursor = koneksi.cursor()\n",
    "cursor.execute(\"CREATE TABLE IF NOT EXISTS orderdetails(orderNumber int NOT NULL, productCode varchar(15) NOT NULL,\"+\n",
    "               \"quantityOrdered int NOT NULL, priceEach decimal(10,2) NOT NULL, orderLineNumber smallint NOT NULL,\"+\n",
    "               \"PRIMARY KEY (`orderNumber`,`productCode`), KEY productCode (`productCode`),\"+\n",
    "               \"CONSTRAINT `orderdetails_ibfk_1` FOREIGN KEY (`orderNumber`) REFERENCES `orders` (`orderNumber`),\"+\n",
    "               \"CONSTRAINT `orderdetails_ibfk_2` FOREIGN KEY (`productCode`) REFERENCES `products` (`productCode`))\"+\n",
    "               \"ENGINE=InnoDB DEFAULT CHARSET=latin1;\")"
   ]
  },
  {
   "cell_type": "markdown",
   "metadata": {},
   "source": [
    "# Soal No.2"
   ]
  },
  {
   "cell_type": "code",
   "execution_count": 14,
   "metadata": {},
   "outputs": [
    {
     "data": {
      "text/plain": [
       "[('officeCode', 'varchar(10)', 'NO', 'PRI', None, ''),\n",
       " ('city', 'varchar(50)', 'NO', '', None, ''),\n",
       " ('phone', 'varchar(50)', 'NO', '', None, ''),\n",
       " ('addressLine1', 'varchar(50)', 'NO', '', None, ''),\n",
       " ('addressLine2', 'varchar(50)', 'YES', '', None, ''),\n",
       " ('state', 'varchar(50)', 'YES', '', None, ''),\n",
       " ('country', 'varchar(50)', 'NO', '', None, ''),\n",
       " ('postalCode', 'varchar(15)', 'NO', '', None, ''),\n",
       " ('territory', 'varchar(10)', 'NO', '', None, '')]"
      ]
     },
     "execution_count": 14,
     "metadata": {},
     "output_type": "execute_result"
    }
   ],
   "source": [
    "cursor = koneksi.cursor()\n",
    "cursor.execute(\"describe offices;\")\n",
    "office = cursor.fetchall()\n",
    "office"
   ]
  },
  {
   "cell_type": "code",
   "execution_count": 15,
   "metadata": {},
   "outputs": [
    {
     "data": {
      "text/plain": [
       "[('1',\n",
       "  'San Francisco',\n",
       "  '+1 650 219 4782',\n",
       "  '100 Market Street',\n",
       "  'Suite 300',\n",
       "  'CA',\n",
       "  'USA',\n",
       "  '94080',\n",
       "  'NA'),\n",
       " ('2',\n",
       "  'Boston',\n",
       "  '+1 215 837 0825',\n",
       "  '1550 Court Place',\n",
       "  'Suite 102',\n",
       "  'MA',\n",
       "  'USA',\n",
       "  '02107',\n",
       "  'NA'),\n",
       " ('3',\n",
       "  'NYC',\n",
       "  '+1 212 555 3000',\n",
       "  '523 East 53rd Street',\n",
       "  'apt. 5A',\n",
       "  'NY',\n",
       "  'USA',\n",
       "  '10022',\n",
       "  'NA'),\n",
       " ('4',\n",
       "  'Paris',\n",
       "  '+33 14 723 4404',\n",
       "  \"43 Rue Jouffroy D'abbans\",\n",
       "  None,\n",
       "  None,\n",
       "  'France',\n",
       "  '75017',\n",
       "  'EMEA'),\n",
       " ('5',\n",
       "  'Tokyo',\n",
       "  '+81 33 224 5000',\n",
       "  '4-1 Kioicho',\n",
       "  None,\n",
       "  'Chiyoda-Ku',\n",
       "  'Japan',\n",
       "  '102-8578',\n",
       "  'Japan'),\n",
       " ('6',\n",
       "  'Sydney',\n",
       "  '+61 2 9264 2451',\n",
       "  '5-11 Wentworth Avenue',\n",
       "  'Floor #2',\n",
       "  None,\n",
       "  'Australia',\n",
       "  'NSW 2010',\n",
       "  'APAC'),\n",
       " ('7',\n",
       "  'London',\n",
       "  '+44 20 7877 2041',\n",
       "  '25 Old Broad Street',\n",
       "  'Level 7',\n",
       "  None,\n",
       "  'UK',\n",
       "  'EC2N 1HN',\n",
       "  'EMEA')]"
      ]
     },
     "execution_count": 15,
     "metadata": {},
     "output_type": "execute_result"
    }
   ],
   "source": [
    "cursor = koneksi.cursor()\n",
    "cursor.execute(\"select * from offices\")\n",
    "office = cursor.fetchall()\n",
    "office"
   ]
  },
  {
   "cell_type": "code",
   "execution_count": 16,
   "metadata": {},
   "outputs": [],
   "source": [
    "cursor = koneksi.cursor()\n",
    "sql = \"INSERT INTO offices VALUES (%s, %s, %s, %s, %s, %s, %s, %s, %s);\"\n",
    "data = (8,'Indonesia',+62, 'indonesia','jakarta','IND', 'IND',1221,119)\n",
    "cursor.execute(sql,data)\n",
    "koneksi.commit()"
   ]
  },
  {
   "cell_type": "code",
   "execution_count": 21,
   "metadata": {},
   "outputs": [
    {
     "data": {
      "text/plain": [
       "[('1',\n",
       "  'San Francisco',\n",
       "  '+1 650 219 4782',\n",
       "  '100 Market Street',\n",
       "  'Suite 300',\n",
       "  'CA',\n",
       "  'USA',\n",
       "  '94080',\n",
       "  'NA'),\n",
       " ('2',\n",
       "  'Boston',\n",
       "  '+1 215 837 0825',\n",
       "  '1550 Court Place',\n",
       "  'Suite 102',\n",
       "  'MA',\n",
       "  'USA',\n",
       "  '02107',\n",
       "  'NA'),\n",
       " ('3',\n",
       "  'NYC',\n",
       "  '+1 212 555 3000',\n",
       "  '523 East 53rd Street',\n",
       "  'apt. 5A',\n",
       "  'NY',\n",
       "  'USA',\n",
       "  '10022',\n",
       "  'NA'),\n",
       " ('4',\n",
       "  'Paris',\n",
       "  '+33 14 723 4404',\n",
       "  \"43 Rue Jouffroy D'abbans\",\n",
       "  None,\n",
       "  None,\n",
       "  'France',\n",
       "  '75017',\n",
       "  'EMEA'),\n",
       " ('5',\n",
       "  'Tokyo',\n",
       "  '+81 33 224 5000',\n",
       "  '4-1 Kioicho',\n",
       "  None,\n",
       "  'Chiyoda-Ku',\n",
       "  'Japan',\n",
       "  '102-8578',\n",
       "  'Japan'),\n",
       " ('6',\n",
       "  'Sydney',\n",
       "  '+61 2 9264 2451',\n",
       "  '5-11 Wentworth Avenue',\n",
       "  'Floor #2',\n",
       "  None,\n",
       "  'Australia',\n",
       "  'NSW 2010',\n",
       "  'APAC'),\n",
       " ('7',\n",
       "  'London',\n",
       "  '+44 20 7877 2041',\n",
       "  '25 Old Broad Street',\n",
       "  'Level 7',\n",
       "  None,\n",
       "  'UK',\n",
       "  'EC2N 1HN',\n",
       "  'EMEA')]"
      ]
     },
     "execution_count": 21,
     "metadata": {},
     "output_type": "execute_result"
    }
   ],
   "source": [
    "cursor = koneksi.cursor()\n",
    "cursor.execute(\"select * from offices\")\n",
    "office = cursor.fetchall()\n",
    "office"
   ]
  },
  {
   "cell_type": "code",
   "execution_count": 18,
   "metadata": {},
   "outputs": [],
   "source": [
    "cursor = koneksi.cursor()\n",
    "sql = \"UPDATE offices SET country = %s, postalCode = %s WHERE city = %s;\"\n",
    "data = ('Indonesia', '1111', 'Indonesia')\n",
    "cursor.execute(sql,data)\n",
    "koneksi.commit()"
   ]
  },
  {
   "cell_type": "code",
   "execution_count": 20,
   "metadata": {},
   "outputs": [],
   "source": [
    "cursor = koneksi.cursor()\n",
    "cursor.execute(\"DELETE from offices WHERE officeCode = '8'\")\n",
    "koneksi.commit()"
   ]
  },
  {
   "cell_type": "markdown",
   "metadata": {},
   "source": [
    "# Soal No.3"
   ]
  },
  {
   "cell_type": "code",
   "execution_count": 22,
   "metadata": {},
   "outputs": [
    {
     "data": {
      "text/html": [
       "<div>\n",
       "<style scoped>\n",
       "    .dataframe tbody tr th:only-of-type {\n",
       "        vertical-align: middle;\n",
       "    }\n",
       "\n",
       "    .dataframe tbody tr th {\n",
       "        vertical-align: top;\n",
       "    }\n",
       "\n",
       "    .dataframe thead th {\n",
       "        text-align: right;\n",
       "    }\n",
       "</style>\n",
       "<table border=\"1\" class=\"dataframe\">\n",
       "  <thead>\n",
       "    <tr style=\"text-align: right;\">\n",
       "      <th></th>\n",
       "      <th>city</th>\n",
       "      <th>phone</th>\n",
       "      <th>addressLine1</th>\n",
       "      <th>addressLine2</th>\n",
       "      <th>state</th>\n",
       "      <th>country</th>\n",
       "      <th>postalCode</th>\n",
       "      <th>territory</th>\n",
       "    </tr>\n",
       "    <tr>\n",
       "      <th>officeCode</th>\n",
       "      <th></th>\n",
       "      <th></th>\n",
       "      <th></th>\n",
       "      <th></th>\n",
       "      <th></th>\n",
       "      <th></th>\n",
       "      <th></th>\n",
       "      <th></th>\n",
       "    </tr>\n",
       "  </thead>\n",
       "  <tbody>\n",
       "    <tr>\n",
       "      <th>1</th>\n",
       "      <td>San Francisco</td>\n",
       "      <td>+1 650 219 4782</td>\n",
       "      <td>100 Market Street</td>\n",
       "      <td>Suite 300</td>\n",
       "      <td>CA</td>\n",
       "      <td>USA</td>\n",
       "      <td>94080</td>\n",
       "      <td>NA</td>\n",
       "    </tr>\n",
       "    <tr>\n",
       "      <th>2</th>\n",
       "      <td>Boston</td>\n",
       "      <td>+1 215 837 0825</td>\n",
       "      <td>1550 Court Place</td>\n",
       "      <td>Suite 102</td>\n",
       "      <td>MA</td>\n",
       "      <td>USA</td>\n",
       "      <td>02107</td>\n",
       "      <td>NA</td>\n",
       "    </tr>\n",
       "    <tr>\n",
       "      <th>3</th>\n",
       "      <td>NYC</td>\n",
       "      <td>+1 212 555 3000</td>\n",
       "      <td>523 East 53rd Street</td>\n",
       "      <td>apt. 5A</td>\n",
       "      <td>NY</td>\n",
       "      <td>USA</td>\n",
       "      <td>10022</td>\n",
       "      <td>NA</td>\n",
       "    </tr>\n",
       "    <tr>\n",
       "      <th>4</th>\n",
       "      <td>Paris</td>\n",
       "      <td>+33 14 723 4404</td>\n",
       "      <td>43 Rue Jouffroy D'abbans</td>\n",
       "      <td>None</td>\n",
       "      <td>None</td>\n",
       "      <td>France</td>\n",
       "      <td>75017</td>\n",
       "      <td>EMEA</td>\n",
       "    </tr>\n",
       "  </tbody>\n",
       "</table>\n",
       "</div>"
      ],
      "text/plain": [
       "                     city            phone              addressLine1  \\\n",
       "officeCode                                                             \n",
       "1           San Francisco  +1 650 219 4782         100 Market Street   \n",
       "2                  Boston  +1 215 837 0825          1550 Court Place   \n",
       "3                     NYC  +1 212 555 3000      523 East 53rd Street   \n",
       "4                   Paris  +33 14 723 4404  43 Rue Jouffroy D'abbans   \n",
       "\n",
       "           addressLine2 state country postalCode territory  \n",
       "officeCode                                                  \n",
       "1             Suite 300    CA     USA      94080        NA  \n",
       "2             Suite 102    MA     USA      02107        NA  \n",
       "3               apt. 5A    NY     USA      10022        NA  \n",
       "4                  None  None  France      75017      EMEA  "
      ]
     },
     "execution_count": 22,
     "metadata": {},
     "output_type": "execute_result"
    }
   ],
   "source": [
    "data_off = pd.DataFrame(columns=[\"officeCode\", \"city\", \"phone\", \"addressLine1\", \"addressLine2\", \n",
    "                                 \"state\", \"country\", \"postalCode\", \"territory\"], data=office)\n",
    "data_off = data_off.set_index(\"officeCode\")\n",
    "data_off.head(4)"
   ]
  },
  {
   "cell_type": "markdown",
   "metadata": {},
   "source": [
    "# Soal No.4"
   ]
  },
  {
   "cell_type": "code",
   "execution_count": 23,
   "metadata": {},
   "outputs": [
    {
     "data": {
      "text/plain": [
       "(7, 8)"
      ]
     },
     "execution_count": 23,
     "metadata": {},
     "output_type": "execute_result"
    }
   ],
   "source": [
    "data_off.shape"
   ]
  },
  {
   "cell_type": "code",
   "execution_count": 24,
   "metadata": {},
   "outputs": [
    {
     "data": {
      "text/html": [
       "<div>\n",
       "<style scoped>\n",
       "    .dataframe tbody tr th:only-of-type {\n",
       "        vertical-align: middle;\n",
       "    }\n",
       "\n",
       "    .dataframe tbody tr th {\n",
       "        vertical-align: top;\n",
       "    }\n",
       "\n",
       "    .dataframe thead th {\n",
       "        text-align: right;\n",
       "    }\n",
       "</style>\n",
       "<table border=\"1\" class=\"dataframe\">\n",
       "  <thead>\n",
       "    <tr style=\"text-align: right;\">\n",
       "      <th></th>\n",
       "      <th>city</th>\n",
       "      <th>phone</th>\n",
       "      <th>addressLine1</th>\n",
       "      <th>addressLine2</th>\n",
       "      <th>state</th>\n",
       "      <th>country</th>\n",
       "      <th>postalCode</th>\n",
       "      <th>territory</th>\n",
       "    </tr>\n",
       "  </thead>\n",
       "  <tbody>\n",
       "    <tr>\n",
       "      <th>count</th>\n",
       "      <td>7</td>\n",
       "      <td>7</td>\n",
       "      <td>7</td>\n",
       "      <td>5</td>\n",
       "      <td>4</td>\n",
       "      <td>7</td>\n",
       "      <td>7</td>\n",
       "      <td>7</td>\n",
       "    </tr>\n",
       "    <tr>\n",
       "      <th>unique</th>\n",
       "      <td>7</td>\n",
       "      <td>7</td>\n",
       "      <td>7</td>\n",
       "      <td>5</td>\n",
       "      <td>4</td>\n",
       "      <td>5</td>\n",
       "      <td>7</td>\n",
       "      <td>4</td>\n",
       "    </tr>\n",
       "    <tr>\n",
       "      <th>top</th>\n",
       "      <td>Sydney</td>\n",
       "      <td>+1 650 219 4782</td>\n",
       "      <td>523 East 53rd Street</td>\n",
       "      <td>Level 7</td>\n",
       "      <td>NY</td>\n",
       "      <td>USA</td>\n",
       "      <td>102-8578</td>\n",
       "      <td>NA</td>\n",
       "    </tr>\n",
       "    <tr>\n",
       "      <th>freq</th>\n",
       "      <td>1</td>\n",
       "      <td>1</td>\n",
       "      <td>1</td>\n",
       "      <td>1</td>\n",
       "      <td>1</td>\n",
       "      <td>3</td>\n",
       "      <td>1</td>\n",
       "      <td>3</td>\n",
       "    </tr>\n",
       "  </tbody>\n",
       "</table>\n",
       "</div>"
      ],
      "text/plain": [
       "          city            phone          addressLine1 addressLine2 state  \\\n",
       "count        7                7                     7            5     4   \n",
       "unique       7                7                     7            5     4   \n",
       "top     Sydney  +1 650 219 4782  523 East 53rd Street      Level 7    NY   \n",
       "freq         1                1                     1            1     1   \n",
       "\n",
       "       country postalCode territory  \n",
       "count        7          7         7  \n",
       "unique       5          7         4  \n",
       "top        USA   102-8578        NA  \n",
       "freq         3          1         3  "
      ]
     },
     "execution_count": 24,
     "metadata": {},
     "output_type": "execute_result"
    }
   ],
   "source": [
    "data_off.describe()"
   ]
  },
  {
   "cell_type": "code",
   "execution_count": 25,
   "metadata": {},
   "outputs": [
    {
     "name": "stdout",
     "output_type": "stream",
     "text": [
      "<class 'pandas.core.frame.DataFrame'>\n",
      "Index: 7 entries, 1 to 7\n",
      "Data columns (total 8 columns):\n",
      " #   Column        Non-Null Count  Dtype \n",
      "---  ------        --------------  ----- \n",
      " 0   city          7 non-null      object\n",
      " 1   phone         7 non-null      object\n",
      " 2   addressLine1  7 non-null      object\n",
      " 3   addressLine2  5 non-null      object\n",
      " 4   state         4 non-null      object\n",
      " 5   country       7 non-null      object\n",
      " 6   postalCode    7 non-null      object\n",
      " 7   territory     7 non-null      object\n",
      "dtypes: object(8)\n",
      "memory usage: 504.0+ bytes\n"
     ]
    }
   ],
   "source": [
    "#membersihkan data\n",
    "import numpy as np\n",
    "data_off.info()"
   ]
  },
  {
   "cell_type": "code",
   "execution_count": 26,
   "metadata": {},
   "outputs": [
    {
     "data": {
      "text/plain": [
       "city            0\n",
       "phone           0\n",
       "addressLine1    0\n",
       "addressLine2    2\n",
       "state           3\n",
       "country         0\n",
       "postalCode      0\n",
       "territory       0\n",
       "dtype: int64"
      ]
     },
     "execution_count": 26,
     "metadata": {},
     "output_type": "execute_result"
    }
   ],
   "source": [
    "#normalisasi nilai\n",
    "np.sum(data_off.isnull())"
   ]
  },
  {
   "cell_type": "code",
   "execution_count": 27,
   "metadata": {},
   "outputs": [],
   "source": [
    "from sklearn.impute import SimpleImputer\n",
    "from scipy.stats import mode"
   ]
  },
  {
   "cell_type": "code",
   "execution_count": 28,
   "metadata": {},
   "outputs": [
    {
     "data": {
      "text/plain": [
       "0     Floor #2\n",
       "1      Level 7\n",
       "2    Suite 102\n",
       "3    Suite 300\n",
       "4      apt. 5A\n",
       "dtype: object"
      ]
     },
     "execution_count": 28,
     "metadata": {},
     "output_type": "execute_result"
    }
   ],
   "source": [
    "data_off['addressLine2'].mode()"
   ]
  },
  {
   "cell_type": "code",
   "execution_count": 29,
   "metadata": {},
   "outputs": [
    {
     "data": {
      "text/plain": [
       "0            CA\n",
       "1    Chiyoda-Ku\n",
       "2            MA\n",
       "3            NY\n",
       "dtype: object"
      ]
     },
     "execution_count": 29,
     "metadata": {},
     "output_type": "execute_result"
    }
   ],
   "source": [
    "data_off['state'].mode()"
   ]
  },
  {
   "cell_type": "code",
   "execution_count": 30,
   "metadata": {},
   "outputs": [],
   "source": [
    "data_off['addressLine2'] = data_off['addressLine2'].fillna(data_off['addressLine2'].mode()[0])\n",
    "data_off['state'] = data_off['state'].fillna(data_off['state'].mode()[0])"
   ]
  },
  {
   "cell_type": "code",
   "execution_count": 31,
   "metadata": {},
   "outputs": [
    {
     "data": {
      "text/plain": [
       "city            0\n",
       "phone           0\n",
       "addressLine1    0\n",
       "addressLine2    0\n",
       "state           0\n",
       "country         0\n",
       "postalCode      0\n",
       "territory       0\n",
       "dtype: int64"
      ]
     },
     "execution_count": 31,
     "metadata": {},
     "output_type": "execute_result"
    }
   ],
   "source": [
    "data_off.isnull().sum()"
   ]
  },
  {
   "cell_type": "code",
   "execution_count": 32,
   "metadata": {},
   "outputs": [
    {
     "name": "stdout",
     "output_type": "stream",
     "text": [
      "[]\n"
     ]
    }
   ],
   "source": [
    "#Mendeteksi Outlier\n",
    "from scipy import stats\n",
    "\n",
    "hasil = np.abs(stats.zscore(data_off._get_numeric_data()))\n",
    "print(hasil)"
   ]
  },
  {
   "cell_type": "code",
   "execution_count": null,
   "metadata": {},
   "outputs": [],
   "source": []
  },
  {
   "cell_type": "code",
   "execution_count": 33,
   "metadata": {},
   "outputs": [
    {
     "data": {
      "text/plain": [
       "(7, 0)"
      ]
     },
     "execution_count": 33,
     "metadata": {},
     "output_type": "execute_result"
    }
   ],
   "source": [
    "hasil.shape"
   ]
  },
  {
   "cell_type": "code",
   "execution_count": 34,
   "metadata": {},
   "outputs": [
    {
     "name": "stdout",
     "output_type": "stream",
     "text": [
      "(7, 8)\n"
     ]
    }
   ],
   "source": [
    "outlier = data_off[(hasil<3).all(axis=1)]\n",
    "print(outlier.shape)"
   ]
  },
  {
   "cell_type": "code",
   "execution_count": 35,
   "metadata": {},
   "outputs": [
    {
     "data": {
      "text/html": [
       "<div>\n",
       "<style scoped>\n",
       "    .dataframe tbody tr th:only-of-type {\n",
       "        vertical-align: middle;\n",
       "    }\n",
       "\n",
       "    .dataframe tbody tr th {\n",
       "        vertical-align: top;\n",
       "    }\n",
       "\n",
       "    .dataframe thead th {\n",
       "        text-align: right;\n",
       "    }\n",
       "</style>\n",
       "<table border=\"1\" class=\"dataframe\">\n",
       "  <thead>\n",
       "    <tr style=\"text-align: right;\">\n",
       "      <th></th>\n",
       "      <th>city</th>\n",
       "      <th>phone</th>\n",
       "      <th>addressLine1</th>\n",
       "      <th>addressLine2</th>\n",
       "      <th>state</th>\n",
       "      <th>country</th>\n",
       "      <th>postalCode</th>\n",
       "      <th>territory</th>\n",
       "    </tr>\n",
       "    <tr>\n",
       "      <th>officeCode</th>\n",
       "      <th></th>\n",
       "      <th></th>\n",
       "      <th></th>\n",
       "      <th></th>\n",
       "      <th></th>\n",
       "      <th></th>\n",
       "      <th></th>\n",
       "      <th></th>\n",
       "    </tr>\n",
       "  </thead>\n",
       "  <tbody>\n",
       "    <tr>\n",
       "      <th>1</th>\n",
       "      <td>San Francisco</td>\n",
       "      <td>+1 650 219 4782</td>\n",
       "      <td>100 Market Street</td>\n",
       "      <td>Suite 300</td>\n",
       "      <td>CA</td>\n",
       "      <td>USA</td>\n",
       "      <td>94080</td>\n",
       "      <td>NA</td>\n",
       "    </tr>\n",
       "    <tr>\n",
       "      <th>2</th>\n",
       "      <td>Boston</td>\n",
       "      <td>+1 215 837 0825</td>\n",
       "      <td>1550 Court Place</td>\n",
       "      <td>Suite 102</td>\n",
       "      <td>MA</td>\n",
       "      <td>USA</td>\n",
       "      <td>02107</td>\n",
       "      <td>NA</td>\n",
       "    </tr>\n",
       "    <tr>\n",
       "      <th>3</th>\n",
       "      <td>NYC</td>\n",
       "      <td>+1 212 555 3000</td>\n",
       "      <td>523 East 53rd Street</td>\n",
       "      <td>apt. 5A</td>\n",
       "      <td>NY</td>\n",
       "      <td>USA</td>\n",
       "      <td>10022</td>\n",
       "      <td>NA</td>\n",
       "    </tr>\n",
       "    <tr>\n",
       "      <th>4</th>\n",
       "      <td>Paris</td>\n",
       "      <td>+33 14 723 4404</td>\n",
       "      <td>43 Rue Jouffroy D'abbans</td>\n",
       "      <td>Floor #2</td>\n",
       "      <td>CA</td>\n",
       "      <td>France</td>\n",
       "      <td>75017</td>\n",
       "      <td>EMEA</td>\n",
       "    </tr>\n",
       "    <tr>\n",
       "      <th>5</th>\n",
       "      <td>Tokyo</td>\n",
       "      <td>+81 33 224 5000</td>\n",
       "      <td>4-1 Kioicho</td>\n",
       "      <td>Floor #2</td>\n",
       "      <td>Chiyoda-Ku</td>\n",
       "      <td>Japan</td>\n",
       "      <td>102-8578</td>\n",
       "      <td>Japan</td>\n",
       "    </tr>\n",
       "    <tr>\n",
       "      <th>6</th>\n",
       "      <td>Sydney</td>\n",
       "      <td>+61 2 9264 2451</td>\n",
       "      <td>5-11 Wentworth Avenue</td>\n",
       "      <td>Floor #2</td>\n",
       "      <td>CA</td>\n",
       "      <td>Australia</td>\n",
       "      <td>NSW 2010</td>\n",
       "      <td>APAC</td>\n",
       "    </tr>\n",
       "    <tr>\n",
       "      <th>7</th>\n",
       "      <td>London</td>\n",
       "      <td>+44 20 7877 2041</td>\n",
       "      <td>25 Old Broad Street</td>\n",
       "      <td>Level 7</td>\n",
       "      <td>CA</td>\n",
       "      <td>UK</td>\n",
       "      <td>EC2N 1HN</td>\n",
       "      <td>EMEA</td>\n",
       "    </tr>\n",
       "  </tbody>\n",
       "</table>\n",
       "</div>"
      ],
      "text/plain": [
       "                     city             phone              addressLine1  \\\n",
       "officeCode                                                              \n",
       "1           San Francisco   +1 650 219 4782         100 Market Street   \n",
       "2                  Boston   +1 215 837 0825          1550 Court Place   \n",
       "3                     NYC   +1 212 555 3000      523 East 53rd Street   \n",
       "4                   Paris   +33 14 723 4404  43 Rue Jouffroy D'abbans   \n",
       "5                   Tokyo   +81 33 224 5000               4-1 Kioicho   \n",
       "6                  Sydney   +61 2 9264 2451     5-11 Wentworth Avenue   \n",
       "7                  London  +44 20 7877 2041       25 Old Broad Street   \n",
       "\n",
       "           addressLine2       state    country postalCode territory  \n",
       "officeCode                                                           \n",
       "1             Suite 300          CA        USA      94080        NA  \n",
       "2             Suite 102          MA        USA      02107        NA  \n",
       "3               apt. 5A          NY        USA      10022        NA  \n",
       "4              Floor #2          CA     France      75017      EMEA  \n",
       "5              Floor #2  Chiyoda-Ku      Japan   102-8578     Japan  \n",
       "6              Floor #2          CA  Australia   NSW 2010      APAC  \n",
       "7               Level 7          CA         UK   EC2N 1HN      EMEA  "
      ]
     },
     "execution_count": 35,
     "metadata": {},
     "output_type": "execute_result"
    }
   ],
   "source": [
    "outlier"
   ]
  },
  {
   "cell_type": "code",
   "execution_count": 36,
   "metadata": {},
   "outputs": [],
   "source": [
    "#Transformasi(encoding, scalling, binning)\n",
    "from sklearn import preprocessing\n",
    "kategori = [\"city\", \"productCode\",\"phone\",\"postalCode\"]\n",
    "le = preprocessing.LabelEncoder()"
   ]
  },
  {
   "cell_type": "code",
   "execution_count": 54,
   "metadata": {},
   "outputs": [
    {
     "data": {
      "text/html": [
       "<div>\n",
       "<style scoped>\n",
       "    .dataframe tbody tr th:only-of-type {\n",
       "        vertical-align: middle;\n",
       "    }\n",
       "\n",
       "    .dataframe tbody tr th {\n",
       "        vertical-align: top;\n",
       "    }\n",
       "\n",
       "    .dataframe thead th {\n",
       "        text-align: right;\n",
       "    }\n",
       "</style>\n",
       "<table border=\"1\" class=\"dataframe\">\n",
       "  <thead>\n",
       "    <tr style=\"text-align: right;\">\n",
       "      <th></th>\n",
       "      <th>city</th>\n",
       "      <th>phone</th>\n",
       "      <th>postalCode</th>\n",
       "    </tr>\n",
       "  </thead>\n",
       "  <tbody>\n",
       "    <tr>\n",
       "      <th>count</th>\n",
       "      <td>7.000000</td>\n",
       "      <td>7.000000</td>\n",
       "      <td>7.000000</td>\n",
       "    </tr>\n",
       "    <tr>\n",
       "      <th>mean</th>\n",
       "      <td>3.000000</td>\n",
       "      <td>3.000000</td>\n",
       "      <td>3.000000</td>\n",
       "    </tr>\n",
       "    <tr>\n",
       "      <th>std</th>\n",
       "      <td>2.160247</td>\n",
       "      <td>2.160247</td>\n",
       "      <td>2.160247</td>\n",
       "    </tr>\n",
       "    <tr>\n",
       "      <th>min</th>\n",
       "      <td>0.000000</td>\n",
       "      <td>0.000000</td>\n",
       "      <td>0.000000</td>\n",
       "    </tr>\n",
       "    <tr>\n",
       "      <th>25%</th>\n",
       "      <td>1.500000</td>\n",
       "      <td>1.500000</td>\n",
       "      <td>1.500000</td>\n",
       "    </tr>\n",
       "    <tr>\n",
       "      <th>50%</th>\n",
       "      <td>3.000000</td>\n",
       "      <td>3.000000</td>\n",
       "      <td>3.000000</td>\n",
       "    </tr>\n",
       "    <tr>\n",
       "      <th>75%</th>\n",
       "      <td>4.500000</td>\n",
       "      <td>4.500000</td>\n",
       "      <td>4.500000</td>\n",
       "    </tr>\n",
       "    <tr>\n",
       "      <th>max</th>\n",
       "      <td>6.000000</td>\n",
       "      <td>6.000000</td>\n",
       "      <td>6.000000</td>\n",
       "    </tr>\n",
       "  </tbody>\n",
       "</table>\n",
       "</div>"
      ],
      "text/plain": [
       "           city     phone  postalCode\n",
       "count  7.000000  7.000000    7.000000\n",
       "mean   3.000000  3.000000    3.000000\n",
       "std    2.160247  2.160247    2.160247\n",
       "min    0.000000  0.000000    0.000000\n",
       "25%    1.500000  1.500000    1.500000\n",
       "50%    3.000000  3.000000    3.000000\n",
       "75%    4.500000  4.500000    4.500000\n",
       "max    6.000000  6.000000    6.000000"
      ]
     },
     "execution_count": 54,
     "metadata": {},
     "output_type": "execute_result"
    }
   ],
   "source": [
    "#binning\n",
    "data_off.describe()"
   ]
  },
  {
   "cell_type": "code",
   "execution_count": 55,
   "metadata": {},
   "outputs": [
    {
     "data": {
      "text/plain": [
       "(4.5, 6.0]       2\n",
       "(1.5, 3.0]       2\n",
       "(-0.001, 1.5]    2\n",
       "(3.0, 4.5]       1\n",
       "Name: city, dtype: int64"
      ]
     },
     "execution_count": 55,
     "metadata": {},
     "output_type": "execute_result"
    }
   ],
   "source": [
    "pd.qcut(data_off['city'], q=4).value_counts()"
   ]
  },
  {
   "cell_type": "code",
   "execution_count": 56,
   "metadata": {},
   "outputs": [
    {
     "data": {
      "text/plain": [
       "officeCode\n",
       "1    4\n",
       "2    0\n",
       "3    2\n",
       "4    3\n",
       "5    6\n",
       "6    5\n",
       "7    1\n",
       "Name: city, dtype: int32"
      ]
     },
     "execution_count": 56,
     "metadata": {},
     "output_type": "execute_result"
    }
   ],
   "source": [
    "data_off['city']"
   ]
  },
  {
   "cell_type": "code",
   "execution_count": 57,
   "metadata": {},
   "outputs": [
    {
     "data": {
      "text/plain": [
       "dtype('int32')"
      ]
     },
     "execution_count": 57,
     "metadata": {},
     "output_type": "execute_result"
    }
   ],
   "source": [
    "data_off['city'].dtype"
   ]
  },
  {
   "cell_type": "code",
   "execution_count": 58,
   "metadata": {},
   "outputs": [
    {
     "data": {
      "text/plain": [
       "<matplotlib.axes._subplots.AxesSubplot at 0x77462dc088>"
      ]
     },
     "execution_count": 58,
     "metadata": {},
     "output_type": "execute_result"
    },
    {
     "data": {
      "image/png": "[encoded data removed]",
      "text/plain": [
       "<Figure size 432x288 with 1 Axes>"
      ]
     },
     "metadata": {},
     "output_type": "display_data"
    }
   ],
   "source": [
    "pd.qcut(data_off['city'], q=5).value_counts().plot(kind='bar')"
   ]
  },
  {
   "cell_type": "code",
   "execution_count": 59,
   "metadata": {},
   "outputs": [
    {
     "data": {
      "text/plain": [
       "officeCode\n",
       "1            biasa\n",
       "2          sedikit\n",
       "3           banyak\n",
       "4      agak banyak\n",
       "5    tidak sedikit\n",
       "6    tidak sedikit\n",
       "7          sedikit\n",
       "Name: city, dtype: category\n",
       "Categories (5, object): ['sedikit' < 'banyak' < 'agak banyak' < 'biasa' < 'tidak sedikit']"
      ]
     },
     "execution_count": 59,
     "metadata": {},
     "output_type": "execute_result"
    }
   ],
   "source": [
    "label = ['sedikit','banyak','agak banyak','biasa','tidak sedikit']\n",
    "label_city = pd.qcut(data_off['city'], q = [0, 0.2, 0.4, 0.6, 0.8, 1], labels = label)\n",
    "label_city"
   ]
  },
  {
   "cell_type": "code",
   "execution_count": 60,
   "metadata": {},
   "outputs": [
    {
     "data": {
      "text/plain": [
       "<matplotlib.axes._subplots.AxesSubplot at 0x77463484c8>"
      ]
     },
     "execution_count": 60,
     "metadata": {},
     "output_type": "execute_result"
    },
    {
     "data": {
      "image/png": "[encoded data removed]",
      "text/plain": [
       "<Figure size 432x288 with 1 Axes>"
      ]
     },
     "metadata": {},
     "output_type": "display_data"
    }
   ],
   "source": [
    "label_city.value_counts().plot(kind='barh')"
   ]
  },
  {
   "cell_type": "code",
   "execution_count": 61,
   "metadata": {},
   "outputs": [
    {
     "data": {
      "text/plain": [
       "<matplotlib.axes._subplots.AxesSubplot at 0x774639fdc8>"
      ]
     },
     "execution_count": 61,
     "metadata": {},
     "output_type": "execute_result"
    },
    {
     "data": {
      "image/png": "[encoded data removed]",
      "text/plain": [
       "<Figure size 432x288 with 1 Axes>"
      ]
     },
     "metadata": {},
     "output_type": "display_data"
    }
   ],
   "source": [
    "#scalling\n",
    "data_off.boxplot(['city', 'postalCode'])"
   ]
  },
  {
   "cell_type": "code",
   "execution_count": 63,
   "metadata": {},
   "outputs": [],
   "source": [
    "from sklearn.preprocessing import MinMaxScaler\n",
    "scaler = MinMaxScaler()"
   ]
  },
  {
   "cell_type": "code",
   "execution_count": 64,
   "metadata": {},
   "outputs": [
    {
     "data": {
      "text/plain": [
       "count    7.000000\n",
       "mean     0.500000\n",
       "std      0.360041\n",
       "min      0.000000\n",
       "25%      0.250000\n",
       "50%      0.500000\n",
       "75%      0.750000\n",
       "max      1.000000\n",
       "Name: city_Scalled, dtype: float64"
      ]
     },
     "execution_count": 64,
     "metadata": {},
     "output_type": "execute_result"
    }
   ],
   "source": [
    "scaler.fit(data_off[['city']])\n",
    "data_off['city_Scalled'] = scaler.transform(data_off[['city']])\n",
    "\n",
    "data_off['city_Scalled'].describe()"
   ]
  },
  {
   "cell_type": "code",
   "execution_count": 65,
   "metadata": {},
   "outputs": [
    {
     "data": {
      "text/plain": [
       "<matplotlib.axes._subplots.AxesSubplot at 0x7746459648>"
      ]
     },
     "execution_count": 65,
     "metadata": {},
     "output_type": "execute_result"
    },
    {
     "data": {
      "image/png": "[encoded data removed]",
      "text/plain": [
       "<Figure size 432x288 with 1 Axes>"
      ]
     },
     "metadata": {},
     "output_type": "display_data"
    }
   ],
   "source": [
    "data_off.boxplot(['city_Scalled'])"
   ]
  },
  {
   "cell_type": "code",
   "execution_count": 66,
   "metadata": {},
   "outputs": [
    {
     "data": {
      "text/html": [
       "<div>\n",
       "<style scoped>\n",
       "    .dataframe tbody tr th:only-of-type {\n",
       "        vertical-align: middle;\n",
       "    }\n",
       "\n",
       "    .dataframe tbody tr th {\n",
       "        vertical-align: top;\n",
       "    }\n",
       "\n",
       "    .dataframe thead th {\n",
       "        text-align: right;\n",
       "    }\n",
       "</style>\n",
       "<table border=\"1\" class=\"dataframe\">\n",
       "  <thead>\n",
       "    <tr style=\"text-align: right;\">\n",
       "      <th></th>\n",
       "      <th>city</th>\n",
       "      <th>phone</th>\n",
       "      <th>addressLine1</th>\n",
       "      <th>addressLine2</th>\n",
       "      <th>state</th>\n",
       "      <th>country</th>\n",
       "      <th>postalCode</th>\n",
       "      <th>territory</th>\n",
       "      <th>city_Scalled</th>\n",
       "    </tr>\n",
       "    <tr>\n",
       "      <th>officeCode</th>\n",
       "      <th></th>\n",
       "      <th></th>\n",
       "      <th></th>\n",
       "      <th></th>\n",
       "      <th></th>\n",
       "      <th></th>\n",
       "      <th></th>\n",
       "      <th></th>\n",
       "      <th></th>\n",
       "    </tr>\n",
       "  </thead>\n",
       "  <tbody>\n",
       "    <tr>\n",
       "      <th>1</th>\n",
       "      <td>4</td>\n",
       "      <td>2</td>\n",
       "      <td>100 Market Street</td>\n",
       "      <td>Suite 300</td>\n",
       "      <td>CA</td>\n",
       "      <td>USA</td>\n",
       "      <td>4</td>\n",
       "      <td>NA</td>\n",
       "      <td>0.666667</td>\n",
       "    </tr>\n",
       "    <tr>\n",
       "      <th>2</th>\n",
       "      <td>0</td>\n",
       "      <td>1</td>\n",
       "      <td>1550 Court Place</td>\n",
       "      <td>Suite 102</td>\n",
       "      <td>MA</td>\n",
       "      <td>USA</td>\n",
       "      <td>0</td>\n",
       "      <td>NA</td>\n",
       "      <td>0.000000</td>\n",
       "    </tr>\n",
       "    <tr>\n",
       "      <th>3</th>\n",
       "      <td>2</td>\n",
       "      <td>0</td>\n",
       "      <td>523 East 53rd Street</td>\n",
       "      <td>apt. 5A</td>\n",
       "      <td>NY</td>\n",
       "      <td>USA</td>\n",
       "      <td>1</td>\n",
       "      <td>NA</td>\n",
       "      <td>0.333333</td>\n",
       "    </tr>\n",
       "    <tr>\n",
       "      <th>4</th>\n",
       "      <td>3</td>\n",
       "      <td>3</td>\n",
       "      <td>43 Rue Jouffroy D'abbans</td>\n",
       "      <td>Floor #2</td>\n",
       "      <td>CA</td>\n",
       "      <td>France</td>\n",
       "      <td>3</td>\n",
       "      <td>EMEA</td>\n",
       "      <td>0.500000</td>\n",
       "    </tr>\n",
       "    <tr>\n",
       "      <th>5</th>\n",
       "      <td>6</td>\n",
       "      <td>6</td>\n",
       "      <td>4-1 Kioicho</td>\n",
       "      <td>Floor #2</td>\n",
       "      <td>Chiyoda-Ku</td>\n",
       "      <td>Japan</td>\n",
       "      <td>2</td>\n",
       "      <td>Japan</td>\n",
       "      <td>1.000000</td>\n",
       "    </tr>\n",
       "  </tbody>\n",
       "</table>\n",
       "</div>"
      ],
      "text/plain": [
       "            city  phone              addressLine1 addressLine2       state  \\\n",
       "officeCode                                                                   \n",
       "1              4      2         100 Market Street    Suite 300          CA   \n",
       "2              0      1          1550 Court Place    Suite 102          MA   \n",
       "3              2      0      523 East 53rd Street      apt. 5A          NY   \n",
       "4              3      3  43 Rue Jouffroy D'abbans     Floor #2          CA   \n",
       "5              6      6               4-1 Kioicho     Floor #2  Chiyoda-Ku   \n",
       "\n",
       "           country  postalCode territory  city_Scalled  \n",
       "officeCode                                              \n",
       "1              USA           4        NA      0.666667  \n",
       "2              USA           0        NA      0.000000  \n",
       "3              USA           1        NA      0.333333  \n",
       "4           France           3      EMEA      0.500000  \n",
       "5            Japan           2     Japan      1.000000  "
      ]
     },
     "execution_count": 66,
     "metadata": {},
     "output_type": "execute_result"
    }
   ],
   "source": [
    "#feature selection/extraction\n",
    "for feature in kategori:\n",
    "    if feature in data_off.columns.values:\n",
    "        data_off[feature] = le.fit_transform(data_off[feature])\n",
    "        \n",
    "data_off.head()"
   ]
  },
  {
   "cell_type": "code",
   "execution_count": 67,
   "metadata": {},
   "outputs": [
    {
     "data": {
      "text/plain": [
       "city              int64\n",
       "phone             int64\n",
       "addressLine1     object\n",
       "addressLine2     object\n",
       "state            object\n",
       "country          object\n",
       "postalCode        int64\n",
       "territory        object\n",
       "city_Scalled    float64\n",
       "dtype: object"
      ]
     },
     "execution_count": 67,
     "metadata": {},
     "output_type": "execute_result"
    }
   ],
   "source": [
    "data_off.dtypes"
   ]
  },
  {
   "cell_type": "code",
   "execution_count": 72,
   "metadata": {},
   "outputs": [],
   "source": [
    "#feature selection\n",
    "from sklearn.preprocessing import StandardScaler\n",
    "from sklearn.decomposition import PCA"
   ]
  },
  {
   "cell_type": "code",
   "execution_count": 68,
   "metadata": {},
   "outputs": [
    {
     "data": {
      "text/plain": [
       "(3, 7)"
      ]
     },
     "execution_count": 68,
     "metadata": {},
     "output_type": "execute_result"
    }
   ],
   "source": [
    "bmsx = np.array([data_off['city'], data_off['phone'], data_off['postalCode']])\n",
    "bmsx.shape"
   ]
  },
  {
   "cell_type": "code",
   "execution_count": 69,
   "metadata": {},
   "outputs": [
    {
     "data": {
      "text/plain": [
       "array([[4, 0, 2, 3, 6, 5, 1],\n",
       "       [2, 1, 0, 3, 6, 5, 4],\n",
       "       [4, 0, 1, 3, 2, 6, 5]], dtype=int64)"
      ]
     },
     "execution_count": 69,
     "metadata": {},
     "output_type": "execute_result"
    }
   ],
   "source": [
    "bmsx"
   ]
  },
  {
   "cell_type": "code",
   "execution_count": 70,
   "metadata": {},
   "outputs": [
    {
     "data": {
      "text/plain": [
       "array([[4, 2, 4],\n",
       "       [0, 1, 0],\n",
       "       [2, 0, 1],\n",
       "       [3, 3, 3],\n",
       "       [6, 6, 2],\n",
       "       [5, 5, 6],\n",
       "       [1, 4, 5]], dtype=int64)"
      ]
     },
     "execution_count": 70,
     "metadata": {},
     "output_type": "execute_result"
    }
   ],
   "source": [
    "bmsxt = bmsx.transpose()\n",
    "bmsxt"
   ]
  },
  {
   "cell_type": "code",
   "execution_count": 73,
   "metadata": {},
   "outputs": [
    {
     "data": {
      "text/plain": [
       "array([[ 0.5, -0.5,  0.5],\n",
       "       [-1.5, -1. , -1.5],\n",
       "       [-0.5, -1.5, -1. ],\n",
       "       [ 0. ,  0. ,  0. ],\n",
       "       [ 1.5,  1.5, -0.5],\n",
       "       [ 1. ,  1. ,  1.5],\n",
       "       [-1. ,  0.5,  1. ]])"
      ]
     },
     "execution_count": 73,
     "metadata": {},
     "output_type": "execute_result"
    }
   ],
   "source": [
    "bms_std = StandardScaler().fit_transform(bmsxt)\n",
    "bms_std"
   ]
  },
  {
   "cell_type": "code",
   "execution_count": 74,
   "metadata": {},
   "outputs": [],
   "source": [
    "pcafs = PCA(n_components=0.70, whiten=True)\n",
    "bmsfs_pca = pcafs.fit_transform(bms_std)"
   ]
  },
  {
   "cell_type": "code",
   "execution_count": 75,
   "metadata": {},
   "outputs": [
    {
     "name": "stdout",
     "output_type": "stream",
     "text": [
      "Original number of feat ures:  3\n",
      "Reduced number of features:  1\n"
     ]
    }
   ],
   "source": [
    "print('Original number of feat ures: ', bms_std.shape[1])\n",
    "print('Reduced number of features: ', bmsfs_pca.shape[1])"
   ]
  },
  {
   "cell_type": "code",
   "execution_count": 77,
   "metadata": {},
   "outputs": [
    {
     "data": {
      "text/html": [
       "<div>\n",
       "<style scoped>\n",
       "    .dataframe tbody tr th:only-of-type {\n",
       "        vertical-align: middle;\n",
       "    }\n",
       "\n",
       "    .dataframe tbody tr th {\n",
       "        vertical-align: top;\n",
       "    }\n",
       "\n",
       "    .dataframe thead th {\n",
       "        text-align: right;\n",
       "    }\n",
       "</style>\n",
       "<table border=\"1\" class=\"dataframe\">\n",
       "  <thead>\n",
       "    <tr style=\"text-align: right;\">\n",
       "      <th></th>\n",
       "      <th>PC1</th>\n",
       "    </tr>\n",
       "  </thead>\n",
       "  <tbody>\n",
       "    <tr>\n",
       "      <th>0</th>\n",
       "      <td>-0.151760</td>\n",
       "    </tr>\n",
       "    <tr>\n",
       "      <th>1</th>\n",
       "      <td>1.454660</td>\n",
       "    </tr>\n",
       "    <tr>\n",
       "      <th>2</th>\n",
       "      <td>1.119926</td>\n",
       "    </tr>\n",
       "    <tr>\n",
       "      <th>3</th>\n",
       "      <td>0.000000</td>\n",
       "    </tr>\n",
       "    <tr>\n",
       "      <th>4</th>\n",
       "      <td>-0.979890</td>\n",
       "    </tr>\n",
       "    <tr>\n",
       "      <th>5</th>\n",
       "      <td>-1.271686</td>\n",
       "    </tr>\n",
       "    <tr>\n",
       "      <th>6</th>\n",
       "      <td>-0.171251</td>\n",
       "    </tr>\n",
       "  </tbody>\n",
       "</table>\n",
       "</div>"
      ],
      "text/plain": [
       "        PC1\n",
       "0 -0.151760\n",
       "1  1.454660\n",
       "2  1.119926\n",
       "3  0.000000\n",
       "4 -0.979890\n",
       "5 -1.271686\n",
       "6 -0.171251"
      ]
     },
     "execution_count": 77,
     "metadata": {},
     "output_type": "execute_result"
    }
   ],
   "source": [
    "datafs_pca = pd.DataFrame(bmsfs_pca, columns = [\"PC1\"])\n",
    "datafs_pca"
   ]
  },
  {
   "cell_type": "code",
   "execution_count": 79,
   "metadata": {},
   "outputs": [],
   "source": [
    "#feature extraction\n",
    "from sklearn import decomposition"
   ]
  },
  {
   "cell_type": "code",
   "execution_count": 80,
   "metadata": {},
   "outputs": [],
   "source": [
    "pcafe=decomposition.PCA(n_components=3)\n",
    "bmsfe_pca=pcafe.fit_transform(bms_std)"
   ]
  },
  {
   "cell_type": "code",
   "execution_count": 81,
   "metadata": {},
   "outputs": [
    {
     "name": "stdout",
     "output_type": "stream",
     "text": [
      "Original number of feat ures:  3\n",
      "Reduced number of features:  3\n"
     ]
    }
   ],
   "source": [
    "print('Original number of feat ures: ', bms_std.shape[1])\n",
    "print('Reduced number of features: ', bmsfe_pca.shape[1])"
   ]
  },
  {
   "cell_type": "code",
   "execution_count": 82,
   "metadata": {},
   "outputs": [
    {
     "data": {
      "text/html": [
       "<div>\n",
       "<style scoped>\n",
       "    .dataframe tbody tr th:only-of-type {\n",
       "        vertical-align: middle;\n",
       "    }\n",
       "\n",
       "    .dataframe tbody tr th {\n",
       "        vertical-align: top;\n",
       "    }\n",
       "\n",
       "    .dataframe thead th {\n",
       "        text-align: right;\n",
       "    }\n",
       "</style>\n",
       "<table border=\"1\" class=\"dataframe\">\n",
       "  <thead>\n",
       "    <tr style=\"text-align: right;\">\n",
       "      <th></th>\n",
       "      <th>PC1</th>\n",
       "      <th>PC2</th>\n",
       "      <th>PC3</th>\n",
       "    </tr>\n",
       "  </thead>\n",
       "  <tbody>\n",
       "    <tr>\n",
       "      <th>0</th>\n",
       "      <td>-0.237733</td>\n",
       "      <td>-0.156182</td>\n",
       "      <td>0.817979</td>\n",
       "    </tr>\n",
       "    <tr>\n",
       "      <th>1</th>\n",
       "      <td>2.278735</td>\n",
       "      <td>0.169324</td>\n",
       "      <td>-0.527916</td>\n",
       "    </tr>\n",
       "    <tr>\n",
       "      <th>2</th>\n",
       "      <td>1.754372</td>\n",
       "      <td>0.312664</td>\n",
       "      <td>0.569580</td>\n",
       "    </tr>\n",
       "    <tr>\n",
       "      <th>3</th>\n",
       "      <td>0.000000</td>\n",
       "      <td>0.000000</td>\n",
       "      <td>-0.000000</td>\n",
       "    </tr>\n",
       "    <tr>\n",
       "      <th>4</th>\n",
       "      <td>-1.535004</td>\n",
       "      <td>1.473960</td>\n",
       "      <td>-0.470323</td>\n",
       "    </tr>\n",
       "    <tr>\n",
       "      <th>5</th>\n",
       "      <td>-1.992105</td>\n",
       "      <td>-0.468847</td>\n",
       "      <td>0.248400</td>\n",
       "    </tr>\n",
       "    <tr>\n",
       "      <th>6</th>\n",
       "      <td>-0.268265</td>\n",
       "      <td>-1.330920</td>\n",
       "      <td>-0.637720</td>\n",
       "    </tr>\n",
       "  </tbody>\n",
       "</table>\n",
       "</div>"
      ],
      "text/plain": [
       "        PC1       PC2       PC3\n",
       "0 -0.237733 -0.156182  0.817979\n",
       "1  2.278735  0.169324 -0.527916\n",
       "2  1.754372  0.312664  0.569580\n",
       "3  0.000000  0.000000 -0.000000\n",
       "4 -1.535004  1.473960 -0.470323\n",
       "5 -1.992105 -0.468847  0.248400\n",
       "6 -0.268265 -1.330920 -0.637720"
      ]
     },
     "execution_count": 82,
     "metadata": {},
     "output_type": "execute_result"
    }
   ],
   "source": [
    "datafe_pca = pd.DataFrame(bmsfe_pca, columns = [\"PC1\", \"PC2\", \"PC3\"])\n",
    "datafe_pca"
   ]
  },
  {
   "cell_type": "code",
   "execution_count": 83,
   "metadata": {},
   "outputs": [
    {
     "data": {
      "text/plain": [
       "<matplotlib.axes._subplots.AxesSubplot at 0x77468cf648>"
      ]
     },
     "execution_count": 83,
     "metadata": {},
     "output_type": "execute_result"
    },
    {
     "data": {
      "image/png": "[encoded data removed]",
      "text/plain": [
       "<Figure size 432x288 with 1 Axes>"
      ]
     },
     "metadata": {},
     "output_type": "display_data"
    }
   ],
   "source": [
    "#visualisasi data\n",
    "import seaborn as sns\n",
    "sns.set(style=\"whitegrid\")\n",
    "sns.barplot(x=\"city\", y=\"territory\", data=data_off, ci=None)"
   ]
  },
  {
   "cell_type": "markdown",
   "metadata": {},
   "source": [
    "# Soal No.5"
   ]
  },
  {
   "cell_type": "code",
   "execution_count": 84,
   "metadata": {},
   "outputs": [],
   "source": [
    "cursor = koneksi.cursor()\n",
    "cursor.execute(\"CREATE TABLE IF NOT EXISTS data_br(officeCode INT(10) NOT NULL,city INT(50) NOT NULL,\"\n",
    "               \"phone INT(50) NOT NULL,addressLine1 varchar(50) NOT NULL,addressLine2 varchar(50) DEFAULT NULL,\"\n",
    "               \"state varchar(50) DEFAULT NULL,country varchar(50) NOT NULL,postalCode INT(15) NOT NULL,\"\n",
    "               \"territory varchar(10) NOT NULL,PRIMARY KEY (`officeCode`)) ENGINE=InnoDB DEFAULT CHARSET=latin1;\")"
   ]
  },
  {
   "cell_type": "code",
   "execution_count": 85,
   "metadata": {},
   "outputs": [],
   "source": [
    "cursor = koneksi.cursor()\n",
    "cursor.execute(\"DELETE from data_br\")\n",
    "koneksi.commit()"
   ]
  },
  {
   "cell_type": "code",
   "execution_count": 86,
   "metadata": {},
   "outputs": [
    {
     "name": "stdout",
     "output_type": "stream",
     "text": [
      "('1', 'San Francisco', '+1 650 219 4782', '100 Market Street', 'Suite 300', 'CA', 'USA', '94080', 'NA') success\n",
      "('2', 'Boston', '+1 215 837 0825', '1550 Court Place', 'Suite 102', 'MA', 'USA', '02107', 'NA') success\n",
      "('3', 'NYC', '+1 212 555 3000', '523 East 53rd Street', 'apt. 5A', 'NY', 'USA', '10022', 'NA') success\n",
      "('4', 'Paris', '+33 14 723 4404', \"43 Rue Jouffroy D'abbans\", None, None, 'France', '75017', 'EMEA') success\n",
      "('5', 'Tokyo', '+81 33 224 5000', '4-1 Kioicho', None, 'Chiyoda-Ku', 'Japan', '102-8578', 'Japan') success\n",
      "('6', 'Sydney', '+61 2 9264 2451', '5-11 Wentworth Avenue', 'Floor #2', None, 'Australia', 'NSW 2010', 'APAC') success\n",
      "('7', 'London', '+44 20 7877 2041', '25 Old Broad Street', 'Level 7', None, 'UK', 'EC2N 1HN', 'EMEA') success\n"
     ]
    }
   ],
   "source": [
    "cursor = koneksi.cursor()\n",
    "for baris in office:\n",
    "    sql = \"INSERT INTO karyawan.data_br VALUES (%s, %s, %s, %s, %s, %s, %s, %s, %s);\"\n",
    "    cursor.execute(sql,baris)\n",
    "    print(tuple(baris), \"success\")\n",
    "    koneksi.commit()"
   ]
  },
  {
   "cell_type": "markdown",
   "metadata": {},
   "source": [
    "# Soal No.6"
   ]
  },
  {
   "cell_type": "code",
   "execution_count": 87,
   "metadata": {},
   "outputs": [],
   "source": [
    "from pandas import DataFrame, read_csv"
   ]
  },
  {
   "cell_type": "code",
   "execution_count": 88,
   "metadata": {},
   "outputs": [],
   "source": [
    "data_off.to_csv(\"data_hasil.csv\", index=False)"
   ]
  },
  {
   "cell_type": "code",
   "execution_count": 89,
   "metadata": {},
   "outputs": [
    {
     "data": {
      "text/html": [
       "<div>\n",
       "<style scoped>\n",
       "    .dataframe tbody tr th:only-of-type {\n",
       "        vertical-align: middle;\n",
       "    }\n",
       "\n",
       "    .dataframe tbody tr th {\n",
       "        vertical-align: top;\n",
       "    }\n",
       "\n",
       "    .dataframe thead th {\n",
       "        text-align: right;\n",
       "    }\n",
       "</style>\n",
       "<table border=\"1\" class=\"dataframe\">\n",
       "  <thead>\n",
       "    <tr style=\"text-align: right;\">\n",
       "      <th></th>\n",
       "      <th>city</th>\n",
       "      <th>phone</th>\n",
       "      <th>addressLine1</th>\n",
       "      <th>addressLine2</th>\n",
       "      <th>state</th>\n",
       "      <th>country</th>\n",
       "      <th>postalCode</th>\n",
       "      <th>territory</th>\n",
       "      <th>city_Scalled</th>\n",
       "    </tr>\n",
       "  </thead>\n",
       "  <tbody>\n",
       "    <tr>\n",
       "      <th>0</th>\n",
       "      <td>4</td>\n",
       "      <td>2</td>\n",
       "      <td>100 Market Street</td>\n",
       "      <td>Suite 300</td>\n",
       "      <td>CA</td>\n",
       "      <td>USA</td>\n",
       "      <td>4</td>\n",
       "      <td>NaN</td>\n",
       "      <td>0.666667</td>\n",
       "    </tr>\n",
       "    <tr>\n",
       "      <th>1</th>\n",
       "      <td>0</td>\n",
       "      <td>1</td>\n",
       "      <td>1550 Court Place</td>\n",
       "      <td>Suite 102</td>\n",
       "      <td>MA</td>\n",
       "      <td>USA</td>\n",
       "      <td>0</td>\n",
       "      <td>NaN</td>\n",
       "      <td>0.000000</td>\n",
       "    </tr>\n",
       "    <tr>\n",
       "      <th>2</th>\n",
       "      <td>2</td>\n",
       "      <td>0</td>\n",
       "      <td>523 East 53rd Street</td>\n",
       "      <td>apt. 5A</td>\n",
       "      <td>NY</td>\n",
       "      <td>USA</td>\n",
       "      <td>1</td>\n",
       "      <td>NaN</td>\n",
       "      <td>0.333333</td>\n",
       "    </tr>\n",
       "    <tr>\n",
       "      <th>3</th>\n",
       "      <td>3</td>\n",
       "      <td>3</td>\n",
       "      <td>43 Rue Jouffroy D'abbans</td>\n",
       "      <td>Floor #2</td>\n",
       "      <td>CA</td>\n",
       "      <td>France</td>\n",
       "      <td>3</td>\n",
       "      <td>EMEA</td>\n",
       "      <td>0.500000</td>\n",
       "    </tr>\n",
       "    <tr>\n",
       "      <th>4</th>\n",
       "      <td>6</td>\n",
       "      <td>6</td>\n",
       "      <td>4-1 Kioicho</td>\n",
       "      <td>Floor #2</td>\n",
       "      <td>Chiyoda-Ku</td>\n",
       "      <td>Japan</td>\n",
       "      <td>2</td>\n",
       "      <td>Japan</td>\n",
       "      <td>1.000000</td>\n",
       "    </tr>\n",
       "    <tr>\n",
       "      <th>5</th>\n",
       "      <td>5</td>\n",
       "      <td>5</td>\n",
       "      <td>5-11 Wentworth Avenue</td>\n",
       "      <td>Floor #2</td>\n",
       "      <td>CA</td>\n",
       "      <td>Australia</td>\n",
       "      <td>6</td>\n",
       "      <td>APAC</td>\n",
       "      <td>0.833333</td>\n",
       "    </tr>\n",
       "    <tr>\n",
       "      <th>6</th>\n",
       "      <td>1</td>\n",
       "      <td>4</td>\n",
       "      <td>25 Old Broad Street</td>\n",
       "      <td>Level 7</td>\n",
       "      <td>CA</td>\n",
       "      <td>UK</td>\n",
       "      <td>5</td>\n",
       "      <td>EMEA</td>\n",
       "      <td>0.166667</td>\n",
       "    </tr>\n",
       "  </tbody>\n",
       "</table>\n",
       "</div>"
      ],
      "text/plain": [
       "   city  phone              addressLine1 addressLine2       state    country  \\\n",
       "0     4      2         100 Market Street    Suite 300          CA        USA   \n",
       "1     0      1          1550 Court Place    Suite 102          MA        USA   \n",
       "2     2      0      523 East 53rd Street      apt. 5A          NY        USA   \n",
       "3     3      3  43 Rue Jouffroy D'abbans     Floor #2          CA     France   \n",
       "4     6      6               4-1 Kioicho     Floor #2  Chiyoda-Ku      Japan   \n",
       "5     5      5     5-11 Wentworth Avenue     Floor #2          CA  Australia   \n",
       "6     1      4       25 Old Broad Street      Level 7          CA         UK   \n",
       "\n",
       "   postalCode territory  city_Scalled  \n",
       "0           4       NaN      0.666667  \n",
       "1           0       NaN      0.000000  \n",
       "2           1       NaN      0.333333  \n",
       "3           3      EMEA      0.500000  \n",
       "4           2     Japan      1.000000  \n",
       "5           6      APAC      0.833333  \n",
       "6           5      EMEA      0.166667  "
      ]
     },
     "execution_count": 89,
     "metadata": {},
     "output_type": "execute_result"
    }
   ],
   "source": [
    "data_expor = read_csv(\"data_hasil.csv\")\n",
    "data_expor"
   ]
  },
  {
   "cell_type": "code",
   "execution_count": null,
   "metadata": {},
   "outputs": [],
   "source": [
    "#sketchware"
   ]
  }
 ],
 "metadata": {
  "kernelspec": {
   "display_name": "Python 3",
   "language": "python",
   "name": "python3"
  },
  "language_info": {
   "codemirror_mode": {
    "name": "ipython",
    "version": 3
   },
   "file_extension": ".py",
   "mimetype": "text/x-python",
   "name": "python",
   "nbconvert_exporter": "python",
   "pygments_lexer": "ipython3",
   "version": "3.7.4"
  }
 },
 "nbformat": 4,
 "nbformat_minor": 4
}
