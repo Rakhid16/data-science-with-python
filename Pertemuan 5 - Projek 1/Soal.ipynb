{
 "metadata": {
  "language_info": {
   "codemirror_mode": {
    "name": "ipython",
    "version": 3
   },
   "file_extension": ".py",
   "mimetype": "text/x-python",
   "name": "python",
   "nbconvert_exporter": "python",
   "pygments_lexer": "ipython3",
   "version": "3.8.5-final"
  },
  "orig_nbformat": 2,
  "kernelspec": {
   "name": "python38264bit68ee5070ed6a4df7bba1957ddac2fae1",
   "display_name": "Python 3.8.2 64-bit",
   "language": "python"
  }
 },
 "nbformat": 4,
 "nbformat_minor": 2,
 "cells": [
  {
   "source": [
    "# Projek 1\n",
    "Pengerjaan projek pertama ini sifatnya wajib bagi seluruh peserta.<br>\n",
    "Materi yang dijadikan projek pertama ini yaitu mulai dari <i>Introduction</i>, <i>Database</i>, dan Praproses (1 & 2).<br>\n",
    "Projek ini terdiri dari 5 soal.<br>\n",
    "Berikut adalah projek pertama untuk peserta <i>Data Science Club</i> Universitas Trunojoyo Madura :"
   ],
   "cell_type": "markdown",
   "metadata": {}
  },
  {
   "source": [
    "1 Hubungkan file Jupyter Notebook kalian dengan <i>Database</i> yang kami berikan.<br>\n",
    "Berikut adalah relasi-relasi pada <i>database</i> tersebut :\n",
    "<p align=\"center\">\n",
    "<img src = \"Skema.png\">\n",
    "</p><br>\n",
    "Terdapat delapan tabel pada <i>database</i> tersebut, pilihlah satu tabel untuk mengerjakan soal nomor 2."
   ],
   "cell_type": "markdown",
   "metadata": {}
  },
  {
   "source": [
    "2 Buktikan jika kalian telah berhasil menghubungkan <i>database</i> yang kami berikan dengan melakukan operasi CRUD (Create-Read-Update-Delete, masing-masing satu) pada <i>database</i> melalui Jupyter Notebook (.ipynb) kalian."
   ],
   "cell_type": "markdown",
   "metadata": {}
  },
  {
   "source": [
    "3 Pilih satu atau beberapa tabel (bisa menggunakan JOIN) yang berisikan data yang belum dipraproses, kemudian tampung ke dalam sebuah DataFrame (pandas) baru."
   ],
   "cell_type": "markdown",
   "metadata": {}
  },
  {
   "source": [
    "4 Dengan menggunakan DataFrame yang telah kalian buat pada poin ketiga, lakukanlah praproses pada DataFrame tersebut.<br>\n",
    "Adapun ketentuan tahapan praproses yang wajib ada adalah sebagai berikut :<br>\n",
    "- Membersihkan data yang memiliki nilai yang kosong/hilang\n",
    "- Mendeteksi <i>outlier</i> pada data\n",
    "- Melakukan normalisasi nilai pada data\n",
    "- Melakukan transformasi data (<i>label encoding</i>, <i>scalling</i>, <i>binning</i>)\n",
    "- <i>Feature selection/extraction</i>\n",
    "- Sertakan visualisasi datanya"
   ],
   "cell_type": "markdown",
   "metadata": {}
  },
  {
   "source": [
    "5 Buatlah sebuah tabel pada <i>database</i> (tidak perlu diberi relasi dengan tabel yang lain) yang isinya adalah hasil praproses data kalian."
   ],
   "cell_type": "markdown",
   "metadata": {}
  },
  {
   "source": [
    "6 Ekspor <i>database</i> kalian ke dalam bentuk .sql melalui DBMS MySQL dan ekspor DataFrame yang telah kalian proses ke dalam format .csv melalui Jupyter Notebook."
   ],
   "cell_type": "markdown",
   "metadata": {}
  },
  {
   "source": [
    "### Contoh ekspor DataFrame ke dalam format .csv"
   ],
   "cell_type": "markdown",
   "metadata": {}
  },
  {
   "cell_type": "code",
   "execution_count": 1,
   "metadata": {},
   "outputs": [],
   "source": [
    "from pandas import DataFrame, read_csv\n",
    "\n",
    "data = DataFrame({'name': ['Raphael', 'Donatello'],\n",
    "                   'mask': ['red', 'purple'],\n",
    "                   'weapon': ['sai', 'bo staff']})"
   ]
  },
  {
   "cell_type": "code",
   "execution_count": 2,
   "metadata": {},
   "outputs": [
    {
     "output_type": "execute_result",
     "data": {
      "text/plain": [
       "        name    mask    weapon\n",
       "0    Raphael     red       sai\n",
       "1  Donatello  purple  bo staff"
      ],
      "text/html": "<div>\n<style scoped>\n    .dataframe tbody tr th:only-of-type {\n        vertical-align: middle;\n    }\n\n    .dataframe tbody tr th {\n        vertical-align: top;\n    }\n\n    .dataframe thead th {\n        text-align: right;\n    }\n</style>\n<table border=\"1\" class=\"dataframe\">\n  <thead>\n    <tr style=\"text-align: right;\">\n      <th></th>\n      <th>name</th>\n      <th>mask</th>\n      <th>weapon</th>\n    </tr>\n  </thead>\n  <tbody>\n    <tr>\n      <th>0</th>\n      <td>Raphael</td>\n      <td>red</td>\n      <td>sai</td>\n    </tr>\n    <tr>\n      <th>1</th>\n      <td>Donatello</td>\n      <td>purple</td>\n      <td>bo staff</td>\n    </tr>\n  </tbody>\n</table>\n</div>"
     },
     "metadata": {},
     "execution_count": 2
    }
   ],
   "source": [
    "data"
   ]
  },
  {
   "cell_type": "code",
   "execution_count": 3,
   "metadata": {},
   "outputs": [],
   "source": [
    "# EKSPOR DATA\n",
    "\n",
    "data.to_csv(\"data_hasil_ekspor.csv\", index=False)"
   ]
  },
  {
   "cell_type": "code",
   "execution_count": 4,
   "metadata": {},
   "outputs": [
    {
     "output_type": "execute_result",
     "data": {
      "text/plain": [
       "        name    mask    weapon\n",
       "0    Raphael     red       sai\n",
       "1  Donatello  purple  bo staff"
      ],
      "text/html": "<div>\n<style scoped>\n    .dataframe tbody tr th:only-of-type {\n        vertical-align: middle;\n    }\n\n    .dataframe tbody tr th {\n        vertical-align: top;\n    }\n\n    .dataframe thead th {\n        text-align: right;\n    }\n</style>\n<table border=\"1\" class=\"dataframe\">\n  <thead>\n    <tr style=\"text-align: right;\">\n      <th></th>\n      <th>name</th>\n      <th>mask</th>\n      <th>weapon</th>\n    </tr>\n  </thead>\n  <tbody>\n    <tr>\n      <th>0</th>\n      <td>Raphael</td>\n      <td>red</td>\n      <td>sai</td>\n    </tr>\n    <tr>\n      <th>1</th>\n      <td>Donatello</td>\n      <td>purple</td>\n      <td>bo staff</td>\n    </tr>\n  </tbody>\n</table>\n</div>"
     },
     "metadata": {},
     "execution_count": 4
    }
   ],
   "source": [
    "# MUAT DATA YANG TELAH DI EKSPOR\n",
    "\n",
    "data_ekspor = read_csv(\"data_hasil_ekspor.csv\")\n",
    "data_ekspor"
   ]
  },
  {
   "source": [
    "Bagi peserta <i>Data Science Club</i> yang berhalangan untuk menghadiri pemaparan Projek 1 pada tanggal 26 Desember mendatang, diwajibkan untuk mengirim video presentasi projek (maksimal 10 menit) beserta <i>file</i> Jawaban<b>.ipynb</b>, database_kerjaan_kalian<b>.sql</b>, dan hasil_praproses_kalian<b>.csv</b> yang telah dikerjakan melalui email roploverz@gmail.com"
   ],
   "cell_type": "markdown",
   "metadata": {}
  }
 ]
}